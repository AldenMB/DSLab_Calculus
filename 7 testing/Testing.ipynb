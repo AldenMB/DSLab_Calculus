{
 "cells": [
  {
   "cell_type": "markdown",
   "id": "c24490cb-c5b2-40fc-80b0-eaff21ee6014",
   "metadata": {},
   "source": [
    "<div style=\"background-color:lightblue\">\n",
    "<h1><center>\n",
    "    The Data Science Labs on <br/>\n",
    "     Differential and Integral Calculus  <br/>\n",
    "   <small>by Alden Bradford and Mireille Boutin </small>\n",
    "</center></h1>\n",
    "    </div>"
   ]
  },
  {
   "cell_type": "markdown",
   "id": "77afe040-591c-487b-aecc-00cfab37163c",
   "metadata": {},
   "source": [
    "<h1><center>\n",
    "    Laboratory 7<br/>\n",
    "    TITLE<br/>\n",
    "    <small>Last Updated PUT DATE HERE </small>\n",
    "</center></h1>"
   ]
  },
  {
   "cell_type": "markdown",
   "id": "3ff71e2b-d45d-4ac5-abc4-3a988e6047ba",
   "metadata": {},
   "source": [
    "<h2 style=\"color:orange;\"><left>00. Content </left></h2>"
   ]
  },
  {
   "cell_type": "markdown",
   "id": "1ecbfaad-e9e1-48e5-a6a6-2f0944fcc4a9",
   "metadata": {},
   "source": [
    "## Mathematics ##\n",
    "- item\n",
    "    \n",
    "## Programming Skills ##\n",
    "- item\n",
    "    \n",
    "## Embedded Systems ##\n",
    "- item"
   ]
  },
  {
   "cell_type": "markdown",
   "id": "a9c4fda2-0256-4225-bf01-517d45b6c94f",
   "metadata": {},
   "source": [
    "<h2 style=\"color:orange;\"><left>0. Required Hardware </left></h2> "
   ]
  },
  {
   "cell_type": "markdown",
   "id": "719167c1-474a-4906-90bc-5eb27d8f1b0a",
   "metadata": {},
   "source": [
    "- item"
   ]
  },
  {
   "cell_type": "markdown",
   "id": "c574e8ee-491f-4f10-88eb-81184963c4cb",
   "metadata": {},
   "source": [
    "# How sure are you?\n",
    "\n",
    "Once you have written code, how do you know if you can rely on it? Would you trust your results for making important financial or medical decisions? To operate a billion dollar airplane? To work even in hostile environments? To keep working the way you expect, even after you make some changes?\n",
    "\n",
    "These are the kinds of questions that highly-paid *quality assurance* professionals need to answer on a daily basis. Thankfully, there are robust tools for *testing* your code. Even if you are not doing anything high-stakes, it can be helpful to have tests to make sure you understand what each part of your code does, and to detect unwanted side effects of any changes you make.\n",
    "\n",
    "You have already been doing some tests yourself. Every time you make a new function, the first thing you usually do it try it out to see if it's working. For some of the questions we have asked you previously, we provided tests you could use to make sure your function is working properly. This is a really good practice! It is even better, of course, if you can make the tests run automatically and make them easy to read.\n",
    "\n",
    "## doctest\n",
    "\n",
    "One of the most popular tools for writing tests in Python is called `doctest`. The beautiful thing about `doctest` is that the tests you write also serve as documentation for your functions: they live inside the docstring which sits at the start of the function body. Here is the idea. Consider this function:"
   ]
  },
  {
   "cell_type": "code",
   "execution_count": 1,
   "id": "2efc70ff-44a7-4b94-9c9e-28afd2b1ce3b",
   "metadata": {},
   "outputs": [
    {
     "data": {
      "text/plain": [
       "1"
      ]
     },
     "execution_count": 1,
     "metadata": {},
     "output_type": "execute_result"
    }
   ],
   "source": [
    "%load_ext lab_black\n",
    "\n",
    "\n",
    "def next_square(x):\n",
    "    \"\"\"\n",
    "    Find the smallest square number greater than x.\n",
    "    \"\"\"\n",
    "    y = 0\n",
    "    while y ** 2 <= x:\n",
    "        y += 1\n",
    "    return y ** 2\n",
    "\n",
    "\n",
    "next_square(0)"
   ]
  },
  {
   "cell_type": "code",
   "execution_count": 2,
   "id": "b2678953-a593-41bd-a235-8954309d6a98",
   "metadata": {},
   "outputs": [
    {
     "data": {
      "text/plain": [
       "16"
      ]
     },
     "execution_count": 2,
     "metadata": {},
     "output_type": "execute_result"
    }
   ],
   "source": [
    "next_square(9)"
   ]
  },
  {
   "cell_type": "code",
   "execution_count": 3,
   "id": "cb91f640-3f75-402a-ab79-7b939e246bb0",
   "metadata": {},
   "outputs": [
    {
     "data": {
      "text/plain": [
       "0"
      ]
     },
     "execution_count": 3,
     "metadata": {},
     "output_type": "execute_result"
    }
   ],
   "source": [
    "next_square(-7)"
   ]
  },
  {
   "cell_type": "code",
   "execution_count": 4,
   "id": "9e247acd-7a7d-4bb1-95c1-06a20d49fcb4",
   "metadata": {},
   "outputs": [
    {
     "data": {
      "text/plain": [
       "1024"
      ]
     },
     "execution_count": 4,
     "metadata": {},
     "output_type": "execute_result"
    }
   ],
   "source": [
    "next_square(1000)"
   ]
  },
  {
   "cell_type": "markdown",
   "id": "355e7231-e211-47e4-83e4-cceb09f8afe0",
   "metadata": {},
   "source": [
    "We have put some evaluations of the function right beneath it. That is a form of testing! We have some evaluations of the code here in the document, and hopefully, we can catch it if something is not working right. But we can do better! We can put the evaluations, and what we expect the outcome to be, right into the docstring. that would look like this:"
   ]
  },
  {
   "cell_type": "code",
   "execution_count": 5,
   "id": "3d9df440-ed05-4d84-8c7c-5a717ee76b9e",
   "metadata": {},
   "outputs": [],
   "source": [
    "def next_square(x):\n",
    "    \"\"\"\n",
    "    Find the smallest nonnegative integer whose square is greater than x.\n",
    "\n",
    "    Examples\n",
    "    --------\n",
    "    >>> next_square(0)\n",
    "    1\n",
    "    >>> next_square(9)\n",
    "    16\n",
    "    >>> next_square(-7)\n",
    "    0\n",
    "    >>> next_square(1000)\n",
    "    1014\n",
    "    \"\"\"\n",
    "    y = 0\n",
    "    while y ** 2 <= x:\n",
    "        y += 1\n",
    "    return y ** 2"
   ]
  },
  {
   "cell_type": "markdown",
   "id": "920a0f0e-a5ca-4adb-8747-ab54199e47d0",
   "metadata": {},
   "source": [
    "That is more tidy, but it is no longer running the tests in the document here. However, Python still knows the tests are there. Look at the help page for the function we just wrote:"
   ]
  },
  {
   "cell_type": "code",
   "execution_count": 6,
   "id": "f6bdb3d8-9071-4d87-82d7-68e6ab371484",
   "metadata": {},
   "outputs": [
    {
     "name": "stdout",
     "output_type": "stream",
     "text": [
      "Help on function next_square in module __main__:\n",
      "\n",
      "next_square(x)\n",
      "    Find the smallest nonnegative integer whose square is greater than x.\n",
      "    \n",
      "    Examples\n",
      "    --------\n",
      "    >>> next_square(0)\n",
      "    1\n",
      "    >>> next_square(9)\n",
      "    16\n",
      "    >>> next_square(-7)\n",
      "    0\n",
      "    >>> next_square(1000)\n",
      "    1014\n",
      "\n"
     ]
    }
   ],
   "source": [
    "help(next_square)"
   ]
  },
  {
   "cell_type": "markdown",
   "id": "6ac040a8-b52f-436c-98dd-5a0cfcc6a27b",
   "metadata": {},
   "source": [
    "Since we put the test cases in the docstring, we can access them. This is what the tool `doctest` does: it looks through the docstrings of functions for tests following that format, runs them, and checks if the function does what you say it does. Usually people run `doctest` on an entire module at once, or even on an entire project at once. However, we can easily use it to test individual functions as well, like so:"
   ]
  },
  {
   "cell_type": "code",
   "execution_count": 7,
   "id": "9bd48ba4-75d6-4888-9d58-9f7a2216f75d",
   "metadata": {},
   "outputs": [
    {
     "name": "stdout",
     "output_type": "stream",
     "text": [
      "**********************************************************************\n",
      "File \"__main__\", line 13, in next_square\n",
      "Failed example:\n",
      "    next_square(1000)\n",
      "Expected:\n",
      "    1014\n",
      "Got:\n",
      "    1024\n"
     ]
    }
   ],
   "source": [
    "import doctest\n",
    "\n",
    "doctest.run_docstring_examples(next_square, globals(), name=\"next_square\")"
   ]
  },
  {
   "cell_type": "markdown",
   "id": "6e9261eb-f397-478b-904d-06e6ba4514df",
   "metadata": {},
   "source": [
    "Already it has discovered an error! I made a typo in the docstring, and `doctest` has pointed it out to me. See what happens if I fix it:"
   ]
  },
  {
   "cell_type": "code",
   "execution_count": 8,
   "id": "fc73b638-c4d8-4c0e-90d4-fa13ed2a123e",
   "metadata": {},
   "outputs": [],
   "source": [
    "def next_square(x):\n",
    "    \"\"\"\n",
    "    Find the smallest nonnegative integer whose square is greater than x.\n",
    "\n",
    "    Examples\n",
    "    --------\n",
    "    >>> next_square(0)\n",
    "    1\n",
    "    >>> next_square(9)\n",
    "    16\n",
    "    >>> next_square(-7)\n",
    "    0\n",
    "    >>> next_square(1000)\n",
    "    1024\n",
    "    \"\"\"\n",
    "    y = 0\n",
    "    while y ** 2 <= x:\n",
    "        y += 1\n",
    "    return y ** 2\n",
    "\n",
    "\n",
    "doctest.run_docstring_examples(next_square, globals(), name=\"next_square\")"
   ]
  },
  {
   "cell_type": "markdown",
   "id": "4d171400-7b27-47ee-bd19-f19d418acdfd",
   "metadata": {},
   "source": [
    "`doctest` stays quiet now. No errors to report! We can still ask it to tell us what it is doing, if we want, using the `verbose` argument:"
   ]
  },
  {
   "cell_type": "code",
   "execution_count": 9,
   "id": "1c3cbb56-d81b-4d5f-b978-fa94690a8d48",
   "metadata": {},
   "outputs": [
    {
     "name": "stdout",
     "output_type": "stream",
     "text": [
      "Finding tests in next_square\n",
      "Trying:\n",
      "    next_square(0)\n",
      "Expecting:\n",
      "    1\n",
      "ok\n",
      "Trying:\n",
      "    next_square(9)\n",
      "Expecting:\n",
      "    16\n",
      "ok\n",
      "Trying:\n",
      "    next_square(-7)\n",
      "Expecting:\n",
      "    0\n",
      "ok\n",
      "Trying:\n",
      "    next_square(1000)\n",
      "Expecting:\n",
      "    1024\n",
      "ok\n"
     ]
    }
   ],
   "source": [
    "doctest.run_docstring_examples(next_square, globals(), name=\"next_square\", verbose=True)"
   ]
  },
  {
   "cell_type": "markdown",
   "id": "593a806a-0d0d-4810-a48e-b218524c9660",
   "metadata": {},
   "source": [
    "## Exercise: formatting tests\n",
    "\n",
    "Here is a function with some examples written out below it. Move the examples to the documentation, and run them as tests using `doctest`."
   ]
  },
  {
   "cell_type": "code",
   "execution_count": 10,
   "id": "e239c9da-1b49-439a-8179-379916380365",
   "metadata": {},
   "outputs": [
    {
     "data": {
      "text/plain": [
       "'helloWorld'"
      ]
     },
     "execution_count": 10,
     "metadata": {},
     "output_type": "execute_result"
    }
   ],
   "source": [
    "def to_camel_case(s):\n",
    "    \"\"\"\n",
    "    Take a string in snake case and rewrite it in camel case.\n",
    "    \"\"\"\n",
    "    words = s.split(\"_\")\n",
    "    for i, w in enumerate(words):\n",
    "        if i > 0:\n",
    "            words[i] = w.capitalize()\n",
    "    return \"\".join(words)\n",
    "\n",
    "\n",
    "to_camel_case(\"hello_world\")"
   ]
  },
  {
   "cell_type": "code",
   "execution_count": 11,
   "id": "9a46d655-93c4-4643-bfcf-b7a880eb765c",
   "metadata": {},
   "outputs": [
    {
     "data": {
      "text/plain": [
       "'toCamelCase'"
      ]
     },
     "execution_count": 11,
     "metadata": {},
     "output_type": "execute_result"
    }
   ],
   "source": [
    "to_camel_case(\"to_camel_case\")"
   ]
  },
  {
   "cell_type": "code",
   "execution_count": 12,
   "id": "2c496ea6-71f5-4595-ad33-de9c0fb33ea2",
   "metadata": {},
   "outputs": [
    {
     "data": {
      "text/plain": [
       "'func'"
      ]
     },
     "execution_count": 12,
     "metadata": {},
     "output_type": "execute_result"
    }
   ],
   "source": [
    "to_camel_case(\"func\")"
   ]
  },
  {
   "cell_type": "code",
   "execution_count": 13,
   "id": "c39aebb2-0668-4008-8272-04c81c0903f6",
   "metadata": {},
   "outputs": [
    {
     "data": {
      "text/plain": [
       "''"
      ]
     },
     "execution_count": 13,
     "metadata": {},
     "output_type": "execute_result"
    }
   ],
   "source": [
    "to_camel_case(\"\")"
   ]
  },
  {
   "cell_type": "markdown",
   "id": "90a08a08-cbef-4f6c-8dfb-bd4be700a2f6",
   "metadata": {},
   "source": [
    "## Choosing good tests\n",
    "\n",
    "Some people get so excited about automatic testing that they make 20 tests for every function, by just running every example they can think of. This is not a good strategy because it makes too many tests to keep track of; when something goes wrong it's not clear why, and if a change has to be made then you have to change it in lots of places. Plus, there is no guarantee that a collection of tests formed in this way will actually cover every important case.\n",
    "\n",
    "Here are some guidelines you can follow to make good tests:\n",
    "\n",
    " - Each test should test for just one thing -- when it fails, it should be clear why.\n",
    " - If there is a way that you use your function, your should test its behavior in that way. For example, if you use your function on floating point numbers, you should test it on floating point numbers.\n",
    " - If there is something the function does which is not obvious or unexpected, write a test which demonstrates it.\n",
    " - If you find a bug, write a test which demonstrates it, then fix the bug. (If it wasn't obvious to you when you wrote the function, it won't be obvious to whoever is reading it!)\n",
    " \n",
    "Here is an example of good tests."
   ]
  },
  {
   "cell_type": "code",
   "execution_count": 14,
   "id": "cb7ead93-d548-4102-b85b-d66a07fcea9c",
   "metadata": {},
   "outputs": [],
   "source": [
    "def factor(x):\n",
    "    \"\"\"\n",
    "    Given a positive integer x, find the smallest integer > 1 which divides it evenly.\n",
    "\n",
    "    Examples\n",
    "    --------\n",
    "    >>> factor(23)\n",
    "    23\n",
    "    >>> factor(91)\n",
    "    7\n",
    "    >>> factor(1)\n",
    "    Traceback (most recent call last):\n",
    "     ...\n",
    "    ValueError: x must be greater than 1\n",
    "    >>> factor(6.0)\n",
    "    Traceback (most recent call last):\n",
    "     ...\n",
    "    TypeError: x must be an integer\n",
    "    \"\"\"\n",
    "    if type(x) is not int:\n",
    "        raise TypeError(\"x must be an integer\")\n",
    "    if x <= 1:\n",
    "        raise ValueError(\"x must be greater than 1\")\n",
    "    y = 2\n",
    "    while x % y != 0:\n",
    "        y += 1\n",
    "    return y\n",
    "\n",
    "\n",
    "doctest.run_docstring_examples(factor, globals(), name=\"factor\")"
   ]
  },
  {
   "cell_type": "markdown",
   "id": "33f24a8b-a1c6-4f97-b413-b8c1cd926489",
   "metadata": {},
   "source": [
    "in this example I have one test where `x` is composite, one test where `x` is prime, one test where `x` is too small, and one test where `x` is not an integer. If one of them goes wrong, it will be clear where the problem lies. The function is only valid for integers greater than 2, so I check to make sure it is giving the correct errors.\n",
    "\n",
    "## Exercise: write some tests\n",
    "\n",
    "For each function below, write some tests in the docstring. Then, write a short paragraph explaining why you chose each test."
   ]
  },
  {
   "cell_type": "code",
   "execution_count": 15,
   "id": "3bd4615e-f0e8-4bc1-89a6-51c34e7103b2",
   "metadata": {},
   "outputs": [],
   "source": [
    "def triangle(n):\n",
    "    \"\"\"\n",
    "    Give the nth triangular number.\n",
    "    \"\"\"\n",
    "    if type(n) is not int:\n",
    "        raise TypeError(\"n must be an integer\")\n",
    "    if n < 0:\n",
    "        raise ValueError(\"n must be at least 0\")\n",
    "    return sum(range(n + 1))"
   ]
  },
  {
   "cell_type": "code",
   "execution_count": 16,
   "id": "7e0d4022-c115-4d0b-bdd2-56613f09cb48",
   "metadata": {},
   "outputs": [],
   "source": [
    "from string import punctuation\n",
    "\n",
    "\n",
    "def longest_word(sentence):\n",
    "    \"\"\"\n",
    "    give the longest word in a sentence, ignoring all punctuation.\n",
    "    \"\"\"\n",
    "    words = sentence.translate(str.maketrans(\"\", \"\", punctuation)).split()\n",
    "    return max(words, key=len)"
   ]
  },
  {
   "cell_type": "markdown",
   "id": "bdbf2340-f9af-4958-9513-eff5c0ad39f8",
   "metadata": {},
   "source": [
    "# Test-Driven Design\n",
    "\n",
    "Thus far, we have showed you how to write tests for code which already exists. This is usually how people test their code -- get it working more or less, and then check their work afterward.\n",
    "\n",
    "It may surprise you to learn this, but that is frequently backwards from how people actually use autmated testing. In the paradigm called **test-driven design**, you write tests first, and then compose code so that it passes the tests. In this way, the tests act like a kind of checklist. When your code passes its tests, you know it is done.\n",
    "\n",
    "You have actuually done some of this yourself already. Back in lab 3, you learned how to organize your code into functions, and you tested them with tests which were written beforehand. Here, you will practice this style of coding.\n",
    "\n",
    "## exercise: complete the function\n",
    "\n",
    "Each function below has some tests writen for it already. Write the body of the function so that it passes the test."
   ]
  },
  {
   "cell_type": "code",
   "execution_count": 17,
   "id": "c9eed5df-8119-421f-8b8c-64eb650b6649",
   "metadata": {},
   "outputs": [
    {
     "name": "stdout",
     "output_type": "stream",
     "text": [
      "**********************************************************************\n",
      "File \"__main__\", line 11, in collatz\n",
      "Failed example:\n",
      "    collatz(7)\n",
      "Expected:\n",
      "    22\n",
      "Got nothing\n",
      "**********************************************************************\n",
      "File \"__main__\", line 13, in collatz\n",
      "Failed example:\n",
      "    collatz(38)\n",
      "Expected:\n",
      "    19\n",
      "Got nothing\n",
      "**********************************************************************\n",
      "File \"__main__\", line 15, in collatz\n",
      "Failed example:\n",
      "    collatz(-3)\n",
      "Expected:\n",
      "    Traceback (most recent call last):\n",
      "     ...\n",
      "    ValueError: x must be a positive integer\n",
      "Got nothing\n",
      "**********************************************************************\n",
      "File \"__main__\", line 19, in collatz\n",
      "Failed example:\n",
      "    collatz(0)\n",
      "Expected:\n",
      "    Traceback (most recent call last):\n",
      "     ...\n",
      "    ValueError: x must be a positive integer\n",
      "Got nothing\n",
      "**********************************************************************\n",
      "File \"__main__\", line 23, in collatz\n",
      "Failed example:\n",
      "    collatz(4.0)\n",
      "Expected:\n",
      "    Traceback (most recent call last):\n",
      "     ...\n",
      "    TypeError: x must be a positive integer\n",
      "Got nothing\n"
     ]
    }
   ],
   "source": [
    "import doctest\n",
    "\n",
    "\n",
    "def collatz(x):\n",
    "    \"\"\"\n",
    "    When x is an odd number, give 3x+1.\n",
    "    When x is even, give x/2.\n",
    "    If x is not a positive integer, raise an appropriate error.\n",
    "\n",
    "    Examples\n",
    "    --------\n",
    "    >>> collatz(7)\n",
    "    22\n",
    "    >>> collatz(38)\n",
    "    19\n",
    "    >>> collatz(-3)\n",
    "    Traceback (most recent call last):\n",
    "     ...\n",
    "    ValueError: x must be a positive integer\n",
    "    >>> collatz(0)\n",
    "    Traceback (most recent call last):\n",
    "     ...\n",
    "    ValueError: x must be a positive integer\n",
    "    >>> collatz(4.0)\n",
    "    Traceback (most recent call last):\n",
    "     ...\n",
    "    TypeError: x must be a positive integer\n",
    "    \"\"\"\n",
    "\n",
    "\n",
    "doctest.run_docstring_examples(collatz, globals(), name=\"collatz\")"
   ]
  },
  {
   "cell_type": "code",
   "execution_count": 18,
   "id": "1f226e2e-1405-4282-a8a0-ee57b37542b5",
   "metadata": {},
   "outputs": [],
   "source": [
    "def collatz_steps(x):\n",
    "    \"\"\"\n",
    "    When x is a positive integer, tell how many times you need\n",
    "    to do x = collatz(x) before x becomes 1.\n",
    "\n",
    "    Examples\n",
    "    --------\n",
    "    >>> collatz_steps(32)\n",
    "    5\n",
    "    >>> collatz_steps(1)\n",
    "    0\n",
    "    >>> collatz_steps(27)\n",
    "    111\n",
    "    >>> collatz_steps(0)\n",
    "    Traceback (most recent call last):\n",
    "     ...\n",
    "    ValueError: x must be a positive integer\n",
    "    \"\"\""
   ]
  },
  {
   "cell_type": "code",
   "execution_count": 19,
   "id": "d5747609-42da-495e-b3b2-4d87038c2e7f",
   "metadata": {},
   "outputs": [],
   "source": [
    "def integer_sqrt(x):\n",
    "    \"\"\"\n",
    "    Give the largest integer y such that y^2 <= x.\n",
    "\n",
    "    Examples\n",
    "    --------\n",
    "    >>> integer_sqrt(0)\n",
    "    0\n",
    "    >>> integer_sqrt(15)\n",
    "    3\n",
    "    >>> integer_sqrt(87.4)\n",
    "    9\n",
    "    >>> integer_sqrt(-7)\n",
    "    Traceback (most recent call last):\n",
    "     ...\n",
    "    ValueError: x must be a non-negative number\n",
    "    \"\"\""
   ]
  },
  {
   "cell_type": "markdown",
   "id": "d4cf8c70-03c0-4afa-8d22-efff940c85bc",
   "metadata": {},
   "source": [
    "## Exercise: write the tests\n",
    "\n",
    "For each of the functions below, write at least three tests in the form of a docstring -- enough tests that you would be confident that, if the function passed the tests, it would be written correctly. Don't actually write the function body. Then, write a short paragraph explaining why you chose those specific cases to test."
   ]
  },
  {
   "cell_type": "code",
   "execution_count": 20,
   "id": "30d05d4f-cbe7-4bac-86b8-90059b535268",
   "metadata": {},
   "outputs": [],
   "source": [
    "def nearest_lattice_point(x, y):\n",
    "    \"\"\"\n",
    "    Given the floating-point coordinates of a point, find the coordinates of the nearest lattice point, i.e. the closest point with integer coordinates.\n",
    "    In case of a tie, raise an appropriate error.\n",
    "    \"\"\""
   ]
  },
  {
   "cell_type": "code",
   "execution_count": 21,
   "id": "a01a957b-11b6-4c97-80f4-1e666f88fc9e",
   "metadata": {},
   "outputs": [],
   "source": [
    "def is_within_circle(x, y, r):\n",
    "    \"\"\"\n",
    "    Given the x, y coordinates of a point on the plain and the radius r of a circle centered at the origin, tell whether (x, y) is within the circle (inclusive of its boundary).\n",
    "    If the inputs don't make sense, raise an appropriate error.\n",
    "    \"\"\""
   ]
  },
  {
   "cell_type": "code",
   "execution_count": 22,
   "id": "c3007ad9-2b62-4493-8133-b2c0b34e89de",
   "metadata": {},
   "outputs": [],
   "source": [
    "def lattice_points_within(r):\n",
    "    \"\"\"\n",
    "    Given a circle of radius r, how many lattice points are at a distance at most r from the origin?\n",
    "    \"\"\""
   ]
  },
  {
   "cell_type": "markdown",
   "id": "bc73397c-8555-43a0-8482-e390b10ad6f6",
   "metadata": {},
   "source": [
    "# Hardware testing\n",
    "\n",
    "Testing is essential for troubleshooting. Often, the things we are troubleshooting are electronic circuits. We can apply the same types of automated testing to electronic circuits to make sure they are working as expected. In many circuit fabrication plants, this is done to every circuit board they make since it is so easy to do and it improves trust in the products.\n",
    "\n",
    "What do you do when one of the tests shows a problem? You start testing individual components. Suppose for a minute that you have an antique Commodore 64 computer, and it is not working. One of the most common problems the Commodore 64 faced [was faulty glue logic chips](https://dfarq.homeip.net/mos-74ls-logic-chips/).  One of the first things you can check is whether those chips are working as expected.\n",
    "\n",
    "You could check them manually: put the chip onto a breadboard and start checking all the possible ways the circuit can be used. This could take a while, either because there are lots of conditions which need to be tested, or because you have lots of chips to test. Why not automate this?\n",
    "\n",
    "That's what you will do for the remainder of the lab: build a tool based on the Raspberry Pi Pico to test glue-logic chips and identify faults.\n",
    "\n",
    "## What is glue logic?\n",
    "\n",
    "The 7400 series of chips are used to produce electrical signals which are modified versions of ones only available. For example, suppose you have amachine which is prone to overheating. You decide to power it with a thermostant which cuts the power when its heat gets too high. When the thermostat is delivering a high signal, your device keeps going along quietly. When the temperature gets too high the thermostat cuts the power to the device, bringing its control signal low. What if you also want to turn on a fan, to cool the device off? You could use the chip 7504, which takes a signal which is either high or low, and gives the reverse. This is called a `not` gate because it is the same as the logical expression `not` -- false becomes true, true becomes false. It is called \"glue logic\" because you can use it to \"glue together\" components which accept different types of inputs.\n",
    "\n",
    "There are 7400 series chips for most of the popular functions from formal logic: `and`, `or`, `nand`, `nor`, `xor`, `xnor`, and of course `not`. Each chip provides several copies of the logic gate. You have to look at the data sheet for each chip to know what gates are connected to which pins. The data sheet also comes with a table explaining what the logic gate does for each possible input.\n",
    "\n",
    "## Your task\n",
    "\n",
    "You have been supplied a variety of 7400 series chips. One is a working 7408 `and` chip, another is a broken 7408. The rest are other chips from the 7400 series. Three of them have had their labels sanded off, and replaced with a letter in whiteout.\n",
    "\n",
    "Your task is to build a tool which can tell you whether each chip is working, and if it is working then what type of chip. For example, if you connect a working 7402 `nor` chip, your tool should tell you as much. If you connect a broken chip, or one which does not match any of the 7400 series chips, your tool should say it is a broken or unknown chip. You can do this with the digital input/output capabilities of the Raspberry Pi Pico, setting each of the possible combinations of inputs and checking against the possible outputs.\n",
    "\n",
    "## A word of caution\n",
    "\n",
    "The whole point of this tool is that you should be able to connect it to an untrustworthy chip. That means that even if the data sheet says that a pin should be an input, for example, you should assume it might be outputting a high voltage or shorting to ground. In order to protect your tool, therefore, you should connect each pin to the microcontroller through a 10k$\\Omega$ resistor. This will allow a data signal through, but prevent any part from drawing or supplying too much current. If you are unsure whether you have it connected safely, ask your TA."
   ]
  },
  {
   "cell_type": "code",
   "execution_count": null,
   "id": "0d3b8a48-6687-4513-8016-3e39eb6713fc",
   "metadata": {},
   "outputs": [],
   "source": []
  }
 ],
 "metadata": {
  "kernelspec": {
   "display_name": "Python 3",
   "language": "python",
   "name": "python3"
  },
  "language_info": {
   "codemirror_mode": {
    "name": "ipython",
    "version": 3
   },
   "file_extension": ".py",
   "mimetype": "text/x-python",
   "name": "python",
   "nbconvert_exporter": "python",
   "pygments_lexer": "ipython3",
   "version": "3.8.8"
  }
 },
 "nbformat": 4,
 "nbformat_minor": 5
}
