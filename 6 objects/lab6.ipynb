{
 "cells": [
  {
   "cell_type": "markdown",
   "id": "cf6877a2-b4b4-40d9-b024-38f5869ee2b0",
   "metadata": {},
   "source": [
    "<div style=\"background-color:lightblue\">\n",
    "<h1><center>\n",
    "    The Data Science Labs on <br/>\n",
    "     Differential and Integral Calculus  <br/>\n",
    "   <small>by Alden Bradford and Mireille Boutin </small>\n",
    "</center></h1>\n",
    "    </div>"
   ]
  },
  {
   "cell_type": "markdown",
   "id": "f66cf5a1-b7a1-494d-897f-7ce4ab3b74f7",
   "metadata": {},
   "source": [
    "<h1><center>\n",
    "    Laboratory 6<br/>\n",
    "    Namespaces, modules, and objects<br/>\n",
    "    <small>Last Updated Feb 17 2022</small>\n",
    "</center></h1>"
   ]
  },
  {
   "cell_type": "markdown",
   "id": "43c9b762-2c16-4194-ac5e-3e606d0b4d40",
   "metadata": {},
   "source": [
    "<h3 style=\"background-color:lightblue\"><left> Copy the file `student_info.py` into the folder you are working in, then run this cell to put your name and email into this document.</left></h3>"
   ]
  },
  {
   "cell_type": "code",
   "execution_count": 1,
   "id": "2a310628-4719-455b-bdae-5aa809dc1971",
   "metadata": {},
   "outputs": [
    {
     "name": "stdout",
     "output_type": "stream",
     "text": [
      "this is just a dummy file for testing, it should not be sent to students\n"
     ]
    }
   ],
   "source": [
    "from student_info import show_info\n",
    "show_info()"
   ]
  },
  {
   "cell_type": "markdown",
   "id": "1c97ed8e-7533-4b59-96bd-99a00fd3e537",
   "metadata": {},
   "source": [
    "# Namespaces\n",
    "\n",
    "We are going to start dealing with more complicated systems in the coming weeks. Next week, you will make a piece of measurement equipment, including a display, buttons, and sensor. If we kept track of everything using their own variable names, we would have to make long names, like `screen_data_pin_number_1`, for example. There are a few problems with that approach:\n",
    "- long variable names are hard to remember\n",
    "- long variable names are hard to type (lots of typos can happen!)\n",
    "- long variable names are hard to read:\n",
    "  - it's hard to see if they are typed incorrectly\n",
    "  - they break up the flow of the sentences\n",
    "Of course, if we just used short variable names for everything, we would run out of names very fast. It would not be much better to replace `screen_data_pin_number_1` with `sdpn1`, for example.\n",
    "\n",
    "Namespaces are one of several ways that we deal with this in Python. Namespaces are so common that you have already been using them, you just didn't know it. Let's look at an example using namespaces."
   ]
  },
  {
   "cell_type": "code",
   "execution_count": 2,
   "id": "108487bb-5aad-4881-9f38-18ca2a521da0",
   "metadata": {},
   "outputs": [
    {
     "name": "stdout",
     "output_type": "stream",
     "text": [
      "namespace(name='Alden', age=27, grade=22)\n"
     ]
    }
   ],
   "source": [
    "from types import SimpleNamespace\n",
    "\n",
    "alden = SimpleNamespace(name=\"Alden\", age=27, grade=22)\n",
    "print(alden)"
   ]
  },
  {
   "cell_type": "code",
   "execution_count": 3,
   "id": "38d51c6e-5cac-4f66-8494-e4ca1c42a19a",
   "metadata": {},
   "outputs": [
    {
     "name": "stdout",
     "output_type": "stream",
     "text": [
      "27\n"
     ]
    }
   ],
   "source": [
    "print(alden.age)"
   ]
  },
  {
   "cell_type": "code",
   "execution_count": 4,
   "id": "7ad1682d-9ab5-4179-ac3e-5c137b1fb4a0",
   "metadata": {},
   "outputs": [
    {
     "name": "stdout",
     "output_type": "stream",
     "text": [
      "22\n"
     ]
    }
   ],
   "source": [
    "print(alden.grade)"
   ]
  },
  {
   "cell_type": "markdown",
   "id": "b82d0f47-f815-405b-a7af-936ff3727cf3",
   "metadata": {},
   "source": [
    "We can see that there are three variables living inside the variable `alden`, and they each have a relatively short name. We have a special name for these variables: they are called \"attributes\". We would say `age` is an attribute of `alden`. We access the attributes using the `.` which probably looks familiar to you; we have been using attributes every time we load up a package like `numpy`."
   ]
  },
  {
   "cell_type": "code",
   "execution_count": 5,
   "id": "8da60422-1aa0-48f5-a4b6-cd24cdf9d89d",
   "metadata": {},
   "outputs": [
    {
     "data": {
      "text/plain": [
       "-1.0"
      ]
     },
     "execution_count": 5,
     "metadata": {},
     "output_type": "execute_result"
    }
   ],
   "source": [
    "import numpy\n",
    "\n",
    "numpy.cos(numpy.pi)"
   ]
  },
  {
   "cell_type": "markdown",
   "id": "cd83135c-d816-4966-903b-dd4525e3fd16",
   "metadata": {},
   "source": [
    "Both the function `cos` and the number `pi` are attributes in the `numpy` namespace, so we refer to them using a `.`."
   ]
  },
  {
   "cell_type": "markdown",
   "id": "1befb8d6-bf1a-40ba-96a0-9797eb9f714d",
   "metadata": {},
   "source": [
    "## more advantages of namespaces\n",
    "\n",
    "Another way namespaces are better than just having long function names is that we can pass them around in their own variables. We could write, for example:"
   ]
  },
  {
   "cell_type": "code",
   "execution_count": 6,
   "id": "82872a9e-44ba-4038-a31d-9c702747889c",
   "metadata": {},
   "outputs": [
    {
     "data": {
      "text/plain": [
       "-1.0"
      ]
     },
     "execution_count": 6,
     "metadata": {},
     "output_type": "execute_result"
    }
   ],
   "source": [
    "np = numpy\n",
    "np.cos(np.pi)"
   ]
  },
  {
   "cell_type": "markdown",
   "id": "67e7712c-39f3-4fa9-b55e-f6be0f907239",
   "metadata": {},
   "source": [
    "That's what Python is doing \"under the hood\" when we use the `as` keyword during imports. When we write `import numpy as np` it's doing two steps in one, `import numpy` and `np = numpy`.\n",
    "\n",
    "Here is a practical way we can use this. Say we had another instructor:"
   ]
  },
  {
   "cell_type": "code",
   "execution_count": 7,
   "id": "d0821f34-6e48-42c1-bf73-14623bf30785",
   "metadata": {},
   "outputs": [
    {
     "data": {
      "text/plain": [
       "namespace(name='Kindyl', age=25, grade=20)"
      ]
     },
     "execution_count": 7,
     "metadata": {},
     "output_type": "execute_result"
    }
   ],
   "source": [
    "kindyl = SimpleNamespace(name=\"Kindyl\", age=25, grade=20)\n",
    "kindyl"
   ]
  },
  {
   "cell_type": "markdown",
   "id": "2af15adb-6d2b-40bc-93bb-3f29633019d7",
   "metadata": {},
   "source": [
    "Now we can write a function which takes in just one argument, and have it work on either instructor."
   ]
  },
  {
   "cell_type": "code",
   "execution_count": 8,
   "id": "d725dcb4-cb6c-4fb1-9c9d-d898db8b5f90",
   "metadata": {},
   "outputs": [
    {
     "name": "stdout",
     "output_type": "stream",
     "text": [
      "My instructor's name is Kindyl. They are 25 years old and in grade 20.\n",
      "My instructor's name is Alden. They are 27 years old and in grade 22.\n"
     ]
    }
   ],
   "source": [
    "def describe(instructor):\n",
    "    print(\"My instructor's name is {}. They are {} years old and in grade {}.\".format(instructor.name, instructor.age, instructor.grade))\n",
    "    \n",
    "\n",
    "for instructor in [kindyl, alden]:\n",
    "    describe(instructor)"
   ]
  },
  {
   "cell_type": "markdown",
   "id": "d086123b-54f6-4df0-8100-b201b46b665b",
   "metadata": {},
   "source": [
    "This helps us to make more flexible, modular code.\n",
    "\n",
    "### Exercise 1\n",
    "\n",
    "The following code is a mess! Use namespaces to make it more readable."
   ]
  },
  {
   "cell_type": "code",
   "execution_count": 9,
   "id": "b8f29459-43c6-4b06-981f-089335bdecee",
   "metadata": {},
   "outputs": [
    {
     "name": "stdout",
     "output_type": "stream",
     "text": [
      "The GE 1.5 Megawatt Wind Turbine is 100 meters tall and weighs 150000 kilograms. Its low BMI of 15.0 indicates that it is underweight.\n",
      "The Eiffel Tower is 324 meters tall and weighs 7300000 kilograms. Oh no! Its BMI is 69.5, so the World Health Organization says it's obese!\n",
      "The Tokyo Skytree is 634 meters tall and weighs 32600000 kilograms. Oh no! Its BMI is 81.1, so the World Health Organization says it's obese!\n",
      "The Burj Khalifa is 830 meters tall and weighs 450000000 kilograms. Oh no! Its BMI is 653.2, so the World Health Organization says it's obese!\n"
     ]
    }
   ],
   "source": [
    "eiffel_tower_name = \"Eiffel Tower\"\n",
    "eiffel_tower_height = 324\n",
    "eiffel_tower_weight = 7_300_000\n",
    "eiffel_tower_bmi = 7_300_000/324**2\n",
    "\n",
    "turbine_name = \"GE 1.5 Megawatt Wind Turbine\"\n",
    "turbine_height = 100\n",
    "turbine_weight = 150_000\n",
    "turbine_bmi = 150_000/100**2\n",
    "\n",
    "burj_name = \"Burj Khalifa\"\n",
    "burj_height = 830\n",
    "burj_weight = 450_000_000\n",
    "burj_bmi = 450_000_000/830**2\n",
    "\n",
    "skytree_name = \"Tokyo Skytree\"\n",
    "skytree_height = 634\n",
    "skytree_weight = 32_600_000\n",
    "skytree_bmi = 32_600_000/634**2\n",
    "\n",
    "def describe_bmi(tower_name, tower_height, tower_weight, tower_bmi):\n",
    "    message = (\"The {} is {} meters tall and weighs {} kilograms. \"\n",
    "               .format(tower_name, tower_height, tower_weight)\n",
    "              )\n",
    "    if tower_bmi < 18.5:\n",
    "        message += \"Its low BMI of {:.1f} indicates that it is underweight.\"\n",
    "    elif tower_bmi < 25:\n",
    "        message += \"Its BMI is {:.1f} which is typical for a person, but strange for a building.\"\n",
    "    elif tower_bmi < 30:\n",
    "        message += \"Its BMI is {:.1f}, so according to the World Health organization, it's overweight.\"\n",
    "    else:\n",
    "        message += \"Oh no! Its BMI is {:.1f}, so the World Health Organization says it's obese!\"\n",
    "    message = message.format(tower_bmi)\n",
    "    print(message)\n",
    "\n",
    "describe_bmi(turbine_name, turbine_height, turbine_weight, turbine_bmi)\n",
    "describe_bmi(eiffel_tower_name, eiffel_tower_height, eiffel_tower_weight, eiffel_tower_bmi)\n",
    "describe_bmi(skytree_name, skytree_height, skytree_weight, skytree_bmi)\n",
    "describe_bmi(burj_name, burj_height, burj_weight, burj_bmi)"
   ]
  },
  {
   "cell_type": "markdown",
   "id": "c0e60ca0-b40e-4309-bd41-20ab410611e5",
   "metadata": {},
   "source": [
    "### a bit of poetry\n",
    "\n",
    "To give you an idea of just how important namespaces are to understanding Python, read the following poem which is included in every installation of Python. Pay particular attention to the last line."
   ]
  },
  {
   "cell_type": "code",
   "execution_count": 10,
   "id": "2b39416c-7c0a-411f-b3be-4d29a4a369ab",
   "metadata": {},
   "outputs": [
    {
     "name": "stdout",
     "output_type": "stream",
     "text": [
      "The Zen of Python, by Tim Peters\n",
      "\n",
      "Beautiful is better than ugly.\n",
      "Explicit is better than implicit.\n",
      "Simple is better than complex.\n",
      "Complex is better than complicated.\n",
      "Flat is better than nested.\n",
      "Sparse is better than dense.\n",
      "Readability counts.\n",
      "Special cases aren't special enough to break the rules.\n",
      "Although practicality beats purity.\n",
      "Errors should never pass silently.\n",
      "Unless explicitly silenced.\n",
      "In the face of ambiguity, refuse the temptation to guess.\n",
      "There should be one-- and preferably only one --obvious way to do it.\n",
      "Although that way may not be obvious at first unless you're Dutch.\n",
      "Now is better than never.\n",
      "Although never is often better than *right* now.\n",
      "If the implementation is hard to explain, it's a bad idea.\n",
      "If the implementation is easy to explain, it may be a good idea.\n",
      "Namespaces are one honking great idea -- let's do more of those!\n"
     ]
    }
   ],
   "source": [
    "import this"
   ]
  },
  {
   "cell_type": "markdown",
   "id": "4e9d7f9e-988b-410b-9860-68747954a7b1",
   "metadata": {},
   "source": [
    "# Modules\n",
    "\n",
    "Namespaces in Python are much more than a trick for writing clean code (though they do help with that). As we noted above, whenever you do an import you are assigning a namespace to a variable. In fact, whenever you use any variable in Python, it is being used in a namespace. Usually the code that you write yourself lives in the so-called \"global\" namespace -- the idea is that everything else lives inside that space. We can access our current namespace using the built-in function `dir`, which is meant to be short for \"directory\"."
   ]
  },
  {
   "cell_type": "code",
   "execution_count": 11,
   "id": "862533d3-19b2-4c9b-b282-21b983e93605",
   "metadata": {},
   "outputs": [
    {
     "data": {
      "text/plain": [
       "['In',\n",
       " 'Out',\n",
       " 'SimpleNamespace',\n",
       " '_',\n",
       " '_5',\n",
       " '_6',\n",
       " '_7',\n",
       " '__',\n",
       " '___',\n",
       " '__builtin__',\n",
       " '__builtins__',\n",
       " '__doc__',\n",
       " '__loader__',\n",
       " '__name__',\n",
       " '__package__',\n",
       " '__spec__',\n",
       " '_dh',\n",
       " '_i',\n",
       " '_i1',\n",
       " '_i10',\n",
       " '_i11',\n",
       " '_i2',\n",
       " '_i3',\n",
       " '_i4',\n",
       " '_i5',\n",
       " '_i6',\n",
       " '_i7',\n",
       " '_i8',\n",
       " '_i9',\n",
       " '_ih',\n",
       " '_ii',\n",
       " '_iii',\n",
       " '_oh',\n",
       " 'alden',\n",
       " 'burj_bmi',\n",
       " 'burj_height',\n",
       " 'burj_name',\n",
       " 'burj_weight',\n",
       " 'describe',\n",
       " 'describe_bmi',\n",
       " 'eiffel_tower_bmi',\n",
       " 'eiffel_tower_height',\n",
       " 'eiffel_tower_name',\n",
       " 'eiffel_tower_weight',\n",
       " 'exit',\n",
       " 'get_ipython',\n",
       " 'instructor',\n",
       " 'kindyl',\n",
       " 'np',\n",
       " 'numpy',\n",
       " 'quit',\n",
       " 'show_info',\n",
       " 'skytree_bmi',\n",
       " 'skytree_height',\n",
       " 'skytree_name',\n",
       " 'skytree_weight',\n",
       " 'this',\n",
       " 'turbine_bmi',\n",
       " 'turbine_height',\n",
       " 'turbine_name',\n",
       " 'turbine_weight']"
      ]
     },
     "execution_count": 11,
     "metadata": {},
     "output_type": "execute_result"
    }
   ],
   "source": [
    "dir()"
   ]
  },
  {
   "cell_type": "markdown",
   "id": "6719ac1a-e443-4d06-9feb-65c27ea7c7a4",
   "metadata": {},
   "source": [
    "In the list above, you probably recognize many of the variable names we have already used in this notebook. There are also several things which you probably don't recognize, most of them beginning with an `_`. It is a convention in Python that if you don't want most people to look at a variable, you start it with an `_`. All of the things in the list above are variables we can access. For example, look at the variable `In`."
   ]
  },
  {
   "cell_type": "code",
   "execution_count": 12,
   "id": "e8ef7103-0536-4007-8fab-e45db340686f",
   "metadata": {},
   "outputs": [
    {
     "data": {
      "text/plain": [
       "['',\n",
       " 'from student_info import show_info\\nshow_info()',\n",
       " 'from types import SimpleNamespace\\n\\nalden = SimpleNamespace(name=\"Alden\", age=27, grade=22)\\nprint(alden)',\n",
       " 'print(alden.age)',\n",
       " 'print(alden.grade)',\n",
       " 'import numpy\\n\\nnumpy.cos(numpy.pi)',\n",
       " 'np = numpy\\nnp.cos(np.pi)',\n",
       " 'kindyl = SimpleNamespace(name=\"Kindyl\", age=25, grade=20)\\nkindyl',\n",
       " 'def describe(instructor):\\n    print(\"My instructor\\'s name is {}. They are {} years old and in grade {}.\".format(instructor.name, instructor.age, instructor.grade))\\n    \\n\\nfor instructor in [kindyl, alden]:\\n    describe(instructor)',\n",
       " 'eiffel_tower_name = \"Eiffel Tower\"\\neiffel_tower_height = 324\\neiffel_tower_weight = 7_300_000\\neiffel_tower_bmi = 7_300_000/324**2\\n\\nturbine_name = \"GE 1.5 Megawatt Wind Turbine\"\\nturbine_height = 100\\nturbine_weight = 150_000\\nturbine_bmi = 150_000/100**2\\n\\nburj_name = \"Burj Khalifa\"\\nburj_height = 830\\nburj_weight = 450_000_000\\nburj_bmi = 450_000_000/830**2\\n\\nskytree_name = \"Tokyo Skytree\"\\nskytree_height = 634\\nskytree_weight = 32_600_000\\nskytree_bmi = 32_600_000/634**2\\n\\ndef describe_bmi(tower_name, tower_height, tower_weight, tower_bmi):\\n    message = (\"The {} is {} meters tall and weighs {} kilograms. \"\\n               .format(tower_name, tower_height, tower_weight)\\n              )\\n    if tower_bmi < 18.5:\\n        message += \"Its low BMI of {:.1f} indicates that it is underweight.\"\\n    elif tower_bmi < 25:\\n        message += \"Its BMI is {:.1f} which is typical for a person, but strange for a building.\"\\n    elif tower_bmi < 30:\\n        message += \"Its BMI is {:.1f}, so according to the World Health organization, it\\'s overweight.\"\\n    else:\\n        message += \"Oh no! Its BMI is {:.1f}, so the World Health Organization says it\\'s obese!\"\\n    message = message.format(tower_bmi)\\n    print(message)\\n\\ndescribe_bmi(turbine_name, turbine_height, turbine_weight, turbine_bmi)\\ndescribe_bmi(eiffel_tower_name, eiffel_tower_height, eiffel_tower_weight, eiffel_tower_bmi)\\ndescribe_bmi(skytree_name, skytree_height, skytree_weight, skytree_bmi)\\ndescribe_bmi(burj_name, burj_height, burj_weight, burj_bmi)',\n",
       " 'import this',\n",
       " 'dir()',\n",
       " 'In']"
      ]
     },
     "execution_count": 12,
     "metadata": {},
     "output_type": "execute_result"
    }
   ],
   "source": [
    "In"
   ]
  },
  {
   "cell_type": "markdown",
   "id": "acc2eb41-6eff-4606-9b6d-857351c9fefe",
   "metadata": {},
   "source": [
    "We can see that this is a list showing every input we have entered so far. This variable was created for us by Jupyter. I have not found a use for it. A few of the other automatically-made variables are quite handy, though. This one in particular is used in most Python programs which people publish online (we will see why in a minute):"
   ]
  },
  {
   "cell_type": "code",
   "execution_count": 13,
   "id": "9f0fc0fc-6087-4ba5-a63e-0293280de8d8",
   "metadata": {},
   "outputs": [
    {
     "data": {
      "text/plain": [
       "'__main__'"
      ]
     },
     "execution_count": 13,
     "metadata": {},
     "output_type": "execute_result"
    }
   ],
   "source": [
    "__name__"
   ]
  },
  {
   "cell_type": "markdown",
   "id": "565c2542-5b3b-4b22-b1be-d7ef6a8260fa",
   "metadata": {},
   "source": [
    "What's the point of this? Just to show that every variable in Python lives in some namespace. When we import a module, all the code inside it is run right away. Then, all its variables are made available in the namespace we loaded. Open up the file `example_module.py` and see what's written inside. Then, run the cell below."
   ]
  },
  {
   "cell_type": "code",
   "execution_count": 14,
   "id": "a823766c-18b9-4619-8144-aa713b65fbb4",
   "metadata": {},
   "outputs": [
    {
     "name": "stdout",
     "output_type": "stream",
     "text": [
      "You have loaded the example module! Here is the value in the variable __name__:\n",
      "example_module\n"
     ]
    }
   ],
   "source": [
    "import example_module"
   ]
  },
  {
   "cell_type": "markdown",
   "id": "2675bf52-5bfc-46d1-aacc-11f2d67b8a3b",
   "metadata": {},
   "source": [
    "You can tell that the code in the module was run because it printed out the message above. When we use the function `dir` on the module, we see what is in its namespace."
   ]
  },
  {
   "cell_type": "code",
   "execution_count": 15,
   "id": "6711c4fa-06ab-4c19-ad0b-a6b7739fbd8a",
   "metadata": {},
   "outputs": [
    {
     "data": {
      "text/plain": [
       "['SimpleNamespace',\n",
       " '__builtins__',\n",
       " '__cached__',\n",
       " '__doc__',\n",
       " '__file__',\n",
       " '__loader__',\n",
       " '__name__',\n",
       " '__package__',\n",
       " '__spec__',\n",
       " 'my_favorite_module',\n",
       " 'numbers',\n",
       " 'share_favorites',\n",
       " 'x']"
      ]
     },
     "execution_count": 15,
     "metadata": {},
     "output_type": "execute_result"
    }
   ],
   "source": [
    "dir(example_module)"
   ]
  },
  {
   "cell_type": "markdown",
   "id": "9d3259fe-329c-45fa-89c9-26fd56d759d3",
   "metadata": {},
   "source": [
    "Some things will look familiar, like `numbers`:"
   ]
  },
  {
   "cell_type": "code",
   "execution_count": 16,
   "id": "3a851a24-3425-4dd3-891e-a30593d9675f",
   "metadata": {},
   "outputs": [
    {
     "data": {
      "text/plain": [
       "namespace(best=0, second_best=1, third_best=108)"
      ]
     },
     "execution_count": 16,
     "metadata": {},
     "output_type": "execute_result"
    }
   ],
   "source": [
    "example_module.numbers"
   ]
  },
  {
   "cell_type": "markdown",
   "id": "9aa54637-654d-4a59-9198-b5fa94012f1f",
   "metadata": {},
   "source": [
    "and the function `share_favorites`:"
   ]
  },
  {
   "cell_type": "code",
   "execution_count": 17,
   "id": "f5ad6bed-8218-496b-abeb-7935d75c7eee",
   "metadata": {},
   "outputs": [
    {
     "name": "stdout",
     "output_type": "stream",
     "text": [
      "My favorite numbers are 0, 1, and 108.\n"
     ]
    }
   ],
   "source": [
    "example_module.share_favorites()"
   ]
  },
  {
   "cell_type": "markdown",
   "id": "0cb3c3dd-b53f-459b-9d88-8ba6e22b3d82",
   "metadata": {},
   "source": [
    "Others were put in there for us automatically. We can see that it has its own `__name__`:"
   ]
  },
  {
   "cell_type": "code",
   "execution_count": 18,
   "id": "c64810a4-fbd8-4741-9636-bf9dfe280794",
   "metadata": {},
   "outputs": [
    {
     "data": {
      "text/plain": [
       "'example_module'"
      ]
     },
     "execution_count": 18,
     "metadata": {},
     "output_type": "execute_result"
    }
   ],
   "source": [
    "example_module.__name__"
   ]
  },
  {
   "cell_type": "markdown",
   "id": "29f0fb50-ab51-4fa4-859e-6b5a202f2634",
   "metadata": {},
   "source": [
    "And the variable `__doc__` holds some potentially-useful information:"
   ]
  },
  {
   "cell_type": "code",
   "execution_count": 19,
   "id": "ad5076e5-de2f-4ac1-9790-50b6cccad7be",
   "metadata": {},
   "outputs": [
    {
     "data": {
      "text/plain": [
       "\"Welcome to the example module! This string doesn't do anything, but it's traditional to start a module with a description of what it is.\""
      ]
     },
     "execution_count": 19,
     "metadata": {},
     "output_type": "execute_result"
    }
   ],
   "source": [
    "example_module.__doc__"
   ]
  },
  {
   "cell_type": "markdown",
   "id": "9b6dc178-c981-4bda-8479-ab56d63e841e",
   "metadata": {},
   "source": [
    "Since that's a string, and it lives in the variable `__doc__`, it's called a \"docstring\". If you put a string as the first line of any module, or of any function, it gets stored as a docstring. Usually the docstring will contain helpful information about how to use a module or function.\n",
    "\n",
    "Notice that every variable in `example_module` is in that namespace, including the modules which were imported inside it. This is great, because it means you can call a module whatever you want when you import it (like when using an abbreviation), and it won't affect other parts of a big program. We can confirm that we are really getting the same thing either way:"
   ]
  },
  {
   "cell_type": "code",
   "execution_count": 20,
   "id": "241c24eb-ef93-44f6-8aa9-09bf0166d0a0",
   "metadata": {},
   "outputs": [
    {
     "data": {
      "text/plain": [
       "True"
      ]
     },
     "execution_count": 20,
     "metadata": {},
     "output_type": "execute_result"
    }
   ],
   "source": [
    "example_module.my_favorite_module is np"
   ]
  },
  {
   "cell_type": "markdown",
   "id": "2bd8b80e-4548-49d7-9734-be0c595720c3",
   "metadata": {},
   "source": [
    "Here we are using the special keyword `is`, which checks whether two variables point to the exact same thing.\n",
    "\n",
    "One mystery still remains: what's that block at the bottom of the module, inside the `if` statement? We saw that when importing the module, the variable `__name__` had the value `\"example_module\"`, not the value `\"__main__\"`. Surely it would never run. So why include it at all?\n",
    "\n",
    "### exercise 2\n",
    "\n",
    "To see why, open up a terminal inside Jupyter and navigate to this directory. Then, type the command `python3 example_module.py`. Paste the output below to demonstrate that you have done this."
   ]
  },
  {
   "cell_type": "markdown",
   "id": "aa5549b2-8924-4a17-9576-eff1bf5c4c8e",
   "metadata": {},
   "source": []
  },
  {
   "cell_type": "markdown",
   "id": "e9755f5d-0a3c-4b12-93eb-0ee48eeef66b",
   "metadata": {},
   "source": [
    "As you have seen, when we ran the code on its own (as the only program, not as a module in a larger program) its `__name__` was `\"__main__\"`. That meant it ran the block at the bottom of the module. You will see this all the time when reading other people's code. People want to be able to import useful functions from other projects without running them, and people want to be able to run their project as its own program. By taking advantage of the variable `__name__`, we get the best of both worlds.\n",
    "\n",
    "### exercise 3\n",
    "\n",
    "Now that you have seen some of how importing modules works, you should write your own module. It should conform to the following specifications:\n",
    "- name it `my_module.py`\n",
    "- Have a docstring which describes what your module does\n",
    "- Include a variable `INCH` with the value `2.54`.\n",
    "- Include a function called `chebyshev_five` which takes one argument `x` and returns $16x^{5}-20x^{3}+5x$.\n",
    "- Make it so that when you run the module on its own it prints your name, but if imported does not print anything.\n",
    "\n",
    "Once you have written your module, run the following cells to demonstrate this."
   ]
  },
  {
   "cell_type": "code",
   "execution_count": 21,
   "id": "e94421e5-f67f-4baa-9b1e-4d0b083889c1",
   "metadata": {},
   "outputs": [],
   "source": [
    "# these two lines are instructions to python that it should reload your module if you make changes.\n",
    "%load_ext autoreload\n",
    "%autoreload 2"
   ]
  },
  {
   "cell_type": "code",
   "execution_count": 22,
   "id": "af0bbfe4-daf5-4be8-aace-7f272e9b4aa9",
   "metadata": {},
   "outputs": [
    {
     "name": "stdout",
     "output_type": "stream",
     "text": [
      "The name of your module is correct.\n",
      "Here is the docstring you gave:\n",
      "This is an example of what a student might answer for exercise 3.\n",
      "The constant INCH looks good\n",
      "Your function chebyshev_five looks good to me\n"
     ]
    }
   ],
   "source": [
    "import lab6_check\n",
    "import my_module\n",
    "lab6_check.exercise_3(my_module)"
   ]
  },
  {
   "cell_type": "code",
   "execution_count": 23,
   "id": "2d91c125-7b48-4ca6-9d74-da95610336ab",
   "metadata": {},
   "outputs": [
    {
     "name": "stdout",
     "output_type": "stream",
     "text": [
      "My name is Alden\n"
     ]
    }
   ],
   "source": [
    "%%bash\n",
    "# this is another way you can run a program on its own.\n",
    "python3 my_module.py"
   ]
  },
  {
   "cell_type": "markdown",
   "id": "99af9a44-9cff-4f73-aab6-aa0e9456c742",
   "metadata": {},
   "source": [
    "### exercise 4\n",
    "Now you know *how* to write a module. Why would you *want* to write a module? Come up with at least five reasons you might want to put code into a module and import it, rather than copying and pasting the code into a document to run it. Each reason should be in the form of 2-4 sentences."
   ]
  },
  {
   "cell_type": "markdown",
   "id": "47139c90-58d5-4c51-825a-b88fb6bdf952",
   "metadata": {},
   "source": []
  },
  {
   "cell_type": "markdown",
   "id": "affa34d7-dd73-4b3d-b29c-4b75c760299f",
   "metadata": {},
   "source": [
    "### exercise 5\n",
    "\n",
    "make a module called `datalab.py` and fill it with useful functions we have written, such as:\n",
    "- the `show_info` function you wrote in lab 3\n",
    "- the functions you wrote in lab 3 which compute properties of a heartbeat\n",
    "- the function from lab 4 which computes a derivative using the symmetric finite difference method\n",
    "In this document, demonstrate loading the module and using the functions inside of it. You will need to come up with examples which demonstrate what each function does clearly.\n",
    "Then run the following cell which will print the contents of your file in this document to be graded. You will be graded on the following scale:\n",
    "\n",
    "|category | 5 points | 3 points | 1 point|\n",
    "|-|-|-|-|\n",
    "|documentation| There is a docstring at the top, describing what is in the file. Every function has its own docstring as well. | One or more docstring is missing. | No docstrings were provided. |\n",
    "|style | Code is presented in a consistent style with appropriate uses of spacing and parentheses| Code is mostly well-formatted, but there are a few parts which are hard to read. | It is hard to tell what the code does. |\n",
    "|examples | The examples demonstrate what the purpose of each function is, as well as how the function should be used. | One or more examples are missing, or do not demonstrate what the function is good for. | Several examples are poorly-chosen or missing. |"
   ]
  },
  {
   "cell_type": "code",
   "execution_count": 24,
   "id": "046fd35e-2ec0-4eb8-99d8-692d69259fe7",
   "metadata": {},
   "outputs": [
    {
     "name": "stdout",
     "output_type": "stream",
     "text": [
      "\"this is an empty file to assist in testing\"\n",
      "\n"
     ]
    }
   ],
   "source": [
    "import inspect\n",
    "import datalab\n",
    "print(inspect.getsource(datalab))"
   ]
  },
  {
   "cell_type": "markdown",
   "id": "d4d5760e-52c4-4c97-98ab-3deee1169c17",
   "metadata": {},
   "source": [
    "# Objects\n",
    "\n",
    "To review, we have introduced:\n",
    "- the concept of a namespace.\n",
    "- how Python groups code into namespaces when loading modules.\n",
    "\n",
    "Most people who code in Python don't think about namespaces, at least not by that name (although they should!). Most people don't use the module `types.Simplenamespace` to write their code. Most Python programmers instead think about \"objects\". Why? Because everything in Python is some kind of object.\n",
    "\n",
    "What is an \"object\"? An object is a  namespace. Python is considered an \"object-oriented\" programming language because everything in Python is an object. Even things which you are familiar with, like integers, lists, and strings, are objects. We can inspect their attributes using the `dir` function:"
   ]
  },
  {
   "cell_type": "code",
   "execution_count": 25,
   "id": "a7c09ad4-2813-4e84-82f3-e81911f90e2f",
   "metadata": {},
   "outputs": [
    {
     "data": {
      "text/plain": [
       "['__abs__',\n",
       " '__add__',\n",
       " '__and__',\n",
       " '__bool__',\n",
       " '__ceil__',\n",
       " '__class__',\n",
       " '__delattr__',\n",
       " '__dir__',\n",
       " '__divmod__',\n",
       " '__doc__',\n",
       " '__eq__',\n",
       " '__float__',\n",
       " '__floor__',\n",
       " '__floordiv__',\n",
       " '__format__',\n",
       " '__ge__',\n",
       " '__getattribute__',\n",
       " '__getnewargs__',\n",
       " '__gt__',\n",
       " '__hash__',\n",
       " '__index__',\n",
       " '__init__',\n",
       " '__init_subclass__',\n",
       " '__int__',\n",
       " '__invert__',\n",
       " '__le__',\n",
       " '__lshift__',\n",
       " '__lt__',\n",
       " '__mod__',\n",
       " '__mul__',\n",
       " '__ne__',\n",
       " '__neg__',\n",
       " '__new__',\n",
       " '__or__',\n",
       " '__pos__',\n",
       " '__pow__',\n",
       " '__radd__',\n",
       " '__rand__',\n",
       " '__rdivmod__',\n",
       " '__reduce__',\n",
       " '__reduce_ex__',\n",
       " '__repr__',\n",
       " '__rfloordiv__',\n",
       " '__rlshift__',\n",
       " '__rmod__',\n",
       " '__rmul__',\n",
       " '__ror__',\n",
       " '__round__',\n",
       " '__rpow__',\n",
       " '__rrshift__',\n",
       " '__rshift__',\n",
       " '__rsub__',\n",
       " '__rtruediv__',\n",
       " '__rxor__',\n",
       " '__setattr__',\n",
       " '__sizeof__',\n",
       " '__str__',\n",
       " '__sub__',\n",
       " '__subclasshook__',\n",
       " '__truediv__',\n",
       " '__trunc__',\n",
       " '__xor__',\n",
       " 'as_integer_ratio',\n",
       " 'bit_count',\n",
       " 'bit_length',\n",
       " 'conjugate',\n",
       " 'denominator',\n",
       " 'from_bytes',\n",
       " 'imag',\n",
       " 'numerator',\n",
       " 'real',\n",
       " 'to_bytes']"
      ]
     },
     "execution_count": 25,
     "metadata": {},
     "output_type": "execute_result"
    }
   ],
   "source": [
    "dir(1)"
   ]
  },
  {
   "cell_type": "code",
   "execution_count": 26,
   "id": "cab0b8ad-9296-4834-b25d-4f4929cd6ea3",
   "metadata": {},
   "outputs": [
    {
     "data": {
      "text/plain": [
       "['__add__',\n",
       " '__class__',\n",
       " '__class_getitem__',\n",
       " '__contains__',\n",
       " '__delattr__',\n",
       " '__delitem__',\n",
       " '__dir__',\n",
       " '__doc__',\n",
       " '__eq__',\n",
       " '__format__',\n",
       " '__ge__',\n",
       " '__getattribute__',\n",
       " '__getitem__',\n",
       " '__gt__',\n",
       " '__hash__',\n",
       " '__iadd__',\n",
       " '__imul__',\n",
       " '__init__',\n",
       " '__init_subclass__',\n",
       " '__iter__',\n",
       " '__le__',\n",
       " '__len__',\n",
       " '__lt__',\n",
       " '__mul__',\n",
       " '__ne__',\n",
       " '__new__',\n",
       " '__reduce__',\n",
       " '__reduce_ex__',\n",
       " '__repr__',\n",
       " '__reversed__',\n",
       " '__rmul__',\n",
       " '__setattr__',\n",
       " '__setitem__',\n",
       " '__sizeof__',\n",
       " '__str__',\n",
       " '__subclasshook__',\n",
       " 'append',\n",
       " 'clear',\n",
       " 'copy',\n",
       " 'count',\n",
       " 'extend',\n",
       " 'index',\n",
       " 'insert',\n",
       " 'pop',\n",
       " 'remove',\n",
       " 'reverse',\n",
       " 'sort']"
      ]
     },
     "execution_count": 26,
     "metadata": {},
     "output_type": "execute_result"
    }
   ],
   "source": [
    "dir([1, 2, 3])"
   ]
  },
  {
   "cell_type": "code",
   "execution_count": 27,
   "id": "95366774-1de2-4240-805e-b88f6bcdbd79",
   "metadata": {},
   "outputs": [
    {
     "data": {
      "text/plain": [
       "['__add__',\n",
       " '__class__',\n",
       " '__contains__',\n",
       " '__delattr__',\n",
       " '__dir__',\n",
       " '__doc__',\n",
       " '__eq__',\n",
       " '__format__',\n",
       " '__ge__',\n",
       " '__getattribute__',\n",
       " '__getitem__',\n",
       " '__getnewargs__',\n",
       " '__gt__',\n",
       " '__hash__',\n",
       " '__init__',\n",
       " '__init_subclass__',\n",
       " '__iter__',\n",
       " '__le__',\n",
       " '__len__',\n",
       " '__lt__',\n",
       " '__mod__',\n",
       " '__mul__',\n",
       " '__ne__',\n",
       " '__new__',\n",
       " '__reduce__',\n",
       " '__reduce_ex__',\n",
       " '__repr__',\n",
       " '__rmod__',\n",
       " '__rmul__',\n",
       " '__setattr__',\n",
       " '__sizeof__',\n",
       " '__str__',\n",
       " '__subclasshook__',\n",
       " 'capitalize',\n",
       " 'casefold',\n",
       " 'center',\n",
       " 'count',\n",
       " 'encode',\n",
       " 'endswith',\n",
       " 'expandtabs',\n",
       " 'find',\n",
       " 'format',\n",
       " 'format_map',\n",
       " 'index',\n",
       " 'isalnum',\n",
       " 'isalpha',\n",
       " 'isascii',\n",
       " 'isdecimal',\n",
       " 'isdigit',\n",
       " 'isidentifier',\n",
       " 'islower',\n",
       " 'isnumeric',\n",
       " 'isprintable',\n",
       " 'isspace',\n",
       " 'istitle',\n",
       " 'isupper',\n",
       " 'join',\n",
       " 'ljust',\n",
       " 'lower',\n",
       " 'lstrip',\n",
       " 'maketrans',\n",
       " 'partition',\n",
       " 'removeprefix',\n",
       " 'removesuffix',\n",
       " 'replace',\n",
       " 'rfind',\n",
       " 'rindex',\n",
       " 'rjust',\n",
       " 'rpartition',\n",
       " 'rsplit',\n",
       " 'rstrip',\n",
       " 'split',\n",
       " 'splitlines',\n",
       " 'startswith',\n",
       " 'strip',\n",
       " 'swapcase',\n",
       " 'title',\n",
       " 'translate',\n",
       " 'upper',\n",
       " 'zfill']"
      ]
     },
     "execution_count": 27,
     "metadata": {},
     "output_type": "execute_result"
    }
   ],
   "source": [
    "dir(\"hello\")"
   ]
  },
  {
   "cell_type": "markdown",
   "id": "a285f29b-49a3-4032-9959-82061bb92240",
   "metadata": {},
   "source": [
    "Many of the attributes of these objects are functions. When an object's attribute is a function, we call that function an **method** of the object. They usually have something to do with the object they are attached to. For example, the method `upper` of the string `hello` is a function which returns that string in upper case."
   ]
  },
  {
   "cell_type": "code",
   "execution_count": 28,
   "id": "4149158f-c5c1-4425-bac2-c3411ffbf1ae",
   "metadata": {},
   "outputs": [
    {
     "data": {
      "text/plain": [
       "'HELLO'"
      ]
     },
     "execution_count": 28,
     "metadata": {},
     "output_type": "execute_result"
    }
   ],
   "source": [
    "'hello'.upper()"
   ]
  },
  {
   "cell_type": "markdown",
   "id": "91c88aeb-1381-43da-ab95-445ebbe44e99",
   "metadata": {},
   "source": [
    "# Using object methods\n",
    "\n",
    "As you can see above, there are lots of attributes for even a simple object. Most of them start with `__`, which is a convention which means that most programmers won't have to use that attribute -- it's handled by Python internally. Since these are methods which start with a double underscore, these are called \"dunder methods\". As an example, look at the method `__len__`."
   ]
  },
  {
   "cell_type": "code",
   "execution_count": 29,
   "id": "9176e6a6-81d6-4ef5-a844-429228c35caa",
   "metadata": {},
   "outputs": [
    {
     "data": {
      "text/plain": [
       "5"
      ]
     },
     "execution_count": 29,
     "metadata": {},
     "output_type": "execute_result"
    }
   ],
   "source": [
    "'hello'.__len__()"
   ]
  },
  {
   "cell_type": "markdown",
   "id": "5e51741c-2c3b-45d1-853d-d66a6740ab0b",
   "metadata": {},
   "source": [
    "This does exactly the same thing as"
   ]
  },
  {
   "cell_type": "code",
   "execution_count": 30,
   "id": "cc9f2a6f-b00e-42c5-bec9-f7b4b800e232",
   "metadata": {},
   "outputs": [
    {
     "data": {
      "text/plain": [
       "5"
      ]
     },
     "execution_count": 30,
     "metadata": {},
     "output_type": "execute_result"
    }
   ],
   "source": [
    "len('hello')"
   ]
  },
  {
   "cell_type": "markdown",
   "id": "c300098a-15f7-4f27-b970-5a81cbce4516",
   "metadata": {},
   "source": [
    "In fact, that's the first thing the function `len` tries when you call it: the function checks if the object you are calling it on has a method named `__len__`. The actual source code for `len` is written in C so that it runs faster, but if we wrote it in Python it would look something like this.\n",
    "```python\n",
    "def len(x):\n",
    "    if '__len__' in dir(x):\n",
    "        return x.__len__()\n",
    "    else:\n",
    "        # find the length another way\n",
    "```\n",
    "So you see, you almost never need to use the double-underscore methods. When we filter them out, things start to feel a lot more tractable:"
   ]
  },
  {
   "cell_type": "code",
   "execution_count": 31,
   "id": "f695b0cd-a20a-4960-abac-c79ba1694bba",
   "metadata": {},
   "outputs": [
    {
     "name": "stdout",
     "output_type": "stream",
     "text": [
      "append\n",
      "clear\n",
      "copy\n",
      "count\n",
      "extend\n",
      "index\n",
      "insert\n",
      "pop\n",
      "remove\n",
      "reverse\n",
      "sort\n"
     ]
    }
   ],
   "source": [
    "for attribute in dir([1]):\n",
    "    if not attribute.startswith('__'):\n",
    "        print(attribute)"
   ]
  },
  {
   "cell_type": "markdown",
   "id": "51599c21-150f-4d5c-9723-d9c5ea60a030",
   "metadata": {},
   "source": [
    "You can see there are not that many methods which you actually will be using. If you want to know how to use one of the methods, you can ask Python for help:"
   ]
  },
  {
   "cell_type": "code",
   "execution_count": 32,
   "id": "ecd9f130-cfd3-4568-bd6e-e3141a080d12",
   "metadata": {},
   "outputs": [
    {
     "name": "stdout",
     "output_type": "stream",
     "text": [
      "Help on built-in function count:\n",
      "\n",
      "count(value, /) method of builtins.list instance\n",
      "    Return number of occurrences of value.\n",
      "\n"
     ]
    }
   ],
   "source": [
    "help([1].count)"
   ]
  },
  {
   "cell_type": "markdown",
   "id": "449a0ae8-7221-413b-8777-1b7a3ed060ae",
   "metadata": {},
   "source": [
    "### exercise 6\n",
    "Pick one of the methods of `\"hello\"` and use the built in `help` function to figure out how to use it. Demonstrate using the method as well."
   ]
  },
  {
   "cell_type": "code",
   "execution_count": null,
   "id": "46d82c50-efd1-4c8c-98c2-8dcb37140e12",
   "metadata": {},
   "outputs": [],
   "source": []
  },
  {
   "cell_type": "markdown",
   "id": "ad1352ec-bccc-4315-bb60-05a93b13ae2b",
   "metadata": {},
   "source": [
    "As you use Python more, you will become used to the methods of common types of objects. All strings, for example, have the same methods. If you want to know an object's type, you can use the built in function `type`,"
   ]
  },
  {
   "cell_type": "code",
   "execution_count": 33,
   "id": "5835e46a-34f6-4b08-b529-71108ff71915",
   "metadata": {},
   "outputs": [
    {
     "data": {
      "text/plain": [
       "(str, int, float, list)"
      ]
     },
     "execution_count": 33,
     "metadata": {},
     "output_type": "execute_result"
    }
   ],
   "source": [
    "type('hello'), type(1), type(1.0), type([])"
   ]
  },
  {
   "cell_type": "markdown",
   "id": "278c3849-23e5-4490-b804-98ec211e33ff",
   "metadata": {},
   "source": [
    "## writing our own classes\n",
    "\n",
    "Most of the time it's easiest to use objects that are already built in to Python. However, it is frequently helpful to be able to make up new types of objects. The type of an object is also called its class. Python gives us a short, clear way to come up with new classes. Let's revisit our buildings from before. Instead of making them simple namespaces, let's define a new class. Here is the way we would write that."
   ]
  },
  {
   "cell_type": "code",
   "execution_count": 34,
   "id": "2697b584-6a4a-4416-a8b7-d6da177bc17f",
   "metadata": {},
   "outputs": [
    {
     "name": "stdout",
     "output_type": "stream",
     "text": [
      "<__main__.Building object at 0x000001F6E55E1630>\n",
      "Eiffel Tower\n"
     ]
    }
   ],
   "source": [
    "class Building:\n",
    "    def __init__(self, name, height, weight):\n",
    "        self.name = name\n",
    "        self.height = height\n",
    "        self.weight = weight\n",
    "        self.bmi = weight/height**2\n",
    "        \n",
    "eiffel = Building(\"Eiffel Tower\", 324, 7_300_000)\n",
    "print(eiffel)\n",
    "print(eiffel.name)"
   ]
  },
  {
   "cell_type": "markdown",
   "id": "4491229b-c51f-4037-b3a2-c16930321541",
   "metadata": {},
   "source": [
    "We used the keyword `class` to declare a new kind of object. Everything inside the `class` block lives inside the `Building` namespace. We defined a new function `__init__`, but it's not available outside the class:"
   ]
  },
  {
   "cell_type": "code",
   "execution_count": 35,
   "id": "0151f6b1-3cc7-42f1-a380-3dad9113c291",
   "metadata": {},
   "outputs": [
    {
     "data": {
      "text/plain": [
       "<function __main__.Building.__init__(self, name, height, weight)>"
      ]
     },
     "execution_count": 35,
     "metadata": {},
     "output_type": "execute_result"
    }
   ],
   "source": [
    "Building.__init__"
   ]
  },
  {
   "cell_type": "markdown",
   "id": "1778e394-9be8-4b78-b3e0-4cf24bac45b3",
   "metadata": {},
   "source": [
    ". The name `__init__` is a special name which is used to make objects of the `Building` type."
   ]
  },
  {
   "cell_type": "code",
   "execution_count": 36,
   "id": "b584f4a2-189a-4058-be6e-4530dd44fea0",
   "metadata": {},
   "outputs": [
    {
     "data": {
      "text/plain": [
       "__main__.Building"
      ]
     },
     "execution_count": 36,
     "metadata": {},
     "output_type": "execute_result"
    }
   ],
   "source": [
    "type(eiffel)"
   ]
  },
  {
   "cell_type": "markdown",
   "id": "224e4ba0-fd58-4b0e-b1b1-68f9e077a089",
   "metadata": {},
   "source": [
    "You can see that the type of `eiffel` is `__main__.Building`, because it was created from the class `Building` which lives in the `__main__` namespace. Since the type of `eiffel` is `Building`, we would say that `eiffel` is an **instance** of `Building`."
   ]
  },
  {
   "cell_type": "markdown",
   "id": "e0d17a02-246e-4351-bd08-687a11feec0e",
   "metadata": {},
   "source": [
    "We can already see one benefit of making our own class: we can specify only the information needed to come up with it. We didn't need to compute the `bmi` attribute ourselves; the function `__init__` handled it. This helps to ensure that `bmi` is computed the same way every time, and it saves us from having to remember the formula whenever we want to declare a new `Building`.\n",
    "\n",
    "Let's get a bit more fancy. Instead of defining a function in the global namespace to describe a building, let's make a method for the Building class which does the same description as before."
   ]
  },
  {
   "cell_type": "code",
   "execution_count": 37,
   "id": "586f55fc-5818-4262-9913-a7f04a27cb74",
   "metadata": {},
   "outputs": [
    {
     "name": "stdout",
     "output_type": "stream",
     "text": [
      "The GE 1.5 Megawatt Wind Turbine is 100 meters tall and weighs 150000 kilograms. Its low BMI of 15.0 indicates that it is underweight.\n"
     ]
    }
   ],
   "source": [
    "class Building:\n",
    "    def __init__(self, name, height, weight):\n",
    "        self.name = name\n",
    "        self.height = height\n",
    "        self.weight = weight\n",
    "        self.bmi = weight/height**2\n",
    "\n",
    "    def describe(self):\n",
    "        message = (\"The {} is {} meters tall and weighs {} kilograms. \"\n",
    "                   .format(self.name, self.height, self.weight)\n",
    "                  )\n",
    "        if self.bmi < 18.5:\n",
    "            message += \"Its low BMI of {:.1f} indicates that it is underweight.\"\n",
    "        elif self.bmi < 25:\n",
    "            message += \"Its BMI is {:.1f} which is typical for a person, but strange for a building.\"\n",
    "        elif self.bmi < 30:\n",
    "            message += \"Its BMI is {:.1f}, so according to the World Health organization, it's overweight.\"\n",
    "        else:\n",
    "            message += \"Oh no! Its BMI is {:.1f}, so the World Health Organization says it's obese!\"\n",
    "        message = message.format(self.bmi)\n",
    "        print(message)\n",
    "        \n",
    "turbine = Building(\"GE 1.5 Megawatt Wind Turbine\", 100, 150_000)\n",
    "turbine.describe()"
   ]
  },
  {
   "cell_type": "markdown",
   "id": "39406454-2439-4064-bea7-f0ea39ad8bb8",
   "metadata": {},
   "source": [
    "We should comment on the special word `self`; actually it's not special at all, it's just the position of it that's special. It's traditional to use the parameter name `self` there. The first parameter of any method in Python refers to the object that called it. In our example, we called `turbine.describe()`. We could have just as easily done it like this:"
   ]
  },
  {
   "cell_type": "code",
   "execution_count": 38,
   "id": "2a475f4e-83ed-4deb-bbeb-cf052c8604ae",
   "metadata": {},
   "outputs": [
    {
     "name": "stdout",
     "output_type": "stream",
     "text": [
      "The GE 1.5 Megawatt Wind Turbine is 100 meters tall and weighs 150000 kilograms. Its low BMI of 15.0 indicates that it is underweight.\n"
     ]
    }
   ],
   "source": [
    "Building.describe(turbine)"
   ]
  },
  {
   "cell_type": "markdown",
   "id": "02aa60ae-02c9-409c-bdc7-e869a173f603",
   "metadata": {},
   "source": [
    "So you see, the class methods will always have a parameter `self` which Python automatically fills in with the *instance* of the class."
   ]
  },
  {
   "cell_type": "markdown",
   "id": "6546d580-6e53-436e-bf96-58f48c4a48d0",
   "metadata": {},
   "source": [
    "There is one more thing I would like to change about our class: it doesn't look good when printed."
   ]
  },
  {
   "cell_type": "code",
   "execution_count": 39,
   "id": "fac26f25-4967-41eb-a598-b63e669e2b8c",
   "metadata": {},
   "outputs": [
    {
     "name": "stdout",
     "output_type": "stream",
     "text": [
      "<__main__.Building object at 0x000001F6E55E2DD0>\n"
     ]
    }
   ],
   "source": [
    "print(turbine)"
   ]
  },
  {
   "cell_type": "markdown",
   "id": "d4848eb4-cc49-40ff-8e29-09a35f6fee72",
   "metadata": {},
   "source": [
    "By telling Python how to make it into a string, we will get a much nicer print message."
   ]
  },
  {
   "cell_type": "code",
   "execution_count": 40,
   "id": "8263e50d-8e39-4dc3-b18b-5c555a552bbb",
   "metadata": {},
   "outputs": [
    {
     "name": "stdout",
     "output_type": "stream",
     "text": [
      "Building(\"GE 1.5 Megawatt Wind Turbine\", 100, 150000)\n"
     ]
    }
   ],
   "source": [
    "class Building:\n",
    "    def __init__(self, name, height, weight):\n",
    "        self.name = name\n",
    "        self.height = height\n",
    "        self.weight = weight\n",
    "        self.bmi = weight/height**2\n",
    "\n",
    "    def describe(self):\n",
    "        message = (\"The {} is {} meters tall and weighs {} kilograms. \"\n",
    "                   .format(self.name, self.height, self.weight)\n",
    "                  )\n",
    "        if self.bmi < 18.5:\n",
    "            message += \"Its low BMI of {:.1f} indicates that it is underweight.\"\n",
    "        elif self.bmi < 25:\n",
    "            message += \"Its BMI is {:.1f} which is typical for a person, but strange for a building.\"\n",
    "        elif self.bmi < 30:\n",
    "            message += \"Its BMI is {:.1f}, so according to the World Health organization, it's overweight.\"\n",
    "        else:\n",
    "            message += \"Oh no! Its BMI is {:.1f}, so the World Health Organization says it's obese!\"\n",
    "        message = message.format(self.bmi)\n",
    "        print(message)\n",
    "        \n",
    "    def __str__(self):\n",
    "        return 'Building(\"{}\", {}, {})'.format(self.name, self.height, self.weight)\n",
    "        \n",
    "turbine = Building(\"GE 1.5 Megawatt Wind Turbine\", 100, 150_000)\n",
    "print(turbine)"
   ]
  },
  {
   "cell_type": "markdown",
   "id": "6c20521a-cd97-49d0-80e6-1b27279f98c1",
   "metadata": {},
   "source": [
    "This is usually the only way programmers interact with the dunder methods; by defining them yourself, you can make your classes interact better with the rest of Python."
   ]
  },
  {
   "cell_type": "markdown",
   "id": "4a20ff27-3882-42d2-a471-145e453572cd",
   "metadata": {},
   "source": [
    "### exercise 7\n",
    "\n",
    "Make a new class called `Monomial` to represent the monomial $a x^b$ which takes two parameters, `coefficient` and `exponent`. It should have a single method `derivative` which returns a new `Monomial`, representing the derivative of $a x^b$. When printed it should display nicely, like this:\n",
    "```python\n",
    ">>> print(Monomial(2, 3))\n",
    "2*x**3\n",
    ">>> print(Monomial(2, 3).derivative())\n",
    "6*x**2\n",
    ">>> print(Monomial(2, 3).derivative().derivative())\n",
    "12*x\n",
    "```\n",
    "You can use the function `lab6_check.exercise_6` to check your work."
   ]
  },
  {
   "cell_type": "code",
   "execution_count": 41,
   "id": "9836a8a7-7f90-42a6-8c88-d2222d9ab926",
   "metadata": {},
   "outputs": [
    {
     "ename": "NameError",
     "evalue": "name 'Monomial' is not defined",
     "output_type": "error",
     "traceback": [
      "\u001b[1;31m---------------------------------------------------------------------------\u001b[0m",
      "\u001b[1;31mNameError\u001b[0m                                 Traceback (most recent call last)",
      "Input \u001b[1;32mIn [41]\u001b[0m, in \u001b[0;36m<module>\u001b[1;34m\u001b[0m\n\u001b[1;32m----> 1\u001b[0m lab6_check\u001b[38;5;241m.\u001b[39mexercise_7(\u001b[43mMonomial\u001b[49m)\n",
      "\u001b[1;31mNameError\u001b[0m: name 'Monomial' is not defined"
     ]
    }
   ],
   "source": [
    "lab6_check.exercise_7(Monomial)"
   ]
  },
  {
   "cell_type": "markdown",
   "id": "590f4fb2-c958-4b32-bd22-8736041575e0",
   "metadata": {},
   "source": [
    "# inheritance\n",
    "\n",
    "It is fairly common to have a class which does almost everything you need; you just wish it did one more thing, or did something differently. For those times there is a clever system called inheritance; you can make a new class which \"inherits\" most of its behavior from the old one. Suppose I really wish I could make my strings print out in a more sarcastic way. Here's how I might do that:"
   ]
  },
  {
   "cell_type": "code",
   "execution_count": 42,
   "id": "9df5d0cf-0f66-4424-a960-ae16cb793d10",
   "metadata": {},
   "outputs": [
    {
     "name": "stdout",
     "output_type": "stream",
     "text": [
      "the derivative is the slope of the tangent line\n",
      "The👏Derivative👏Is👏The👏Slope👏Of👏The👏Tangent👏Line\n",
      "tHe dErIvAtIvE Is tHe sLoPe oF ThE TaNgEnT LiNe\n"
     ]
    }
   ],
   "source": [
    "class meme_str(str):\n",
    "    def sarcastically(self):\n",
    "        return ''.join(c.upper() if i%2 else c.lower() for i, c in enumerate(self))\n",
    "    \n",
    "    def clapping(self):\n",
    "        return '👏'.join(word.capitalize() for word in self.split())\n",
    "\n",
    "definition = meme_str(\"the derivative is the slope of the tangent line\")\n",
    "print(definition)\n",
    "print(definition.clapping())\n",
    "print(definition.sarcastically())"
   ]
  },
  {
   "cell_type": "markdown",
   "id": "dd16607e-d4b3-4613-ab24-d3b681c840c5",
   "metadata": {},
   "source": [
    "We won't use inheritance very much. Twenty to thirty years ago, when object-oriented programming was still something new, many people were impressed with how easy it was to do inheritance and so they built big, elaborate systems of inheritance. Mostly, the code that came out of that style was a tangled mess, where you could never be entirely sure where all the attributes came from. As a result, inheritance has become much less popular lately. For small things inheritance can still be useful, and many people still use inheritance so it's good to know about it."
   ]
  },
  {
   "cell_type": "code",
   "execution_count": null,
   "id": "7e7222d7-a48e-4563-a0ce-806b6989891c",
   "metadata": {},
   "outputs": [],
   "source": []
  }
 ],
 "metadata": {
  "kernelspec": {
   "display_name": "Python 3 (ipykernel)",
   "language": "python",
   "name": "python3"
  },
  "language_info": {
   "codemirror_mode": {
    "name": "ipython",
    "version": 3
   },
   "file_extension": ".py",
   "mimetype": "text/x-python",
   "name": "python",
   "nbconvert_exporter": "python",
   "pygments_lexer": "ipython3",
   "version": "3.10.2"
  }
 },
 "nbformat": 4,
 "nbformat_minor": 5
}
