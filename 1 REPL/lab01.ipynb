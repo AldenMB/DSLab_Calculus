{
 "cells": [
  {
   "cell_type": "markdown",
   "id": "3bfd7f1c",
   "metadata": {},
   "source": [
    "<div style=\"background-color:lightblue\">\n",
    "<h1><center>\n",
    "    The Data Science Labs on <br/>\n",
    "     Differential and Integral Calculus  <br/>\n",
    "   <small>by Alden Bradford and Mireille Boutin </small>\n",
    "</center></h1>\n",
    "    </div>"
   ]
  },
  {
   "cell_type": "markdown",
   "id": "c42ca04c",
   "metadata": {},
   "source": [
    "<h1><center>\n",
    "    Laboratory 1<br/>\n",
    "    Introduction to Jupyter Notebook and Python 3 - Discretizing Functions and Aliasing<br/>\n",
    "    <small>Last Updated on October 20, 2021</small>\n",
    "</center></h1>"
   ]
  },
  {
   "cell_type": "markdown",
   "id": "4c838dd0",
   "metadata": {},
   "source": [
    "<h2 style=\"color:orange;\"><left>00. Content </left></h2>"
   ]
  },
  {
   "cell_type": "markdown",
   "id": "ef4d94bd",
   "metadata": {},
   "source": [
    "## Mathematics ##\n",
    "- functions \n",
    "- sampling \n",
    "- aliasing\n",
    "    \n",
    "## Programming Skills ##\n",
    "- REPL system\n",
    "- editing code/Markdown boxes\n",
    "- Markdown\n",
    "- Importing libraries\n",
    "- Importing files\n",
    "- NumPy Python library\n",
    "- Matplotlib Python library\n",
    "- Functions\n",
    "- Variables values, types and basic operations\n",
    "- Lists and arrays\n",
    "- line plot, title, axes labels\n",
    "- For loops\n",
    "    \n",
    "## Embedded Systems ##\n",
    "- N/A\n",
    "    "
   ]
  },
  {
   "cell_type": "markdown",
   "id": "4a6b2a8a",
   "metadata": {},
   "source": [
    "<h2 style=\"color:orange;\"><left>0. Required Hardware </left></h2> "
   ]
  },
  {
   "cell_type": "markdown",
   "id": "0d037ff8",
   "metadata": {},
   "source": [
    "- N/A"
   ]
  },
  {
   "cell_type": "markdown",
   "id": "bfbf7701",
   "metadata": {},
   "source": [
    "<h2 style=\"color:orange;\"><left>1. Introduction</left></h2>"
   ]
  },
  {
   "cell_type": "markdown",
   "id": "a9484ce5",
   "metadata": {},
   "source": [
    "Welcome to the first of \"The Data Science Labs on Differential and Integral Calculus\"!\n",
    "\n",
    "You are reading an interactice textbook. As you read the text, you will be asked to perform certain tasks and answer some questions. You will write your answers directly in this textbook. \n",
    "\n",
    "The textbook contains text and (Python) code written in \"boxes.\" The boxes containing code are grey. You can run a grey box of code by holding the \"shift\" key while pressing the \"enter\" key (shift-enter). The output of the code will then be displayed below the code. Here is an example.\n",
    "\n",
    "\n"
   ]
  },
  {
   "cell_type": "code",
   "execution_count": 1,
   "id": "15da3bc0-5e9d-4280-9fa3-f2cf3d2291b3",
   "metadata": {},
   "outputs": [
    {
     "data": {
      "text/plain": [
       "5"
      ]
     },
     "execution_count": 1,
     "metadata": {},
     "output_type": "execute_result"
    }
   ],
   "source": [
    "2+3"
   ]
  },
  {
   "cell_type": "markdown",
   "id": "887012f7-f3be-4539-aea7-9db318bcf478",
   "metadata": {},
   "source": [
    "The text boxes are actually transparent, so you will not really see them unless you go into \"edit\" mode, by double-clicking on the box. For example, the text you are currently reading is inside a text box. Fell free to double-click on it to see what \"edit\" mode looks like. To go back to formatted text, press shift-enter.\n",
    "\n",
    "While in edit mode, you will notice that the text is written in some coding language. The language is called \"markdown.\" Markdown allows one to format the text inside the box, for example adding colors and controlling the font types. There are many good tutorials and cheatsheets for Markdown available on the Internet, for example \n",
    "<a href=\"https://www.datacamp.com/community/tutorials/markdown-in-jupyter-notebook\" > this one</a>. But you should be able to type your own text box by simply copying and pastying the code of other text boxes on this page. To run the markdown code (so to see the resulting text), press (shift-enter). \n",
    "\n",
    "\n",
    "Please continue by reading all the text boxes you encounter below, and running all the code boxes (shift-enter) as you encounter them. \n",
    "\n",
    "If you are asked to answer a question, there will be a designated text box for you to type in your answer.  To begin typing, double-click the box to enter the edit mode. Type your answer using the Markdown language.  When finished typing, type shift-enter; this will run your code and display your answer as formatted text.\n",
    "\n",
    "Let's try it out. Below is a \"tex box\" containing some Markdown code. Double-click on it and write your name and email in place of the one that is already there. Keep the code that makes the text higlights in blue. When you are done editing the text, press shift-enter to see the result. "
   ]
  },
  {
   "cell_type": "markdown",
   "id": "465f350d-b5eb-4af5-a994-859faea1935e",
   "metadata": {},
   "source": [
    "<h3 style=\"background-color:lightblue\"><left> Write your name and email below: </left></h3>\n",
    "\n",
    "First Name, Last Name, email "
   ]
  },
  {
   "cell_type": "markdown",
   "id": "64b23650",
   "metadata": {},
   "source": [
    "<h2 style=\"color:orange;\"><left>2. Laboratory Ethics</left></h2>"
   ]
  },
  {
   "cell_type": "markdown",
   "id": "f0cebc43",
   "metadata": {},
   "source": [
    "\"I pledge to behave ethically and with honesty in this course. The reports I will hand in will be the product of original work by myself, and no one else. I will not look at other people's laboratory. I will not use other people's code. I will not make my labs available to other students, even after the semester is over. In particular, I will not post my labs on the Internet or make my files available to other people. I will not be a cheater.\""
   ]
  },
  {
   "cell_type": "markdown",
   "id": "cd4f2cf2",
   "metadata": {},
   "source": [
    "<h2 style=\"color:orange;\"><left>3. About Python and Jupyter </left></h2>"
   ]
  },
  {
   "cell_type": "markdown",
   "id": "28f037b5",
   "metadata": {},
   "source": [
    "Python is a programming language with a simple, easy to learn, and easy to read, syntax. It is free and open source software that includes many handy libraries for doing mathematics. The labs in this course use Python 3.\n",
    "\n",
    "The document you are reading is a \"Jupyter\" file called a \"Jupiter notebook.\" Jupyter (formerly IPython) is a system that allows you to embed Python code within a web document.  Jupyter is called a \"REPL\" system. REPL stands for \"Read, Evaluate, Print, Loop\". In concrete terms, this means that Jupyter files are executed piece-by-piece. Each piece is put in a box. The user executes a box by pressing shift-enter. The output is returned to the user right below the box. This makes Jupyter notebooks interactive.  "
   ]
  },
  {
   "cell_type": "markdown",
   "id": "db9efc45",
   "metadata": {},
   "source": [
    "<h3 style=\"color:salmon;\"><left> 3.1 Python Libraries </left></h3>"
   ]
  },
  {
   "cell_type": "markdown",
   "id": "f8e81c9b",
   "metadata": {},
   "source": [
    "In this lab, two Python libraries will be heavily used, __*NumPy*__ and __*Matplotlib*__.\n",
    "\n",
    "[__*NumPy*__](https://numpy.org) supports multi-dimensional arrays and matrices, and provides numerous mathematical functions to be operated on these arrays and matrices.\n",
    "\n",
    "[__*Matplotlib*__](https://matplotlib.org) is a plotting library, and in this lab, we will be mainly using __*matplotlib.pyplot*__, which provides a MATLAB-like way of plotting. You can refer to [Pyplot Tutorial](https://matplotlib.org/tutorials/introductory/pyplot.html) for more detailed instructions."
   ]
  },
  {
   "cell_type": "markdown",
   "id": "2dcd9757",
   "metadata": {},
   "source": [
    "These libraries need to be imported before one can access the attributes and functions within these libraries. \n",
    "Let's import these libraries. For simplicity, we will rename numpy as \"np\" and marplotlib.pyplot as \"plt\". This is a common convention. \n",
    "Execute the following blocks by pressing $\\mathtt{shift+enter}$ after clicking on the grey box of code below."
   ]
  },
  {
   "cell_type": "code",
   "execution_count": 1,
   "id": "9f246516",
   "metadata": {},
   "outputs": [],
   "source": [
    "import numpy as np\n",
    "import matplotlib.pyplot as plt"
   ]
  },
  {
   "cell_type": "markdown",
   "id": "cc512b20",
   "metadata": {},
   "source": [
    "Notice that the modules were imported using the syntax $\\mathtt{\\quad import\\quad [module\\_name] \\quad as \\quad [alias]}$. We used the alias \"np\" for numpy, and \"plt\"  for maplotlib.pyplot. This means that, from now on, we can  sinply type \"np\" in place of numpy, and \"plt\" in place of maplotlib.pylot. \n",
    "\n",
    "Note that __np__ and __plt__ are the conventional aliases of __NumPy__ and __matplotlib.pyplot__, respectively, and we will be following the conventions throughout this and the remaining labs. "
   ]
  },
  {
   "cell_type": "markdown",
   "id": "d45dc9aa",
   "metadata": {},
   "source": [
    "For this lab, we will also need functions from the __math__ library. In addition, we will need some functions that have been defined specificially for this lab. These are written inside a python files called __*lab01.py*__, which is be located inside the Lab01 directory. Le's import both of these as well. Execute the following blocks by pressing $\\mathtt{shift+enter}$. "
   ]
  },
  {
   "cell_type": "code",
   "execution_count": 2,
   "id": "6781ab6e",
   "metadata": {},
   "outputs": [],
   "source": [
    "import math\n",
    "import lab01 as lab01"
   ]
  },
  {
   "cell_type": "markdown",
   "id": "a4dcc073",
   "metadata": {},
   "source": [
    "Throughout the course of these labs, you'll be given files which, like lab01.py, contain certain functions that you will need to complete the experiments. You should not need to edit the files, you will only be asked to import their functions and use them based on a specific syntax that will be given to you."
   ]
  },
  {
   "cell_type": "markdown",
   "id": "753609d3",
   "metadata": {},
   "source": [
    "Please execute the following block of code. This will set some parameters for the plots you will produce below. It will also automatically reload all external modules.  This will prevent you from having to reload lap01.py everytime you use it. "
   ]
  },
  {
   "cell_type": "code",
   "execution_count": 5,
   "id": "a3462050",
   "metadata": {},
   "outputs": [
    {
     "name": "stdout",
     "output_type": "stream",
     "text": [
      "The autoreload extension is already loaded. To reload it, use:\n",
      "  %reload_ext autoreload\n"
     ]
    }
   ],
   "source": [
    "# make sure the plot is displayed in this notebook\n",
    "%matplotlib inline\n",
    "# specify the size of the plot\n",
    "plt.rcParams['figure.figsize'] = (16, 6)\n",
    "\n",
    "# for auto-reloading extenrnal modules\n",
    "%load_ext autoreload\n",
    "%autoreload 2"
   ]
  },
  {
   "cell_type": "markdown",
   "id": "a5466abe",
   "metadata": {},
   "source": [
    "<h3 style=\"color:salmon;\"><left> 3.2 Functions </left></h3>"
   ]
  },
  {
   "cell_type": "markdown",
   "id": "944dc571",
   "metadata": {},
   "source": [
    "Functions are groups of code that always run together. When you call a function, you execute the code that is associated within that function. Functions can take inputs, manipulate the inputs, and return an output. "
   ]
  },
  {
   "cell_type": "markdown",
   "id": "9736f557",
   "metadata": {},
   "source": [
    "The file ```lab01.py``` contains a function named ```pyramid```. The function simply takes an integer value ```x```, displays a half pyramid of # symbols with  ```x``` rows (using the value  of ```x``` given), and returns the total number of #s in the half pyramid. In this case, the returned value is stored in a variable named ```k```. In the example below, we inputted the value ```4``` into the function, created a half pyramid with the input value ```k=4``` as the number of rows, and returned the resulting number of # symbols in the half pyramid.\n",
    "\n",
    "You can view the content of the function ```pyramid``` by opening the ```lab01.py``` file. Take a look at it!"
   ]
  },
  {
   "cell_type": "markdown",
   "id": "23dd3ec5",
   "metadata": {},
   "source": [
    "Now let's evaluate the function ```pyramid``` and print the result. "
   ]
  },
  {
   "cell_type": "code",
   "execution_count": 8,
   "id": "415f8d58",
   "metadata": {},
   "outputs": [
    {
     "name": "stdout",
     "output_type": "stream",
     "text": [
      "#\n",
      "##\n",
      "###\n",
      "####\n",
      "The number of #s in the half pyramid is 10.\n"
     ]
    }
   ],
   "source": [
    "k = lab01.pyramid(4)\n",
    "print(\"The number of #s in the half pyramid is {}.\".format(k))"
   ]
  },
  {
   "cell_type": "markdown",
   "id": "b97bef0b",
   "metadata": {},
   "source": [
    "<h3 style=\"color:red;\"><left> Exercise 1</left></h3>"
   ]
  },
  {
   "cell_type": "markdown",
   "id": "98389a23",
   "metadata": {},
   "source": [
    "__*Question 1a*__: What would the expected value of ```m``` be if the following code was given? How many #s would be on the 5th row?\n",
    "\n",
    "```python\n",
    "m = lab01.pyramid(7)\n",
    "```"
   ]
  },
  {
   "cell_type": "markdown",
   "id": "07f05b9c",
   "metadata": {},
   "source": [
    "<h3 style=\"background-color:lightblue\"><left> Write Answer to 1a Below </left></h3>\n",
    "...\n",
    "\n"
   ]
  },
  {
   "cell_type": "markdown",
   "id": "15844aa0",
   "metadata": {},
   "source": [
    "Answer here\n"
   ]
  },
  {
   "cell_type": "markdown",
   "id": "972a32fd",
   "metadata": {},
   "source": [
    "__*Question 1b*__: Use the pyramid function to build a half-pyramid with 10 rows and compute the number of # symbols in the half pyramid."
   ]
  },
  {
   "cell_type": "markdown",
   "id": "59d3edd0",
   "metadata": {},
   "source": [
    "<h3 style=\"background-color:lightblue\"><left> Write Answer to 1b Below </left></h3>"
   ]
  },
  {
   "cell_type": "code",
   "execution_count": null,
   "id": "43c5a1ba",
   "metadata": {},
   "outputs": [],
   "source": []
  },
  {
   "cell_type": "markdown",
   "id": "fc2d70f6",
   "metadata": {},
   "source": [
    "\n",
    "<h3 style=\"color:salmon;\"><left> 3.3 Basic Operations </left></h3>"
   ]
  },
  {
   "cell_type": "markdown",
   "id": "7fb864cd",
   "metadata": {},
   "source": [
    "Python 3 provides basic types including integers, floats, strings, and booleans. We can assign a value of any of these types to a variable."
   ]
  },
  {
   "cell_type": "markdown",
   "id": "764bd579",
   "metadata": {},
   "source": [
    "For instance, if we want the variable called __$\\mathtt{a}$__ to hold the value of 5. This is referred to as initializing a variable with a value.\n",
    "\n",
    "We can also use a function called $\\mathtt{print()}$ to print out a specified input."
   ]
  },
  {
   "cell_type": "code",
   "execution_count": null,
   "id": "ca3be5bd",
   "metadata": {
    "scrolled": true
   },
   "outputs": [],
   "source": [
    "a = 5                        # initialize a with the value of 5\n",
    "print(a)                     # print out the value of a            "
   ]
  },
  {
   "cell_type": "markdown",
   "id": "6d201767",
   "metadata": {},
   "source": [
    "Basic operations like adding, subtracting, multiplying, and dividing can be used to manipulating these variables and/or values."
   ]
  },
  {
   "cell_type": "code",
   "execution_count": null,
   "id": "1bfeb134",
   "metadata": {},
   "outputs": [],
   "source": [
    "a = 5                         # initialize a with the value of 5\n",
    "b = a + 10                    # assign a + 10 to b\n",
    "c = a - 5                     # subtract a by 5\n",
    "d = b * 4                     # multibly b by 4\n",
    "e = 50 / a                    # divide 50 by a\n",
    "f = b // 7                    # integer division, result is the division without the succeeding numbers after the decimal\n",
    "g = a ** 2                    # a to the power of 2\n",
    "h = (d + 3) ** 0.5            # add 3 to d and take it to the 0.5 power\n",
    "i = f == 2                    # return True if f is 2, otherwise return False \n",
    "j = d % 13                    # d modulo 13, result is the remainder\n",
    "\n",
    "print(a)\n",
    "print(b)\n",
    "print(c)\n",
    "print(d)\n",
    "print(e)\n",
    "print(f)\n",
    "print(g)\n",
    "print(h)\n",
    "print(i)\n",
    "print(j)"
   ]
  },
  {
   "cell_type": "markdown",
   "id": "ebde6ea0",
   "metadata": {},
   "source": [
    "<h3 style=\"color:red;\"><left> Exercise 2</left></h3>"
   ]
  },
  {
   "cell_type": "markdown",
   "id": "5a6aeb5e",
   "metadata": {},
   "source": [
    "__Part 1__\n",
    "\n",
    "Code the following operations.\n",
    "\n",
    "1. Initialize the variable ```xyz``` to the value ```9```.\n",
    "2. Take the cubic of ```xyz``` and store it in a new variable called ```abc```.\n",
    "3. Create another variable called ```okay``` and copy the value of ```xyz``` to it.\n",
    "4. Multiply ```okay``` by 14 and store it in ```okay```.\n",
    "5. Take the remainder of ```okay / 5``` and store it in ```rem```.\n",
    "6. Add together ```okay```, ```xyz```, ```rem```, and ```abc``` and tore it in a variable called ```sum```.\n",
    "7. Print the value of ```sum```.\n",
    "\n",
    "__Part 2__\n",
    "\n",
    "Answer the following questions.\n",
    "\n",
    "__*Question 1*__: What is 8 % 9?<br>\n",
    "__*Question 2*__: What operation would help you decide whether a given number is even or odd?"
   ]
  },
  {
   "cell_type": "markdown",
   "id": "668a060c",
   "metadata": {},
   "source": [
    "<h3 style=\"background-color:lightblue\"><left> Write Answers for Exercise 2 Below </left></h3>\n",
    "Create additional boxes as needed by clicking the \"+\" sign in the menu above this window. This will create a box of code, by default. If you want to switch it to a box of Markdown, in order to write text, then select \"Markdown\" from the dropdown menu above this window. "
   ]
  },
  {
   "cell_type": "code",
   "execution_count": null,
   "id": "2a3b7ea6",
   "metadata": {},
   "outputs": [],
   "source": []
  },
  {
   "cell_type": "markdown",
   "id": "2f461336",
   "metadata": {},
   "source": [
    "<h3 style=\"color:salmon;\"><left> 3.4 Formatting </left></h3>"
   ]
  },
  {
   "cell_type": "markdown",
   "id": "a855e4f3",
   "metadata": {},
   "source": [
    "A variable can also be initialized by a string. A string can also be formatted for output. When formatting at string, the $\\mathtt{format()}$ function replaces $\\mathtt{\\{\\}}$ with its specified inputs."
   ]
  },
  {
   "cell_type": "code",
   "execution_count": null,
   "id": "c8e22278",
   "metadata": {},
   "outputs": [],
   "source": [
    "j = \"Hello World!\"                             # assign j to a string\n",
    "str1 = \"The value of j is {}\".format(j)\n",
    "str2 = \"The values of f and g are {} and {}, respectively.\".format(f, g)\n",
    "str3 = \"The value of h is {:.3f}.\".format(h)   # formats the value of h to be rounded to 3 decimal places\n",
    "print(\"Data Science is cool!\")\n",
    "print(str1)\n",
    "print(str2)\n",
    "print(str3)"
   ]
  },
  {
   "cell_type": "markdown",
   "id": "704caed0",
   "metadata": {},
   "source": [
    "<h3 style=\"color:red;\"><left> Exercise 3</left></h3>"
   ]
  },
  {
   "cell_type": "markdown",
   "id": "57fc81cd",
   "metadata": {},
   "source": [
    "When you analyzed the code in ```lab01.py``` earlier, you would have noticed that there are three additional functions in the file. Follow the instructions below to see what the ```mystery``` function does. \n",
    "\n",
    "1. Call the ```mystery``` function from the file like we did earlier. The ```mystery``` function takes an integer as an input and returns an integer as an output. Assign the input to the value ```7``` and the output of the function to a variable named ```num```.\n",
    "3. Manipulate the value of ```num``` in one line of code by first adding ```51```, then dividing that value by ```7```, and multiplying that value by ```3```. Assign this new number to the variable ```new_num```. **Don't forget to use parentheses when appropriate.** \n",
    "4. Print the value of ```num``` to 2 decimal places and the value of ```new_num``` to the 5th decimal. Follow the output of ```\"The value of num is ___ and the value of new_num is ___.\"```."
   ]
  },
  {
   "cell_type": "markdown",
   "id": "6606f61b",
   "metadata": {},
   "source": [
    "__*Question*__: Describe what the ```mystery``` function outputted. How did the value we inputted into the function get manipulated?"
   ]
  },
  {
   "cell_type": "markdown",
   "id": "fb459a9b",
   "metadata": {},
   "source": [
    "<h3 style=\"background-color:lightblue\"><left> Write Answers for Exercise 3 Below </left></h3>\n",
    "..."
   ]
  },
  {
   "cell_type": "markdown",
   "id": "e8c60dde",
   "metadata": {},
   "source": [
    "<h3 style=\"color:salmon;\"><left> 3.5 For Loops </left></h3>"
   ]
  },
  {
   "cell_type": "markdown",
   "id": "a6d8f395",
   "metadata": {},
   "source": [
    "*For* loops help us iterate through a range of values or lists. These will be very helpful in analyzing data in future labs.\n",
    "\n",
    "To help us understand *for* loops we will use a function called $\\mathtt{range()}$. This function creates a sequence of values given a set of numbers as its inputs. $\\mathtt{range(i, j, k)}$ where ```i``` is the closed interval start value, ```j``` open interval end value, and ```k``` is the stepping size."
   ]
  },
  {
   "cell_type": "code",
   "execution_count": null,
   "id": "d0d7470f",
   "metadata": {},
   "outputs": [],
   "source": [
    "for i in range(5):           # i begins from 0 as default, and ends at 4 (not 5). Interval of sequence is [0, 5) \n",
    "  print(i)\n",
    "print(\"------------\")\n",
    "for j in range(13, 17, 1):   # j begins from 13 and increments by 1 until 16 (not 17). Interval of sequence is [13,17)\n",
    "  print(j)\n",
    "print(\"------------\")\n",
    "for k in range(0, 10, 2):    # k begins from 0 and increments by 2 until 8 (not 10). Interval of sequence is [0, 10)\n",
    "  print(k)\n",
    "print(\"------------\")\n",
    "for z in range(45, 40, -1):  # z begins from 45 and decrements by 1 until 41 (not 40). Interval of sequence is (40, 45]\n",
    "  print(z)"
   ]
  },
  {
   "cell_type": "markdown",
   "id": "665749ae",
   "metadata": {},
   "source": [
    "<h3 style=\"color:red;\"><left> Exercise 4</left></h3>"
   ]
  },
  {
   "cell_type": "markdown",
   "id": "0f236fee",
   "metadata": {},
   "source": [
    "What would you expect the sequences for the following ```range()``` functions be?\n",
    "\n",
    "__*Question 1*__: ```range(2, 14, 1)``` <br>\n",
    "__*Question 2*__: ```range(2, 14, 3)``` <br>\n",
    "__*Question 3*__: ```range(14, 2, -6)``` <br>\n",
    "__*Question 4*__: ```range(11)```<br>\n",
    "__*Question 5*__: ```range(7, 15)```"
   ]
  },
  {
   "cell_type": "markdown",
   "id": "019e3237",
   "metadata": {},
   "source": [
    "<h3 style=\"background-color:lightblue\"><left> Write Answers for Exercise 4 Below </left></h3>\n",
    "..."
   ]
  },
  {
   "cell_type": "markdown",
   "id": "8f10165d",
   "metadata": {},
   "source": [
    "<h3 style=\"color:salmon;\"><left> 3.6 Lists </left></h3>"
   ]
  },
  {
   "cell_type": "markdown",
   "id": "4fc50724",
   "metadata": {},
   "source": [
    "*Lists* are used to store multiple items in a single variable.\n",
    "\n",
    "*Lists* are indexed by starting with 0. So, an element at index 0 of a *list* is the first element of the *list*, index 1 is the second element, index 2 is the third element,... and so on until the end of list.\n",
    "\n",
    "Examples of some lists are shown below.\n",
    "\n",
    "For accessing sections of the list, we can splice the list by indexing. Essentially, we are obtaining a sublist. The basic slicing syntax is ```list[i:j:k]```, where ```i``` is the starting index, ```j``` is the stopping index, and ```k``` is the step. If the starting index is $\\mathtt{0}$, it can be ignored. If the ending index is the length of the list, you can ignore it. If the step size is $\\mathtt{1}$, it can also be ignored. The indexing interval rules are similar to that of the $\\mathtt{range()}$ we had done earlier."
   ]
  },
  {
   "cell_type": "code",
   "execution_count": null,
   "id": "f4bbfe45",
   "metadata": {},
   "outputs": [],
   "source": [
    "thislist = [\"mango\", \"strawberry\", \"peach\", \"plum\", \"orange\"]   # initialize thislist with strings\n",
    "print(thislist[0])                                              # value of thislist at index 0 (first element)\n",
    "print(thislist[2])                                              # value of thislist at index 2 (third element)\n",
    "print(thislist[-1])                                             # 1st element from the end of list                      \n",
    "print(thislist[-3])                                             # 3rd element from the end of list\n",
    "sublist = thislist[1:4:2]                                       # sublist of every other element starting from index 1 to 3 \n",
    "print(sublist)                                          \n",
    "print(thislist[:3:1])                                           # sublist from index 0 to 2\n",
    "print(thislist[3::1])                                           # sublist from index 3 to end of list\n",
    "print(thislist[1:4])                                            # sublist from index 1 to 3\n",
    "\n",
    "nextlist = [2, 4, 5, 7, 9]                                      # initialize nextlist with integers\n",
    "num = 0\n",
    "for m in nextlist:                                              # iterate through all the elements of nextlist\n",
    "  num = num + m                                                 # sum all the elements of list together\n",
    "  print(m)                                                      # print the current values of nextlist\n",
    "print(\"The sum of the values of nextlist is stored in 'num' which is {}.\".format(num))"
   ]
  },
  {
   "cell_type": "markdown",
   "id": "2237284a",
   "metadata": {},
   "source": [
    "<h3 style=\"color:red;\"><left> Exercise 5</left></h3>"
   ]
  },
  {
   "cell_type": "markdown",
   "id": "4f776859",
   "metadata": {},
   "source": [
    "Follow the instructions below:\n",
    "\n",
    "__Part 1__\n",
    "\n",
    "- Initialize a *list* of integers with the values of 10, 45, 6, 90, 5, 87, 56.\n",
    "- Calculate the average of this *list* using a *for* loop.\n",
    "- Print the average. *Format* the average and have it rounded to the 2nd decimal point.\n",
    "\n",
    "__Part 2__\n",
    "\n",
    "- Create a sublist of *list* that includes every other element starting from index 0, including the last element.\n",
    "- Print this sublist.\n",
    "\n",
    "__Part 3__\n",
    "\n",
    "- Create a *for* loop that prints out the odd numbers between 1 and 21, including 1 and not including 21.\n",
    "\n",
    "__Part 4__\n",
    "\n",
    "- Create a *for* loop that prints out the values 36, 29, 22, 15, 8 in this order."
   ]
  },
  {
   "cell_type": "markdown",
   "id": "c7ca69b3",
   "metadata": {},
   "source": [
    "<h3 style=\"background-color:lightblue\"><left> Write Answers for Exercise 5 Below </left></h3>\n",
    "..."
   ]
  },
  {
   "cell_type": "markdown",
   "id": "f635295d",
   "metadata": {},
   "source": [
    "<h3 style=\"color:salmon;\"><left> 3.7 Matplotlib Interface</left></h3>"
   ]
  },
  {
   "cell_type": "markdown",
   "id": "6bd0d7b7",
   "metadata": {},
   "source": [
    "So now that we know how to create *lists*. We can now use these *lists* to create graphs. \n",
    "\n",
    "Earlier, we imported the Matplotlib library using the instructive, ```import matplotlib.pyplot as plt```. Matplotlib is a low level graph plotting library. You will notice that ```matplotlib``` has an extension to it, ```pyplot```. ```pyplot``` is a submodule of ```matplotlib``` that will help us plot our graphs.\n",
    "\n",
    "Let's look at how this can be done."
   ]
  },
  {
   "cell_type": "markdown",
   "id": "41bf018b",
   "metadata": {},
   "source": [
    "Often when we have a graph, we will have a set of ```x``` coordinates and a set of ```y``` coordinates. In this case, we are going to define ```x``` and ```y``` as lists. These lists have to be of equal length, and each coordinate value corresponds to the same indices. For instance, in the example below, the coordinates that will be graphed are ```(1,1), (2,2), (3,3), (4,4), (5,5), (6,6), and (7,7)```. When using the ```plt.plot()``` function, a line graph will be drawn. __Remember that in future labs, you should be more descriptive in your variable names when describing the dependent and independent variables of a data set that you are plotting.__"
   ]
  },
  {
   "cell_type": "code",
   "execution_count": 7,
   "id": "4965825c",
   "metadata": {},
   "outputs": [
    {
     "data": {
      "image/png": "[encoded data removed]",
      "text/plain": [
       "<Figure size 1152x432 with 1 Axes>"
      ]
     },
     "metadata": {
      "needs_background": "light"
     },
     "output_type": "display_data"
    }
   ],
   "source": [
    "x = [1, 2, 3, 4, 5, 6, 7]                               # x coordinate list\n",
    "y = [1, 2, 3, 4, 5, 6, 7]                               # y coordinate list\n",
    "\n",
    "plt.plot(x, y)                                          # plots x by y\n",
    "plt.title(\"X vs. Y\")                                    # adds a title\n",
    "plt.xlabel(\"X\")                                         # adds a label on the x axis\n",
    "plt.ylabel(\"Y\")                                         # adds a label on the y axis\n",
    "plt.show()                                              # displays the graph as an output"
   ]
  },
  {
   "cell_type": "markdown",
   "id": "41e792fe",
   "metadata": {},
   "source": [
    "As default, ```plt.plot()``` graphs a line graph. But, you can change this graph to a scatter plot. We can do this by adding an additional input to the function, ```'ro'```. Let's do this."
   ]
  },
  {
   "cell_type": "code",
   "execution_count": null,
   "id": "05772ff5",
   "metadata": {},
   "outputs": [],
   "source": [
    "plt.plot(x, y, 'ro')                                    # plots x by y as a scatter plot\n",
    "plt.show()                                              # displays the graph as an output"
   ]
  },
  {
   "cell_type": "markdown",
   "id": "37e2ff32",
   "metadata": {},
   "source": [
    "You will have noticed that the graph is now a scatter plot, but additionally, the markers are red in color. The first character signifies the color of the marker. In this case, ```r``` is red. And the second character signifies the shape of the marker. ```o``` gave us circle markers. Now that we can change the color and shape of the markers, we can add more data to our graphs. You can look here for different marker types and colors [__*Matplotlib markers*__](https://www.w3schools.com/python/matplotlib_markers.asp)."
   ]
  },
  {
   "cell_type": "code",
   "execution_count": null,
   "id": "88a033ba",
   "metadata": {},
   "outputs": [],
   "source": [
    "x = [1, 2, 3, 4, 5, 6, 7]                               # x coordinate list\n",
    "y1 = [1, 2, 3, 4, 5, 6, 7]                              # y1 coordinate list\n",
    "y2 = [2, 2.5, 3, 3.5, 4, 4.5, 5]                        # y2 coordinate list\n",
    "y3 = [3, 3.75, 4.5, 5.25, 6, 6.75, 7.5]                 # y3 coordinate list\n",
    "\n",
    "plt.plot(x, y1, 'ro', x, y2, 'b^', x, y3, 'g-')         # plots x by y as a scatter plot and a line graph\n",
    "plt.legend(['y1', 'y2', 'y3'], loc=\"lower right\")       # legend, in lower right position\n",
    "plt.title(\"X vs. Y\")                                    # adds a title\n",
    "plt.xlabel(\"X\")                                         # adds a label on the x axis\n",
    "plt.ylabel(\"Y\")                                         # adds a label on the y axis\n",
    "plt.show()                                              # displays the graph as an output"
   ]
  },
  {
   "cell_type": "markdown",
   "id": "52899e59",
   "metadata": {},
   "source": [
    "<h3 style=\"color:red;\"><left> Exercise 6</left></h3>"
   ]
  },
  {
   "cell_type": "markdown",
   "id": "4ecb8928",
   "metadata": {},
   "source": [
    "Do the following exercises below to implement plotting using matplotlib.\n",
    "\n",
    "__Part 1__\n",
    "\n",
    "1. Create a list called ```x1``` with the following values: ```1, 1.5, 2, 2.5, 3, 2.5, 2, 1.5, 1```.\n",
    "2. Create a list called ```x2``` with the following values: ```1.625, 1.625, 1.75, 1.75, 1.625```.\n",
    "3. Create a list called ```x3``` with the following values: ```2.25, 2.25, 2.375, 2.375, 2.25```.\n",
    "4. Create a list called ```x4``` with the following values: ```1.5, 2.5, 2.375, 1.625, 1.5```.\n",
    "5. Create a list called ```y1``` with the following values: ```2, 2.5, 3, 2.5, 2, 1.5, 1, 1.5, 2```.\n",
    "6. Create a list called ```y2``` with the following values: ```2.5, 2.25, 2.25, 2.5, 2.5```.\n",
    "7. Create a list called ```y3``` with the following values: ```1.75, 1.75, 1.5, 1.5, 1.75```.\n",
    "8. On the same graph, plot ```x1``` by ```y1``` as a solid yellow line, and ```x2``` by ```y2```, ```x3``` by ```y2```, and ```x4``` by ```y3``` as solid black lines. *Hint: You can use the link about markers to find the appropriate colors and marker shapes.*\n",
    "9. Make sure to *show* the plot as an output.\n",
    "\n",
    "Follow the coordinates for the ```x1``` by ```y1``` plot. Notice that the values are drawn and connected in the order they show up in the list from left to right. Essentially, all we are doing is connecting the dots when drawing these graphs.\n",
    "\n",
    "__Part 2__\n",
    "\n",
    "Now that you know how to plot on matplotlib, In a simmilar manner as in __Part 1__, in a new block of code, draw your first initial in block letters. Make your output a line that is __*not*__ solid and a color that we have __*not*__ used already.\n",
    "\n"
   ]
  },
  {
   "cell_type": "markdown",
   "id": "54f5d473",
   "metadata": {},
   "source": [
    "<h3 style=\"background-color:lightblue\"><left> Write Answers for Exercise 6 Below </left></h3>\n",
    "..."
   ]
  },
  {
   "cell_type": "markdown",
   "id": "f1323ab2",
   "metadata": {},
   "source": [
    "<h3 style=\"color:salmon;\"><left> 3.8 NumPy Arrays</left></h3>"
   ]
  },
  {
   "cell_type": "markdown",
   "id": "7d7cda9b",
   "metadata": {},
   "source": [
    "Arrays are very similar to lists. To build one-dimensional arrays we use the NumPy library that we had imported earlier: ```import numpy as np```. To create an array, we can use the following code."
   ]
  },
  {
   "cell_type": "code",
   "execution_count": null,
   "id": "1d66f777",
   "metadata": {},
   "outputs": [],
   "source": [
    "A = np.array([5, 3, 6, 8, 2, 1])     # initialize A with array [5, 3, 6, 8, 2, 1]\n",
    "print(\"A = {}.\".format(A))"
   ]
  },
  {
   "cell_type": "markdown",
   "id": "a908e654",
   "metadata": {},
   "source": [
    "You can also create arrays by using functions like ```arange()```, ```zeros()```, ```linspace()```.\n",
    "\n",
    "```arange()``` - creates an array between a range of values, similar to ```range()```<br>\n",
    "```zeros()``` - creates an array of zeros <br>\n",
    "```linspace()``` - creates an array of linearly spaced values"
   ]
  },
  {
   "cell_type": "code",
   "execution_count": null,
   "id": "eb8a122e",
   "metadata": {},
   "outputs": [],
   "source": [
    "A1 = np.arange(2, 10, 4)    # (start, stop, stepping size)\n",
    "A2 = np.zeros(4)            # number of elements            \n",
    "A3 = np.linspace(2, 10, 4)  # (start, stop, number of elements)\n",
    "\n",
    "print(\"A1 =\", A1)\n",
    "print(\"A2 =\", A2)\n",
    "print(\"A3 =\", A3)"
   ]
  },
  {
   "cell_type": "markdown",
   "id": "f08a87d1",
   "metadata": {},
   "source": [
    "We can find the length of the array by using the ```len()``` function."
   ]
  },
  {
   "cell_type": "code",
   "execution_count": null,
   "id": "a271531b",
   "metadata": {},
   "outputs": [],
   "source": [
    "length = len(A1)\n",
    "print(\"The length of the array is {}.\".format(length))"
   ]
  },
  {
   "cell_type": "markdown",
   "id": "6674173f",
   "metadata": {},
   "source": [
    "The indexing rules for an array are the same rules that we had used earlier for lists. Similar to lists, we can create subarrays with index manipulation. Here are some examples to corrobote this. "
   ]
  },
  {
   "cell_type": "code",
   "execution_count": null,
   "id": "18a7f335",
   "metadata": {
    "scrolled": true
   },
   "outputs": [],
   "source": [
    "print(A[3])                         # 4th element in A, index 3\n",
    "print(A[-3])                        # 3rd to last element in A, index 3 \n",
    "print(A[1:5:1])                     # index 1-4\n",
    "print(A[4:0:-2])                    # index 4, 2\n",
    "v = A[3::1]\n",
    "print(\"v =\", v)                    # index 3, 4, 5"
   ]
  },
  {
   "cell_type": "markdown",
   "id": "9bea14d4",
   "metadata": {},
   "source": [
    "Why are we learning arrays when the same thing can be done with lists?\n",
    "\n",
    "Arrays using NumPy are easier to manipulate. NumPy also includes additional functions for array manipulation.\n",
    "\n",
    "It is also possible to use basic operations on an entire array. This is like evaluating functions at several points at once. This is easier than creating *for* loops."
   ]
  },
  {
   "cell_type": "code",
   "execution_count": null,
   "id": "ffac5f6e",
   "metadata": {},
   "outputs": [],
   "source": [
    "V = np.array([1, 2, 3, 4, 5, 6, 7, 8, 9])\n",
    "V1 = V * 11                                           # y = x * 11\n",
    "V2 = V ** 2                                           # y = x ^ 2\n",
    "V3 = V == 5                                           \n",
    "print(\"V multiplied by 11: {}\".format(V1))\n",
    "print(\"V squared: {}\".format(V2))\n",
    "print(\"Elements of V that equal 5: {}.\".format(V3))"
   ]
  },
  {
   "cell_type": "markdown",
   "id": "d24caa05",
   "metadata": {},
   "source": [
    "The addition with lists is different than addition with arrays.\n",
    "\n",
    "Let's test this."
   ]
  },
  {
   "cell_type": "code",
   "execution_count": null,
   "id": "bbe0e9c1",
   "metadata": {},
   "outputs": [],
   "source": [
    "list1 = [4, 6, 8]\n",
    "list2 = [1, 3, 7]\n",
    "array1 = np.array([4, 6, 8])\n",
    "array2 = np.array([1, 3, 7])\n",
    "\n",
    "list3 = list1 + list2\n",
    "array3 = array1 + array2\n",
    "\n",
    "print(\"Lists create join lists together called concatenation.\")\n",
    "print(\"The value of list3 is {}.\".format(list3))\n",
    "print(\"Arrays add the each corresponding elements togehter.\")\n",
    "print(\"The value of array3 is {}.\".format(array3))"
   ]
  },
  {
   "cell_type": "markdown",
   "id": "8be96957",
   "metadata": {},
   "source": [
    "<h3 style=\"color:red;\"><left> Exercise 7</left></h3>"
   ]
  },
  {
   "cell_type": "markdown",
   "id": "057a6071",
   "metadata": {},
   "source": [
    "__Part 1__\n",
    "\n",
    "The equation for calculating kinetic energy is given by<br>\n",
    "$$\n",
    "KE = \\frac{mv^2}{2}\n",
    "$$\n",
    "where <br>\n",
    "KE is kinetic energy (J) <br>\n",
    "m is mass (kg), <br>\n",
    "v is velocity (m/s)\n",
    "\n",
    "Given that an object has a mass of 20 kg, how much kinetic energy does this object have at the given velocities between the inteval \\[0, 7\\] using 8 linearly-spaced points.\n",
    "1. Use a NumPy array to calculate the kinetic energy at the different velocities.\n",
    "2. Create a scatterplot plotting ```Velocity (m/s)``` by ```Kinetic Energy (J)```. *Make sure to include an appropriate title and axes labels.*\n",
    "\n",
    "__Part 2__\n",
    "\n",
    "__*Question 1*__: What kind of relationship do the variables have? Linear? Quadratic? Cubic? Exponential? <br>\n",
    "__*Question 2*__: Using your graph that you made, estimate what the kinetic energy of the object when it is moving at a speed of 4.5 m/s.\n",
    "\n",
    "__Part 3__\n",
    "\n",
    "In Exercise 5, we used lists to find and print the average of 10, 45, 6, 90, 5, 87, 56. Now, let's use an array to find the average. Use this link [__*NumPy Math Functions*__](https://numpy.org/doc/stable/reference/routines.math.html) to find a function that may help you. *Do __not__ use the average() function. Hint: think about what you need to do to find the average of a set of numbers step-by-step and see what function fits each step, if possible.* __You must use array notation.__"
   ]
  },
  {
   "cell_type": "markdown",
   "id": "2a57a1a1",
   "metadata": {},
   "source": [
    "<h3 style=\"background-color:lightblue\"><left> Write Answers for Exercise 7 Below </left></h3>\n",
    "..."
   ]
  },
  {
   "cell_type": "markdown",
   "id": "c25a53bd",
   "metadata": {},
   "source": [
    "<h3 style=\"color:salmon;\"><left>3.9 Function Visualizations</left></h3>"
   ]
  },
  {
   "cell_type": "markdown",
   "id": "b18c4a4a",
   "metadata": {},
   "source": [
    "In __Exercise 7, Part 1__ we learned how to discretize an interval of a function using NumPy operations. \n",
    "\n",
    "Let's look at how the number of points we choose within an interval affects the output of a function. In this example, we are going to look at $\\mathtt{sin(x)}$ by dividing the interval \\[0, 2pi] into 5, 10, and 50 points."
   ]
  },
  {
   "cell_type": "code",
   "execution_count": null,
   "id": "6e846cde",
   "metadata": {},
   "outputs": [],
   "source": [
    "t5 = np.linspace(0, 2 * math.pi, 5)                          # 5 linearly-spaced elements within the interval of [0, 2pi]\n",
    "sin5 = np.sin(t5)                                            # Map these 5 points to sin(x)\n",
    "t10 = np.linspace(0, 2 * math.pi, 10)                        # 10 linearly-spaced elements within the interval of [0, 2pi]\n",
    "sin10 = np.sin(t10)                                          # Map these 10 points to sin(x) \n",
    "t50 = np.linspace(0, 2 * math.pi, 50)                        # 50 linearly-spaced elements within the interval of [0, 2pi]\n",
    "sin50 = np.sin(t50)                                          # Map these 50 oiubts to sin(x)\n",
    "\n",
    "# Graph for 5 points\n",
    "plt.plot(t5, sin5, 'r-')\n",
    "plt.title(\"sin(x) discretized at 5 points\")\n",
    "plt.xlabel(\"x\")\n",
    "plt.ylabel(\"y\")\n",
    "plt.show()\n",
    "# Graph for 10 points\n",
    "plt.plot(t10, sin10, 'g-')\n",
    "plt.title(\"sin(x) discretized at 10 points\")\n",
    "plt.xlabel(\"x\")\n",
    "plt.ylabel(\"y\")\n",
    "plt.show()\n",
    "# Graph for 50 points\n",
    "plt.plot(t50, sin50, 'b-')\n",
    "plt.title(\"sin(x) discretized at 50 points\")\n",
    "plt.xlabel(\"x\")\n",
    "plt.ylabel(\"y\")\n",
    "plt.show()"
   ]
  },
  {
   "cell_type": "markdown",
   "id": "92bfce40",
   "metadata": {},
   "source": [
    "Through this, we can see that choosing a valid number of points to graph a function is very important.\n",
    "\n",
    "For the next example, we are going to analyze how an ordered x-coordinate __*list*__ differs from an unordered __*list*__. Run the following code."
   ]
  },
  {
   "cell_type": "code",
   "execution_count": null,
   "id": "1c46fac0",
   "metadata": {},
   "outputs": [],
   "source": [
    "x1 = np.array([1, 2, 3, 4, 5, 6, 7])       # Ordered\n",
    "x2 = np.array([3, 4, 6, 7, 2, 1, 5])       # Unordered\n",
    "\n",
    "\n",
    "# y = x ^3\n",
    "y1 = x1 ** 3\n",
    "y2 = x2 ** 3\n",
    "\n",
    "# Ordered Graph\n",
    "plt.plot(x1, y1, 'm-')\n",
    "plt.title(\"Ordered x-coordinates\")\n",
    "plt.xlabel(\"x\")\n",
    "plt.ylabel(\"y\")\n",
    "plt.show()\n",
    "# Unordered Graph\n",
    "plt.plot(x2, y2, \"c-\")\n",
    "plt.title(\"Unordered x-coordinates\")\n",
    "plt.xlabel(\"x\")\n",
    "plt.ylabel(\"y\")\n",
    "plt.show()"
   ]
  },
  {
   "cell_type": "markdown",
   "id": "e14e311c",
   "metadata": {},
   "source": [
    "Now let's graph the same plots, but instead of a line graph, let's use a scatter plot."
   ]
  },
  {
   "cell_type": "code",
   "execution_count": null,
   "id": "31f7e3da",
   "metadata": {},
   "outputs": [],
   "source": [
    "# Ordered Graph\n",
    "plt.plot(x1, y1, 'mo')\n",
    "plt.title(\"Ordered x-coordinates\")\n",
    "plt.xlabel(\"x\")\n",
    "plt.ylabel(\"y\")\n",
    "plt.show()\n",
    "# Unordered Graph\n",
    "plt.plot(x2, y2, \"co\")\n",
    "plt.title(\"Unordered x-coordinates\")\n",
    "plt.xlabel(\"x\")\n",
    "plt.ylabel(\"y\")\n",
    "plt.show()"
   ]
  },
  {
   "cell_type": "markdown",
   "id": "0bd64c9c",
   "metadata": {},
   "source": [
    "<h3 style=\"color:red;\"><left> Exercise 8</left></h3>"
   ]
  },
  {
   "cell_type": "markdown",
   "id": "3144f6d3",
   "metadata": {},
   "source": [
    "__Part 1__\n",
    "\n",
    "In the previous example, we looked at the generation of plots from ordered and unordered x-coordinates.\n",
    "\n",
    "1. Explain why the second line graph plot looks like it does.\n",
    "2. To create a line graph, what format do the x-coordinates need to be in?\n",
    "3. Did creating a scatterplot give us valid results?\n",
    "\n",
    "__Part 2__\n",
    "\n",
    "Consider the function $y = sin(100x)$.\n",
    "\n",
    "1. What is the period of the function?\n",
    "2. What is the frequency of the function?\n",
    "3. If we graph this function on the interval $[0, \\pi]$, how many oscillations will we see? Describe in words how you expect the plot to look.\n",
    "4. Run the cell below, which creates a graph of the equation between the interval \\[$\\mathtt{0, \\pi}$\\] using 50 points.\n",
    "5. Does the graph match what you expected it to be? Why or why not? \n",
    "6. Look up \"aliasing\" on the internet. What is \"aliasing\"? How do you fix \"aliasing\"? How does \"aliasing\" relate to this problem? In particular, look up the \"Nyquist rate\".\n",
    "7. If your graph doesn't look as expected, what can you do to your graph so that your graph looks like you expect it to be?\n",
    "8. Using your idea from Question 7, fix your graph on a new plot, if necessary."
   ]
  },
  {
   "cell_type": "code",
   "execution_count": null,
   "id": "85bec991",
   "metadata": {},
   "outputs": [],
   "source": [
    "x = np.linspace(0, np.pi)\n",
    "y = np.sin(100*x)\n",
    "plt.plot(x, y)\n",
    "plt.show()"
   ]
  },
  {
   "cell_type": "markdown",
   "id": "cc2e6da0",
   "metadata": {},
   "source": [
    "<h3 style=\"background-color:lightblue\"><left> Write Answers for Exercise 8 Below </left></h3>\n",
    "...\n"
   ]
  },
  {
   "cell_type": "code",
   "execution_count": null,
   "id": "dc55a96d",
   "metadata": {},
   "outputs": [],
   "source": []
  }
 ],
 "metadata": {
  "kernelspec": {
   "display_name": "Python 3 (ipykernel)",
   "language": "python",
   "name": "python3"
  },
  "language_info": {
   "codemirror_mode": {
    "name": "ipython",
    "version": 3
   },
   "file_extension": ".py",
   "mimetype": "text/x-python",
   "name": "python",
   "nbconvert_exporter": "python",
   "pygments_lexer": "ipython3",
   "version": "3.9.7"
  }
 },
 "nbformat": 4,
 "nbformat_minor": 5
}
