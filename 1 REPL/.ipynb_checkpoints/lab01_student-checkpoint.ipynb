{
 "cells": [
  {
   "cell_type": "markdown",
   "id": "bdb5fd65",
   "metadata": {},
   "source": [
    "<h1><center>\n",
    "Lab 1: Introduction to Python 3<br/>\n",
    "    <small>Date: </small> <br/>\n",
    "    <small>Section: </small>\n",
    "</center></h1>"
   ]
  },
  {
   "cell_type": "markdown",
   "id": "083dbeb5",
   "metadata": {},
   "source": [
    "<center><h2 style=\"color:black;\"><left>Grading Rubric</left></h2></center>"
   ]
  },
  {
   "cell_type": "markdown",
   "id": "a0945538",
   "metadata": {},
   "source": [
    "Insert grading rubric"
   ]
  },
  {
   "cell_type": "markdown",
   "id": "44896e4d",
   "metadata": {},
   "source": [
    "To enter text, click on a section header. It should highlight in blue. Click the $\\mathtt{+}$ in the top left side of the toolbar above. Then, change the cell type from $\\mathtt{Cell}$ to $\\mathtt{Markdown}$ by clicking the dropdown arrow."
   ]
  },
  {
   "cell_type": "markdown",
   "id": "fdbfb6c5",
   "metadata": {},
   "source": [
    "To enter code, do the same instructions as above, but make sure that the cell type is  $\\mathtt{Cell}$."
   ]
  },
  {
   "cell_type": "markdown",
   "id": "a09550ca",
   "metadata": {},
   "source": [
    "<h2 style=\"color:orange;\"><left>2. Laboratory Ethics</left></h2>"
   ]
  },
  {
   "cell_type": "markdown",
   "id": "58e0831b",
   "metadata": {},
   "source": [
    "<h3 style=\"color:salmon;\"><left> 2.1 </left></h3>"
   ]
  },
  {
   "cell_type": "markdown",
   "id": "6ebd7165",
   "metadata": {},
   "source": [
    "Your laboratory ethics statement goes here"
   ]
  },
  {
   "cell_type": "markdown",
   "id": "32f4db48",
   "metadata": {},
   "source": [
    "<h2 style=\"color:orange;\"><left>3. Introduction to Python 3</left></h2>"
   ]
  },
  {
   "cell_type": "markdown",
   "id": "c32762fa",
   "metadata": {},
   "source": [
    "<h3 style=\"color:salmon;\"><left> 3.1 Libraries </left></h3>"
   ]
  },
  {
   "cell_type": "markdown",
   "id": "49f7b5fe",
   "metadata": {},
   "source": [
    "Insert your python libraries here"
   ]
  },
  {
   "cell_type": "markdown",
   "id": "d37f5dd2",
   "metadata": {},
   "source": [
    "<h3 style=\"color:red;\"><left> Exercise 1 </left></h3>"
   ]
  },
  {
   "cell_type": "markdown",
   "id": "f8bb01ca",
   "metadata": {},
   "source": [
    "Insert answer to questions here"
   ]
  },
  {
   "cell_type": "markdown",
   "id": "d6ce58c3",
   "metadata": {},
   "source": [
    "<h3 style=\"color:red;\"><left> Exercise 2 </left></h3>"
   ]
  },
  {
   "cell_type": "markdown",
   "id": "2f3c0461",
   "metadata": {},
   "source": [
    "__Part 1__"
   ]
  },
  {
   "cell_type": "markdown",
   "id": "7899be6d",
   "metadata": {},
   "source": [
    "Insert python code here"
   ]
  },
  {
   "cell_type": "markdown",
   "id": "62047956",
   "metadata": {},
   "source": [
    "__Part 2__"
   ]
  },
  {
   "cell_type": "markdown",
   "id": "2402dd5f",
   "metadata": {},
   "source": [
    "Insert answers to questions here"
   ]
  },
  {
   "cell_type": "markdown",
   "id": "10fa5880",
   "metadata": {},
   "source": [
    "<h3 style=\"color:red;\"><left> Exercise 3 </left></h3>"
   ]
  },
  {
   "cell_type": "markdown",
   "id": "7d49b4d2",
   "metadata": {},
   "source": [
    "Insert python code here"
   ]
  },
  {
   "cell_type": "markdown",
   "id": "3829769a",
   "metadata": {},
   "source": [
    "Insert answers to questions here"
   ]
  },
  {
   "cell_type": "markdown",
   "id": "0ac90c40",
   "metadata": {},
   "source": [
    "<h3 style=\"color:red;\"><left> Exercise 4 </left></h3>"
   ]
  },
  {
   "cell_type": "markdown",
   "id": "61c486d6",
   "metadata": {},
   "source": [
    "Insert python code here"
   ]
  },
  {
   "cell_type": "markdown",
   "id": "0d19edaa",
   "metadata": {},
   "source": [
    "<h3 style=\"color:red;\"><left> Exercise 5 </left></h3>"
   ]
  },
  {
   "cell_type": "markdown",
   "id": "9ad9af67",
   "metadata": {},
   "source": [
    "__Part 1__"
   ]
  },
  {
   "cell_type": "markdown",
   "id": "91825b61",
   "metadata": {},
   "source": [
    "Insert python code here"
   ]
  },
  {
   "cell_type": "markdown",
   "id": "e94c43b9",
   "metadata": {},
   "source": [
    "__Part 2__"
   ]
  },
  {
   "cell_type": "markdown",
   "id": "af692799",
   "metadata": {},
   "source": [
    "Insert python code here"
   ]
  },
  {
   "cell_type": "markdown",
   "id": "bc827dbe",
   "metadata": {},
   "source": [
    "__Part 3__"
   ]
  },
  {
   "cell_type": "markdown",
   "id": "7d33a158",
   "metadata": {},
   "source": [
    "Insert python code here"
   ]
  },
  {
   "cell_type": "markdown",
   "id": "070aea45",
   "metadata": {},
   "source": [
    "__Part 4__"
   ]
  },
  {
   "cell_type": "markdown",
   "id": "62fa1ac3",
   "metadata": {},
   "source": [
    "Insert python code here"
   ]
  },
  {
   "cell_type": "markdown",
   "id": "6a98f839",
   "metadata": {},
   "source": [
    "<h3 style=\"color:red;\"><left> Exercise 6 </left></h3>"
   ]
  },
  {
   "cell_type": "markdown",
   "id": "425bbb4f",
   "metadata": {},
   "source": [
    "__Part 1__"
   ]
  },
  {
   "cell_type": "markdown",
   "id": "6b4c0f42",
   "metadata": {},
   "source": [
    "Insert you python code here"
   ]
  },
  {
   "cell_type": "markdown",
   "id": "e66dc8a3",
   "metadata": {},
   "source": [
    "__Part 2__"
   ]
  },
  {
   "cell_type": "markdown",
   "id": "b12c5d61",
   "metadata": {},
   "source": [
    "Insert your python code here"
   ]
  },
  {
   "cell_type": "markdown",
   "id": "62e106ba",
   "metadata": {},
   "source": [
    "<h3 style=\"color:red;\"><left> Exercise 7 </left></h3>"
   ]
  },
  {
   "cell_type": "markdown",
   "id": "521fec72",
   "metadata": {},
   "source": [
    "__Part 1__\n",
    "\n",
    "Insert python code here"
   ]
  },
  {
   "cell_type": "markdown",
   "id": "758853c5",
   "metadata": {},
   "source": [
    "__Part 2__\n",
    "\n",
    "Insert answers to questions here"
   ]
  },
  {
   "cell_type": "markdown",
   "id": "0ff0f4e9",
   "metadata": {},
   "source": [
    "__Part 3__\n",
    "\n",
    "Insert python code here"
   ]
  },
  {
   "cell_type": "markdown",
   "id": "9a5c4f19",
   "metadata": {},
   "source": [
    "<h3 style=\"color:red;\"><left> Exercise 8</left></h3>"
   ]
  },
  {
   "cell_type": "code",
   "execution_count": 75,
   "id": "c2cbd9af",
   "metadata": {},
   "outputs": [],
   "source": [
    "plt.rcParams['figure.figsize'] = (16, 6)"
   ]
  },
  {
   "cell_type": "markdown",
   "id": "975ce38f",
   "metadata": {},
   "source": [
    "__Part 1__"
   ]
  },
  {
   "cell_type": "markdown",
   "id": "c7c580b4",
   "metadata": {},
   "source": [
    "Insert answers to questions here"
   ]
  },
  {
   "cell_type": "markdown",
   "id": "afc8dc12",
   "metadata": {},
   "source": [
    "__Part 2__"
   ]
  },
  {
   "cell_type": "markdown",
   "id": "3b68c5d2",
   "metadata": {},
   "source": [
    "Insert python code here"
   ]
  },
  {
   "cell_type": "markdown",
   "id": "e69f86ec",
   "metadata": {},
   "source": [
    "__Part 3__"
   ]
  },
  {
   "cell_type": "markdown",
   "id": "42f604d9",
   "metadata": {},
   "source": [
    "Insert python code here"
   ]
  }
 ],
 "metadata": {
  "kernelspec": {
   "display_name": "Python 3",
   "language": "python",
   "name": "python3"
  },
  "language_info": {
   "codemirror_mode": {
    "name": "ipython",
    "version": 3
   },
   "file_extension": ".py",
   "mimetype": "text/x-python",
   "name": "python",
   "nbconvert_exporter": "python",
   "pygments_lexer": "ipython3",
   "version": "3.8.8"
  }
 },
 "nbformat": 4,
 "nbformat_minor": 5
}
