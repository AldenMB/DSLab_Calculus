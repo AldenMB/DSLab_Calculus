{
 "cells": [
  {
   "cell_type": "markdown",
   "id": "455245ae-b96f-4a94-9b62-6466a81c9e9c",
   "metadata": {},
   "source": [
    "# Two types of number in Python\n",
    "\n",
    "One of the benefits of using Python is that it has great support for numbers. This makes it much more friendly to doing math than, for example, Javascript or C. Whole numbers in Python have the type `int`, which is short for Integer. You can check this yourself:"
   ]
  },
  {
   "cell_type": "code",
   "execution_count": 1,
   "id": "73f55494-2ece-4044-bf90-286d8d867ba0",
   "metadata": {},
   "outputs": [
    {
     "data": {
      "text/plain": [
       "int"
      ]
     },
     "execution_count": 1,
     "metadata": {},
     "output_type": "execute_result"
    }
   ],
   "source": [
    "type(5)"
   ]
  },
  {
   "cell_type": "markdown",
   "id": "839d2d8f-3ed9-4918-861b-f08f9f67fb9d",
   "metadata": {},
   "source": [
    "Python `int`s can be as big as you like, positive or negative. It can get a bit cumbersome writing and reading them, and the comma has a special meaning in Python, so you can't use it to separate big integers for legibility:"
   ]
  },
  {
   "cell_type": "code",
   "execution_count": 3,
   "id": "fbe90685-65a2-4a9c-bae9-0a1f98b57a37",
   "metadata": {},
   "outputs": [
    {
     "data": {
      "text/plain": [
       "(123, 456, 789)"
      ]
     },
     "execution_count": 3,
     "metadata": {},
     "output_type": "execute_result"
    }
   ],
   "source": [
    "123,456,789"
   ]
  },
  {
   "cell_type": "markdown",
   "id": "87db18f1-9b37-488a-b9a4-65998132d213",
   "metadata": {},
   "source": [
    "That gives us a list of three integers. If you want to refer to the number 123,456,789 you can write it without separations, but it is easier to read if you use the underscore symbol where there would be a comma:"
   ]
  },
  {
   "cell_type": "code",
   "execution_count": 16,
   "id": "59bcec91-d551-4218-b08e-175370d40d05",
   "metadata": {},
   "outputs": [
    {
     "data": {
      "text/plain": [
       "True"
      ]
     },
     "execution_count": 16,
     "metadata": {},
     "output_type": "execute_result"
    }
   ],
   "source": [
    "123_456_789 == 123456789"
   ]
  },
  {
   "cell_type": "markdown",
   "id": "f3124c37-c28b-4c57-8e97-89f5d1f600f8",
   "metadata": {},
   "source": [
    "You can put underscores wherever you like in a number -- python ignores them. You could represent a credit card number, for example:"
   ]
  },
  {
   "cell_type": "code",
   "execution_count": 5,
   "id": "ce6fc078-9314-4d7d-b16a-ba7aad8923cf",
   "metadata": {},
   "outputs": [
    {
     "data": {
      "text/plain": [
       "378282246310005"
      ]
     },
     "execution_count": 5,
     "metadata": {},
     "output_type": "execute_result"
    }
   ],
   "source": [
    "3782_8224_6310_005"
   ]
  },
  {
   "cell_type": "markdown",
   "id": "ce73e2a2-8078-4dce-abad-5e521945cd6a",
   "metadata": {},
   "source": [
    "Unfortunately, it's not possible to represent every number exactly in a computer. For numbers which are not whole numbers, Python only keeps a certain number of digits. This way of storing numbers is called *floating point*, and numbers stored this way are called *flaoting point numbers*. The type in Python of floating point numbers is `float`:"
   ]
  },
  {
   "cell_type": "code",
   "execution_count": 6,
   "id": "ecc1689f-b7c5-4eee-8b72-cb1baaa24d8d",
   "metadata": {},
   "outputs": [
    {
     "data": {
      "text/plain": [
       "float"
      ]
     },
     "execution_count": 6,
     "metadata": {},
     "output_type": "execute_result"
    }
   ],
   "source": [
    "type(1.0)"
   ]
  },
  {
   "cell_type": "markdown",
   "id": "b1df5fa9-2ed6-4b28-b44f-1f375960fd4d",
   "metadata": {},
   "source": [
    "Floating point numbers have some quirks you need to be aware of. For example, we know that 0.1+0.2=0.3, but look what Python tells us:"
   ]
  },
  {
   "cell_type": "code",
   "execution_count": 7,
   "id": "b37a94e0-83be-41c0-b253-cd4912128f04",
   "metadata": {},
   "outputs": [
    {
     "data": {
      "text/plain": [
       "0.30000000000000004"
      ]
     },
     "execution_count": 7,
     "metadata": {},
     "output_type": "execute_result"
    }
   ],
   "source": [
    "0.1+0.2"
   ]
  },
  {
   "cell_type": "markdown",
   "id": "59f330fa-cb27-451a-9292-19d72ca0bd00",
   "metadata": {},
   "source": [
    "It is slightly wrong. What is goin on here? Floating point numbers are stored in binary, and in binary, 0.1 and 0.2 are infinite repeating decimals. In binary, we would write the number one tenth as 0.0001100110011... and so on forever. We don't have an infinite amount of memory available on our computers, so Python only stores 53 binary digits, which introduces roundoff error. The relative error is at most $2^{-53} = 1.11\\times 10^{-16}$, so numbers are not reliable beyond sixteen places. Sure enough, in the exmaple above, we got an error sixteen places after the 3."
   ]
  },
  {
   "cell_type": "code",
   "execution_count": 11,
   "id": "224b9047-110b-4831-ad88-301a577d63fd",
   "metadata": {},
   "outputs": [
    {
     "data": {
      "text/plain": [
       "1.1102230246251565e-16"
      ]
     },
     "execution_count": 11,
     "metadata": {},
     "output_type": "execute_result"
    }
   ],
   "source": [
    "2**-53"
   ]
  },
  {
   "cell_type": "markdown",
   "id": "9180ff38-8c08-4626-9e36-abbc95ef6896",
   "metadata": {},
   "source": [
    "In a later lab we will introduce a tool you can use to do exact arithmetic with Python. For most purposes, this relative error is no trouble at all.\n",
    "\n",
    "### exercise\n",
    "For each of the following constants, look them up on Wikipedia and report the relative error in their known values. Compare that to the relative error in a floating point number. Make sure you are using relative error, not absolute error.\n",
    "\n",
    " - mass of an electron\n",
    " - duration of a year\n",
    " - distance from New York to Los Angeles\n",
    " - Freezing point of water (in Kelvin)"
   ]
  },
  {
   "cell_type": "markdown",
   "id": "084fb006-4600-4966-bb8f-6cf162e9118e",
   "metadata": {},
   "source": [
    "# Troubles with flaoting point numbers\n",
    "\n",
    "Precision is usually not a problem with flaoting point numbers, with one major exception which we will address later. The main issue you will face is when comparing numbers. Check this out:"
   ]
  },
  {
   "cell_type": "code",
   "execution_count": 12,
   "id": "54ebd81a-36fe-42b9-982d-2c257ea2dd30",
   "metadata": {},
   "outputs": [
    {
     "name": "stdout",
     "output_type": "stream",
     "text": [
      "1\n",
      "2\n",
      "4\n",
      "5\n",
      "8\n",
      "9\n"
     ]
    }
   ],
   "source": [
    "for x in range(1, 10):\n",
    "    if x/10 == 0.1*x:\n",
    "        print(x)"
   ]
  },
  {
   "cell_type": "markdown",
   "id": "2859dc16-574b-4a39-a12f-b18594e4725b",
   "metadata": {},
   "source": [
    "## exercise\n",
    "\n",
    "Explain why a few numbers are missing from the printout above. Include the python values of `x/10` and `0.1*x` in your explanation, for some values of `x`."
   ]
  },
  {
   "cell_type": "markdown",
   "id": "12c8ec1c-2775-429d-af40-c6b07c28394a",
   "metadata": {},
   "source": [
    "There are two main ways to deal with this:\n",
    "\n",
    "1. Whenever possible, use `>=` or `<=` instead of `==` when comparing floating point numbers. This is usually the best thing to do. For example, if a nubmer is ddecreasing and you want to know when it hits zero, check if it is positive instead of checking if it's zero. Or, better yet, check if it's less than 0.0001, keeping as much precision as you need for your purpose and no more.\n",
    "\n",
    "2. Instead of checking if floats are equal, check if they are close to eachother. For example, the builtin function `math.isclose` can do this for you, or you can use the version in numpy if working with arrays. Here is how that might look:"
   ]
  },
  {
   "cell_type": "code",
   "execution_count": 13,
   "id": "09e47d2a-877a-42f2-9b83-8bc39e13d637",
   "metadata": {},
   "outputs": [
    {
     "name": "stdout",
     "output_type": "stream",
     "text": [
      "1\n",
      "2\n",
      "3\n",
      "4\n",
      "5\n",
      "6\n",
      "7\n",
      "8\n",
      "9\n"
     ]
    }
   ],
   "source": [
    "import math\n",
    "for x in range(1, 10):\n",
    "    if math.isclose(x/10, 0.1*x):\n",
    "        print(x)"
   ]
  },
  {
   "cell_type": "code",
   "execution_count": 15,
   "id": "24c6a49d-e857-4025-b4dd-4861588c4077",
   "metadata": {},
   "outputs": [
    {
     "name": "stdout",
     "output_type": "stream",
     "text": [
      "[ True  True  True  True  True  True  True  True  True]\n"
     ]
    }
   ],
   "source": [
    "import numpy as np\n",
    "x = np.arange(1, 10)\n",
    "print(np.isclose(x/10, 0.1*x))"
   ]
  },
  {
   "cell_type": "markdown",
   "id": "31d94ec9-2381-492e-955e-0764c26ee79f",
   "metadata": {},
   "source": [
    "# catastrophic cancellation\n",
    "\n",
    "There is one situation where roundoff error is a really big problem. That is when you are subtracting two numbers which are very close together. This isn't anything special about floating point numbers, this is just a fact about rounding. Here, have a look:\n",
    "\n",
    "\\begin{array}{r}\n",
    "3.14159265358???\\\\\n",
    "-\\; 3.14159265332???\\\\\\hline\n",
    "0.00000000026???\n",
    "\\end{array}\n",
    "\n",
    "Here I used question marks to represent unknown digits, i.e. digits which were lost due to rounding. That's pretty intuitive, and I think it shows how the relative error in the output is much bigger than in either of the inputs: each input has 12 significant figures, but the output has only two significant figures. We can do this a bit more precisely by writing the absolute errors explicitly:\n",
    "\n",
    "\\begin{align*}\n",
    "3.14159265358??? &\\rightarrow 3.14159265358 \\pm 5\\times 10^{-12}\\\\\n",
    "3.14159265332??? &\\rightarrow 3.14159265332 \\pm 5\\times 10^{-12}\\\\\n",
    "0.00000000026??? &\\rightarrow 0.00000000026 \\pm \\text{(you figure this one out)}\\\\\n",
    "\\end{align*}\n",
    "\n",
    "## exercise\n",
    "What is the absolute error in the output? What are the relative errors of each of the inputs, and what is the relative error of the output?"
   ]
  },
  {
   "cell_type": "markdown",
   "id": "0b4ee3b4-4d79-42b8-87d9-06efcff0b12a",
   "metadata": {},
   "source": [
    "## a practical example of catastrophic cancellation\n",
    "\n",
    "Here we walk you through coding an example where catestrophic cancellation makes a pretty big difference, and something clever you can do to fix it.\n",
    "\n",
    "1. Write a function which takes the coefficients `a`, `b`, and `c` from a polynomial $ax^2+bx+c$ and gives you the roots. Just apply the standard quadratic formula. Have it give the \"plus\" root first. <TODO: include a auto-grading function for this.>"
   ]
  },
  {
   "cell_type": "code",
   "execution_count": 21,
   "id": "884b8c90-f1cf-4648-82bf-ad7b3d7225ca",
   "metadata": {},
   "outputs": [],
   "source": [
    "# students will give something like this\n",
    "def naive_roots(a, b, c):\n",
    "    t = math.sqrt(b**2-4*a*c)\n",
    "    return (-b+t)/(2*a), (-b-t)/(2*a)"
   ]
  },
  {
   "cell_type": "markdown",
   "id": "f0fb16fb-1d64-415f-b504-b5c03b94b88a",
   "metadata": {},
   "source": [
    "2. Factor the polynomial $x^2-1,000,000.000,001 x +1$ exactly, on paper (note the decimal place in `b`). What should the roots be?"
   ]
  },
  {
   "cell_type": "markdown",
   "id": "bd71a695-5af7-4fb1-95bd-caa0016b95fb",
   "metadata": {},
   "source": [
    "3. Apply your simple root-finding function to this polynomial. What are the relative errors in your computed roots, compared to the true values? Explain why one of these has a larger relative error."
   ]
  },
  {
   "cell_type": "markdown",
   "id": "45403d1c-2085-4cf8-8b16-1405aebf1fda",
   "metadata": {},
   "source": [
    "Here is a simple technique we can apply to reduce the error. Let's assume for now that `b` is a negative number. So, we get cancellation in the numerator when subtracting $-b$ and $\\sqrt{b^2-4ac}$. In this case, just multiply by one in a clever way:\n",
    "\n",
    "\\begin{align*}\n",
    "\\frac{-b-\\sqrt{b^2-4ac}}{2a}\n",
    "&= \\frac{-b-\\sqrt{b^2-4ac}}{2a} \\times \\frac{-b+\\sqrt{b^2-4ac}}{-b+\\sqrt{b^2-4ac}}\\\\\n",
    "&= \\frac{b^2-(b^2-4ac)}{2a(-b+\\sqrt{b^2-4ac})}\\\\\n",
    "&= \\frac{2c}{-b+\\sqrt{b^2-4ac}}\n",
    "\\end{align*}\n",
    "\n",
    "Since `b` is negative and `-b` is positive, there is no cancellation here! We can use this formula to compute the \"-\" root and the original formula to compute the \"+\" root.\n",
    "\n",
    "4. Assuming `b` is always negative, rewrite your function using this formula. Compute the relative errors on the example above, using your new formula."
   ]
  },
  {
   "cell_type": "markdown",
   "id": "67a8490e-2acc-4786-84de-859a481e8549",
   "metadata": {},
   "source": [
    "5. Figure out a similar formula which works when `b` is always positive. Use both formulas to write a function to compute the roots which is always accurate, and does not suffer from catestrophic cancellation."
   ]
  },
  {
   "cell_type": "markdown",
   "id": "360c4669-6262-4402-8a48-a477218a77c1",
   "metadata": {},
   "source": [
    "6. Finish off your function by adding a special case for if either `a` or `c` is exactly zero."
   ]
  },
  {
   "cell_type": "markdown",
   "id": "92c175a1-19b2-464f-816d-df7ea97e0783",
   "metadata": {},
   "source": [
    "This example shows how catestrophic cancellation can occur even in friendly, well-known functions. This also shows that we can usually deal with it, by doing some clever algebra. This is such a common issue that there are now tools available to identify and fix catestrophic cancellation. If you are curious, check out [Herbie](http://herbie.uwplse.org/), which a friend of mine helped to create."
   ]
  },
  {
   "cell_type": "markdown",
   "id": "48106723-bca8-4895-bca7-345fb1fa880f",
   "metadata": {},
   "source": [
    "# Numerical differentiation\n",
    "\n",
    "Now you are prepared to see the major problem we are up against when trying to compute derivatives using floating-point arithmetic. Remember that by definition, the derivative of a function $f(x)$ is\n",
    "\n",
    "$$\n",
    "f'(x) = \\lim_{h\\to 0} \\frac{f(x+h)-f(x)}{h}\n",
    "$$\n",
    "\n",
    "This suggests a simple way to compute a derivative: pick a really small number $h$, and compute $\\frac{f(x+h)-f(x)}{h}$. Since $h$ is just a small but finite number, this is called the *finite difference method*.\n",
    "\n",
    "## exercise\n",
    "\n",
    "Let's see what happens when we apply this procedure blindly. We will apply this formula for $f(x)=x^2$ at the point $x=4$. The correct derivative should be 8. What is the relative error in using the finite difference method, for various values of $h$? Choose geometrically distributed $h$ between $10^{-15}$ and $1$. Compute the derivative using the procedure above, for each value of $h$. Produce a log-log plot; on the x-axis put h, and on the y axis put the absolute value of the relative error.\n",
    "\n",
    "In light of what you have learned today about catastrophic cancellation, explain the shape of the curve you get. Explain why it is not a good idea to just make $h$ as small as possible."
   ]
  },
  {
   "cell_type": "code",
   "execution_count": 23,
   "id": "9d14f610-f3be-4671-ba8c-2db877fa19e7",
   "metadata": {},
   "outputs": [],
   "source": [
    "import matplotlib.pyplot as plt"
   ]
  },
  {
   "cell_type": "code",
   "execution_count": 40,
   "id": "4c5b97cf-e3dd-496e-8fd9-9f118a993d9b",
   "metadata": {},
   "outputs": [
    {
     "data": {
      "image/png": "[encoded data removed]",
      "text/plain": [
       "<Figure size 432x288 with 1 Axes>"
      ]
     },
     "metadata": {
      "needs_background": "light"
     },
     "output_type": "display_data"
    }
   ],
   "source": [
    "\n",
    "# students will do something like this\n",
    "h = np.geomspace(1e-15, 1, 200)\n",
    "derivative = ((4+h)**2-4**2)/h\n",
    "true_deriv = 8\n",
    "relative_error = (derivative-true_deriv) / true_deriv\n",
    "\n",
    "plt.loglog(h, abs(relative_error))\n",
    "plt.show()"
   ]
  },
  {
   "cell_type": "markdown",
   "id": "53e7f4ac-00c4-4fc4-b61f-eacfb67b79cb",
   "metadata": {},
   "source": [
    "# finite difference schemes\n",
    "\n",
    "This shows the basic struggle of computing numerical derivatives: the definition of the derivative requires `h` to be infinitely small, but we can't precically make it that small. This isn't just because of catesprophic cancellation, by the way -- often when working with real data you are limited in how fast you can collect it. Hence, our goal will be to find ways to get more accurate estimates of the derivative without just making the step size $h$ tiny. We will consider $h$ to be fixed, and try to get our estimate as good as possible. "
   ]
  }
 ],
 "metadata": {
  "kernelspec": {
   "display_name": "Python 3 (ipykernel)",
   "language": "python",
   "name": "python3"
  },
  "language_info": {
   "codemirror_mode": {
    "name": "ipython",
    "version": 3
   },
   "file_extension": ".py",
   "mimetype": "text/x-python",
   "name": "python",
   "nbconvert_exporter": "python",
   "pygments_lexer": "ipython3",
   "version": "3.8.10"
  }
 },
 "nbformat": 4,
 "nbformat_minor": 5
}
