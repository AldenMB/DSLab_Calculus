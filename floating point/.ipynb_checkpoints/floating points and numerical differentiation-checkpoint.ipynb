{
 "cells": [
  {
   "cell_type": "markdown",
   "id": "455245ae-b96f-4a94-9b62-6466a81c9e9c",
   "metadata": {},
   "source": [
    "# Two types of number in Python\n",
    "\n",
    "One of the benefits of using Python is that it has great support for numbers. This makes it much more friendly to doing math than, for example, Javascript or C. Whole numbers in Python have the type `int`, which is short for Integer. You can check this yourself:"
   ]
  },
  {
   "cell_type": "code",
   "execution_count": 1,
   "id": "73f55494-2ece-4044-bf90-286d8d867ba0",
   "metadata": {},
   "outputs": [
    {
     "data": {
      "text/plain": [
       "int"
      ]
     },
     "execution_count": 1,
     "metadata": {},
     "output_type": "execute_result"
    }
   ],
   "source": [
    "type(5)"
   ]
  },
  {
   "cell_type": "markdown",
   "id": "839d2d8f-3ed9-4918-861b-f08f9f67fb9d",
   "metadata": {},
   "source": [
    "Python `int`s can be as big as you like, positive or negative. It can get a bit cumbersome writing and reading them, and the comma has a special meaning in Python, so you can't use it to separate big integers for legibility:"
   ]
  },
  {
   "cell_type": "code",
   "execution_count": 3,
   "id": "fbe90685-65a2-4a9c-bae9-0a1f98b57a37",
   "metadata": {},
   "outputs": [
    {
     "data": {
      "text/plain": [
       "(123, 456, 789)"
      ]
     },
     "execution_count": 3,
     "metadata": {},
     "output_type": "execute_result"
    }
   ],
   "source": [
    "123,456,789"
   ]
  },
  {
   "cell_type": "markdown",
   "id": "87db18f1-9b37-488a-b9a4-65998132d213",
   "metadata": {},
   "source": [
    "That gives us a list of three integers. If you want to refer to the number 123,456,789 you can write it without separations, but it is easier to read if you use the underscore symbol where there would be a comma:"
   ]
  },
  {
   "cell_type": "code",
   "execution_count": 4,
   "id": "59bcec91-d551-4218-b08e-175370d40d05",
   "metadata": {},
   "outputs": [
    {
     "data": {
      "text/plain": [
       "123456789"
      ]
     },
     "execution_count": 4,
     "metadata": {},
     "output_type": "execute_result"
    }
   ],
   "source": [
    "123_456_789"
   ]
  },
  {
   "cell_type": "markdown",
   "id": "f3124c37-c28b-4c57-8e97-89f5d1f600f8",
   "metadata": {},
   "source": [
    "You can put underscores wherever you like in a number -- python ignores them. You could represent a credit card number, for example:"
   ]
  },
  {
   "cell_type": "code",
   "execution_count": 5,
   "id": "ce6fc078-9314-4d7d-b16a-ba7aad8923cf",
   "metadata": {},
   "outputs": [
    {
     "data": {
      "text/plain": [
       "378282246310005"
      ]
     },
     "execution_count": 5,
     "metadata": {},
     "output_type": "execute_result"
    }
   ],
   "source": [
    "3782_8224_6310_005"
   ]
  },
  {
   "cell_type": "markdown",
   "id": "ce73e2a2-8078-4dce-abad-5e521945cd6a",
   "metadata": {},
   "source": [
    "Unfortunately, it's not possible to represent every number exactly in a computer. For numbers which are not whole numbers, Python only keeps a certain number of digits. This way of storing numbers is called *floating point*, and numbers stored this way are called *flaoting point numbers*. The type in Python of floating point numbers is `float`:"
   ]
  },
  {
   "cell_type": "code",
   "execution_count": 6,
   "id": "ecc1689f-b7c5-4eee-8b72-cb1baaa24d8d",
   "metadata": {},
   "outputs": [
    {
     "data": {
      "text/plain": [
       "float"
      ]
     },
     "execution_count": 6,
     "metadata": {},
     "output_type": "execute_result"
    }
   ],
   "source": [
    "type(1.0)"
   ]
  },
  {
   "cell_type": "markdown",
   "id": "b1df5fa9-2ed6-4b28-b44f-1f375960fd4d",
   "metadata": {},
   "source": [
    "Floating point numbers have some quirks you need to be aware of. For example, we know that 0.1+0.2=0.3, but look what Python tells us:"
   ]
  },
  {
   "cell_type": "code",
   "execution_count": 7,
   "id": "b37a94e0-83be-41c0-b253-cd4912128f04",
   "metadata": {},
   "outputs": [
    {
     "data": {
      "text/plain": [
       "0.30000000000000004"
      ]
     },
     "execution_count": 7,
     "metadata": {},
     "output_type": "execute_result"
    }
   ],
   "source": [
    "0.1+0.2"
   ]
  },
  {
   "cell_type": "markdown",
   "id": "59f330fa-cb27-451a-9292-19d72ca0bd00",
   "metadata": {},
   "source": [
    "It is slightly wrong. What is goin on here? Floating point numbers are stored in binary, and in binary, 0.1 and 0.2 are infinite repeating decimals. In binary, we would write the number one tenth as 0.0001100110011... and so on forever. We don't have an infinite amount of memory available on our computers, so Python only stores 53 binary digits, which introduces roundoff error. The relative error is at most $2^{-53} = 1.11\\times 10^{-16}$, so numbers are not reliable beyond sixteen places. Sure enough, in the exmaple above, we got an error sixteen places after the 3."
   ]
  },
  {
   "cell_type": "code",
   "execution_count": 11,
   "id": "224b9047-110b-4831-ad88-301a577d63fd",
   "metadata": {},
   "outputs": [
    {
     "data": {
      "text/plain": [
       "1.1102230246251565e-16"
      ]
     },
     "execution_count": 11,
     "metadata": {},
     "output_type": "execute_result"
    }
   ],
   "source": [
    "2**-53"
   ]
  },
  {
   "cell_type": "markdown",
   "id": "9180ff38-8c08-4626-9e36-abbc95ef6896",
   "metadata": {},
   "source": [
    "In a later lab we will introduce a tool you can use to do exact arithmetic with Python. For most purposes, this relative error is no trouble at all.\n",
    "\n",
    "### exercise\n",
    "For each of the following constants, look them up on Wikipedia and report the relative error in their known values. Compare that to the relative error in a floating point number. Make sure you are using relative error, not absolute error.\n",
    "\n",
    " - mass of an electron\n",
    " - duration of a year\n",
    " - distance from New York to Los Angeles\n",
    " - Freezing point of water (in Kelvin)"
   ]
  },
  {
   "cell_type": "markdown",
   "id": "084fb006-4600-4966-bb8f-6cf162e9118e",
   "metadata": {},
   "source": [
    "# Troubles with flaoting point numbers\n",
    "\n",
    "Precision is usually not a problem with flaoting point numbers, with one major exception which we will address later. The main issue you will face is when comparing numbers. Check this out:"
   ]
  },
  {
   "cell_type": "code",
   "execution_count": 12,
   "id": "54ebd81a-36fe-42b9-982d-2c257ea2dd30",
   "metadata": {},
   "outputs": [
    {
     "name": "stdout",
     "output_type": "stream",
     "text": [
      "1\n",
      "2\n",
      "4\n",
      "5\n",
      "8\n",
      "9\n"
     ]
    }
   ],
   "source": [
    "for x in range(1, 10):\n",
    "    if x/10 == 0.1*x:\n",
    "        print(x)"
   ]
  },
  {
   "cell_type": "markdown",
   "id": "2859dc16-574b-4a39-a12f-b18594e4725b",
   "metadata": {},
   "source": [
    "## exercise\n",
    "\n",
    "Explain why a few numbers are missing from the printout above. Include the python values of `x/10` and `0.1*x` in your explanation, for some values of `x`."
   ]
  },
  {
   "cell_type": "markdown",
   "id": "12c8ec1c-2775-429d-af40-c6b07c28394a",
   "metadata": {},
   "source": [
    "There are two main ways to deal with this:\n",
    "\n",
    "1. Whenever possible, use `>=` or `<=` instead of `==` when comparing floating point numbers. This is usually the best thing to do. For example, if a nubmer is ddecreasing and you want to know when it hits zero, check if it is positive instead of checking if it's zero.\n",
    "\n",
    "2. Instead of checking if floats are equal, check if they are close to eachother. For example, the builtin function `math.isclose` can do this for you, or you can use the version in numpy if working with arrays. Here is how that might look:"
   ]
  },
  {
   "cell_type": "code",
   "execution_count": 13,
   "id": "09e47d2a-877a-42f2-9b83-8bc39e13d637",
   "metadata": {},
   "outputs": [
    {
     "name": "stdout",
     "output_type": "stream",
     "text": [
      "1\n",
      "2\n",
      "3\n",
      "4\n",
      "5\n",
      "6\n",
      "7\n",
      "8\n",
      "9\n"
     ]
    }
   ],
   "source": [
    "import math\n",
    "for x in range(1, 10):\n",
    "    if math.isclose(x/10, 0.1*x):\n",
    "        print(x)"
   ]
  },
  {
   "cell_type": "code",
   "execution_count": 15,
   "id": "24c6a49d-e857-4025-b4dd-4861588c4077",
   "metadata": {},
   "outputs": [
    {
     "name": "stdout",
     "output_type": "stream",
     "text": [
      "[ True  True  True  True  True  True  True  True  True]\n"
     ]
    }
   ],
   "source": [
    "import numpy as np\n",
    "x = np.arange(1, 10)\n",
    "print(np.isclose(x/10, 0.1*x))"
   ]
  },
  {
   "cell_type": "code",
   "execution_count": null,
   "id": "c9e0404e-c9f0-41bc-ae55-2d649f8a4dde",
   "metadata": {},
   "outputs": [],
   "source": [
    "# catestrophic cancellation\n"
   ]
  }
 ],
 "metadata": {
  "kernelspec": {
   "display_name": "Python 3 (ipykernel)",
   "language": "python",
   "name": "python3"
  },
  "language_info": {
   "codemirror_mode": {
    "name": "ipython",
    "version": 3
   },
   "file_extension": ".py",
   "mimetype": "text/x-python",
   "name": "python",
   "nbconvert_exporter": "python",
   "pygments_lexer": "ipython3",
   "version": "3.8.10"
  }
 },
 "nbformat": 4,
 "nbformat_minor": 5
}
