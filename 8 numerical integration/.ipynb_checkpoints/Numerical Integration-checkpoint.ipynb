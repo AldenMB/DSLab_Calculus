{
 "cells": [
  {
   "cell_type": "markdown",
   "id": "66ed614f-dde6-4098-8ccb-c4b3042cdcaa",
   "metadata": {},
   "source": [
    "# Numerical integration\n",
    "\n",
    "We have already learned about doing derivatives with computer numbers, and the errors that creep in if we blindly apply the definition of the derivative. Here is some good news for you: that issue does not apply to computing definite integrals with machine numbers.\n",
    "\n",
    "To Do: explain about Riemann sums, how the errors are typically balanced, so they cancel out by the law of large numbers. Have them implement the midpoint rule, trapezoid rule, and Simpson's rule. Compare their errors. Briefly share error bounding rules (without proof, since they lack Taylor remainder theorem) to help choose polling frequency."
   ]
  },
  {
   "cell_type": "markdown",
   "id": "b984c9e6-782b-408b-ac01-b43ea26b68bf",
   "metadata": {},
   "source": [
    "# Dead reckoning\n",
    "\n",
    "Before the time of GPS, a common way of telling the location of a ship at sea was **dead reckoning**, where you estimate your location by adding up how fast you have been going times how long you have been traveling. This is really a kind of an integral,\n",
    "\n",
    "$$\n",
    "x(t) = \\int_0^t v(s) ds.\n",
    "$$\n",
    "\n",
    "Recently, dead reckoning has made a comeback. Since phones and other electronic devices all contain accelerometers, we can use dead reckoning to tell how much they have moved in a given length of time. That is,\n",
    "\n",
    "$$\n",
    "v(t) = \\int_0^t a(s) ds,\n",
    "$$\n",
    "\n",
    "$$\n",
    "x(t) = \\int_0^t v(s) ds = \\int_0^t \\int_0^s a(u) duds.\n",
    "$$\n",
    "\n",
    "That is, we can figure out how far we have moved by doing a double integral.\n",
    "\n",
    "Unfortunately, there is an Achilles heel to cheap accelerometer chips. They are not particularly accurate. They often have a systematic bias in how they report acceleration data -- since it is systematic, we don't get the error-canceling effect of doing big sums. Instead of the actual acceleration, we get a version with errors in it:\n",
    "\n",
    "$$\n",
    "\\hat{x}(t) = \\int_0^t \\int_0^s (a(u)+\\epsilon(u)) duds = x(t) + \\int_0^t \\int_0^s \\epsilon(u) duds.\n",
    "$$\n",
    "\n",
    "The effect is that the error accumulates of the area of the triangle. What is to be done about this? The most common approach is to limit the size of the triangle -- only measure using the accelerometer over short time periods. Over long time periods, phones and cars and things will figure out their orientation using magnetometers to sense the earth's magnetic field, just like a compass. Over longer time periods, they will check in with GPS satellites and cell towers to figure out an exact location -- it can take a while to hear back from those services, so they are only good for occasional check-ins.\n",
    "\n",
    "## The distance-measuring pedometer\n",
    "\n",
    "We will make a pedometer which tracks not only how many steps you take, but also how long each step is. The method is clever: place the accelerometer directly on your shoe. Every time you put your foot down, your shoe is briefly completely stationary. We can detect this, and stop counting acceleration when the foot is down. In this way, we limit the size of the \"error triangle\", and get a better estimate of how far the foot has traveled. \n",
    "\n",
    "Decide on a reasonable polling frequency to keep the error of integration below 1 inch / second, based on "
   ]
  },
  {
   "cell_type": "code",
   "execution_count": null,
   "id": "4093f92e-97b3-4fc3-9c6f-a90aaec33dcd",
   "metadata": {},
   "outputs": [],
   "source": []
  }
 ],
 "metadata": {
  "kernelspec": {
   "display_name": "Python 3 (ipykernel)",
   "language": "python",
   "name": "python3"
  },
  "language_info": {
   "codemirror_mode": {
    "name": "ipython",
    "version": 3
   },
   "file_extension": ".py",
   "mimetype": "text/x-python",
   "name": "python",
   "nbconvert_exporter": "python",
   "pygments_lexer": "ipython3",
   "version": "3.8.10"
  }
 },
 "nbformat": 4,
 "nbformat_minor": 5
}
