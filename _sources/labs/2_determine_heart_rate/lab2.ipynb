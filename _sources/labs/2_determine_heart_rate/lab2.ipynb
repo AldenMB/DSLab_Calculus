{
 "cells": [
  {
   "cell_type": "markdown",
   "id": "ac626b60",
   "metadata": {},
   "source": [
    "# Laboratory 2\n",
    "<font size=\"6\"> Determine Your Heart Rate from a PPG Sensor </font> <br>\n",
    "<font size=\"6\"> Finding Local Max </font> <br>\n",
    "<font size=\"3\"> Last updated June 16, 2022 </font>"
   ]
  },
  {
   "cell_type": "markdown",
   "id": "5492f462",
   "metadata": {},
   "source": [
    "## <span style=\"color:orange;\"> 00. Content </span>"
   ]
  },
  {
   "cell_type": "markdown",
   "id": "35e3638f",
   "metadata": {},
   "source": [
    "<font size=\"5\"> Mathematics </font>\n",
    "- Additive error model; bias in error\n",
    "- Noise removal by averaging\n",
    "- Finding local maxima as \"peaks\"\n",
    "- Choosing a sampling rate based on distance between local maxima\n",
    "- Local maxima defined as location between function increase and decrease\n",
    "- Thresholding\n",
    "- Computing beats per minutes (BMP) from peaktimes\n",
    "    \n",
    "<font size=\"5\"> Programming Skills </font>\n",
    "- Best practice: use separate data file and analysis file\n",
    "- Use/modify given Python data acquisition code\n",
    "- Save data in text file\n",
    "- Load data from text file\n",
    "- Look at loaded data\n",
    "- Plotting data\n",
    "- Changing x-axis in a plot\n",
    "- Array building\n",
    "- Zooming into plot\n",
    "- Use of averaging code\n",
    "- Use of local maxima identify code\n",
    "- NaN\n",
    "- Use of thresholding code\n",
    "- Write code to compute beats per minutes (BMP) from peaktimes\n",
    "\n",
    "<font size=\"5\"> Embedded Systems </font>\n",
    "- Thonny and Micropython\n",
    "- Installing Micropython on Pico"
   ]
  },
  {
   "cell_type": "markdown",
   "id": "61f44fa5",
   "metadata": {},
   "source": [
    "## <span style=\"color:orange;\"> 0. Required Hardware </span> "
   ]
  },
  {
   "cell_type": "markdown",
   "id": "016b61d9",
   "metadata": {},
   "source": [
    "- Microcontroller: Raspberry Pi Pico\n",
    "- Pulse sensor\n",
    "- Breadboard\n",
    "- USB connector"
   ]
  },
  {
   "cell_type": "markdown",
   "id": "6f47b3a2-784a-4890-9d1b-82d662370b7a",
   "metadata": {},
   "source": [
    "<h3 style=\"background-color:lightblue\"> Write your name and email below: </h3>\n",
    "\n",
    "First Name, Last Name, email "
   ]
  },
  {
   "cell_type": "markdown",
   "id": "2f8f729a",
   "metadata": {},
   "source": [
    "## <span style=\"color:orange;\"> 1. Introduction to error analysis </span>"
   ]
  },
  {
   "cell_type": "markdown",
   "id": "63a33db5",
   "metadata": {},
   "source": [
    "\n",
    "> In order to improve, we must first recognize that we are not perfect.\n",
    "\n",
    "Today we will begin using numbers collected from the real world. Every number you measure is subject to several kinds of error from different sources. This is the first and most important lesson of error analysis: *every measurement has error. The goal is not to eliminate error, but rather to reduce it to an acceptable level.* As we progress through the semester, we will develop strong tools for analyzing and reducing error in our measurements, based off of differential calculus and Taylor series. Before we can do that, we need to establish some common language and techniques for describing errors."
   ]
  },
  {
   "cell_type": "markdown",
   "id": "b806db0d",
   "metadata": {},
   "source": [
    "### Types of error\n",
    "\n",
    "An error is anything which can make it so that the number you get is different from the actual value of the quantity you are measuring. Here are a few sources of error you are likely to encounter:\n",
    "\n",
    " - measurement error. This is what most people think of when they hear about an error in measurement. This includes everything which could go wrong with your measurement instrument. Perhaps the marks on a ruler are not placed exactly evenly, or it isn't being held straight. Perhaps the paralax on a measurement dial leads to misalignment between the needle and the dial. Perhaps your tool is low on batteries and is malfunctioning. \n",
    " - roundoff error. Also called truncation error. This is where a number is off a little bit because it was rounded. For example, Alden's favorite pocket calculator the TI-30Xa only keeps 14 digits of $\\pi$. If you needed $\\pi$ to any further precision, you would have to use a different calculator. Usually the cure for this source of error is fairly simple -- just keep more digits! However, this is not always practical: maybe you are using numbers someone else has rounded and cannot access the original data, or maybe keeping enough digits for your task would be too cumbersome. We will see some examples in a few weeks, when we study numerical differentiation, where roundoff error becomes really important.\n",
    " - modeling error. Every computation is based on a model, and every model is inaccurate. For example, suppose you want to measure the volume of the earth. You could perform astronomical measurements to figure out the radius of the earth, and use the volume formula for a sphere, $\\frac{4}{3} \\pi r^3$ to figure out the volume. The formula is perfect, without error, provided you are talking about a true sphere. As anyone knows, however, the earth is not a perfect sphere (it has mountains, for one thing). Therefore, there is some error associated with modeling the earth as a perfect sphere, which will affect your final volume computation.\n",
    " - definitional error. This is perhaps the most frequently overlooked source of error, and its definition gets a bit philosophical. Usually we can't get to a level where it is important in the physical sciences, though it is frequently important in the social sciences. As an example, consider the old unit of length, the barleycorn. This is still used today to measure shoe sizes. Its definition could not be simpler: it's the length of a grain of barley, roughly 1/3 of an inch or 8.5 millimeters. There is a problem here though: barley has some natural variablility of size, from 6.4 millimeters at the smallest to 13 millimeters at the longest [(see this study if you want to know more about barley)](https://www.agriculturejournals.cz/publicFiles/10118.pdf). So, depending on which type of barley you are using, your shoe could wind up being a bad fit. It's not a matter of the barley being a bad tool for measuring length in barleycorns: you can always tell exactly how long something is in barleycorns by lining up a row of barley, and you will be correct by definition. It's a problem with the definition of the length unit -- the definition has some error built in. This usually doesn't affect us when making distance measurements, since we have better definitions now for length, based off the speed of light and our definition of time. However, for very sensitive measurements, it is still sometimes an issue. Furthermore, for more abstractly defined quantities (such as intelligence, or anxiety, or pain) the definition still has a significant amount of error built in which can sometimes be the biggest source of error in a computation.\n",
    "\n",
    "This is a relatively simple taxonomy of errors, but it encompasses most of the important sources of error you are likely to encounter. If you can think of a source of error which does not fit this taxonomy, we would like to hear about it (email mboutin at purdue dot you know what). As we will see, you could waste a lot of effort reducing the error from one source only to find that a different source is introducing way more error, making your efforts fruitless. Therefore, it is important to be aware of how each source of error could creep in.\n",
    "\n"
   ]
  },
  {
   "cell_type": "markdown",
   "id": "bd444f3c",
   "metadata": {},
   "source": [
    "### <span style=\"color:red;\"> Exercise 1 </span>\n",
    "\n",
    "For each source of error listed, classify it according to the taxonomy above. Explain why it fits into the category you chose.\n",
    "\n",
    "1. You have a thermometer in your garden which you use to tell the temperature in the morning. The sun shines directly on the thermometer, making it read a temperature higher than the air temperature.\n",
    "\n",
    "2. You use a tire pressure gauge to figure out the pressure in your car tires. It only has a marking every 2 PSI, so you do your best to estimate the value to the nearest PSI.\n",
    "\n",
    "3. You use a GPS system to track how long your commute is, but it only takes into account longitude and latitude, not elevation."
   ]
  },
  {
   "cell_type": "markdown",
   "id": "45e08559",
   "metadata": {},
   "source": [
    "<h3 style=\"background-color:lightblue\"> Write Answers for Exercise 1 Below </h3>"
   ]
  },
  {
   "cell_type": "markdown",
   "id": "c8179fd9",
   "metadata": {},
   "source": []
  },
  {
   "cell_type": "markdown",
   "id": "662a0dc3",
   "metadata": {},
   "source": [
    "### Two ways errors behave\n",
    "\n",
    "We usually represent error with a variable either as $e$ (short for error), or in Greek with the lower case letter epsilon which makes the same sound, written as either $\\epsilon$ or $\\varepsilon$. This lets us represent how any measured quantity $x$ is related to its \"true value\" $t$:\n",
    "\\begin{align*}\n",
    "x = t + \\varepsilon.\n",
    "\\end{align*}\n",
    "This is sometimes called *the most famous equation of measurement theory*.\n",
    "\n",
    "#### Random error\n",
    "\n",
    "Our goal is usually to make the total error small. For some types of error, $\\varepsilon$ is on average zero; the error is just as often positive as it is negative. A consequence of this is that if you took lots and lots of measurements (say $x_1=t+\\varepsilon_1$, $x_2=t+\\varepsilon_2$, $\\dots$, $x_k=t+\\varepsilon_k$) then you could take the average \n",
    "\\begin{align*}\n",
    "\\frac{x_1+x_2+\\dots+x_k}{k} = t + \\frac{\\varepsilon_1+\\varepsilon_2+\\dots+\\varepsilon_k}{k}\n",
    "\\end{align*}\n",
    "and the term $\\frac{\\varepsilon_1+\\varepsilon_2+\\dots+\\varepsilon_k}{k}$ would tend to be much smaller than each $\\varepsilon_i$ on its own, since the positive and negative terms would mostly cancel each other out. This is really useful, since it gives us a way of reducing the total error, getting a better estimate of the value $t$. If this is the case, we say that the error in $x$ is *random*. This technique for reducing random error [was invented in the 1700s.](https://www.math.purdue.edu/~bradfoa/misc_files/arithmetic_mean.pdf) (See  for example page 121 of \"Studies in the History of Statistics and Probability,\" by M.G. Kendall, 1960.)\n",
    "\n",
    "#### Systematic error\n",
    "\n",
    "Unfortunately, we are often not so lucky as to only have random error. Very often there is some bias in our measurement which causes it to be usually positive or usually negative, so it does not help much to use the repeated measurement procedure described above. In this case we say there is a *systematic* error.\n",
    "\n",
    "For example, let's say you decide to save some computer cycles in a computation by truncating your numbers -- instead of rounding (which could take some additional time, depending on how your computer is set up) you decide to just drop the least significant digits. The effect of this is that you will always be making the number smaller. It's just like if you always decided to round down. In the terms outlined above, $\\varepsilon$ is always negative in this case.\n",
    "\n",
    "As another example, suppose you are weighing precise amounts of material in a chemistry lab on a sensitive scale, but you don't have a cover over the scale and there is a slight downdraft at the work bench. You are leaning over the scale when you hit the tare button, shielding the scale from the air current. The air would push down on the scale a bit during the weighting, causing your estimated weight $x$ to usually be a little bit bigger than $t$. It would still vary randomly, but since $\\varepsilon$ would usually be positive we would say that this is a systematic error in the positive direction.\n",
    "\n",
    "### <span style=\"color:red;\"> Exercise 2 </span>\n",
    "\n",
    "For each source of error described, classify it as a random or a systematic error. If it is a systematic error, say whether it is in the positive or negative direction. Justify your answers with a brief sentence or two.\n",
    "\n",
    "1. You are measuring your height against a wall by placing a book on your head and seeing where the book touches the wall, measuring the length along the wall from the floor with a tape measure. Unfortunately, you cannot guarantee that the book is completely level.\n",
    "\n",
    "2. You make sure the book from problem 1 is level by placing one edge vertically along the wall. Unfortunately, the wall is very slightly sloped toward you.\n",
    "\n",
    "3. You have a thermometer in your garden which you use to tell the temperature in the morning. The sun shines directly on the thermometer.\n",
    "\n",
    "4. You use a tire pressure gauge to figure out the pressure in your car tires. It only has a marking every 2 PSI, so you do your best to estimate the value to the nearest PSI.\n",
    "\n",
    "5. You use a GPS system to track how long your commute is, but it only takes into account longitude and lattitude, not elevation. "
   ]
  },
  {
   "cell_type": "markdown",
   "id": "bbe14c89",
   "metadata": {},
   "source": [
    "<h3 style=\"background-color:lightblue\"> Write Answers for Exercise 2 Below </h3>"
   ]
  },
  {
   "cell_type": "markdown",
   "id": "eebaada1",
   "metadata": {},
   "source": []
  },
  {
   "cell_type": "markdown",
   "id": "27469e2a",
   "metadata": {},
   "source": [
    "## <span style=\"color:orange;\"> 2. Data Acquisition </span>"
   ]
  },
  {
   "cell_type": "markdown",
   "id": "e061087e",
   "metadata": {},
   "source": [
    "You will collect data today using the [Pulse Sensor](https://pulsesensor.com/pages/about-us), which shines a bright light on your skin and measures how much comes back to get a number which is proportional to your blood pressure. After we have collected the data, we will analyze it using NumPy and Matplotlib. First, though, we have to get those numbers onto your computer.\n",
    "\n",
    "We will be acquiring the data using a microcontroller. A microcontroller is a very small general purpose computer good at communicating with electronic sensors. The specific microcontroller we will use is called the Raspberry Pi Pico. Conveniently, it runs Python code. Have a look at the script [main.py](https://github.com/TheDataScienceLabs/DSLab_Calculus/blob/main/book/labs/2_determine_heart_rate/main.py). It does a very simple thing: it listens for a message containing a sample rate and a number of samples. Then, with the frequency given in the message, it measures the voltage on a specific pin and sends a message with that measurement. It does this the specified number of times, and then sends the message `\"done\"`.\n",
    "\n"
   ]
  },
  {
   "cell_type": "markdown",
   "id": "bd30270f",
   "metadata": {},
   "source": [
    "### <span style=\"color:red;\"> Exercise 3 </span>\n",
    "\n",
    "Before moving on, we should decide on a sampling frequency -- that is, how often do you want to know your approximate blood pressure? As we saw in Lab 1, it would be easy to get the wrong impression from an oscillating signal if you don't sample frequently enough. Considering the range of possible heart rates for adults, how would you choose the sampling rate?  Write your choice below, along with your reasoning for choosing that sampling rate."
   ]
  },
  {
   "cell_type": "markdown",
   "id": "bf7865d5",
   "metadata": {},
   "source": [
    "<h3 style=\"background-color:lightblue\"> Write Answers for Exercise 3 Below </h3>"
   ]
  },
  {
   "cell_type": "markdown",
   "id": "62dd870f",
   "metadata": {},
   "source": []
  },
  {
   "cell_type": "markdown",
   "id": "655e3573",
   "metadata": {},
   "source": [
    "### Loading firmware onto the microcontroller\n",
    "\n",
    "Open up Thonny. [Follow the directions here](https://projects.raspberrypi.org/en/projects/getting-started-with-the-pico/3) to install the Micropython firmware on the Pico. The following page at that link has directions for testing to make sure it's working.\n",
    "\n",
    "Use Thonny's file manager to transfer `main.py` to the Pico. Now, whenever you plug in the pico, it will run `main.py`.\n",
    "\n",
    "### Wiring it up\n",
    "\n",
    "We have the computer talking to the microcontroller, now we just need the Pulse Sensor talking to the microcontroller. To do this, we will use a \"bread board\". The name \"bread board\" comes from the old days of electronics when people would prototype their projects by nailing them to a cutting board. With a modern bread board, you don't need nails.\n",
    "\n",
    "There are three wires on the Pulse Sensor, and three connections we have to make. We will use tiny metal clips which are sitting inside the bread board. The clips are arranged in rows -- see the example your instructor has taken apart. \n",
    "\n",
    "By inserting the entire Pico into your bread board, we can easily connect electrical wires to each of the pins of the Pico. First, **disconnect the Pico from your computer** and plug it into the bread board so that the USB plug is at the end of the bread board.\n",
    "\n",
    "Next, inspect the data sheet for the Pico ([pico_datasheet.pdf](https://github.com/TheDataScienceLabs/DSLab_Calculus/blob/main/book/labs/2_determine_heart_rate/pico_datasheet.pdf) - also save this PDF in the main folder you're using since it'll continue to be handy throughout this course). Specifically, look for figure 2 on page 4. Look for the pin labeled \"3V3(OUT)\". Connect this to the wire labeled with a \"+\" on the Pulse Sensor. Connect the wire labeled \"-\" to the pin labeled \"AGND\". Connect the pin labeled \"ADC0\" to the other wire, which is labeled \"S\". Finally, connect a ceramic capacitor between \"AGND\" and \"ADC0\".\n",
    "\n",
    "![img](pico_on_breadboard_png.png)\n",
    "![img](hr_sensor_labels_png.png)\n",
    "![img](hr_sensor_pad_png.png)\n",
    "\n",
    "**At this point, check with your instructor to make sure you have it configured correctly.** If it is wired incorrectly, there is a chance that powering it on could damage either the Pico or the Pulse Sensor.\n",
    "\n",
    "Once you have checked with your instructor, you can plug the Pico into your computer and move on to the next step."
   ]
  },
  {
   "cell_type": "markdown",
   "id": "47634427",
   "metadata": {},
   "source": [
    "![img](connected_hr_sensor_png.png)"
   ]
  },
  {
   "cell_type": "markdown",
   "id": "7beebf3f",
   "metadata": {},
   "source": [
    "### Acquiring data\n",
    "\n",
    "Now we are ready to acquire the data! Open Thonny and run `main.py`. then, from the `run` menu in Thonny, select `disconnect`. This will allow our program here to pick up the connection, putting the data directly into a plot.\n",
    "\n",
    "Download [heartbeat.py](https://github.com/TheDataScienceLabs/DSLab_Calculus/blob/main/book/labs/2_determine_heart_rate/heartbeat.py) and run the following cell. That will create an empty plot which we will fill in using another cell below. Notice that the sampling rate is not specified -- you have to fill it in."
   ]
  },
  {
   "cell_type": "code",
   "execution_count": null,
   "id": "dd810c06",
   "metadata": {},
   "outputs": [],
   "source": [
    "import numpy as np\n",
    "import matplotlib.pyplot as plt\n",
    "from heartbeat import acquire\n",
    "%matplotlib widget\n",
    "\n",
    "sampling_rate = # You must fill this in!\n",
    "sampling_duration = 5 # seconds\n",
    "number_of_samples = sampling_rate * sampling_duration\n",
    "\n",
    "x = np.arange(number_of_samples)/sampling_rate\n",
    "y = np.full_like(x, np.nan)\n",
    "\n",
    "fig, ax = plt.subplots()\n",
    "line,  = plt.plot(x, y)\n",
    "plt.xlim(0, sampling_duration)\n",
    "plt.ylim(0, 2**16)\n",
    "plt.show()"
   ]
  },
  {
   "cell_type": "markdown",
   "id": "4818facc",
   "metadata": {},
   "source": [
    "Now, touch the pad of your finger to the side of the heart monitor with a picture of a heart on it.\n",
    "Your finger should be barely touching it -- don't apply pressure. Once you have it situated correctly, run the following cell to acquire data. This cell has a `while True` loop in it, which will just run forever unless we do something to stop it. Once you have found your pulse, hit the \"stop\" button at the top of the page to leave the loop. What it shows will be stored."
   ]
  },
  {
   "cell_type": "code",
   "execution_count": null,
   "id": "611d3036",
   "metadata": {},
   "outputs": [],
   "source": [
    "try:\n",
    "    while True:\n",
    "        acquire(rate = sampling_rate, y = y, line = line, fig = fig)\n",
    "except KeyboardInterrupt:\n",
    "    print('done acquiring!')"
   ]
  },
  {
   "cell_type": "markdown",
   "id": "25cea3c6",
   "metadata": {},
   "source": [
    "Re-run the above cell as many times as you need to get a good, clean measurement which shows a clear heartbeat pattern. On me, it looks something like this:\n",
    "\n",
    "![img](example_heartbeat.png)\n",
    "\n",
    "Once you have a good measurement, run the following cell to save your measurement to a file."
   ]
  },
  {
   "cell_type": "code",
   "execution_count": null,
   "id": "96418021",
   "metadata": {},
   "outputs": [],
   "source": [
    "np.savetxt('heartbeat.txt', y)"
   ]
  },
  {
   "cell_type": "markdown",
   "id": "1848dbe5-c39f-4535-a783-5cb9c4b70251",
   "metadata": {},
   "source": [
    "This sensor sometimes has difficulty getting a reading for some people. While we do not know exactly what factors contribute to this, there are plenty of reasons it might not work, including skin quality, natural oil, applied oils, and even skin color might be impacting the results. As such, if you are not able to get a reading after a few tries, use the [example_heartbeat.txt](https://github.com/TheDataScienceLabs/DSLab_Calculus/blob/main/book/labs/2_determine_heart_rate/example_heartbeat.txt) file for the rest of the lab."
   ]
  },
  {
   "cell_type": "markdown",
   "id": "045e92cf",
   "metadata": {},
   "source": [
    "Have a look at the file you just made - or the example file, if needed (you should be able to open it right here in Jupyterlab). You should see a long list of numbers.\n",
    "\n",
    "It is a very good practice to use a separate document to store your data. By not storing your data within the document you use to analyze it, you will be able to run your analysis several times without fear of changing your original data. For this reason, save a copy of the data under the name `og_heartbeat.txt` before continuing the lab."
   ]
  },
  {
   "cell_type": "markdown",
   "id": "e0aebf36-40d3-48ac-853a-0a5035cc0712",
   "metadata": {},
   "source": [
    "## <span style=\"color:orange;\"> 3. Analysis </span>"
   ]
  },
  {
   "cell_type": "markdown",
   "id": "f4602fc3-9570-42d8-a7bc-8c13e23e1c72",
   "metadata": {},
   "source": [
    "Here is how to load your data file back into Python:"
   ]
  },
  {
   "cell_type": "code",
   "execution_count": null,
   "id": "62264376-b28d-40ca-979f-c2bf2ad2a9bf",
   "metadata": {},
   "outputs": [],
   "source": [
    "y = np.loadtxt(\"og_heartbeat.txt\")\n",
    "\n",
    "print(y[:20])  # show me just the first 20 entries"
   ]
  },
  {
   "cell_type": "markdown",
   "id": "b4a9c48b-5973-4bea-8e58-be46cfd199a8",
   "metadata": {},
   "source": [
    "A good first step for understanding data is to visualize it -- that is, make a plot. Before that, we will call `%matplotlib inline` to change out of interactive plotting mode."
   ]
  },
  {
   "cell_type": "code",
   "execution_count": null,
   "id": "56c301dc-c358-4b92-963f-fba835f14f74",
   "metadata": {},
   "outputs": [],
   "source": [
    "%matplotlib inline\n",
    "\n",
    "plt.plot(y)\n",
    "plt.show()"
   ]
  },
  {
   "cell_type": "markdown",
   "id": "fcc281de-19e7-46d7-a466-90a87e4e8b2e",
   "metadata": {},
   "source": [
    "Unfortunately the x-axis is all wrong -- it is just counting measurements one by one, not giving us the actual time of each measurement. To fix this, we can make an array which has the time each measurement was taken.\n",
    "\n",
    "### <span style=\"color:red;\"> Exercise 4 </span>\n",
    "\n",
    "Make an array called `t` which has the time corresponding to each measurement. If you feel stuck, look at the previous notebook for inspiration."
   ]
  },
  {
   "cell_type": "markdown",
   "id": "f61f920c-237f-4459-ab83-95efc1aa528e",
   "metadata": {},
   "source": [
    "<h3 style=\"background-color:lightblue\"> Write Answers for Exercise 4 Below </h3>"
   ]
  },
  {
   "cell_type": "code",
   "execution_count": null,
   "id": "b5b05112-5989-446e-a835-9906ede1b11e",
   "metadata": {},
   "outputs": [],
   "source": [
    "t =  # ANSWER HERE\n",
    "\n",
    "plt.plot(t, y)\n",
    "plt.show()"
   ]
  },
  {
   "cell_type": "markdown",
   "id": "2870c768-bd33-4138-978a-4e20958af153",
   "metadata": {},
   "source": [
    "Now we will zoom in to see just the first second. You can use the command `plt.xlim`. To understand what the command does and the required arguments, we can call  $\\mathtt{help()}$, Python's built in help system."
   ]
  },
  {
   "cell_type": "code",
   "execution_count": null,
   "id": "a16d3611-8519-4e94-940a-6fee2f74758a",
   "metadata": {},
   "outputs": [],
   "source": [
    "help(plt.xlim)"
   ]
  },
  {
   "cell_type": "markdown",
   "id": "e67d3b45-543b-48a2-b412-d6fa21add52b",
   "metadata": {},
   "source": [
    "Now we see that to call this function, we just need to give it a left and right endpoint as arguments."
   ]
  },
  {
   "cell_type": "code",
   "execution_count": null,
   "id": "5727e5e7-85fc-4365-8368-45ddfbeedf4c",
   "metadata": {},
   "outputs": [],
   "source": [
    "plt.plot(t, y)\n",
    "plt.xlim(0, 1)\n",
    "plt.show()"
   ]
  },
  {
   "cell_type": "markdown",
   "id": "5f650c1b-77ad-47ba-a579-c5a4ea239682",
   "metadata": {},
   "source": [
    "There is some jaggedness to the signal. This is present because the Pulse Sensor has some noise in its circuitry -- it introduces some random error. We can get rid of it using the same trick we always use to manage random error: averaging. Specifically, we can average each point with its neighbors. The following code averages each point with its ten nearest neighbors on each side, then plots the result."
   ]
  },
  {
   "cell_type": "code",
   "execution_count": null,
   "id": "06b13e66-256d-41d5-b24a-c5267639dff9",
   "metadata": {},
   "outputs": [],
   "source": [
    "from heartbeat import rolling_centered_average\n",
    "\n",
    "averaged = rolling_centered_average(y, 3)\n",
    "plt.plot(t, averaged)\n",
    "plt.xlim(0, 1)\n",
    "plt.show()"
   ]
  },
  {
   "cell_type": "markdown",
   "id": "5fe58a69-6dd3-4845-96bb-f7e4f48a6300",
   "metadata": {},
   "source": [
    "Notice that the signal is smoother, but there is still some unwanted jiggle to it. Increase the number of terms in the average until it goes up and down smoothly."
   ]
  },
  {
   "cell_type": "code",
   "execution_count": null,
   "id": "0f0815d6-71b5-4398-8483-19e7b139a8c4",
   "metadata": {},
   "outputs": [],
   "source": [
    "averaged = rolling_centered_average(y, )  # You fill in an appropriate number\n",
    "\n",
    "plt.plot(t, averaged)\n",
    "plt.xlim(0.1, 1.1)\n",
    "plt.show()"
   ]
  },
  {
   "cell_type": "markdown",
   "id": "40b0d7de-3209-4510-b870-6522daec8ff5",
   "metadata": {},
   "source": [
    "Our main objective is to identify the frequency of this signal -- that is, the heart rate. To do that, let's see if we can mark the local maxima. Here is an example of a function which will identify those points where the function is increasing (where the current value is bigger than the previous). It may give a warning about invalid values -- that's because we don't have any good average values for the values at the ends, so they are filled in with the \"not a number\" value, `NaN`."
   ]
  },
  {
   "cell_type": "code",
   "execution_count": null,
   "id": "6c468586-5284-47ca-9237-61780208c23c",
   "metadata": {},
   "outputs": [],
   "source": [
    "increasing = np.zeros(\n",
    "    averaged.shape, dtype=bool\n",
    ")  # this creates an array filled with False\n",
    "increasing[1:] = averaged[1:] > averaged[:-1]\n",
    "plt.plot(t, averaged)\n",
    "plt.plot(t[increasing], averaged[increasing], \"o\")\n",
    "plt.xlim(0.2, 0.9)\n",
    "plt.show()"
   ]
  },
  {
   "cell_type": "markdown",
   "id": "62b3c49b-269f-4b9b-873e-e2c811a49784",
   "metadata": {},
   "source": [
    "We can see where it is decreasing by looking at the complement. Make a plot similar to the above, showing where the function is decreasing."
   ]
  },
  {
   "cell_type": "code",
   "execution_count": null,
   "id": "3925adc8-aa9a-4b1a-a96a-68f9d64bfa19",
   "metadata": {},
   "outputs": [],
   "source": [
    "decreasing = ~increasing\n",
    "\n",
    "# You make a plot here, similar to the above (this is not graded, but will help make sure everything is working)\n"
   ]
  },
  {
   "cell_type": "markdown",
   "id": "97943ce7-51e2-435e-94b3-fab70ce7d7b6",
   "metadata": {},
   "source": [
    "Now it is just a matter of finding where the switch occurs:"
   ]
  },
  {
   "cell_type": "code",
   "execution_count": null,
   "id": "289d2804-8e47-40ff-8048-7a19320969bd",
   "metadata": {},
   "outputs": [],
   "source": [
    "maxima = np.zeros(averaged.shape, dtype=bool)\n",
    "maxima[:-1] = increasing[:-1] & decreasing[1:]\n",
    "\n",
    "plt.plot(t, averaged)\n",
    "plt.plot(t[maxima], averaged[maxima], \"o\")\n",
    "plt.show()"
   ]
  },
  {
   "cell_type": "markdown",
   "id": "15d3fcbe-6e79-40da-ba92-7f8640145859",
   "metadata": {},
   "source": [
    "Finally, we can remove any smaller wobbles by using a threshold -- only counting maxima above a certain value. This will get us only those top peaks."
   ]
  },
  {
   "cell_type": "code",
   "execution_count": null,
   "id": "502745e1-1511-4c8b-ba9e-48b5436f3842",
   "metadata": {},
   "outputs": [],
   "source": [
    "peak_indices = maxima & (averaged > averaged[maxima].mean())\n",
    "\n",
    "plt.plot(t, averaged)\n",
    "plt.plot(t[peak_indices], averaged[peak_indices], \"o\")\n",
    "plt.show()"
   ]
  },
  {
   "cell_type": "markdown",
   "id": "cba090b0-acb3-4ced-b5d6-1774b6066002",
   "metadata": {},
   "source": [
    "Now that we have identified the peaks, we can take the times these have occurred and compute the BPM."
   ]
  },
  {
   "cell_type": "code",
   "execution_count": null,
   "id": "9090ed6e-874b-440c-8b46-c0f25d3fd7d7",
   "metadata": {},
   "outputs": [],
   "source": [
    "peak_times = t[peak_indices]\n",
    "peak_times"
   ]
  },
  {
   "cell_type": "markdown",
   "id": "55521550-0148-4c3e-a9af-536b72f247cb",
   "metadata": {},
   "source": [
    "### <span style=\"color:red;\"> Exercise 5 </span>\n",
    "\n",
    "Use the peak times to compute your BPM."
   ]
  },
  {
   "cell_type": "markdown",
   "id": "2a4c100e-08dc-46eb-98f4-f0598895b4f8",
   "metadata": {},
   "source": [
    "<h3 style=\"background-color:lightblue\"> Write Answers for Exercise 5 Below </h3>"
   ]
  },
  {
   "cell_type": "code",
   "execution_count": null,
   "id": "23880d07-727e-4e46-b324-0cb83f47583b",
   "metadata": {},
   "outputs": [],
   "source": []
  },
  {
   "cell_type": "markdown",
   "id": "33976cda-93ad-4efa-bbde-8cff73bd5686",
   "metadata": {},
   "source": [
    "### That's all for today!\n",
    "\n",
    "Well done! Today we learned a bit about the terminology of error analysis, we learned how to interface with a microcontroller using Python, and we developed a procedure for computing the BPM from a photoplethysmogram sensor. In next week's lab, we will learn how to make that process automatic, and do a more sophisticated analysis of the data you collected today.\n",
    "\n",
    "Make sure you save the code you wrote today, because you will need it next week (you can hit the save button at the top of the notebook). Then, make sure to submit **both** notebooks you used today to Gradescope."
   ]
  }
 ],
 "metadata": {
  "kernelspec": {
   "display_name": "Python 3 (ipykernel)",
   "language": "python",
   "name": "python3"
  },
  "language_info": {
   "codemirror_mode": {
    "name": "ipython",
    "version": 3
   },
   "file_extension": ".py",
   "mimetype": "text/x-python",
   "name": "python",
   "nbconvert_exporter": "python",
   "pygments_lexer": "ipython3",
   "version": "3.10.4"
  }
 },
 "nbformat": 4,
 "nbformat_minor": 5
}
