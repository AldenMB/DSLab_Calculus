{
 "cells": [
  {
   "cell_type": "markdown",
   "id": "88d7ea82-2b5f-4647-8b7f-fc39318f3eeb",
   "metadata": {},
   "source": [
    "<div style=\"background-color:lightblue\">\n",
    "<h1><center>\n",
    "    The Data Science Labs on <br/>\n",
    "     Differential and Integral Calculus  <br/>\n",
    "   <small>by Alden Bradford and Mireille Boutin </small>\n",
    "</center></h1>\n",
    "    </div>"
   ]
  },
  {
   "cell_type": "markdown",
   "id": "7a25e6f4-d328-4741-8705-016357c5250a",
   "metadata": {},
   "source": [
    "<h1><center>\n",
    "    Final Project<br/>\n",
    "    Self-Directed Project Expanding on Any of the Previous Labs<br/>\n",
    "    <font size=\"3\"> Last Updated on June 7, 2022</font>  \n",
    "</center></h1>"
   ]
  },
  {
   "cell_type": "markdown",
   "id": "479f8a71-173b-462f-b2ae-9c022bcd75e5",
   "metadata": {},
   "source": [
    "<h3 style=\"background-color:lightblue\"><left> Copy the file `student_info.py` into the folder you are working in, then run this cell to put your name and email into this document.</left></h3>"
   ]
  },
  {
   "cell_type": "code",
   "execution_count": null,
   "id": "597b63a5-57bf-4cbc-9410-b45ef5e39b85",
   "metadata": {},
   "outputs": [],
   "source": [
    "from student_info import show_info\n",
    "show_info()"
   ]
  },
  {
   "cell_type": "markdown",
   "id": "15f8d300-a669-4c22-b90c-09e7343e8402",
   "metadata": {},
   "source": [
    "# Make a Plan\n",
    "\n",
    "You have learned a lot of new strategies and tools this semester. This assignment is your chance to show off some of your skills. This can be done individually or in groups. You are free to design your own project, or adapt one of the suggestions below. There are just a few hard rules:\n",
    "\n",
    "1. Your project must be original: it can't be something which you have already done, or following an existing tutorial. Your project should not do the same thing another group is doing.\n",
    "2. Your project must use at least one of the mathematical concepts introduced this semester.\n",
    "3. Your project must involve some kind of data measurement and data analysis.\n",
    "4. Your project must use code, either on the computer or the microcontroller.\n",
    "\n",
    "So long as your project meets the above requirements, it is suitable for this assignment. Here are a few suggestions you can use if you wish; you don't have to do one of these, and you are welcome to change any of these as well.\n",
    "\n",
    "1. Build a heart rate monitor which runs on battery power, displaying a plot of your pulse on an OLED screen. Include a routine to figure out your heart rate in real time, displaying the result in BPM on the screen.\n",
    "2. Build a slouch detector, a wearable device which will notify you if your posture changes.\n",
    "3. Build a stopwatch and timer which you can activate hands-free, using an ultrasonic sensor.\n",
    "4. Write an interactive calculus test, with randomized questions. Have it automatically grade the results, and give a summary of how well the user did on each subject in the test.\n",
    "5. Build a range finder, which will tell you how far you are from a tall building or mountain by letting the user enter the object's height and the angle between the horizon and its top. Include error bounds on the answers.\n",
    "\n",
    "### <span style=\"color:red\">Exercise 1</span> (20 pts)\n",
    "Answer the following questions. Before moving on with the assignment, confirm with your instructor that your plan meets the requirements of the assignment.\n",
    "\n",
    "1. Describe your project. What is your goal? If you find you don't have enough time to complete the project, how will you limit its scope?\n",
    "2. What mathematical concepts or strategies will you need to complete this project?\n",
    "3. What is the data involved in your project? How will you analyze it? What sources of error will influence your data?\n",
    "4. What programming techniques will you apply to manage your code? What strategies will you use?\n",
    "5. Who are the members of your group? How will you divide the work? What parts will each group member be responsible for?\n",
    "\n",
    "### <span style=\"background-color:lightblue\">Write your answer for exercise 1 below</span>"
   ]
  },
  {
   "cell_type": "markdown",
   "id": "9a635629-91fe-4ee6-8d3a-b8a6b464e712",
   "metadata": {},
   "source": []
  },
  {
   "cell_type": "markdown",
   "id": "1b45b724-3e41-4b63-9f28-228cb30fb69f",
   "metadata": {},
   "source": [
    "# The Rubric\n",
    "\n",
    "### <span style=\"color:red\">Exercise 2</span> (70 pts)\n",
    "\n",
    "You will be graded on the following rubric. Include everything you produced as part of your project below so that it can be graded. Make sure code is correctly formatted and each document is described.\n",
    "\n",
    "Category | Meets all expectations | Meets most expectations | Does not meet expectations\n",
    "---------|------------------------|-------------------------|---------------------------\n",
    "Documentation (25 points) | (25) From the documentation is is clear how your project can be used, how it was made, and how it can be modified. | (10) Some parts of the documentation are unclear, but all the most important parts of the project have a clear description. | (0) There are large parts which are unexplained, or which have an incorrect explanation.\n",
    "Mathematical sophistication (15 points) | (15) There is at least one part of the project which relies on a mathematical concept introduced this semester, and it is applied and described correctly. | (5) There is a mathematical technique used, but there is a significant error in how it is described or applied. | (0) No mathematical techniques were applied, or the techniques were applied in an inappropriate way.\n",
    "Data management (15 points) | (15) Data are collected and described accurately. Data support the conclusions made in the project. Errors are accounted for and addressed. | (5) Errors in data are not considered, or data are described inaccurately, or data are interpreted inaccurately. | (0) No data are involved in the project, or there are serious errors in how the data are used.\n",
    "Coding practices (15 points) | (15) Code is well-organized using functions, classes, and modules when appropriate. The choices made in designing the code were justified in writing. There are comments and docstrings provided which make the code easier to read. | (5) The code is hard to read in some places, but it is still clear that some careful thought was put into the code structure. There are a couple places where a comment or docstring would be appropriate, but were not provided. There may be some edge cases which are not handled correctly. | (0) Code is hard to read, or does not behave as intended.\n",
    "\n",
    "### <span style=\"background-color:lightblue\">Write your answer for exercise 2 below</span>"
   ]
  },
  {
   "cell_type": "markdown",
   "id": "508a4b6e-aa74-432d-98f3-d565d369d1f0",
   "metadata": {},
   "source": [
    "# Reflection\n",
    "\n",
    "### <span style=\"color:red\">Exercise 3</span> (10 pts)\n",
    "\n",
    "Write a three-paragraph reflection on the assignment. What parts went well? What could be improved if you had more time to work on it? What difficulties arose which you did not expect? What advice would you have for someone who is beginning a project like yours?\n",
    "\n",
    "### <span style=\"background-color:lightblue\">Write your answer for exercise 3 below</span>"
   ]
  },
  {
   "cell_type": "markdown",
   "id": "cfb556b7-344a-40a7-974d-bbe505772a2f",
   "metadata": {},
   "source": []
  }
 ],
 "metadata": {
  "kernelspec": {
   "display_name": "Python 3 (ipykernel)",
   "language": "python",
   "name": "python3"
  },
  "language_info": {
   "codemirror_mode": {
    "name": "ipython",
    "version": 3
   },
   "file_extension": ".py",
   "mimetype": "text/x-python",
   "name": "python",
   "nbconvert_exporter": "python",
   "pygments_lexer": "ipython3",
   "version": "3.10.4"
  }
 },
 "nbformat": 4,
 "nbformat_minor": 5
}
