{
 "cells": [
  {
   "cell_type": "markdown",
   "id": "a86c853b-b82f-4883-bf03-15a2c05b87db",
   "metadata": {},
   "source": [
    "## Laboroatory 0\n",
    "\n",
    "Introduction to the course\n",
    "\n",
    "PUT SYLLABUS-TYPE INFORMATION HERE, DESCRIPTION OF HOW TO DOWNLOAD, FILL OUT, AND TURN IN ASSIGNMENTS"
   ]
  },
  {
   "cell_type": "markdown",
   "id": "68391fd0-6379-4234-94bf-21a7ff77e742",
   "metadata": {},
   "source": [
    "### Two types of cells\n",
    "\n",
    "The content of an IPython Notebook consists of two types of cells, \"markdown\" cells and \"code\" cells. Markdown cells are used to display nicely-formatted text for people to read. Code cells are used to display nicely-formatted code for people and computers to read. The words you are reading right now are part of a markdown cell. The cell below is a code cell. When you run the code cell, each line of code is executed in order. The output of the last line is shown under the cell."
   ]
  },
  {
   "cell_type": "code",
   "execution_count": null,
   "id": "6c20afd5-99e8-4de6-a547-254f61a570e7",
   "metadata": {},
   "outputs": [],
   "source": [
    "2+3+4"
   ]
  },
  {
   "cell_type": "markdown",
   "id": "8e4b65db-52d2-46f5-b7dc-88a2a973b604",
   "metadata": {},
   "source": [
    "You can use the \"plus\" button in the corner of the document to insert a cell. Inside a cell, you can use a dropdown menu to switch it between being a code or markdown cell.\n",
    "\n",
    "TO DO: INCLUDE SCREENSHOTS OF THE INTERFACE"
   ]
  },
  {
   "cell_type": "markdown",
   "id": "c25d1344-aadc-4f3a-aaa2-1ae3065e7086",
   "metadata": {},
   "source": [
    "Exercise: the following code cell contains code, but it is labeled as a markdown cell. Change it to a code cell and run it."
   ]
  },
  {
   "cell_type": "markdown",
   "id": "c42434c4-6b5a-4fda-84e3-ad1f35e1accc",
   "metadata": {},
   "source": [
    "sum([1, 2, 3, 4, 5])"
   ]
  },
  {
   "cell_type": "markdown",
   "id": "f1f54e60-7d27-4000-9c66-6f6f35fe6e90",
   "metadata": {},
   "source": [
    "Exercise: make a new markdown cell underneath this one. Write a sentence in it and execute the cell to make it format."
   ]
  },
  {
   "cell_type": "markdown",
   "id": "c9fc0836-5513-49df-8905-399e6dc59b3b",
   "metadata": {},
   "source": [
    "### A brief intro to markdown\n",
    "\n",
    "Since you will be turning in work throughout this class using these notebooks, not with pen and paper, it is important that you are able to communicate clearly using markdown cells.\n",
    "\n",
    "PUT A DESCRIPTION OF HOW TO WRITE IN MARKDOWN HERE. INCLUDE NUMBERED/BULLETED LISTS, BOLD TEXT, ITALIC TEXT, CODE LISTINGS, AND HEADINGS.\n",
    "\n",
    "One of the most useful things about markdown is that we can use it to express mathematical formulas written using Latex. It is important that you are able to write formulas and equations so that they can be read on the computer."
   ]
  },
  {
   "cell_type": "code",
   "execution_count": null,
   "id": "a5f68b90-2735-407d-9456-77d04a36cf29",
   "metadata": {},
   "outputs": [],
   "source": []
  },
  {
   "cell_type": "markdown",
   "id": "2535f7b3-5f7d-4742-83a7-71f424710364",
   "metadata": {},
   "source": [
    "# A very brief introduction to $\\LaTeX$\n",
    "\n",
    "Latex (written stylized as $\\LaTeX$) is a very popular, very old, very well-established tool for making typeset documents. The \"x\" should really be a letter chi, $\\chi$, which makes a \"k\" sound -- Latex is pronounced \"law-tek\", or \"lay-tek\". Here are some common ways people use it:\n",
    "\n",
    " - writing submissions to academic journals\n",
    " - writing textbooks\n",
    " - preparing fiction books for publishing\n",
    " - writing assignments and exams for students\n",
    " - making slide presentations (like PowerPoint)\n",
    " - writing letters to their friends\n",
    " \n",
    "Many mathematicians use Latex almost exclusively when preparing written documents. We are going to use only a tiny, tiny fraction of Latex in this course -- the portion which prints formulas nicely. Many Markdown interpreters (including the one that comes with JupyterLab) know how to turn expressions written in Latex into nicely printed expressions. That's how I can write a nice formula like\n",
    "\n",
    "$$\n",
    "e^x = \\sum_{n=0}^\\infty \\frac{x^n}{n!}.\n",
    "$$\n",
    "\n",
    "If you double-click on this cell of the document, you will see the characters which I typed to make that formula happen. Notice the `$$ and $$` which are used to tell Markdown that a formula is happening."
   ]
  },
  {
   "cell_type": "markdown",
   "id": "6e1b8035-a2a9-4ca5-9d7f-ee49522fb5bd",
   "metadata": {},
   "source": [
    "### <span style=\"color:red\">Exercise 1</span> (5 pts)\n",
    "Copy and paste the formula from the cell above into the cell below. Change it so that instead of $x$, the variable is $y$.\n",
    "### <span style=\"background-color:lightblue\">Write your answer for exercise 1 below</span>"
   ]
  },
  {
   "cell_type": "markdown",
   "id": "dc69be84-70ba-458f-bf0c-22991eff3e7f",
   "metadata": {},
   "source": [
    "$$\n",
    "e^y = \\sum_{n=0}^\\infty \\frac{x^n}{n!}.\n",
    "$$"
   ]
  },
  {
   "cell_type": "markdown",
   "id": "b679e679-4dbc-470f-8766-7b1c6a446ac2",
   "metadata": {},
   "source": [
    "One of the reasons Latex is so popular is that you can use the same formulas in different places, and they will show up differently based on context. If you want to put Latex in a line of text (without its own line) you can just put your code between dollar signs (`$`) like this: $e^x = \\sum_{n=0}^\\infty \\frac{x^n}{n!}.$ Notice that the sum is written smaller, so it doesn't break up the text as much, but I used the exact same code.\n",
    "\n",
    "## escape sequences\n",
    "\n",
    "A lot of the symbols we like to use in math are not on a typical keyboard. If you want a lower case sigma, you are usually out of luck. In Latex you can write a lower case sigma by writing `\\sigma`, which shows up like $\\sigma$. Everything written after a backslash (the symbol `\\`, which is found just under the backspace key on most keyboards) is not printed, but instead is treated like a command. In this case, the command is \"put a letter sigma here\". To do a capital sigma, just type `\\Sigma` with a capital `S`, like so $\\Sigma$.\n",
    "\n",
    "### <span style=\"color:red\">Exercise 2</span> (5 pts)\n",
    "Write some latex code in the cell below to produce an alpha, beta, gamma, and delta, first in lower case then in upper case.\n",
    "### <span style=\"background-color:lightblue\">Write your answer for exercise 2 below</span>"
   ]
  },
  {
   "cell_type": "markdown",
   "id": "207d6ce2-0068-4621-8ff6-a99405d45633",
   "metadata": {},
   "source": []
  },
  {
   "cell_type": "markdown",
   "id": "90f128b6-4c70-42a6-b3f5-b4060e7e3a45",
   "metadata": {},
   "source": [
    "## subscripts, superscripts, and grouping\n",
    "\n",
    "It is really common in math to want to write a superscript like the 2 in $x^2$ or the $r$ in $\\varepsilon_r$. We do that with the `^` and `_` keys (caret and underscore). **Watch out**: Latex is different from Python. In Python, we would write $x^2$ as `x**2`. It can be easy to get mixed up when switching back and forth.\n",
    "\n",
    "Here is another thing to watch out for: the subscript (or superscript) only works on the first thing after it. So, if I try to raise x to the 23rd power with just one caret (`x^23`) I get this: $x^23$. No good! In order to fix this, we will tell the 2 and the 3 that they go together. We use the `{` and `}` symbols (braces) to group things together in Latex. I can type this instead as `x^{23}` which gives $x^{23}$.\n",
    "\n",
    "### <span style=\"color:red\">Exercise 3</span> (5 pts)\n",
    "The formula below is all wrong! Put in braces to make it correct.\n",
    "### <span style=\"background-color:lightblue\">Write your answer for exercise 3 below</span>"
   ]
  },
  {
   "cell_type": "markdown",
   "id": "10acdb8d-a69c-40dd-a814-0c90e49d8100",
   "metadata": {},
   "source": [
    "$$\n",
    "\\cos(x) = \\sum_k=0^\\infty \\frac{(-1)^k x^2k}{(2k)!}\n",
    "$$"
   ]
  },
  {
   "cell_type": "markdown",
   "id": "1d9d8df9-4cab-410c-bb23-bcf182f2edeb",
   "metadata": {},
   "source": [
    "## fractions and parentheses\n",
    "\n",
    "Fractions in Latex are a bit unusual in that they act on the *two* symbols which come after them. If I write `\\frac12` that makes $\\frac12$. Usually, fractions have more than one character in the numerator and denominator, so you will usually write a fraction with two pairs of braces, `\\frac{1}{2}`. That is easier to read anyhow, I think. This makes it possible to more complicated fractions, or even fractions inside of fractions.\n",
    "\n",
    "$$\n",
    "\\frac{pq}{p+q} = \\frac{1}{\\frac{1}{p} + \\frac{1}{q}}\n",
    "$$\n",
    "\n",
    "If you are in \"text mode\" (the smaller in-line text you get with `$`) the fractions are smaller, and if you are in \"display mode\" they are bigger. If you want to override that, you could use the command `\\tfrac` which always does the smaller-style fraction, or the command `\\dfrac` which always does the display style fraction.\n",
    "\n",
    "When you have expressions involving fractions, they are often quite a bit taller than a single character. This can lead to ugly expressions:\n",
    "$$\n",
    "1 = \\sum_{n=1}^\\infty (\\frac{1}{2})^n.\n",
    "$$\n",
    "We would prefer if the parentheses knew what was inside them, so they can get bigger. We can do that with the commands `\\left` and `\\right`, which turn normal parentheses into scaling parentheses.\n",
    "$$\n",
    "1 = \\sum_{n=1}^\\infty \\left( \\frac{1}{2} \\right)^n\n",
    "$$"
   ]
  },
  {
   "cell_type": "markdown",
   "id": "2c4a36be-fc81-481f-8bd0-24581735799a",
   "metadata": {},
   "source": [
    "## getting help\n",
    "\n",
    "Almost nobody knows every Latex command they use by heart. There are lots of ways to get help on the internet. One popular tool is [Detexify](http://detexify.kirelabs.org/classify.html) which can help you find the escape sequence for a symbol you need. Try it out.\n",
    "\n",
    "### <span style=\"color:red\">Exercise 4</span> (5 pts)\n",
    "Use Detexify to find the escape sequence for the symbol <img src=\"symbol.png\"/>, then type it using Latex below.\n",
    "### <span style=\"background-color:lightblue\">Write your answer for exercise 4 below</span>"
   ]
  },
  {
   "cell_type": "markdown",
   "id": "568ef5ae-71dd-416f-9c0d-213fb8e24bc3",
   "metadata": {},
   "source": []
  },
  {
   "cell_type": "markdown",
   "id": "a25c5506-9df0-46b0-9e62-6de6825c8695",
   "metadata": {
    "tags": []
   },
   "source": [
    "Another powerful way is to copy someone else's working code. One great place to find it is on Wikipedia.\n",
    "\n",
    "### <span style=\"color:red\">Exercise 5</span> (5 pts)\n",
    "You have not been told yet how to write a binomial coefficient in Latex. To figure it out, go to [the Wikipedia page for the binomial theorem](https://en.wikipedia.org/wiki/Binomial_theorem) and find this formula:\n",
    "\n",
    "<img src=\"binomial.png\"/>\n",
    "\n",
    "Go to \"edit source\" on Wikipedia and copy the Latex code you find there to reproduce the formula here below. Then, change the index of summation from a $k$ to an $i$.\n",
    "### <span style=\"background-color:lightblue\">Write your answer for exercise 5 below</span>"
   ]
  },
  {
   "cell_type": "markdown",
   "id": "0239f781-beb0-4388-9b99-91277a90e135",
   "metadata": {},
   "source": []
  }
 ],
 "metadata": {
  "kernelspec": {
   "display_name": "Python 3 (ipykernel)",
   "language": "python",
   "name": "python3"
  },
  "language_info": {
   "codemirror_mode": {
    "name": "ipython",
    "version": 3
   },
   "file_extension": ".py",
   "mimetype": "text/x-python",
   "name": "python",
   "nbconvert_exporter": "python",
   "pygments_lexer": "ipython3",
   "version": "3.10.4"
  }
 },
 "nbformat": 4,
 "nbformat_minor": 5
}
