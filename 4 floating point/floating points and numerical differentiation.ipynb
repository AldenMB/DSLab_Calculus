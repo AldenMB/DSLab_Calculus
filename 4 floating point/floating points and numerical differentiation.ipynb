{
 "cells": [
  {
   "cell_type": "markdown",
   "id": "11ecf4f0-b924-4997-8d81-53dd64a29c51",
   "metadata": {},
   "source": [
    "<div style=\"background-color:lightblue\">\n",
    "<h1><center>\n",
    "    The Data Science Labs on <br/>\n",
    "     Differential and Integral Calculus  <br/>\n",
    "   <small>by Alden Bradford and Mireille Boutin </small>\n",
    "</center></h1>\n",
    "    </div>"
   ]
  },
  {
   "cell_type": "markdown",
   "id": "953afaee-02f1-4c15-b692-9390fb7c3025",
   "metadata": {},
   "source": [
    "<h1><center>\n",
    "    Laboratory 4<br/>\n",
    "   Floating Point Numbers<br/>\n",
    "    <small>Last Updated Dec. 17 2021 </small>\n",
    "</center></h1>"
   ]
  },
  {
   "cell_type": "markdown",
   "id": "e7cb454e-a252-41b3-b9a1-6148a8e97fa7",
   "metadata": {},
   "source": [
    "<h2 style=\"color:orange;\"><left>00. Content </left></h2>"
   ]
  },
  {
   "cell_type": "markdown",
   "id": "e5354bd0-3e0d-4fea-9291-9f9eae5b1d2e",
   "metadata": {},
   "source": [
    "## Mathematics ##\n",
    "- Approximating derivatives using finite difference schemes\n",
    "- Approximation bias\n",
    "    \n",
    "## Programming Skills ##\n",
    "- number types: int, float\n",
    "- use of underscore\n",
    "    \n",
    "## Embedded Systems ##\n",
    "- item"
   ]
  },
  {
   "cell_type": "markdown",
   "id": "6142f4b4-c1fa-4985-a89d-d88c99c5d1cb",
   "metadata": {},
   "source": [
    "<h2 style=\"color:orange;\"><left>0. Required Hardware </left></h2> "
   ]
  },
  {
   "cell_type": "markdown",
   "id": "7bdd4504-09e2-4835-ab87-567bc2d49a42",
   "metadata": {},
   "source": [
    "- item"
   ]
  },
  {
   "cell_type": "markdown",
   "id": "455245ae-b96f-4a94-9b62-6466a81c9e9c",
   "metadata": {},
   "source": [
    "# Two types of number in Python\n",
    "\n",
    "One of the benefits of using Python is that it has great support for numbers. This makes it much more friendly to doing math than, for example, Javascript or C. Whole numbers in Python have the type `int`, which is short for Integer. You can check this yourself:"
   ]
  },
  {
   "cell_type": "code",
   "execution_count": 1,
   "id": "73f55494-2ece-4044-bf90-286d8d867ba0",
   "metadata": {},
   "outputs": [
    {
     "data": {
      "text/plain": [
       "int"
      ]
     },
     "execution_count": 1,
     "metadata": {},
     "output_type": "execute_result"
    }
   ],
   "source": [
    "type(5)"
   ]
  },
  {
   "cell_type": "markdown",
   "id": "839d2d8f-3ed9-4918-861b-f08f9f67fb9d",
   "metadata": {},
   "source": [
    "Python `int`s can be as big as you like, positive or negative. It can get a bit cumbersome writing and reading them, and the comma has a special meaning in Python, so you can't use it to separate big integers for legibility:"
   ]
  },
  {
   "cell_type": "code",
   "execution_count": 2,
   "id": "fbe90685-65a2-4a9c-bae9-0a1f98b57a37",
   "metadata": {},
   "outputs": [
    {
     "data": {
      "text/plain": [
       "(123, 456, 789)"
      ]
     },
     "execution_count": 2,
     "metadata": {},
     "output_type": "execute_result"
    }
   ],
   "source": [
    "123,456,789"
   ]
  },
  {
   "cell_type": "markdown",
   "id": "87db18f1-9b37-488a-b9a4-65998132d213",
   "metadata": {},
   "source": [
    "That gives us a list of three integers. If you want to refer to the number 123,456,789 you can write it without separations, but it is easier to read if you use the underscore symbol where there would be a comma:"
   ]
  },
  {
   "cell_type": "code",
   "execution_count": 3,
   "id": "59bcec91-d551-4218-b08e-175370d40d05",
   "metadata": {},
   "outputs": [
    {
     "data": {
      "text/plain": [
       "True"
      ]
     },
     "execution_count": 3,
     "metadata": {},
     "output_type": "execute_result"
    }
   ],
   "source": [
    "123_456_789 == 123456789"
   ]
  },
  {
   "cell_type": "markdown",
   "id": "f3124c37-c28b-4c57-8e97-89f5d1f600f8",
   "metadata": {},
   "source": [
    "You can put underscores wherever you like in a number -- python ignores them. You could represent a credit card number, for example:"
   ]
  },
  {
   "cell_type": "code",
   "execution_count": 4,
   "id": "ce6fc078-9314-4d7d-b16a-ba7aad8923cf",
   "metadata": {},
   "outputs": [
    {
     "data": {
      "text/plain": [
       "378282246310005"
      ]
     },
     "execution_count": 4,
     "metadata": {},
     "output_type": "execute_result"
    }
   ],
   "source": [
    "3782_8224_6310_005"
   ]
  },
  {
   "cell_type": "markdown",
   "id": "ce73e2a2-8078-4dce-abad-5e521945cd6a",
   "metadata": {},
   "source": [
    "Unfortunately, it's not possible to represent every number exactly in a computer. For numbers which are not whole numbers, Python only keeps a certain number of digits. This way of storing numbers is called *floating point*, and numbers stored this way are called *flaoting point numbers*. In Python, the type for floating point numbers is `float`:"
   ]
  },
  {
   "cell_type": "code",
   "execution_count": 5,
   "id": "ecc1689f-b7c5-4eee-8b72-cb1baaa24d8d",
   "metadata": {},
   "outputs": [
    {
     "data": {
      "text/plain": [
       "float"
      ]
     },
     "execution_count": 5,
     "metadata": {},
     "output_type": "execute_result"
    }
   ],
   "source": [
    "type(1.0)"
   ]
  },
  {
   "cell_type": "markdown",
   "id": "b1df5fa9-2ed6-4b28-b44f-1f375960fd4d",
   "metadata": {},
   "source": [
    "Floating point numbers have some quirks you need to be aware of. For example, we know that 0.1+0.2=0.3, but look what Python tells us:"
   ]
  },
  {
   "cell_type": "code",
   "execution_count": 6,
   "id": "b37a94e0-83be-41c0-b253-cd4912128f04",
   "metadata": {},
   "outputs": [
    {
     "data": {
      "text/plain": [
       "0.30000000000000004"
      ]
     },
     "execution_count": 6,
     "metadata": {},
     "output_type": "execute_result"
    }
   ],
   "source": [
    "0.1+0.2"
   ]
  },
  {
   "cell_type": "markdown",
   "id": "59f330fa-cb27-451a-9292-19d72ca0bd00",
   "metadata": {},
   "source": [
    "It is slightly wrong. What is going on here? Floating point numbers are stored in binary, and in binary, 0.1 and 0.2 are infinite repeating decimals. In binary, we would write the number one tenth as 0.0001100110011... and so on forever. We don't have an infinite amount of memory available on our computers, so Python only stores 53 binary digits, which introduces roundoff error. The relative error is at most $2^{-53} = 1.11\\times 10^{-16}$, so numbers are not reliable beyond sixteen places. Sure enough, in the example above, we got an error sixteen places after the 3."
   ]
  },
  {
   "cell_type": "code",
   "execution_count": 7,
   "id": "224b9047-110b-4831-ad88-301a577d63fd",
   "metadata": {},
   "outputs": [
    {
     "data": {
      "text/plain": [
       "1.1102230246251565e-16"
      ]
     },
     "execution_count": 7,
     "metadata": {},
     "output_type": "execute_result"
    }
   ],
   "source": [
    "2**-53"
   ]
  },
  {
   "cell_type": "markdown",
   "id": "9180ff38-8c08-4626-9e36-abbc95ef6896",
   "metadata": {},
   "source": [
    "In a later lab we will introduce a tool you can use to do exact arithmetic with Python. But for most purposes, this relative error is no trouble at all.\n",
    "\n",
    "## Exercise\n",
    "For each of the following constants, look them up on Wikipedia and report the relative error in their known values. Compare that to the relative error in a floating point number. Make sure you are using relative error, not absolute error.\n",
    "\n",
    " - mass of an electron\n",
    " - duration of a year\n",
    " - distance from New York to Los Angeles\n",
    " - Freezing point of water (in Kelvin)"
   ]
  },
  {
   "cell_type": "markdown",
   "id": "084fb006-4600-4966-bb8f-6cf162e9118e",
   "metadata": {},
   "source": [
    "# Troubles with floating point numbers\n",
    "\n",
    "Precision is usually not a problem with flaoting point numbers, with one major exception which we will address later. The main issue you will face is when comparing numbers. Check this out:"
   ]
  },
  {
   "cell_type": "code",
   "execution_count": 8,
   "id": "54ebd81a-36fe-42b9-982d-2c257ea2dd30",
   "metadata": {},
   "outputs": [
    {
     "name": "stdout",
     "output_type": "stream",
     "text": [
      "1\n",
      "2\n",
      "4\n",
      "5\n",
      "8\n",
      "9\n"
     ]
    }
   ],
   "source": [
    "for x in range(1, 10):\n",
    "    if x/10 == 0.1*x:\n",
    "        print(x)"
   ]
  },
  {
   "cell_type": "markdown",
   "id": "2859dc16-574b-4a39-a12f-b18594e4725b",
   "metadata": {},
   "source": [
    "## exercise\n",
    "\n",
    "Explain why a few numbers are missing from the printout above. Include the python values of `x/10` and `0.1*x` in your explanation, for some values of `x`."
   ]
  },
  {
   "cell_type": "markdown",
   "id": "12c8ec1c-2775-429d-af40-c6b07c28394a",
   "metadata": {},
   "source": [
    "There are two main ways to deal with this:\n",
    "\n",
    "1. Whenever possible, use `>=` or `<=` instead of `==` when comparing floating point numbers. This is usually the best thing to do. For example, if a nubmer is ddecreasing and you want to know when it hits zero, check if it is positive instead of checking if it's zero. Or, better yet, check if it's less than 0.0001, keeping as much precision as you need for your purpose and no more.\n",
    "\n",
    "2. Instead of checking if floats are equal, check if they are close to eachother. For example, the builtin function `math.isclose` can do this for you, or you can use the version in numpy if working with arrays. Here is how that might look:"
   ]
  },
  {
   "cell_type": "code",
   "execution_count": 9,
   "id": "09e47d2a-877a-42f2-9b83-8bc39e13d637",
   "metadata": {},
   "outputs": [
    {
     "name": "stdout",
     "output_type": "stream",
     "text": [
      "1\n",
      "2\n",
      "3\n",
      "4\n",
      "5\n",
      "6\n",
      "7\n",
      "8\n",
      "9\n"
     ]
    }
   ],
   "source": [
    "import math\n",
    "for x in range(1, 10):\n",
    "    if math.isclose(x/10, 0.1*x):\n",
    "        print(x)"
   ]
  },
  {
   "cell_type": "code",
   "execution_count": 10,
   "id": "24c6a49d-e857-4025-b4dd-4861588c4077",
   "metadata": {},
   "outputs": [
    {
     "name": "stdout",
     "output_type": "stream",
     "text": [
      "[ True  True  True  True  True  True  True  True  True]\n"
     ]
    }
   ],
   "source": [
    "import numpy as np\n",
    "x = np.arange(1, 10)\n",
    "print(np.isclose(x/10, 0.1*x))"
   ]
  },
  {
   "cell_type": "markdown",
   "id": "31d94ec9-2381-492e-955e-0764c26ee79f",
   "metadata": {},
   "source": [
    "# catastrophic cancellation\n",
    "\n",
    "There is one situation where roundoff error is a really big problem. That is when you are subtracting two numbers which are very close together. This isn't anything special about floating point numbers, this is just a fact about rounding. Here, have a look:\n",
    "\n",
    "\\begin{array}{r}\n",
    "3.14159265358???\\\\\n",
    "-\\; 3.14159265332???\\\\\\hline\n",
    "0.00000000026???\n",
    "\\end{array}\n",
    "\n",
    "Here I used question marks to represent unknown digits, i.e. digits which were lost due to rounding. That's pretty intuitive, and I think it shows how the relative error in the output is much bigger than in either of the inputs: each input has 12 significant figures, but the output has only two significant figures. We can do this a bit more precisely by writing the absolute errors explicitly:\n",
    "\n",
    "\\begin{align*}\n",
    "3.14159265358??? &\\rightarrow 3.14159265358 \\pm 5\\times 10^{-12}\\\\\n",
    "3.14159265332??? &\\rightarrow 3.14159265332 \\pm 5\\times 10^{-12}\\\\\n",
    "0.00000000026??? &\\rightarrow 0.00000000026 \\pm \\text{(you figure this one out)}\\\\\n",
    "\\end{align*}\n",
    "\n",
    "## exercise\n",
    "What is the absolute error in the output? What are the relative errors of each of the inputs, and what is the relative error of the output?"
   ]
  },
  {
   "cell_type": "markdown",
   "id": "0b4ee3b4-4d79-42b8-87d9-06efcff0b12a",
   "metadata": {},
   "source": [
    "## a practical example of catastrophic cancellation\n",
    "\n",
    "Here we walk you through coding an example where catestrophic cancellation makes a pretty big difference, and something clever you can do to fix it.\n",
    "\n",
    "1. Write a function which takes the coefficients `a`, `b`, and `c` from a polynomial $ax^2+bx+c$ and gives you the roots. Just apply the standard quadratic formula. Have it give the \"plus\" root first. <TODO: include a auto-grading function for this.>"
   ]
  },
  {
   "cell_type": "code",
   "execution_count": 11,
   "id": "884b8c90-f1cf-4648-82bf-ad7b3d7225ca",
   "metadata": {},
   "outputs": [],
   "source": [
    "# students will give something like this\n",
    "def naive_roots(a, b, c):\n",
    "    t = math.sqrt(b**2-4*a*c)\n",
    "    return (-b+t)/(2*a), (-b-t)/(2*a)"
   ]
  },
  {
   "cell_type": "markdown",
   "id": "f0fb16fb-1d64-415f-b504-b5c03b94b88a",
   "metadata": {},
   "source": [
    "2. Factor the polynomial $x^2-1,000,000.000,001 x +1$ exactly, on paper (note the decimal place in `b`). What should the roots be?"
   ]
  },
  {
   "cell_type": "markdown",
   "id": "bd71a695-5af7-4fb1-95bd-caa0016b95fb",
   "metadata": {},
   "source": [
    "3. Apply your simple root-finding function to this polynomial. What are the relative errors in your computed roots, compared to the true values? Explain why one of these has a larger relative error."
   ]
  },
  {
   "cell_type": "markdown",
   "id": "45403d1c-2085-4cf8-8b16-1405aebf1fda",
   "metadata": {},
   "source": [
    "Here is a simple technique we can apply to reduce the error. Let's assume for now that `b` is a negative number. So, we get cancellation in the numerator when subtracting $-b$ and $\\sqrt{b^2-4ac}$. In this case, just multiply by one in a clever way:\n",
    "\n",
    "\\begin{align*}\n",
    "\\frac{-b-\\sqrt{b^2-4ac}}{2a}\n",
    "&= \\frac{-b-\\sqrt{b^2-4ac}}{2a} \\times \\frac{-b+\\sqrt{b^2-4ac}}{-b+\\sqrt{b^2-4ac}}\\\\\n",
    "&= \\frac{b^2-(b^2-4ac)}{2a(-b+\\sqrt{b^2-4ac})}\\\\\n",
    "&= \\frac{2c}{-b+\\sqrt{b^2-4ac}}\n",
    "\\end{align*}\n",
    "\n",
    "Since `b` is negative and `-b` is positive, there is no cancellation here! We can use this formula to compute the \"-\" root and the original formula to compute the \"+\" root.\n",
    "\n",
    "4. Assuming `b` is always negative, rewrite your function using this formula. Compute the relative errors on the example above, using your new formula."
   ]
  },
  {
   "cell_type": "markdown",
   "id": "67a8490e-2acc-4786-84de-859a481e8549",
   "metadata": {},
   "source": [
    "5. Figure out a similar formula which works when `b` is always positive. Use both formulas to write a function to compute the roots which is always accurate, and does not suffer from catestrophic cancellation."
   ]
  },
  {
   "cell_type": "markdown",
   "id": "360c4669-6262-4402-8a48-a477218a77c1",
   "metadata": {},
   "source": [
    "6. Finish off your function by adding a special case for if either `a` or `c` is exactly zero."
   ]
  },
  {
   "cell_type": "markdown",
   "id": "92c175a1-19b2-464f-816d-df7ea97e0783",
   "metadata": {},
   "source": [
    "This example shows how catestrophic cancellation can occur even in friendly, well-known functions. This also shows that we can usually deal with it, by doing some clever algebra. This is such a common issue that there are now tools available to identify and fix catestrophic cancellation. If you are curious, check out [Herbie](http://herbie.uwplse.org/), which a friend of mine helped to create."
   ]
  },
  {
   "cell_type": "markdown",
   "id": "48106723-bca8-4895-bca7-345fb1fa880f",
   "metadata": {},
   "source": [
    "# Numerical differentiation\n",
    "\n",
    "Now you are prepared to see the major problem we are up against when trying to compute derivatives using floating-point arithmetic. Remember that by definition, the derivative of a function $f(x)$ is\n",
    "\n",
    "$$\n",
    "f'(x) = \\lim_{h\\to 0} \\frac{f(x+h)-f(x)}{h}\n",
    "$$\n",
    "\n",
    "This suggests a simple way to compute a derivative: pick a really small number $h$, and compute $\\frac{f(x+h)-f(x)}{h}$. Since $h$ is just a small but finite number, this is called the *finite difference method*.\n",
    "\n",
    "## exercise\n",
    "\n",
    "Let's see what happens when we apply this procedure blindly. We will apply this formula for $f(x)=x^2$ at the point $x=4$. The correct derivative should be 8. What is the relative error in using the finite difference method, for various values of $h$? Choose geometrically distributed $h$ between $10^{-15}$ and $1$ (the function `numpy.geomspace` will be useful here). Compute the derivative using the procedure above, for each value of $h$. Produce a log-log plot; on the x-axis put h, and on the y axis put the absolute value of the relative error.\n",
    "\n",
    "In light of what you have learned today about catastrophic cancellation, explain the shape of the curve you get. Explain why it is not a good idea to just make $h$ as small as possible."
   ]
  },
  {
   "cell_type": "code",
   "execution_count": 12,
   "id": "9d14f610-f3be-4671-ba8c-2db877fa19e7",
   "metadata": {},
   "outputs": [],
   "source": [
    "import matplotlib.pyplot as plt"
   ]
  },
  {
   "cell_type": "code",
   "execution_count": 13,
   "id": "4c5b97cf-e3dd-496e-8fd9-9f118a993d9b",
   "metadata": {},
   "outputs": [
    {
     "data": {
      "image/png": "[encoded data removed]",
      "text/plain": [
       "<Figure size 432x288 with 1 Axes>"
      ]
     },
     "metadata": {
      "needs_background": "light"
     },
     "output_type": "display_data"
    }
   ],
   "source": [
    "\n",
    "# students will do something like this\n",
    "h = np.geomspace(1e-15, 1, 200)\n",
    "derivative = ((4+h)**2-4**2)/h\n",
    "true_deriv = 8\n",
    "relative_error = (derivative-true_deriv) / true_deriv\n",
    "\n",
    "plt.loglog(h, abs(relative_error))\n",
    "plt.show()"
   ]
  },
  {
   "cell_type": "markdown",
   "id": "53e7f4ac-00c4-4fc4-b61f-eacfb67b79cb",
   "metadata": {},
   "source": [
    "# finite difference schemes\n",
    "\n",
    "This shows the basic struggle of computing numerical derivatives: the definition of the derivative requires `h` to be infinitely small, but we can't precically make it that small. This isn't just because of catesprophic cancellation, by the way -- often when working with real data you are limited in how fast you can collect it. Hence, our goal will be to find ways to get more accurate estimates of the derivative without just making the step size $h$ tiny. We will consider $h$ to be fixed, and try to get our estimate as good as possible.\n",
    "\n",
    "## bias in the forward difference\n",
    "\n",
    "Let's examine the finite difference method, applied to the function $f(x) = x^3$ at $x=2$. For ease of illustration, let's choose $h=0.5$. Our estimate of $f'(2)$ is just\n",
    "\n",
    "$$\n",
    "f'(2)\\approx \\frac{(2+0.5)^3-2^3}{0.5}.\n",
    "$$\n",
    "\n",
    "is this an over-estimate or an under-estimate? Let's draw a picture to help us see.\n",
    "\n",
    "## exercise\n",
    "\n",
    "Find an equation for the tangent line to $y=f(x)$ at $x=2$. Find an equation for the secant line intersecting $y=f(x)$ at $x=2$ and $x=2.5$."
   ]
  },
  {
   "cell_type": "markdown",
   "id": "71fe9807-c689-4078-8c07-0879ff57a72f",
   "metadata": {},
   "source": []
  },
  {
   "cell_type": "markdown",
   "id": "62941607-94f5-40a6-88e0-c630eb110fc0",
   "metadata": {},
   "source": [
    "Now that we have formulas for those lines, we can plot those lines:"
   ]
  },
  {
   "cell_type": "code",
   "execution_count": 14,
   "id": "a87459c6-4362-4f14-9539-8ef21461c025",
   "metadata": {},
   "outputs": [
    {
     "data": {
      "image/png": "[encoded data removed]",
      "text/plain": [
       "<Figure size 432x288 with 1 Axes>"
      ]
     },
     "metadata": {
      "needs_background": "light"
     },
     "output_type": "display_data"
    }
   ],
   "source": [
    "x = np.linspace(1,3)\n",
    "cube = x**3\n",
    "tangent = 12*(x-2)+8\n",
    "secant = ((2.5**3-2**3)/0.5)*(x-2)+8\n",
    "plt.plot(x, cube, label=\"$x^3$\")\n",
    "plt.plot(x, tangent, '--', label=\"tangent\")\n",
    "plt.plot(x, secant, '--', label=\"secant\")\n",
    "plt.ylim(0,27)\n",
    "plt.xlim(1, 3)\n",
    "plt.legend()\n",
    "plt.show()"
   ]
  },
  {
   "cell_type": "markdown",
   "id": "89d7e167-6322-4702-898a-312e76e2eb04",
   "metadata": {},
   "source": [
    "That shows it visually: the slope of the secant line is bigger than the slope of the tangent line. We can see it algebraically too:\n",
    "\\begin{align*}\n",
    "\\frac{(2+0.5)^3-2^3}{0.5}\n",
    "&=\\frac{12(0.5)+6(0.5)^2+(0.5)^3}{0.5}\\\\\n",
    "&=12+6(0.5)+(0.5)^2\n",
    "\\end{align*}\n",
    "The correct derivative is 12, and the other terms (most of all the term $6(0.5)$) are making it too big.\n",
    "\n",
    "When we choose $h$ to be a positive number, we call that a *forward difference*. What if we try making $h$ negative, doing a so-called *backward difference*? Try that now.\n",
    "\n",
    "## exercise\n",
    "\n",
    "Create a similar plot to show what happens if $h=-0.5$. Is the slope of the secant line too big, or too small, in this case? Support your claim using your figure. How is this related to the curvature of the function $f(x)=x^3$?"
   ]
  },
  {
   "cell_type": "markdown",
   "id": "71f7ad2e-9092-469e-af20-e6d1439a5aab",
   "metadata": {},
   "source": [
    "## correcting the bias\n",
    "\n",
    "As you have noticed, the forward difference gave us an over-estimate while the backward difference gave an under-estimate. This gives us a clear way to do better: we could average these answers out, which would give us a (hopefully) unbiased answer. Algebraically, this would look something like this:\n",
    "\n",
    "\\begin{align*}\n",
    "\\frac{1}{2}\\left[ \\frac{f(x+h) - f(x)}{h} + \\frac{f(x-h)-f(x)}{-h} \\right]\n",
    "&= \\frac{f(x+h)-f(x)-f(x-h) + f(x)}{2h}\\\\\n",
    "&= \\frac{f(x+h)-f(x-h)}{2h}\n",
    "\\end{align*}"
   ]
  },
  {
   "cell_type": "markdown",
   "id": "88917315-5fd0-45bc-8173-5c5bca02080a",
   "metadata": {},
   "source": [
    "This is the *symmetric difference* scheme. You can think of it as a secant line which doesn't go through a given point, but rather goes through its neighbors."
   ]
  },
  {
   "cell_type": "code",
   "execution_count": 15,
   "id": "1366eea1-bfa0-4ef5-97c3-60a11b7c1caf",
   "metadata": {},
   "outputs": [
    {
     "data": {
      "image/png": "[encoded data removed]",
      "text/plain": [
       "<Figure size 432x288 with 1 Axes>"
      ]
     },
     "metadata": {
      "needs_background": "light"
     },
     "output_type": "display_data"
    }
   ],
   "source": [
    "x = np.linspace(1,3)\n",
    "cube = x**3\n",
    "tangent = 12*(x-2)+8\n",
    "secant = (2.5**3-1.5**3)*(x-1.5)+1.5**3\n",
    "plt.plot(x, cube, label=\"$x^3$\")\n",
    "plt.plot(x, tangent, '--', label=\"tangent\")\n",
    "plt.plot(x, secant, '--', label=\"secant\")\n",
    "plt.ylim(0,27)\n",
    "plt.xlim(1, 3)\n",
    "plt.legend()\n",
    "plt.show()"
   ]
  },
  {
   "cell_type": "markdown",
   "id": "970a113f-382c-4225-89f2-228306247c19",
   "metadata": {},
   "source": [
    "No obvious bias! We can still work out algebraically that it's not exact:\n",
    "$$\n",
    "\\frac{(2+0.5)^3 - (2+0.5)^3}{2*(0.5)} = 2(0.5)^3\n",
    "$$\n",
    "this is still a slight overestimate. However, it's clearly way better for any given step size $h$. The error gets small really fast, too: if we instead had $h=10^{-6}$, the error would be just $2*(10^{-6})^3 = 2\\times 10^{-18}$, which is below the floating-point error. Symmetric difference is better than forward difference!\n",
    "\n",
    "## exercise\n",
    "\n",
    "Work out the symetric difference exactly on paper for the function $f(x)=5x^2+3x-7$, for a variable step size $h$, at the point $x=2$. Find the relative error, and comment on it."
   ]
  },
  {
   "cell_type": "markdown",
   "id": "a5aa8e78-5dbf-40ba-be8f-d6638881e0d6",
   "metadata": {},
   "source": [
    "# Unequal step sizes\n",
    "\n",
    "When we can control the step size, we are lucky: there are just two points to check in the symmetric difference scheme! The middle term cancelled out. With real data, we are not always so lucky: most of the time, data just comes in when it's available. We can get a formula that's just as good as the symmetric difference scheme, even if the step sizes are not equal. The trick is to ask for that cool property you just found, that the formula should be exact for quadtratic polynomials. That is: we are looking for numbers $d_-$, $d_0$, $d_+$ so that \n",
    "\n",
    "$$\n",
    "f'(x) = d_{-} f(x-k) +d_0 f(x) + d_+ f(x+h)\n",
    "$$\n",
    "\n",
    "for any quadratic polynomial $f(x)=ax^2+bx+c$. Let's derive those values $d_-$, $d_0$, and $d_+$ now. For this purpose, we really only need a specific version of this equation:\n",
    "\n",
    "$$\n",
    "f'(0) = d_{-} f(-k) +d_0 f(0) + d_+ f(h) \\tag{*}\n",
    "$$\n",
    "\n"
   ]
  },
  {
   "cell_type": "markdown",
   "id": "6f8d1ca3-f3cb-43bb-be10-da52015a6ad5",
   "metadata": {},
   "source": [
    "Since it should work for any quadratic polynomial, we can get picky. It should work for specifically the polynomial $f(x) = (x+k)(x-h)$. Putting this into our formula ($*$) above, we find\n",
    "\n",
    "\\begin{align*}\n",
    "f'(0) = k-h &= d_0(-kh)\\\\\n",
    "d_0&=\\frac{1}{h} -\\frac{1}{k}\n",
    "\\end{align*}\n",
    "\n",
    "The difference scheme should also work for the polynomial $f(x)=x(x+k)$ at the point $x=0$. We can work it out the same way:\n",
    "\n",
    "\\begin{align*}\n",
    "f'(0) = k &= d_+h(h+k)\\\\\n",
    "d_+&=\\frac{k}{h(h+k)}\n",
    "\\end{align*}"
   ]
  },
  {
   "cell_type": "markdown",
   "id": "5ced530b-d8d7-4cb4-a5d4-385c7073feec",
   "metadata": {},
   "source": [
    "## Exercise\n",
    "\n",
    "Choose a quadratic polynomial $f(x)$ which will give you the value of $d_-$. You should find that \n",
    "$$\n",
    "d_- = \\frac{-h}{k(k+h)}.\n",
    "$$\n",
    "\n",
    "## Exercise\n",
    "\n",
    "By choosing $f(x)=1$ in ($*$) we find that $d_-+d_0+d_+=0$. Verify that this is the case."
   ]
  },
  {
   "cell_type": "markdown",
   "id": "d100ea1d-8fb2-4cfa-8932-d526d283207c",
   "metadata": {},
   "source": [
    "Suppose we have three points in time $x_0$, $x_-$, and $x_+$ with $x_-<x_0<x_+$. Suppose further that we have measured $f(x_-)$, $f(x_0)$, and $f(x_+)$. This gives us a good way to approximate the derivative of $f$ at $x_0$. We compute\n",
    "\\begin{align*}\n",
    "k &= x_0-x_-\\\\\n",
    "h &= x_+-x_0\\\\\n",
    "d_0 &= \\frac{1}{h}-\\frac{1}{k}\\\\\n",
    "d_- &= \\frac{-h}{k(k+h)}\\\\\n",
    "d_+ &= \\frac{k}{h(h+k)}\\\\\n",
    "f'(x_0) &\\approx d_- f(x_-) +d_0 f(x_0) + d_+ f(x_+)\n",
    "\\end{align*}\n",
    "\n",
    "We could wrap that up as one big formula, which is less tidy but has a pleasant symmetry about it:\n",
    "$$\n",
    "f'(x_0) \\approx \\frac{-(x_+-x_0)}{(x_0-x_-)(x_+-x_-)} f(x_-) + \\left(\\frac{1}{x_+-x_0} -\\frac{1}{x_0-x_-}\\right)f(x_0) + \\frac{x_0 -x_-}{(x_+-x_0)(x_+-x_-)} f(x_+)\n",
    "$$"
   ]
  },
  {
   "cell_type": "markdown",
   "id": "7fc94e10-7514-4cac-b128-fd0147ecfab7",
   "metadata": {},
   "source": [
    "# Build a function\n",
    "\n",
    "Now we know some good ways to compute derivatives of functions, so we should try them out. You have been given an ultrasonic distance sensor. This works by sending out a high-pitched chirp (higher than any person can hear) and listening for an echo. You can use that to do echolocation.\n",
    "\n",
    "Try out the distance sensor using the following script, which will ask the RAspberry Pi Pico to collect data as fast as it can for 10 seconds, and report for each measurement the current time (in seconds) as well as the time between the chirp and the echo (in microseconds). The script plots the response in real time."
   ]
  },
  {
   "cell_type": "code",
   "execution_count": 16,
   "id": "2ad54e22-1600-433b-bedd-b569de8aa41a",
   "metadata": {},
   "outputs": [],
   "source": [
    "# <TODO: include the script.>"
   ]
  },
  {
   "cell_type": "markdown",
   "id": "249b7710-b280-431b-93d9-233dd08fa55a",
   "metadata": {},
   "source": [
    "## exercise\n",
    "\n",
    "to get used to the ultrasonic distance sensor, move a book or any other fklat, hard object in front of your distance sensor to reproduce each of the following plots."
   ]
  },
  {
   "cell_type": "markdown",
   "id": "df417398-d9c6-4467-a86d-b54bcbb3b6e1",
   "metadata": {},
   "source": [
    "We can build a function which computes the derivative using the symmetric finite difference method above. Notice that since the sensor has to wait for the echo in between measurements, the times are not evenly spaced. We will have to use the uneven-spacing formula. Here we have started the function for you."
   ]
  },
  {
   "cell_type": "code",
   "execution_count": 17,
   "id": "369a3aa2-f443-4007-a4b3-b84e2cd311d2",
   "metadata": {},
   "outputs": [],
   "source": [
    "def finite_difference(f, x):\n",
    "    # we won't have the backward difference at the start,\n",
    "    # or the forward difference at the end, so those should\n",
    "    # have the value NaN to represent not being available.\n",
    "    k = np.empty_like(x)\n",
    "    k[0] = np.nan\n",
    "    k[1:] = x[1:] - x[:-1]\n",
    "    h = np.roll(k, -1)\n",
    "    # now h and k have the correct values. Here is a way we make the\n",
    "    # the f values, \"fm\" for f minus and \"fp\" for f plus.\n",
    "    fm = np.roll(f, 1)\n",
    "    fm[0] = np.nan\n",
    "    fp = np.roll(fm, -2)\n",
    "    # we still need to compute the d values, and return a result.\n",
    "    \n",
    "    # (students fill this in please)\n",
    "    \n"
   ]
  },
  {
   "cell_type": "markdown",
   "id": "18b96766-edb1-410d-972d-a9b39b64241b",
   "metadata": {},
   "source": [
    "Now we can include the derivative on the plot along with the measured values. Cool! Try it out:"
   ]
  },
  {
   "cell_type": "code",
   "execution_count": 18,
   "id": "1eea8895-e24a-4ece-9ba2-f59b8098c3d3",
   "metadata": {},
   "outputs": [],
   "source": [
    "# <TODO: include the script to accomplish this, calling the students' finite difference function.>"
   ]
  },
  {
   "cell_type": "markdown",
   "id": "7c81d1c5-7c11-4401-8c65-cdcec8bee381",
   "metadata": {},
   "source": [
    "# Try it out!\n",
    "## exercise\n",
    "\n",
    "Now that we can compute a derivative, repeat the previous exercise but instead of following the curve with the distance plot, follow the curve with the velocity plot."
   ]
  },
  {
   "cell_type": "code",
   "execution_count": null,
   "id": "eee5e9d2-eaed-44eb-9d90-d048654e8c75",
   "metadata": {},
   "outputs": [],
   "source": []
  }
 ],
 "metadata": {
  "kernelspec": {
   "display_name": "Python 3",
   "language": "python",
   "name": "python3"
  },
  "language_info": {
   "codemirror_mode": {
    "name": "ipython",
    "version": 3
   },
   "file_extension": ".py",
   "mimetype": "text/x-python",
   "name": "python",
   "nbconvert_exporter": "python",
   "pygments_lexer": "ipython3",
   "version": "3.8.8"
  }
 },
 "nbformat": 4,
 "nbformat_minor": 5
}
