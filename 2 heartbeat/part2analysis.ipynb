{
 "cells": [
  {
   "cell_type": "markdown",
   "id": "professional-paint",
   "metadata": {},
   "source": [
    "# Analysis\n",
    "\n",
    "In the previous notebook, we created a file with your measured heartbeat. In this notebook, you will analyze that data which you collected. Here is how to load that data back into Python:"
   ]
  },
  {
   "cell_type": "code",
   "execution_count": null,
   "id": "weighted-listing",
   "metadata": {},
   "outputs": [],
   "source": [
    "import numpy as np\n",
    "import matplotlib.pyplot as plt\n",
    "\n",
    "y = np.loadtxt(\"heartbeat.txt\")\n",
    "\n",
    "print(y[:20])  # show me just the first 20 entries"
   ]
  },
  {
   "cell_type": "markdown",
   "id": "bf872769-2107-4289-aed2-9688d163b05b",
   "metadata": {},
   "source": [
    "A good first step for understanding data is to visualize it -- that is, make a plot. `matplotlib` makes this easy:"
   ]
  },
  {
   "cell_type": "code",
   "execution_count": null,
   "id": "4c302c78-f701-4209-8f11-9c61351bda5e",
   "metadata": {},
   "outputs": [],
   "source": [
    "plt.plot(y)\n",
    "plt.show()"
   ]
  },
  {
   "cell_type": "markdown",
   "id": "cd3e37bc-32bc-4a5e-9e71-6c2fe552efed",
   "metadata": {},
   "source": [
    "Unfortunately the x-axis is all wrong -- it is just counting measurements one by one, not giving us the actual time of each measurement. To fix this, we can make an array which has the time each measurement was taken.\n",
    "\n",
    "### Exercise\n",
    "\n",
    "Make an array called `t` which has the time corresponding to each measurement. If you feel stuck, look at the previous notebook for inspiration."
   ]
  },
  {
   "cell_type": "code",
   "execution_count": null,
   "id": "1a7bf65a-4cf9-4b63-bab8-f041c3310cb4",
   "metadata": {},
   "outputs": [],
   "source": [
    "t = np.arange(len(y)) / 200  # ANSWER HERE\n",
    "\n",
    "plt.plot(t, y)\n",
    "plt.show()"
   ]
  },
  {
   "cell_type": "markdown",
   "id": "incredible-windsor",
   "metadata": {},
   "source": [
    "Now zoom in to see just the first second. You can use the command `plt.xlim`."
   ]
  },
  {
   "cell_type": "code",
   "execution_count": null,
   "id": "southeast-organ",
   "metadata": {},
   "outputs": [],
   "source": [
    "help(plt.xlim)"
   ]
  },
  {
   "cell_type": "code",
   "execution_count": null,
   "id": "configured-decade",
   "metadata": {},
   "outputs": [],
   "source": [
    "plt.plot(t, y)\n",
    "plt.xlim(0, 1)\n",
    "plt.show()"
   ]
  },
  {
   "cell_type": "markdown",
   "id": "discrete-convertible",
   "metadata": {},
   "source": [
    "There is some jaggedness to the signal. This is present because the Pulse Sensor has some noise in its circuitry -- it introduces some random error. We can get rid of it using the same trick we always use to manage random error: averaging. Specifically, we can average each point with its neighbors. The following code averages each point with its ten nearest neighbors on each side. Plot the result."
   ]
  },
  {
   "cell_type": "code",
   "execution_count": null,
   "id": "wanted-marriage",
   "metadata": {},
   "outputs": [],
   "source": [
    "from heartbeat import rolling_centered_average\n",
    "\n",
    "averaged = rolling_centered_average(y, 3)\n",
    "plt.plot(t, averaged)\n",
    "plt.xlim(0, 1)\n",
    "plt.show()"
   ]
  },
  {
   "cell_type": "markdown",
   "id": "familiar-module",
   "metadata": {},
   "source": [
    "Notice that the signal is smoother, but there is still some unwanted jiggle to it. Increase the number of terms in the average until it goes up and down smoothly."
   ]
  },
  {
   "cell_type": "code",
   "execution_count": null,
   "id": "familiar-helen",
   "metadata": {},
   "outputs": [],
   "source": [
    "averaged = rolling_centered_average(y, 30)  ## ANSWER HERE!\n",
    "\n",
    "plt.plot(t, averaged)\n",
    "plt.xlim(0.1, 1.1)\n",
    "plt.show()"
   ]
  },
  {
   "cell_type": "markdown",
   "id": "homeless-exhaust",
   "metadata": {},
   "source": [
    "Our main objective is to identify the frequency of this signal -- that is, the heart rate. To do that, let's see if we can mark the local maxima. Here is an example of a function which will identify those points where the function is increasing (where the current value is bigger than the previous). It may give a warning about invalid values -- that's because we don't have any good average values for the values at the ends, so they are filled in with the \"not a number\" value, `NaN`."
   ]
  },
  {
   "cell_type": "code",
   "execution_count": null,
   "id": "4ba61b40-a640-450f-8876-771f30f80c2c",
   "metadata": {},
   "outputs": [],
   "source": [
    "increasing = np.zeros(\n",
    "    averaged.shape, dtype=bool\n",
    ")  # this creates an array filled with False\n",
    "increasing[1:] = averaged[1:] > averaged[:-1]\n",
    "plt.plot(t, averaged)\n",
    "plt.plot(t[increasing], averaged[increasing], \"o\")\n",
    "plt.xlim(0.2, 0.9)\n",
    "plt.show()"
   ]
  },
  {
   "cell_type": "markdown",
   "id": "integral-worry",
   "metadata": {},
   "source": [
    "We can see where it is decreasing by looking at the complement. Make a plot similar to the above, showing where the function is decreasing."
   ]
  },
  {
   "cell_type": "code",
   "execution_count": null,
   "id": "68142dc8-8268-4227-a637-b551d06db26b",
   "metadata": {},
   "outputs": [],
   "source": [
    "decreasing = ~increasing\n",
    "\n",
    "## answer here\n",
    "plt.plot(t, averaged)\n",
    "plt.plot(t[decreasing], averaged[decreasing], \"o\")\n",
    "plt.xlim(0.2, 0.9)\n",
    "plt.show()"
   ]
  },
  {
   "cell_type": "markdown",
   "id": "a34f42b5-f21a-4d2d-b3c0-5b1977148383",
   "metadata": {},
   "source": [
    "Now it is just a matter of finding where the switch occurs:"
   ]
  },
  {
   "cell_type": "code",
   "execution_count": null,
   "id": "61504333-396b-4de2-bf5d-6a619c80b198",
   "metadata": {},
   "outputs": [],
   "source": [
    "maxima = np.zeros(averaged.shape, dtype=bool)\n",
    "maxima[:-1] = increasing[:-1] & decreasing[1:]\n",
    "\n",
    "plt.plot(t, averaged)\n",
    "plt.plot(t[maxima], averaged[maxima], \"o\")\n",
    "plt.show()"
   ]
  },
  {
   "cell_type": "markdown",
   "id": "normal-philip",
   "metadata": {},
   "source": [
    "finally, we can remove any smaller wobbles by using a threshold -- only counting maxima above a certain value. This will get us only those top peaks."
   ]
  },
  {
   "cell_type": "code",
   "execution_count": null,
   "id": "bigger-gothic",
   "metadata": {},
   "outputs": [],
   "source": [
    "peak_indices = maxima & (averaged > averaged[maxima].mean())\n",
    "\n",
    "plt.plot(t, averaged)\n",
    "plt.plot(t[peak_indices], averaged[peak_indices], \"o\")\n",
    "plt.show()"
   ]
  },
  {
   "cell_type": "markdown",
   "id": "cb37519f-e23e-4d2b-9c2b-0a3670ea5c44",
   "metadata": {},
   "source": [
    "Now that we have identified the peaks, we can take the times these have occurred and compute the BPM."
   ]
  },
  {
   "cell_type": "code",
   "execution_count": null,
   "id": "unavailable-arrival",
   "metadata": {},
   "outputs": [],
   "source": [
    "peak_times = t[peak_indices]\n",
    "peak_times"
   ]
  },
  {
   "cell_type": "markdown",
   "id": "93988a5a-3cc9-4a37-81bc-5358e836df2d",
   "metadata": {},
   "source": [
    "## exercise\n",
    "\n",
    "use the peak times to compute your BPM."
   ]
  },
  {
   "cell_type": "code",
   "execution_count": null,
   "id": "inappropriate-party",
   "metadata": {},
   "outputs": [],
   "source": []
  }
 ],
 "metadata": {
  "kernelspec": {
   "display_name": "Python 3 (ipykernel)",
   "language": "python",
   "name": "python3"
  },
  "language_info": {
   "codemirror_mode": {
    "name": "ipython",
    "version": 3
   },
   "file_extension": ".py",
   "mimetype": "text/x-python",
   "name": "python",
   "nbconvert_exporter": "python",
   "pygments_lexer": "ipython3",
   "version": "3.8.10"
  }
 },
 "nbformat": 4,
 "nbformat_minor": 5
}
