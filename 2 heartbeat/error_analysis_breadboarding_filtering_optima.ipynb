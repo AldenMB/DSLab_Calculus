{
 "cells": [
  {
   "cell_type": "markdown",
   "id": "b098d7a0",
   "metadata": {},
   "source": [
    "<div style=\"background-color:lightblue\">\n",
    "<h1><center>\n",
    "    The Data Science Labs on <br/>\n",
    "     Differential and Integral Calculus  <br/>\n",
    "   <small>by Alden Bradford and Mireille Boutin </small>\n",
    "</center></h1>\n",
    "    </div>"
   ]
  },
  {
   "cell_type": "markdown",
   "id": "ac626b60",
   "metadata": {},
   "source": [
    "<h1><center>\n",
    "    Laboratory 2 - Part 1<br/>\n",
    "    Introduction to error analysis - Determining Heart Rate from Photoplethysmography Sensors<br/>\n",
    "    <small>Last Updated on October 15, 2021</small>\n",
    "</center></h1>"
   ]
  },
  {
   "cell_type": "markdown",
   "id": "5492f462",
   "metadata": {},
   "source": [
    "<h2 style=\"color:orange;\"><left>00. Content </left></h2>"
   ]
  },
  {
   "cell_type": "markdown",
   "id": "35e3638f",
   "metadata": {},
   "source": [
    "## Mathematics ##\n",
    "- additive error model; bias in error\n",
    "- noise removal by averaging\n",
    "- finding local maxima as \"peaks\"\n",
    "- choosing a sampling rate based on distance between local maxima\n",
    "- Local maxima defined as location between function increase and decrease\n",
    "- Thresholding\n",
    "- Computing beats per minutes (BMP) from peaktimes\n",
    "  \n",
    "    \n",
    "## Programming Skills ##\n",
    "- Best practice: use separate data file and analysis file\n",
    "- Use/modify given Python data acquisition code\n",
    "- Save data in text file\n",
    "- Load data from text file\n",
    "- Look at loaded data\n",
    "- Plotting data\n",
    "- Changing x-axis in a plot\n",
    "- Array building\n",
    "- zooming into plot\n",
    "- Use of averaging code\n",
    "- Use of local maxima identify code\n",
    "- NaN\n",
    "- Use of thresholding code\n",
    "- Write code to compute beats per minutes (BMP) from peaktimes\n",
    "\n",
    "\n",
    "## Embedded Systems ##\n",
    "- Thonny and Micropython\n",
    "- Installing Micropython on Pico\n"
   ]
  },
  {
   "cell_type": "markdown",
   "id": "61f44fa5",
   "metadata": {},
   "source": [
    "<h2 style=\"color:orange;\"><left>0. Required Hardware </left></h2> "
   ]
  },
  {
   "cell_type": "markdown",
   "id": "016b61d9",
   "metadata": {},
   "source": [
    "- microcontroller: Raspberry Pi Pico\n",
    "- pulse sensor\n",
    "- breadboard\n",
    "- USB connector"
   ]
  },
  {
   "cell_type": "markdown",
   "id": "6f47b3a2-784a-4890-9d1b-82d662370b7a",
   "metadata": {},
   "source": [
    "<h3 style=\"background-color:lightblue\"><left> Write your name and email below: </left></h3>\n",
    "\n",
    "First Name, Last Name, email "
   ]
  },
  {
   "cell_type": "markdown",
   "id": "2f8f729a",
   "metadata": {},
   "source": [
    "<h2 style=\"color:orange;\"><left>1. Introduction to error analysis </left></h2>"
   ]
  },
  {
   "cell_type": "markdown",
   "id": "63a33db5",
   "metadata": {},
   "source": [
    "\n",
    "> In order to improve, we must first recognize that we are not perfect.\n",
    "\n",
    "Today we will begin using numbers collected from the real world. Every number you measure is subject to several kinds of error from different sources. This is the first and most important lesson of error analysis: *every measurement has error. The goal is not to eliminate error, but rather to reduce it to an acceptable level.* As we progress through the semester, we will develop strong tools for analyzing and reducing error in our measurements, based off of differential calculus and Taylor series. Before we can do that, we need to establish some common language and techniques for describing errors."
   ]
  },
  {
   "cell_type": "markdown",
   "id": "b806db0d",
   "metadata": {},
   "source": [
    "## Types of error\n",
    "\n",
    "An error is anything which can make it so that the number you get is different from the actual value of the quantity you are measuring. Here are a few sources of error you are likely to encounter:\n",
    "\n",
    " - measurement error. This is what most people think of when they hear about an error in measurement. This includes everything which could go wrong with your measurement instrument. Perhaps the marks on a ruler are not placed exactly evenly, or it isn't being held straight. Perhaps the paralax on a measurement dial leads to misalignment between the needle and the dial. Perhaps your tool is low on batteries and is malfunctioning. \n",
    " - roundoff error. Also called truncation error. This is where a number is off a little bit because it was rounded. For example, Alden's favorite pocket calculator the TI-30Xa only keeps 14 digits of $\\pi$. If you needed $\\pi$ to any further precision, you would have to use a different calculator. Usually the cure for this source of error is fairly simple -- just keep more digits! However, this is not always practical: maybe you are using numbers someone else has rounded and cannot access the original data, or maybe keeping enough digits for your task would be too cumbersome. We will see some examples in a few weeks, when we study numerical differentiation, where roundoff error becomes really important.\n",
    " - modeling error. Every computation is based on a model, and every model is inaccurate. For example, suppose you want to measure the volume of the earth. You could perform astronomical measurements to figure out the radius of the earth, and use the volume formula for a sphere, $\\frac{4}{3} \\pi r^3$ to figure out the volume. The formula is perfect, without error, provided you are talking about a true sphere. As anyone knows, however, the earth is not a perfect sphere (it has mountains, for one thing). Therefore, there is some error associated with modeling the earth as a perfect sphere, which will affect your final volume computation.\n",
    " - definitional error. This is perhaps the most frequently overlooked source of error, and its definition gets a bit philosophical. Usually we can't get to a level where it is important in the physical sciences, though it is frequently important in the social sciences. As an example, consider the old unit of length, the barleycorn. This is still used today to measure shoe sizes. Its definition could not be simpler: it's the length of a grain of barley, roughly 1/3 of an inch or 8.5 millimeters. There is a problem here though: barley has some natural variablility of size, from 6.4 millimeters at the smallest to 13 millimeters at the longest [(see this study if you want to know more about barley)](https://www.agriculturejournals.cz/publicFiles/10118.pdf). So, depending on which type of barley you are using, your shoe could wind up being a bad fit. It's not a matter of the barley being a bad tool for measuring length in barleycorns: you can always tell exactly how long something is in barleycorns by lining up a row of barley, and you will be correct by definition. It's a problem with the definition of the length unit -- the definition has some error built in. This usually doesn't affect us when making distance measurements, since we have better definitions now for length, based off the speed of light and our definition of time. However, for very sensitive measurements, it is still some times an issue. Furthermore, for more abstractly defined quantities (such as intelligence, or anxiety, or pain) the definition still has a significant amount of error built in which can sometimes be the biggest source of error in a computation.\n",
    "\n",
    "This is a relatively simple taxonomy of errors, but it encompasses most of the important sources of error you are likely to encounter. If you can think of a source of error which does not fit this taxonomy, we would like to hear about it (email mboutin at purdue dot you know what). As we will see, you could waste a lot of effort reducing the error from one source only to find that a different source is introducing way more error, making your efforts fruitless. Therefore, it is important to be aware of how each source of error could creep in.\n",
    "\n"
   ]
  },
  {
   "cell_type": "markdown",
   "id": "bd444f3c",
   "metadata": {},
   "source": [
    "### You try:\n",
    "\n",
    "For each source of error listed, classify it according to the taxonomy above.\n",
    "\n",
    "1. You have a thermometer in your garden which you use to tell the temperature in the morning. The sun shines directly on the thermometer, making it read a temperature higher than the air temperature.\n",
    "\n",
    "2. You use a tire pressure gauge to figure out the pressure in your car tires. It only has a marking every 2 PSI, so you do your best to estimate the value to the nearest PSI.\n",
    "\n",
    "3. You use a GPS system to track how long your commute is, but it only takes into account longitude and lattitude, not elevation."
   ]
  },
  {
   "cell_type": "markdown",
   "id": "45e08559",
   "metadata": {},
   "source": [
    "<h3 style=\"background-color:lightblue\"><left> Write Answers Below </left></h3>\n",
    "..."
   ]
  },
  {
   "cell_type": "markdown",
   "id": "662a0dc3",
   "metadata": {},
   "source": [
    "## Two ways errors behave\n",
    "\n",
    "We usually represent error with a variable either as $e$ (short for error), or in Greek with the lower case letter epsilon which makes the same sound, written as either $\\epsilon$ or $\\varepsilon$. This lets us represent how any measured quantity $x$ is related to its \"true value\" $t$:\n",
    "$$\n",
    "x = t + \\varepsilon.\n",
    "$$\n",
    "This is sometimes called *the most famous equation of measurement theory*.\n",
    "\n",
    "### Random error\n",
    "\n",
    "Our goal is usually to make the total error small. For some types of error, $\\varepsilon$ is on average zero; the error is just as often positive as it is negative. A consequence of this is that if you took lots and lots of measurements (say $x_1=t+\\varepsilon_1$, $x_2=t+\\varepsilon_2$, $\\dots$, $x_k=t+\\varepsilon_k$) then you could take the average \n",
    "$$\n",
    "\\frac{x_1+x_2+\\dots+x_k}{k} = t + \\frac{\\varepsilon_1+\\varepsilon_2+\\dots+\\varepsilon_k}{k}\n",
    "$$\n",
    "and the term $\\frac{\\varepsilon_1+\\varepsilon_2+\\dots+\\varepsilon_k}{k}$ would tend to be much smaller than each $\\varepsilon_i$ on its own, since the positive and negative terms would mostly cancel each other out. This is really useful, since it gives us a way of reducing the total error, getting a better estimate of the value $t$. If this is the case, we say that the error in $x$ is *random*. This technique for reducing random error [was invented in the 1700s.](https://www.math.purdue.edu/~bradfoa/misc_files/arithmetic_mean.pdf) (See  for example page 121 of \"Studies in the History of Statistics and Probability,\" by M.G. Kendall, 1960.)\n",
    "\n",
    "### Systematic error\n",
    "\n",
    "Unfortunately, we are often not so lucky as to only have random error. Very often there is some bias in our measurement which causes it to be usually positive or usually negative, so it does not help much to use the repeated measurement procedure described above. In this case we say there is a *systematic* error.\n",
    "\n",
    "For example, let's say you decide to save some computer cycles in a computation by truncating your numbers -- instead of rounding (which could take some additional time, depending on how your computer is set up) you decide to just drop the least significant digits. The effect of this is that you will always be making the number smaller. It's just like if you always decided to round down. In the terms outlined above, $\\varepsilon$ is always negative in this case.\n",
    "\n",
    "As another example, suppose you are weighing precise amounts of material in a chemistry lab on a sensitive scale, but you don't have a cover over the scale and there is a slight downdraft at the work bench. You are leaning over the scale when you hit the tare button, shielding the scale from the air current. The air would push down on the scale a bit during the weighting, causing your estimated weight $x$ to usually be a little bit bigger than $t$. It would still vary randomly, but since $\\varepsilon$ would usually be positive we would say that this is a systematic error in the positive direction.\n",
    "\n",
    "### You try:\n",
    "\n",
    "For each source of error described, classify it as a random or a systematic error. If it is a systematic error, say whether it is in the positive or negative direction. Justify your answers with a brief sentence or two.\n",
    "\n",
    "1. You are measuring your height against a wall by placing a book on your head and seeing where the book touches the wall, measuring the length along the wall from the floor with a tape measure. Unfortunately, you cannot guarantee that the book is completely level.\n",
    "\n",
    "2. You make sure the book from problem 1 is level by placing one edge vertically along the wall. Unfortunately, the wall is very slightly sloped toward you.\n",
    "\n",
    "3. You have a thermometer in your garden which you use to tell the temperature in the morning. The sun shines directly on the thermometer.\n",
    "\n",
    "4. You use a tire pressure gauge to figure out the pressure in your car tires. It only has a marking every 2 PSI, so you do your best to estimate the value to the nearest PSI.\n",
    "\n",
    "5. You use a GPS system to track how long your commute is, but it only takes into account longitude and lattitude, not elevation. "
   ]
  },
  {
   "cell_type": "markdown",
   "id": "bbe14c89",
   "metadata": {},
   "source": [
    "<h3 style=\"background-color:lightblue\"><left> Write Answers Below </left></h3>\n",
    "..."
   ]
  },
  {
   "cell_type": "markdown",
   "id": "27469e2a",
   "metadata": {},
   "source": [
    "<h2 style=\"color:orange;\"><left>2. Data Acquisition </left></h2>"
   ]
  },
  {
   "cell_type": "markdown",
   "id": "e061087e",
   "metadata": {},
   "source": [
    "You will collect data today using the [Pulse Sensor](https://pulsesensor.com/pages/about-us), which shines a bright light on your skin and measures how much comes back to get a number which is proportinal to your blood pressure. After we have collected the data, we will analyze it using Numpy and Matplotlib. First, though, we have to get those numbers onto your computer.\n",
    "\n",
    "We will be acquiring the data using a microcontroller. A microcontroller is a very small general purpose computer good at communicating with electronic sensors. The specific microcontroller we will use is called the Raspberry Pi Pico. Conveniently, it runs Python code natively. Have a look at the script `main.py`. It does a very simple thing: it listens for a message containing a sample rate and a number of samples. Then, with the frequency given in the message, it measures the voltage on a specific pin and sends a message with that measurement. It does this the specified number of times, and then sends the message `\"done\"`.\n",
    "\n",
    "### You try:\n",
    "\n",
    "Before moving on, we should decide on a sampling frequency -- that is, how often do you want to know your approximate blood pressure? As we saw in Lab 1, it would be easy to get the wrong impression from an oscillating signal if you don't sample frequently enough. Considering the range of possible heart rates for adults, how would you choose the sampling rate?  Change `main.py` to reflect your choice. Describe the rational for your choice below."
   ]
  },
  {
   "cell_type": "markdown",
   "id": "bf7865d5",
   "metadata": {},
   "source": [
    "<h3 style=\"background-color:lightblue\"><left> Write Answer Below </left></h3>\n",
    "..."
   ]
  },
  {
   "cell_type": "markdown",
   "id": "655e3573",
   "metadata": {},
   "source": [
    "\n",
    "\n",
    "## Loading firmware onto the microcontroller\n",
    "\n",
    "[Follow the directions here](https://projects.raspberrypi.org/en/projects/getting-started-with-the-pico) to get Thonny installed on your machine and the Micropython firmware installed on the Pico. You only have to follow the steps as far as using the shell -- once you have got the on board LED to turn on, you can move on to the next step.\n",
    "\n",
    "Use Thonny's file manager to transfer `main.py` to the Pico. Now, whenever you plug in the pico, it will run main.py.\n",
    "\n",
    "## Wiring it up\n",
    "\n",
    "We have the computer talking to the microcontroller, now we just need the Pulse Sensor talking to the microcontroller. To do this, we will use a \"bread board\". The name \"bread board\" comes from the old days of electronics when people would prototype their projects by nailing them to a cutting board. With a modern bread board, you don't need nails.\n",
    "\n",
    "There are three wires on the Pulse Sensor, and three connections we have to make. We will use tiny metal clips which are sitting inside the bread board. The clips are arranged in rows -- see the example your instructor has taken apart. \n",
    "\n",
    "NOTE TO INSTRUCTOR: have a breadboard with the backing removed, showing the clips. This will do far more to demystify the bread board than a picture ever could.\n",
    "\n",
    "By inserting the entire Pico into your bread board, we can easily connect electrical wires to each of the pins of the Pico. First, **disconnect the Pico from your computer** and plug it into the bread board so that the USB plug is at the end of the bread board.\n",
    "\n",
    "Next, inspect the data sheet for the Pico. Look for the pin labeled \"3V3(OUT)\". Connect this to the wire labeled with a \"+\" on the Pulse Sensor. Connect the wire labeled \"-\" to the pin labeled \"AGND\". Connect the pin labeled \"ADC0\" to the other wire, which is labeled \"S\". Finally, connect a ceramic capacitor between \"AGND\" and \"ADC0\".\n",
    "\n",
    "**At this point, check with your instructor to make sure you have it configured correctly.** If it is wired incorrectly, there is a chance that powering it on could damage either the Pico or the Pulse Sensor.\n",
    "\n",
    "Once you have checked with your instructor, you can plug the Pico into your computer and move on to the next step."
   ]
  },
  {
   "cell_type": "markdown",
   "id": "47634427",
   "metadata": {},
   "source": [
    "<img src=\"IMG_20210913_145507553.jpg\" width=\"500\"/> <img src=\"IMG_20210913_145517772.jpg\" width=\"500\"/>"
   ]
  },
  {
   "cell_type": "markdown",
   "id": "7beebf3f",
   "metadata": {},
   "source": [
    "## Acquiring data\n",
    "\n",
    "Now we are ready to acquire the data! Run the following cell. That will create an empty plot which we will fill in using the cell below. Notice that the sampling rate is not specified -- you have to fill it in."
   ]
  },
  {
   "cell_type": "code",
   "execution_count": 43,
   "id": "dd810c06",
   "metadata": {},
   "outputs": [
    {
     "data": {
      "application/vnd.jupyter.widget-view+json": {
       "model_id": "3d47bd7f4cfc4bb1b5313744c265a5ca",
       "version_major": 2,
       "version_minor": 0
      },
      "text/html": [
       "\n",
       "            <div style=\"display: inline-block;\">\n",
       "                <div class=\"jupyter-widgets widget-label\" style=\"text-align: center;\">\n",
       "                    Figure\n",
       "                </div>\n",
       "                <img src='data:image/png;base64,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' width=640.0/>\n",
       "            </div>\n",
       "        "
      ],
      "text/plain": [
       "Canvas(toolbar=Toolbar(toolitems=[('Home', 'Reset original view', 'home', 'home'), ('Back', 'Back to previous …"
      ]
     },
     "metadata": {},
     "output_type": "display_data"
    }
   ],
   "source": [
    "import numpy as np\n",
    "import matplotlib.pyplot as plt\n",
    "from heartbeat import acquire\n",
    "%matplotlib widget\n",
    "\n",
    "sampling_rate =  200\n",
    "sampling_duration = 5 # seconds\n",
    "number_of_samples = sampling_rate * sampling_duration\n",
    "\n",
    "x = np.arange(number_of_samples)/sampling_rate\n",
    "y = np.full_like(x, np.nan)\n",
    "\n",
    "fig, ax = plt.subplots()\n",
    "line,  = plt.plot(x, y)\n",
    "plt.xlim(0, sampling_duration)\n",
    "plt.ylim(0, 2**16)\n",
    "plt.show()"
   ]
  },
  {
   "cell_type": "markdown",
   "id": "4818facc",
   "metadata": {},
   "source": [
    "Now, touch the pad of your finger to the side of the heart monitor with a picture of a heart on it. Your finger should be barely touching it -- don't apply pressure. Once you have it situated correctly, run the following cell to acquire data. This cell has a `while True` loop in it, which will just run forever unless we do something to stop it. Once you have found your pulse, hit the \"stop\" button at the top of the page to leave the loop. Then, run the cell below it to try and get a good 5 second clip of your pulse. You can run these cells as many times as you like, until you get a good image."
   ]
  },
  {
   "cell_type": "code",
   "execution_count": 55,
   "id": "611d3036",
   "metadata": {},
   "outputs": [
    {
     "ename": "KeyboardInterrupt",
     "evalue": "",
     "output_type": "error",
     "traceback": [
      "\u001b[1;31m---------------------------------------------------------------------------\u001b[0m",
      "\u001b[1;31mKeyboardInterrupt\u001b[0m                         Traceback (most recent call last)",
      "\u001b[1;32m~\\AppData\\Local\\Temp/ipykernel_10688/438477364.py\u001b[0m in \u001b[0;36m<module>\u001b[1;34m\u001b[0m\n\u001b[0;32m      1\u001b[0m \u001b[1;32mwhile\u001b[0m \u001b[1;32mTrue\u001b[0m\u001b[1;33m:\u001b[0m\u001b[1;33m\u001b[0m\u001b[1;33m\u001b[0m\u001b[0m\n\u001b[1;32m----> 2\u001b[1;33m     \u001b[0macquire\u001b[0m\u001b[1;33m(\u001b[0m\u001b[0mrate\u001b[0m \u001b[1;33m=\u001b[0m \u001b[0msampling_rate\u001b[0m\u001b[1;33m,\u001b[0m \u001b[0my\u001b[0m \u001b[1;33m=\u001b[0m \u001b[0my\u001b[0m\u001b[1;33m,\u001b[0m \u001b[0mline\u001b[0m \u001b[1;33m=\u001b[0m \u001b[0mline\u001b[0m\u001b[1;33m,\u001b[0m \u001b[0mfig\u001b[0m \u001b[1;33m=\u001b[0m \u001b[0mfig\u001b[0m\u001b[1;33m)\u001b[0m\u001b[1;33m\u001b[0m\u001b[1;33m\u001b[0m\u001b[0m\n\u001b[0m",
      "\u001b[1;32m~\\Documents\\git projects\\DataLab\\Labs\\2 heartbeat\\heartbeat.py\u001b[0m in \u001b[0;36macquire\u001b[1;34m(rate, y, line, fig)\u001b[0m\n\u001b[0;32m     42\u001b[0m         \u001b[1;32melse\u001b[0m\u001b[1;33m:\u001b[0m\u001b[1;33m\u001b[0m\u001b[1;33m\u001b[0m\u001b[0m\n\u001b[0;32m     43\u001b[0m             \u001b[1;31m# the buffer is empty, so we have time to draw.\u001b[0m\u001b[1;33m\u001b[0m\u001b[1;33m\u001b[0m\u001b[0m\n\u001b[1;32m---> 44\u001b[1;33m             \u001b[0mfig\u001b[0m\u001b[1;33m.\u001b[0m\u001b[0mcanvas\u001b[0m\u001b[1;33m.\u001b[0m\u001b[0mdraw\u001b[0m\u001b[1;33m(\u001b[0m\u001b[1;33m)\u001b[0m\u001b[1;33m\u001b[0m\u001b[1;33m\u001b[0m\u001b[0m\n\u001b[0m\u001b[0;32m     45\u001b[0m \u001b[1;33m\u001b[0m\u001b[0m\n\u001b[0;32m     46\u001b[0m \u001b[1;33m\u001b[0m\u001b[0m\n",
      "\u001b[1;32m~\\anaconda3\\envs\\science\\lib\\site-packages\\matplotlib\\backends\\backend_webagg_core.py\u001b[0m in \u001b[0;36mdraw\u001b[1;34m(self)\u001b[0m\n\u001b[0;32m    153\u001b[0m             \u001b[0msuper\u001b[0m\u001b[1;33m(\u001b[0m\u001b[1;33m)\u001b[0m\u001b[1;33m.\u001b[0m\u001b[0mdraw\u001b[0m\u001b[1;33m(\u001b[0m\u001b[1;33m)\u001b[0m\u001b[1;33m\u001b[0m\u001b[1;33m\u001b[0m\u001b[0m\n\u001b[0;32m    154\u001b[0m         \u001b[1;32mfinally\u001b[0m\u001b[1;33m:\u001b[0m\u001b[1;33m\u001b[0m\u001b[1;33m\u001b[0m\u001b[0m\n\u001b[1;32m--> 155\u001b[1;33m             \u001b[0mself\u001b[0m\u001b[1;33m.\u001b[0m\u001b[0mmanager\u001b[0m\u001b[1;33m.\u001b[0m\u001b[0mrefresh_all\u001b[0m\u001b[1;33m(\u001b[0m\u001b[1;33m)\u001b[0m  \u001b[1;31m# Swap the frames.\u001b[0m\u001b[1;33m\u001b[0m\u001b[1;33m\u001b[0m\u001b[0m\n\u001b[0m\u001b[0;32m    156\u001b[0m \u001b[1;33m\u001b[0m\u001b[0m\n\u001b[0;32m    157\u001b[0m     \u001b[1;32mdef\u001b[0m \u001b[0mblit\u001b[0m\u001b[1;33m(\u001b[0m\u001b[0mself\u001b[0m\u001b[1;33m,\u001b[0m \u001b[0mbbox\u001b[0m\u001b[1;33m=\u001b[0m\u001b[1;32mNone\u001b[0m\u001b[1;33m)\u001b[0m\u001b[1;33m:\u001b[0m\u001b[1;33m\u001b[0m\u001b[1;33m\u001b[0m\u001b[0m\n",
      "\u001b[1;32m~\\anaconda3\\envs\\science\\lib\\site-packages\\matplotlib\\backends\\backend_webagg_core.py\u001b[0m in \u001b[0;36mrefresh_all\u001b[1;34m(self)\u001b[0m\n\u001b[0;32m    450\u001b[0m     \u001b[1;32mdef\u001b[0m \u001b[0mrefresh_all\u001b[0m\u001b[1;33m(\u001b[0m\u001b[0mself\u001b[0m\u001b[1;33m)\u001b[0m\u001b[1;33m:\u001b[0m\u001b[1;33m\u001b[0m\u001b[1;33m\u001b[0m\u001b[0m\n\u001b[0;32m    451\u001b[0m         \u001b[1;32mif\u001b[0m \u001b[0mself\u001b[0m\u001b[1;33m.\u001b[0m\u001b[0mweb_sockets\u001b[0m\u001b[1;33m:\u001b[0m\u001b[1;33m\u001b[0m\u001b[1;33m\u001b[0m\u001b[0m\n\u001b[1;32m--> 452\u001b[1;33m             \u001b[0mdiff\u001b[0m \u001b[1;33m=\u001b[0m \u001b[0mself\u001b[0m\u001b[1;33m.\u001b[0m\u001b[0mcanvas\u001b[0m\u001b[1;33m.\u001b[0m\u001b[0mget_diff_image\u001b[0m\u001b[1;33m(\u001b[0m\u001b[1;33m)\u001b[0m\u001b[1;33m\u001b[0m\u001b[1;33m\u001b[0m\u001b[0m\n\u001b[0m\u001b[0;32m    453\u001b[0m             \u001b[1;32mif\u001b[0m \u001b[0mdiff\u001b[0m \u001b[1;32mis\u001b[0m \u001b[1;32mnot\u001b[0m \u001b[1;32mNone\u001b[0m\u001b[1;33m:\u001b[0m\u001b[1;33m\u001b[0m\u001b[1;33m\u001b[0m\u001b[0m\n\u001b[0;32m    454\u001b[0m                 \u001b[1;32mfor\u001b[0m \u001b[0ms\u001b[0m \u001b[1;32min\u001b[0m \u001b[0mself\u001b[0m\u001b[1;33m.\u001b[0m\u001b[0mweb_sockets\u001b[0m\u001b[1;33m:\u001b[0m\u001b[1;33m\u001b[0m\u001b[1;33m\u001b[0m\u001b[0m\n",
      "\u001b[1;32m~\\anaconda3\\envs\\science\\lib\\site-packages\\matplotlib\\backends\\backend_webagg_core.py\u001b[0m in \u001b[0;36mget_diff_image\u001b[1;34m(self)\u001b[0m\n\u001b[0;32m    190\u001b[0m             \u001b[0mpixels\u001b[0m \u001b[1;33m=\u001b[0m \u001b[0mbuff\u001b[0m\u001b[1;33m.\u001b[0m\u001b[0mview\u001b[0m\u001b[1;33m(\u001b[0m\u001b[0mdtype\u001b[0m\u001b[1;33m=\u001b[0m\u001b[0mnp\u001b[0m\u001b[1;33m.\u001b[0m\u001b[0muint8\u001b[0m\u001b[1;33m)\u001b[0m\u001b[1;33m.\u001b[0m\u001b[0mreshape\u001b[0m\u001b[1;33m(\u001b[0m\u001b[0mbuff\u001b[0m\u001b[1;33m.\u001b[0m\u001b[0mshape\u001b[0m \u001b[1;33m+\u001b[0m \u001b[1;33m(\u001b[0m\u001b[1;36m4\u001b[0m\u001b[1;33m,\u001b[0m\u001b[1;33m)\u001b[0m\u001b[1;33m)\u001b[0m\u001b[1;33m\u001b[0m\u001b[1;33m\u001b[0m\u001b[0m\n\u001b[0;32m    191\u001b[0m \u001b[1;33m\u001b[0m\u001b[0m\n\u001b[1;32m--> 192\u001b[1;33m             \u001b[1;32mif\u001b[0m \u001b[0mself\u001b[0m\u001b[1;33m.\u001b[0m\u001b[0m_force_full\u001b[0m \u001b[1;32mor\u001b[0m \u001b[0mnp\u001b[0m\u001b[1;33m.\u001b[0m\u001b[0many\u001b[0m\u001b[1;33m(\u001b[0m\u001b[0mpixels\u001b[0m\u001b[1;33m[\u001b[0m\u001b[1;33m:\u001b[0m\u001b[1;33m,\u001b[0m \u001b[1;33m:\u001b[0m\u001b[1;33m,\u001b[0m \u001b[1;36m3\u001b[0m\u001b[1;33m]\u001b[0m \u001b[1;33m!=\u001b[0m \u001b[1;36m255\u001b[0m\u001b[1;33m)\u001b[0m\u001b[1;33m:\u001b[0m\u001b[1;33m\u001b[0m\u001b[1;33m\u001b[0m\u001b[0m\n\u001b[0m\u001b[0;32m    193\u001b[0m                 \u001b[0mself\u001b[0m\u001b[1;33m.\u001b[0m\u001b[0mset_image_mode\u001b[0m\u001b[1;33m(\u001b[0m\u001b[1;34m'full'\u001b[0m\u001b[1;33m)\u001b[0m\u001b[1;33m\u001b[0m\u001b[1;33m\u001b[0m\u001b[0m\n\u001b[0;32m    194\u001b[0m                 \u001b[0moutput\u001b[0m \u001b[1;33m=\u001b[0m \u001b[0mbuff\u001b[0m\u001b[1;33m\u001b[0m\u001b[1;33m\u001b[0m\u001b[0m\n",
      "\u001b[1;31mKeyboardInterrupt\u001b[0m: "
     ]
    }
   ],
   "source": [
    "while True:\n",
    "    acquire(rate = sampling_rate, y = y, line = line, fig = fig)"
   ]
  },
  {
   "cell_type": "code",
   "execution_count": null,
   "id": "e45126ac-342a-4890-acf6-661d4c5de210",
   "metadata": {},
   "outputs": [],
   "source": []
  },
  {
   "cell_type": "markdown",
   "id": "25cea3c6",
   "metadata": {},
   "source": [
    "Re-run the above cell a few times until you get a good, clean measurement which shows a clear heartbeat pattern. It should look something like this:\n",
    "\n",
    "<img src=\"example_heartbeat.png\"/>\n",
    "\n",
    "Once you have a good measurement, run the following cell to save your measurement to a file."
   ]
  },
  {
   "cell_type": "code",
   "execution_count": null,
   "id": "96418021",
   "metadata": {},
   "outputs": [],
   "source": [
    "np.savetxt('heartbeat.txt', y)"
   ]
  },
  {
   "cell_type": "markdown",
   "id": "045e92cf",
   "metadata": {},
   "source": [
    "Have a look at the file you just made (you should be able to open it right here in Jupyterlab). You should see a long list of numbers.\n",
    "\n",
    "It is a very good practice to use a separate document to store your data. By not storing your data within the document you use to analyze it, you will be able to run your analysis several times without fear of changing your original data. For this reason, the rest of this lab continues in a separate jupyter notebook, called Part 2."
   ]
  }
 ],
 "metadata": {
  "kernelspec": {
   "display_name": "Python 3 (ipykernel)",
   "language": "python",
   "name": "python3"
  },
  "language_info": {
   "codemirror_mode": {
    "name": "ipython",
    "version": 3
   },
   "file_extension": ".py",
   "mimetype": "text/x-python",
   "name": "python",
   "nbconvert_exporter": "python",
   "pygments_lexer": "ipython3",
   "version": "3.9.7"
  }
 },
 "nbformat": 4,
 "nbformat_minor": 5
}
