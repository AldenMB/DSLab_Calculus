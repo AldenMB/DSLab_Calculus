{
 "cells": [
  {
   "cell_type": "markdown",
   "id": "03ac8b2b-95e9-487e-b640-9d9f58c637eb",
   "metadata": {},
   "source": [
    "# The most useful way to organize code is the function\n",
    "\n",
    "Up to now, we have been relying on functions other people have written to achieve our goals. One of the most important roles of a computer programmer is writing good functions.\n",
    "\n",
    "For this lab, we are going to learn how to write functions. As a refresher, last lab we discussed how functions are groups of code that always run together. When you call a function, you execute the code that is associated within that function. Functions could take inputs, maniplute the inputs, and return an output. \n",
    "\n",
    "Why use functions? Functions help reduce repetitive code. Functions also make your code easier to read."
   ]
  },
  {
   "cell_type": "markdown",
   "id": "2474fcf9-c77c-454d-bd65-8040f06bfbd9",
   "metadata": {},
   "source": [
    "We define/create a function by using the key word ```def```, the name of the function, parameters enclosed within ```()```, and ```:``` signifying the end of the header. A function also has the ability to return a value via the command ```return```.\n",
    "\n",
    "Here's an example of a simple function that prints something."
   ]
  },
  {
   "cell_type": "code",
   "execution_count": 24,
   "id": "198f117b-aa38-4f45-aa80-11fd1c3056ba",
   "metadata": {},
   "outputs": [
    {
     "name": "stdout",
     "output_type": "stream",
     "text": [
      "Data Science is cool!\n"
     ]
    }
   ],
   "source": [
    "def name():                                      # Function Header\n",
    "    print(\"Data Science is cool!\")               # Function Body\n",
    "    \n",
    "name()                                           # Function Call"
   ]
  },
  {
   "cell_type": "code",
   "execution_count": 25,
   "id": "7d069978-3e5b-401c-98bc-af59067a3e93",
   "metadata": {},
   "outputs": [
    {
     "name": "stdout",
     "output_type": "stream",
     "text": [
      "1 + 2 = 3\n"
     ]
    }
   ],
   "source": [
    "def add12():\n",
    "    a = 1\n",
    "    b = 2\n",
    "    c = a + b\n",
    "    print(\"1 + 2 = {}\".format(c))\n",
    "    \n",
    "add12()"
   ]
  },
  {
   "cell_type": "markdown",
   "id": "2b0b73e9-5228-4624-a3cb-d40ceffbe9c8",
   "metadata": {},
   "source": [
    "You can also pass information into functions so that you can manipulate the parameters of the function within the function. Parameters are enclosed within the ```()``` part of the function header. You can pass as many parameters as you would like within the function header. The order of the parameters are significant and should match the order in the function's header."
   ]
  },
  {
   "cell_type": "code",
   "execution_count": 31,
   "id": "5089e284-c5bb-4d1e-8b13-0e0092bef919",
   "metadata": {},
   "outputs": [
    {
     "name": "stdout",
     "output_type": "stream",
     "text": [
      "a - b = 1\n",
      "a - b = 21\n",
      "a - b = -21\n",
      "a - b = -2\n",
      "a - b = [17 17 17 17 17]\n"
     ]
    }
   ],
   "source": [
    "def subtract(a, b):                      # Function Header passes in parameters a and b\n",
    "    c = a - b\n",
    "    print(\"a - b = {}\".format(c))\n",
    "\n",
    "subtract(2, 1)                           # Function call passes 2 as 'a' and 1 as 'b', 2 - 1 = 1\n",
    "subtract(25, 4)                          # 25 - 4 = 21\n",
    "subtract(4, 25)                          # 4 - 25 = -21\n",
    "\n",
    "a = 1\n",
    "b = -1\n",
    "subtract(b, a)                           # Remember that order of the inputs into the parameters matter!\n",
    "\n",
    "d = np.array([1, 2, 3, 4, 5])\n",
    "e = np.array([18, 19, 20, 21, 22])\n",
    "subtract(e, d)"
   ]
  },
  {
   "cell_type": "code",
   "execution_count": 27,
   "id": "15e2ddef-605d-478a-b89c-44932c79c44c",
   "metadata": {},
   "outputs": [
    {
     "name": "stdout",
     "output_type": "stream",
     "text": [
      "Name: Purdue Pete\n",
      "Email: boilerup@purdue.edu\n"
     ]
    }
   ],
   "source": [
    "def info(name, email):\n",
    "    print(\"Name: {}\".format(name))\n",
    "    print(\"Email: {}\".format(email))\n",
    "        \n",
    "info(\"Purdue Pete\", \"boilerup@purdue.edu\")"
   ]
  },
  {
   "cell_type": "markdown",
   "id": "d84cc1f1-3d4e-4220-a7c8-7dc02c581e45",
   "metadata": {},
   "source": [
    "The neat thing about functions is that you could also return a value from a function utilizing the key word ```return```. You must remember to store the returned value from the function into a variable if you want to save it. Remember that when you call a function, it's like the function call is replaced by the code within the body of the function."
   ]
  },
  {
   "cell_type": "code",
   "execution_count": 15,
   "id": "c8a12dc4-6cf3-4b0e-96fa-3c3d7276827f",
   "metadata": {},
   "outputs": [
    {
     "name": "stdout",
     "output_type": "stream",
     "text": [
      "5\n",
      "The values of d and g are 30 and 41, respectively.\n"
     ]
    }
   ],
   "source": [
    "def return5():\n",
    "    return 5\n",
    "\n",
    "def multiply(a, b):\n",
    "    c = a * b\n",
    "    return c                             # return the value of a * b\n",
    "\n",
    "e = 9\n",
    "f = 4\n",
    "d = multiply(5, 6)                       # d = 5 * 6\n",
    "g = multiply(e, f) + return5()           # d = (9 * 4) + (5)\n",
    "\n",
    "print(return5())\n",
    "print(\"The values of d and g are {} and {}, respectively.\".format(d, g))"
   ]
  },
  {
   "cell_type": "markdown",
   "id": "1376080c-8cd5-48d6-a726-c4e17628c8c1",
   "metadata": {},
   "source": [
    "Let's look at why functions are good at reducing repetition in code."
   ]
  },
  {
   "cell_type": "code",
   "execution_count": 28,
   "id": "2f44c630-4bc2-4d4f-af43-75a86da059d8",
   "metadata": {},
   "outputs": [
    {
     "name": "stdout",
     "output_type": "stream",
     "text": [
      "Repetitive code when functions can be used are unprofessional and take space.\n",
      "3\n",
      "3\n",
      "3\n"
     ]
    }
   ],
   "source": [
    "print(\"Repetitive code when functions can be used are unprofessional and take space.\")\n",
    "for i in range(1, 6):\n",
    "    if i == 3:\n",
    "        print(i)\n",
    "for i in range(1, 6):\n",
    "    if i == 3:\n",
    "        print(i)\n",
    "for i in range(1, 6):\n",
    "    if i == 3:\n",
    "        print(i)"
   ]
  },
  {
   "cell_type": "code",
   "execution_count": 29,
   "id": "2be077b9-73e7-4a16-bf24-d76dd2661a14",
   "metadata": {
    "scrolled": true
   },
   "outputs": [
    {
     "name": "stdout",
     "output_type": "stream",
     "text": [
      "Functions can help keep your code neat, concise, and easy to read.\n",
      "3\n",
      "3\n",
      "3\n"
     ]
    }
   ],
   "source": [
    "def print3():\n",
    "    for i in range(1, 6):\n",
    "        if i == 3:\n",
    "            print(i)\n",
    "            \n",
    "print(\"Functions can help keep your code neat, concise, and easy to read.\")\n",
    "print3()\n",
    "print3()\n",
    "print3()"
   ]
  },
  {
   "cell_type": "markdown",
   "id": "3439dece-1a76-4be9-a111-53352108fac7",
   "metadata": {},
   "source": [
    "<h3 style=\"color:red;\"><left> Exercise 1 </left></h3>"
   ]
  },
  {
   "cell_type": "markdown",
   "id": "0099402c-e91f-48f2-a72a-5f886bdaf0bf",
   "metadata": {},
   "source": [
    "__Part 1__\n",
    "\n",
    "Create the following functions. <br>\n",
    "\n",
    "1. Function named ```trapezoid_area``` that has parameters of ```base1```, ```base2```, and ```height``` as its parameters and returns the area of a trapezoid.\n",
    "2. Function named ```slope``` that calculates the slope between two coordinate points. The parameters are ```x1```, ```y1```, ```x2```, and ```y2``` and returns the slope between the two points.\n",
    "\n",
    "__Part 2__\n",
    "\n",
    "Create the following functions for the following formulas. Do not use any of python's NumPy functions, with the exception of the ```sum()``` function.\n",
    "\n",
    "1) Arithmetic Mean\n",
    "\\begin{align*}\n",
    "\\mu \n",
    "&= \\frac{1}{n}\\sum_{i=1}^n a_i\\\\\n",
    "&= \\frac{a_1+a_2+\\dots+a_n}{n}\n",
    "\\end{align*}\n",
    "- Name: ```mean```\n",
    "- Parameters: ```x``` (an array of values of variable length)\n",
    "\n",
    "2) Standard Deviation (You must utilize your ```mean``` function from Question 1)\n",
    "\\begin{align*}\n",
    "\\sigma \n",
    "&= \\sqrt{\\frac{1}{n-1} \\sum_{i=1}^n (x_i-\\mu)^2}\\\\\n",
    "&= \\sqrt{\\frac{(x_1-\\mu)^2+(x_2-\\mu)^2+\\dots+(x_n-\\mu)^2}{n-1}}\n",
    "\\end{align*}\n",
    "- Name: ```std```\n",
    "- Parameters: ```x``` (an array of values of variable length)"
   ]
  },
  {
   "cell_type": "markdown",
   "id": "68b03dee-c68e-4d5e-9572-af8647befa5d",
   "metadata": {},
   "source": [
    "# functions make code reusable\n",
    "\n"
   ]
  }
 ],
 "metadata": {
  "kernelspec": {
   "display_name": "Python 3 (ipykernel)",
   "language": "python",
   "name": "python3"
  },
  "language_info": {
   "codemirror_mode": {
    "name": "ipython",
    "version": 3
   },
   "file_extension": ".py",
   "mimetype": "text/x-python",
   "name": "python",
   "nbconvert_exporter": "python",
   "pygments_lexer": "ipython3",
   "version": "3.8.10"
  }
 },
 "nbformat": 4,
 "nbformat_minor": 5
}
