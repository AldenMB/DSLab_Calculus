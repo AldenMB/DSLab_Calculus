{
 "cells": [
  {
   "cell_type": "markdown",
   "id": "packed-preview",
   "metadata": {},
   "source": [
    "<h1><center>\n",
    "Lab 2: Functions and Data Analysis<br/>\n",
    "    <small>Date: </small> <br/>\n",
    "    <small>Section: </small>\n",
    "</center></h1>"
   ]
  },
  {
   "cell_type": "markdown",
   "id": "excessive-church",
   "metadata": {},
   "source": [
    "<center><h2 style=\"color:black;\"><left>Grading Rubric</left></h2></center>"
   ]
  },
  {
   "cell_type": "markdown",
   "id": "satisfied-bench",
   "metadata": {},
   "source": [
    "Insert grading rubric"
   ]
  },
  {
   "cell_type": "markdown",
   "id": "subjective-luxury",
   "metadata": {},
   "source": [
    "To enter text, click on a section header. It should highlight in blue. Click the $\\mathtt{+}$ in the top left side of the toolbar above. Then, change the cell type from $\\mathtt{Cell}$ to $\\mathtt{Markdown}$ by clicking the dropdown arrow."
   ]
  },
  {
   "cell_type": "markdown",
   "id": "twenty-orbit",
   "metadata": {},
   "source": [
    "To enter code, do the same instructions as above, but make sure that the cell type is  $\\mathtt{Cell}$."
   ]
  },
  {
   "cell_type": "markdown",
   "id": "nervous-norfolk",
   "metadata": {},
   "source": [
    "<h2 style=\"color:orange;\"><left>2. Laboratory Ethics</left></h2>"
   ]
  },
  {
   "cell_type": "markdown",
   "id": "unique-prayer",
   "metadata": {},
   "source": [
    "<h3 style=\"color:salmon;\"><left> 2.1 </left></h3>"
   ]
  },
  {
   "cell_type": "markdown",
   "id": "opening-brazilian",
   "metadata": {},
   "source": [
    "Your laboratory ethics statement goes here"
   ]
  },
  {
   "cell_type": "markdown",
   "id": "acknowledged-giant",
   "metadata": {},
   "source": [
    "<h2 style=\"color:orange;\"><left>3. Functions</left></h2>"
   ]
  },
  {
   "cell_type": "markdown",
   "id": "final-parts",
   "metadata": {},
   "source": [
    "<h3 style=\"color:salmon;\"><left> 3.1 Libraries </left></h3>"
   ]
  },
  {
   "cell_type": "markdown",
   "id": "accepting-dutch",
   "metadata": {},
   "source": [
    "Insert your python libraries here"
   ]
  },
  {
   "cell_type": "code",
   "execution_count": 1,
   "id": "asian-sentence",
   "metadata": {},
   "outputs": [],
   "source": [
    "import numpy as np\n",
    "import matplotlib.pyplot as plt\n",
    "from sympy import Symbol, Derivative\n",
    "import sympy as sym\n",
    "import lab02_test"
   ]
  },
  {
   "cell_type": "markdown",
   "id": "improved-organ",
   "metadata": {},
   "source": [
    "<h3 style=\"color:red;\"><left> Exercise 1 </left></h3>"
   ]
  },
  {
   "cell_type": "markdown",
   "id": "cooperative-sherman",
   "metadata": {},
   "source": [
    "__Part 1__"
   ]
  },
  {
   "cell_type": "markdown",
   "id": "dynamic-setup",
   "metadata": {},
   "source": [
    "Insert answer to questions here"
   ]
  },
  {
   "cell_type": "code",
   "execution_count": 2,
   "id": "handmade-exhaust",
   "metadata": {},
   "outputs": [],
   "source": [
    "def trapezoid_area(base1, base2, height):\n",
    "    area = (base1 + base2) * height / 2\n",
    "    return area"
   ]
  },
  {
   "cell_type": "code",
   "execution_count": 3,
   "id": "fantastic-macro",
   "metadata": {},
   "outputs": [
    {
     "name": "stdout",
     "output_type": "stream",
     "text": [
      "all 3 tests passed successfully. Good job!\n"
     ]
    }
   ],
   "source": [
    "#Old Test Code\n",
    "#from lab02_test import ex1_check1\n",
    "#ex1_check1(trapezoid_area)\n",
    "\n",
    "from lab02_grader import check_trapezoid_area\n",
    "check_trapezoid_area(trapezoid_area)"
   ]
  },
  {
   "cell_type": "code",
   "execution_count": 4,
   "id": "painted-saint",
   "metadata": {},
   "outputs": [],
   "source": [
    "def slope(x1, y1, x2, y2):\n",
    "    slope = (y2 - y1) / (x2 - x1)\n",
    "    return slope"
   ]
  },
  {
   "cell_type": "code",
   "execution_count": 5,
   "id": "hispanic-judge",
   "metadata": {},
   "outputs": [
    {
     "name": "stdout",
     "output_type": "stream",
     "text": [
      "all 3 tests passed successfully. Good job!\n"
     ]
    }
   ],
   "source": [
    "#Old Test Code\n",
    "#from lab02_test import ex1_check2\n",
    "#ex1_check2(slope)\n",
    "\n",
    "from lab02_grader import check_slope\n",
    "check_slope(slope)"
   ]
  },
  {
   "cell_type": "markdown",
   "id": "considered-intersection",
   "metadata": {},
   "source": [
    "__Part 2__"
   ]
  },
  {
   "cell_type": "markdown",
   "id": "compressed-sweet",
   "metadata": {},
   "source": [
    "Insert python code here"
   ]
  },
  {
   "cell_type": "code",
   "execution_count": 6,
   "id": "perfect-folks",
   "metadata": {},
   "outputs": [],
   "source": [
    "def mean(x):\n",
    "    num = len(x)\n",
    "    sum = np.sum(x)\n",
    "    avg = sum / num\n",
    "    return avg"
   ]
  },
  {
   "cell_type": "code",
   "execution_count": 7,
   "id": "shared-treasury",
   "metadata": {},
   "outputs": [
    {
     "name": "stdout",
     "output_type": "stream",
     "text": [
      "all 4 tests passed successfully. Good job!\n"
     ]
    }
   ],
   "source": [
    "#Old Test Code\n",
    "#from lab02_test import ex2_check1\n",
    "#ex2_check1(mean)\n",
    "\n",
    "from lab02_grader import check_mean\n",
    "check_mean(mean)"
   ]
  },
  {
   "cell_type": "code",
   "execution_count": 8,
   "id": "identified-oasis",
   "metadata": {},
   "outputs": [],
   "source": [
    "def std(x):\n",
    "    avg = mean(x)\n",
    "    sub2 = (x - avg) ** 2\n",
    "    sum = np.sum(sub2)\n",
    "    div = sum / (len(x) - 1)\n",
    "    std = div ** 0.5\n",
    "    return std"
   ]
  },
  {
   "cell_type": "code",
   "execution_count": 9,
   "id": "premium-hacker",
   "metadata": {
    "scrolled": true
   },
   "outputs": [
    {
     "name": "stdout",
     "output_type": "stream",
     "text": [
      "all 4 tests passed successfully. Good job!\n"
     ]
    }
   ],
   "source": [
    "#Old Test Code\n",
    "#from lab02_test import ex2_check2\n",
    "#ex2_check2(std)\n",
    "\n",
    "from lab02_grader import check_std\n",
    "check_std(std)"
   ]
  },
  {
   "cell_type": "markdown",
   "id": "municipal-swiss",
   "metadata": {},
   "source": [
    "<h3 style=\"color:red;\"><left> Exercise 2 </left></h3>"
   ]
  },
  {
   "cell_type": "markdown",
   "id": "attended-buying",
   "metadata": {},
   "source": [
    "Insert answers to questions here"
   ]
  }
 ],
 "metadata": {
  "kernelspec": {
   "display_name": "Python 3",
   "language": "python",
   "name": "python3"
  },
  "language_info": {
   "codemirror_mode": {
    "name": "ipython",
    "version": 3
   },
   "file_extension": ".py",
   "mimetype": "text/x-python",
   "name": "python",
   "nbconvert_exporter": "python",
   "pygments_lexer": "ipython3",
   "version": "3.9.2"
  }
 },
 "nbformat": 4,
 "nbformat_minor": 5
}
