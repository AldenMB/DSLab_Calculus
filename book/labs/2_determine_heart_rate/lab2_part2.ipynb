{
 "cells": [
  {
   "cell_type": "markdown",
   "id": "a77237ce",
   "metadata": {},
   "source": [
    "<div style=\"background-color:lightblue\">\n",
    "<h1><center>\n",
    "    The Data Science Labs on <br/>\n",
    "     Differential and Integral Calculus  <br/>\n",
    "   <small>by Alden Bradford and Mireille Boutin </small>\n",
    "</center></h1>\n",
    "    </div>"
   ]
  },
  {
   "cell_type": "markdown",
   "id": "f5b86101",
   "metadata": {},
   "source": [
    "<h1><center>\n",
    "    Laboratory 2 - Part 2<br/>\n",
    "    Introduction to error analysis - Determining Heart Rate from Photoplethysmography Sensors<br/>\n",
    "    <p style=\"font-size: 16px\"> Last Updated on January 7, 2022</p>\n",
    "</center></h1>"
   ]
  },
  {
   "cell_type": "markdown",
   "id": "410d529e-8a61-4745-9d95-b1fa2befc39c",
   "metadata": {},
   "source": [
    "<h3 style=\"background-color:lightblue\"><left> Write your name and email below: </left></h3>\n",
    "\n",
    "First Name, Last Name, email "
   ]
  },
  {
   "cell_type": "markdown",
   "id": "7700627c",
   "metadata": {},
   "source": [
    "<h2 style=\"color:orange;\"><left>3. Analysis </left></h2>"
   ]
  },
  {
   "cell_type": "markdown",
   "id": "8ced392e",
   "metadata": {},
   "source": [
    "In the previous notebook, we created a file with your measured heartbeat. In this notebook, you will analyze that data which you collected. Here is how to load that data back into Python:"
   ]
  },
  {
   "cell_type": "code",
   "execution_count": null,
   "id": "63b59c4b",
   "metadata": {},
   "outputs": [],
   "source": [
    "import numpy as np\n",
    "import matplotlib.pyplot as plt\n",
    "\n",
    "y = np.loadtxt(\"heartbeat.txt\")\n",
    "\n",
    "print(y[:20])  # show me just the first 20 entries"
   ]
  },
  {
   "cell_type": "markdown",
   "id": "efd8f6a1",
   "metadata": {},
   "source": [
    "A good first step for understanding data is to visualize it -- that is, make a plot. `matplotlib` makes this easy:"
   ]
  },
  {
   "cell_type": "code",
   "execution_count": null,
   "id": "da3b9d21",
   "metadata": {},
   "outputs": [],
   "source": [
    "plt.plot(y)\n",
    "plt.show()"
   ]
  },
  {
   "cell_type": "markdown",
   "id": "55bef9f4",
   "metadata": {},
   "source": [
    "Unfortunately the x-axis is all wrong -- it is just counting measurements one by one, not giving us the actual time of each measurement. To fix this, we can make an array which has the time each measurement was taken.\n",
    "\n",
    "<h3 style=\"color:red;\"><left> Exercise 4</left></h3>\n",
    "\n",
    "Make an array called `t` which has the time corresponding to each measurement. If you feel stuck, look at the previous notebook for inspiration."
   ]
  },
  {
   "cell_type": "markdown",
   "id": "fe496b7a",
   "metadata": {},
   "source": [
    "<h3 style=\"background-color:lightblue\"><left> Write Answer Below </left></h3>"
   ]
  },
  {
   "cell_type": "code",
   "execution_count": null,
   "id": "7e696569",
   "metadata": {},
   "outputs": [],
   "source": [
    "t = # ANSWER HERE\n",
    "\n",
    "plt.plot(t, y)\n",
    "plt.show()"
   ]
  },
  {
   "cell_type": "markdown",
   "id": "23025ad3",
   "metadata": {},
   "source": [
    "Now we will zoom in to see just the first second. You can use the command `plt.xlim`. To understand what the command does and the required arguments, we can call  $\\mathtt{help()}$, Python's built in help system."
   ]
  },
  {
   "cell_type": "code",
   "execution_count": null,
   "id": "75f8ebca",
   "metadata": {},
   "outputs": [],
   "source": [
    "help(plt.xlim)"
   ]
  },
  {
   "cell_type": "markdown",
   "id": "969e1060-7aa4-4d12-9be4-78f5a9043f87",
   "metadata": {},
   "source": [
    "Now we see that to call this function, we just need to give it a left and right endpoint as arguments."
   ]
  },
  {
   "cell_type": "code",
   "execution_count": null,
   "id": "d3231862",
   "metadata": {},
   "outputs": [],
   "source": [
    "plt.plot(t, y)\n",
    "plt.xlim(0, 1)\n",
    "plt.show()"
   ]
  },
  {
   "cell_type": "markdown",
   "id": "25e317cd",
   "metadata": {},
   "source": [
    "There is some jaggedness to the signal. This is present because the Pulse Sensor has some noise in its circuitry -- it introduces some random error. We can get rid of it using the same trick we always use to manage random error: averaging. Specifically, we can average each point with its neighbors. The following code averages each point with its ten nearest neighbors on each side, then plots the result."
   ]
  },
  {
   "cell_type": "code",
   "execution_count": null,
   "id": "460072ea",
   "metadata": {},
   "outputs": [],
   "source": [
    "from heartbeat import rolling_centered_average\n",
    "\n",
    "averaged = rolling_centered_average(y, 3)\n",
    "plt.plot(t, averaged)\n",
    "plt.xlim(0, 1)\n",
    "plt.show()"
   ]
  },
  {
   "cell_type": "markdown",
   "id": "ea62cdec",
   "metadata": {},
   "source": [
    "Notice that the signal is smoother, but there is still some unwanted jiggle to it. Increase the number of terms in the average until it goes up and down smoothly."
   ]
  },
  {
   "cell_type": "code",
   "execution_count": null,
   "id": "50eb6b31",
   "metadata": {},
   "outputs": [],
   "source": [
    "averaged = rolling_centered_average(y,  )  # You fill in an appropriate number\n",
    "\n",
    "plt.plot(t, averaged)\n",
    "plt.xlim(0.1, 1.1)\n",
    "plt.show()"
   ]
  },
  {
   "cell_type": "markdown",
   "id": "0a981061",
   "metadata": {},
   "source": [
    "Our main objective is to identify the frequency of this signal -- that is, the heart rate. To do that, let's see if we can mark the local maxima. Here is an example of a function which will identify those points where the function is increasing (where the current value is bigger than the previous). It may give a warning about invalid values -- that's because we don't have any good average values for the values at the ends, so they are filled in with the \"not a number\" value, `NaN`."
   ]
  },
  {
   "cell_type": "code",
   "execution_count": null,
   "id": "1aaee63f",
   "metadata": {},
   "outputs": [],
   "source": [
    "increasing = np.zeros(\n",
    "    averaged.shape, dtype=bool\n",
    ")  # this creates an array filled with False\n",
    "increasing[1:] = averaged[1:] > averaged[:-1]\n",
    "plt.plot(t, averaged)\n",
    "plt.plot(t[increasing], averaged[increasing], \"o\")\n",
    "plt.xlim(0.2, 0.9)\n",
    "plt.show()"
   ]
  },
  {
   "cell_type": "markdown",
   "id": "5e25730e",
   "metadata": {},
   "source": [
    "We can see where it is decreasing by looking at the complement. Make a plot similar to the above, showing where the function is decreasing."
   ]
  },
  {
   "cell_type": "code",
   "execution_count": null,
   "id": "491bff98",
   "metadata": {},
   "outputs": [],
   "source": [
    "decreasing = ~increasing\n",
    "\n",
    "# You make a plot here, similar to the above (this is not graded, but will help make sure everything is working)"
   ]
  },
  {
   "cell_type": "markdown",
   "id": "7a32406c",
   "metadata": {},
   "source": [
    "Now it is just a matter of finding where the switch occurs:"
   ]
  },
  {
   "cell_type": "code",
   "execution_count": null,
   "id": "2abab280",
   "metadata": {},
   "outputs": [],
   "source": [
    "maxima = np.zeros(averaged.shape, dtype=bool)\n",
    "maxima[:-1] = increasing[:-1] & decreasing[1:]\n",
    "\n",
    "plt.plot(t, averaged)\n",
    "plt.plot(t[maxima], averaged[maxima], \"o\")\n",
    "plt.show()"
   ]
  },
  {
   "cell_type": "markdown",
   "id": "f05eed2a",
   "metadata": {},
   "source": [
    "Finally, we can remove any smaller wobbles by using a threshold -- only counting maxima above a certain value. This will get us only those top peaks."
   ]
  },
  {
   "cell_type": "code",
   "execution_count": null,
   "id": "23ba6ca2",
   "metadata": {},
   "outputs": [],
   "source": [
    "peak_indices = maxima & (averaged > averaged[maxima].mean())\n",
    "\n",
    "plt.plot(t, averaged)\n",
    "plt.plot(t[peak_indices], averaged[peak_indices], \"o\")\n",
    "plt.show()"
   ]
  },
  {
   "cell_type": "markdown",
   "id": "2dd198fd",
   "metadata": {},
   "source": [
    "Now that we have identified the peaks, we can take the times these have occurred and compute the BPM."
   ]
  },
  {
   "cell_type": "code",
   "execution_count": null,
   "id": "551e155f",
   "metadata": {},
   "outputs": [],
   "source": [
    "peak_times = t[peak_indices]\n",
    "peak_times"
   ]
  },
  {
   "cell_type": "markdown",
   "id": "40bc4c63",
   "metadata": {},
   "source": [
    "<h3 style=\"color:red;\"><left> Exercise 5 </left></h3>\n",
    "\n",
    "Use the peak times to compute your BPM."
   ]
  },
  {
   "cell_type": "markdown",
   "id": "b2ed209c",
   "metadata": {},
   "source": [
    "<h3 style=\"background-color:lightblue\"><left> Answer Below </left></h3>"
   ]
  },
  {
   "cell_type": "code",
   "execution_count": null,
   "id": "f0e06ae0",
   "metadata": {},
   "outputs": [],
   "source": []
  },
  {
   "cell_type": "markdown",
   "id": "d25f44fa-5abd-4913-ad6b-9bea65cf61e4",
   "metadata": {},
   "source": [
    "## That's all for today!\n",
    "\n",
    "Well done! Today we learned a bit about the terminology of error analysis, we learned how to interface with a microcontroller using Python, and we developed a procedure for computing the BPM from a photoplethysmogram sensor. In next week's lab, we will learn how to make that process automatic, and do a more sophisticated analysis of the data you collected today.\n",
    "\n",
    "Make sure you save the code you wrote today, because you will need it next week (you can hit the save button at the top of the notebook). Then, make sure to submit **both** notebooks you used today to Gradescope."
   ]
  }
 ],
 "metadata": {
  "kernelspec": {
   "display_name": "Python 3 (ipykernel)",
   "language": "python",
   "name": "python3"
  },
  "language_info": {
   "codemirror_mode": {
    "name": "ipython",
    "version": 3
   },
   "file_extension": ".py",
   "mimetype": "text/x-python",
   "name": "python",
   "nbconvert_exporter": "python",
   "pygments_lexer": "ipython3",
   "version": "3.10.4"
  }
 },
 "nbformat": 4,
 "nbformat_minor": 5
}
