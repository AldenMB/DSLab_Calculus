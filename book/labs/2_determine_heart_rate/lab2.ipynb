{
 "cells": [
  {
   "cell_type": "markdown",
   "id": "b098d7a0",
   "metadata": {},
   "source": [
    "<div style=\"background-color:lightblue\">\n",
    "<h1><center>\n",
    "    The Data Science Labs on <br/>\n",
    "     Differential and Integral Calculus  <br/>\n",
    "   <small>by Alden Bradford and Mireille Boutin </small>\n",
    "</center></h1>\n",
    "    </div>"
   ]
  },
  {
   "cell_type": "markdown",
   "id": "ac626b60",
   "metadata": {},
   "source": [
    "<h1><center>\n",
    "    Laboratory 2 - Part 1<br/>\n",
    "    Introduction to error analysis - Determining Heart Rate from Photoplethysmography Sensors<br/>\n",
    "    <p style=\"font-size: 16px\"> Last Updated on January 7, 2022</p>\n",
    "</center></h1>"
   ]
  },
  {
   "cell_type": "markdown",
   "id": "5492f462",
   "metadata": {},
   "source": [
    "<h2 style=\"color:orange;\"><left>00. Content </left></h2>"
   ]
  },
  {
   "cell_type": "markdown",
   "id": "35e3638f",
   "metadata": {},
   "source": [
    "## Mathematics ##\n",
    "- additive error model; bias in error\n",
    "- noise removal by averaging\n",
    "- finding local maxima as \"peaks\"\n",
    "- choosing a sampling rate based on distance between local maxima\n",
    "- Local maxima defined as location between function increase and decrease\n",
    "- Thresholding\n",
    "- Computing beats per minutes (BMP) from peaktimes\n",
    "  \n",
    "    \n",
    "## Programming Skills ##\n",
    "- Best practice: use separate data file and analysis file\n",
    "- Use/modify given Python data acquisition code\n",
    "- Save data in text file\n",
    "- Load data from text file\n",
    "- Look at loaded data\n",
    "- Plotting data\n",
    "- Changing x-axis in a plot\n",
    "- Array building\n",
    "- zooming into plot\n",
    "- Use of averaging code\n",
    "- Use of local maxima identify code\n",
    "- NaN\n",
    "- Use of thresholding code\n",
    "- Write code to compute beats per minutes (BMP) from peaktimes\n",
    "\n",
    "\n",
    "## Embedded Systems ##\n",
    "- Thonny and Micropython\n",
    "- Installing Micropython on Pico\n"
   ]
  },
  {
   "cell_type": "markdown",
   "id": "61f44fa5",
   "metadata": {},
   "source": [
    "<h2 style=\"color:orange;\"><left>0. Required Hardware </left></h2> "
   ]
  },
  {
   "cell_type": "markdown",
   "id": "016b61d9",
   "metadata": {},
   "source": [
    "- microcontroller: Raspberry Pi Pico\n",
    "- pulse sensor\n",
    "- breadboard\n",
    "- USB connector"
   ]
  },
  {
   "cell_type": "markdown",
   "id": "6f47b3a2-784a-4890-9d1b-82d662370b7a",
   "metadata": {},
   "source": [
    "<h3 style=\"background-color:lightblue\"><left> Write your name and email below: </left></h3>\n",
    "\n",
    "First Name, Last Name, email "
   ]
  },
  {
   "cell_type": "markdown",
   "id": "2f8f729a",
   "metadata": {},
   "source": [
    "<h2 style=\"color:orange;\"><left>1. Introduction to error analysis </left></h2>"
   ]
  },
  {
   "cell_type": "markdown",
   "id": "63a33db5",
   "metadata": {},
   "source": [
    "\n",
    "> In order to improve, we must first recognize that we are not perfect.\n",
    "\n",
    "Today we will begin using numbers collected from the real world. Every number you measure is subject to several kinds of error from different sources. This is the first and most important lesson of error analysis: *every measurement has error. The goal is not to eliminate error, but rather to reduce it to an acceptable level.* As we progress through the semester, we will develop strong tools for analyzing and reducing error in our measurements, based off of differential calculus and Taylor series. Before we can do that, we need to establish some common language and techniques for describing errors."
   ]
  },
  {
   "cell_type": "markdown",
   "id": "b806db0d",
   "metadata": {},
   "source": [
    "## Types of error\n",
    "\n",
    "An error is anything which can make it so that the number you get is different from the actual value of the quantity you are measuring. Here are a few sources of error you are likely to encounter:\n",
    "\n",
    " - measurement error. This is what most people think of when they hear about an error in measurement. This includes everything which could go wrong with your measurement instrument. Perhaps the marks on a ruler are not placed exactly evenly, or it isn't being held straight. Perhaps the paralax on a measurement dial leads to misalignment between the needle and the dial. Perhaps your tool is low on batteries and is malfunctioning. \n",
    " - roundoff error. Also called truncation error. This is where a number is off a little bit because it was rounded. For example, Alden's favorite pocket calculator the TI-30Xa only keeps 14 digits of $\\pi$. If you needed $\\pi$ to any further precision, you would have to use a different calculator. Usually the cure for this source of error is fairly simple -- just keep more digits! However, this is not always practical: maybe you are using numbers someone else has rounded and cannot access the original data, or maybe keeping enough digits for your task would be too cumbersome. We will see some examples in a few weeks, when we study numerical differentiation, where roundoff error becomes really important.\n",
    " - modeling error. Every computation is based on a model, and every model is inaccurate. For example, suppose you want to measure the volume of the earth. You could perform astronomical measurements to figure out the radius of the earth, and use the volume formula for a sphere, $\\frac{4}{3} \\pi r^3$ to figure out the volume. The formula is perfect, without error, provided you are talking about a true sphere. As anyone knows, however, the earth is not a perfect sphere (it has mountains, for one thing). Therefore, there is some error associated with modeling the earth as a perfect sphere, which will affect your final volume computation.\n",
    " - definitional error. This is perhaps the most frequently overlooked source of error, and its definition gets a bit philosophical. Usually we can't get to a level where it is important in the physical sciences, though it is frequently important in the social sciences. As an example, consider the old unit of length, the barleycorn. This is still used today to measure shoe sizes. Its definition could not be simpler: it's the length of a grain of barley, roughly 1/3 of an inch or 8.5 millimeters. There is a problem here though: barley has some natural variablility of size, from 6.4 millimeters at the smallest to 13 millimeters at the longest [(see this study if you want to know more about barley)](https://www.agriculturejournals.cz/publicFiles/10118.pdf). So, depending on which type of barley you are using, your shoe could wind up being a bad fit. It's not a matter of the barley being a bad tool for measuring length in barleycorns: you can always tell exactly how long something is in barleycorns by lining up a row of barley, and you will be correct by definition. It's a problem with the definition of the length unit -- the definition has some error built in. This usually doesn't affect us when making distance measurements, since we have better definitions now for length, based off the speed of light and our definition of time. However, for very sensitive measurements, it is still sometimes an issue. Furthermore, for more abstractly defined quantities (such as intelligence, or anxiety, or pain) the definition still has a significant amount of error built in which can sometimes be the biggest source of error in a computation.\n",
    "\n",
    "This is a relatively simple taxonomy of errors, but it encompasses most of the important sources of error you are likely to encounter. If you can think of a source of error which does not fit this taxonomy, we would like to hear about it (email mboutin at purdue dot you know what). As we will see, you could waste a lot of effort reducing the error from one source only to find that a different source is introducing way more error, making your efforts fruitless. Therefore, it is important to be aware of how each source of error could creep in.\n",
    "\n"
   ]
  },
  {
   "cell_type": "markdown",
   "id": "bd444f3c",
   "metadata": {},
   "source": [
    "<h3 style=\"color:red;\"><left> Exercise 1 </left></h3>\n",
    "\n",
    "For each source of error listed, classify it according to the taxonomy above. Explain why it fits into the category you chose.\n",
    "\n",
    "1. You have a thermometer in your garden which you use to tell the temperature in the morning. The sun shines directly on the thermometer, making it read a temperature higher than the air temperature.\n",
    "\n",
    "2. You use a tire pressure gauge to figure out the pressure in your car tires. It only has a marking every 2 PSI, so you do your best to estimate the value to the nearest PSI.\n",
    "\n",
    "3. You use a GPS system to track how long your commute is, but it only takes into account longitude and latitude, not elevation."
   ]
  },
  {
   "cell_type": "markdown",
   "id": "45e08559",
   "metadata": {},
   "source": [
    "<h3 style=\"background-color:lightblue\"><left> Write Answers Below </left></h3>"
   ]
  },
  {
   "cell_type": "markdown",
   "id": "c8179fd9",
   "metadata": {},
   "source": [
    "1. Measurement error because it is an error that occurs with how the instrument reads the temperature \n",
    "2. Roundoff error because while it is a poor design, the error lies with estimating to the nearest PSI rather than changing instruments\n",
    "3. Measurement error because it is an error that occurs due to how the instrument is designed"
   ]
  },
  {
   "cell_type": "markdown",
   "id": "662a0dc3",
   "metadata": {},
   "source": [
    "## Two ways errors behave\n",
    "\n",
    "We usually represent error with a variable either as $e$ (short for error), or in Greek with the lower case letter epsilon which makes the same sound, written as either $\\epsilon$ or $\\varepsilon$. This lets us represent how any measured quantity $x$ is related to its \"true value\" $t$:\n",
    "$$\n",
    "x = t + \\varepsilon.\n",
    "$$\n",
    "This is sometimes called *the most famous equation of measurement theory*.\n",
    "\n",
    "### Random error\n",
    "\n",
    "Our goal is usually to make the total error small. For some types of error, $\\varepsilon$ is on average zero; the error is just as often positive as it is negative. A consequence of this is that if you took lots and lots of measurements (say $x_1=t+\\varepsilon_1$, $x_2=t+\\varepsilon_2$, $\\dots$, $x_k=t+\\varepsilon_k$) then you could take the average \n",
    "$$\n",
    "\\frac{x_1+x_2+\\dots+x_k}{k} = t + \\frac{\\varepsilon_1+\\varepsilon_2+\\dots+\\varepsilon_k}{k}\n",
    "$$\n",
    "and the term $\\frac{\\varepsilon_1+\\varepsilon_2+\\dots+\\varepsilon_k}{k}$ would tend to be much smaller than each $\\varepsilon_i$ on its own, since the positive and negative terms would mostly cancel each other out. This is really useful, since it gives us a way of reducing the total error, getting a better estimate of the value $t$. If this is the case, we say that the error in $x$ is *random*. This technique for reducing random error [was invented in the 1700s.](https://www.math.purdue.edu/~bradfoa/misc_files/arithmetic_mean.pdf) (See  for example page 121 of \"Studies in the History of Statistics and Probability,\" by M.G. Kendall, 1960.)\n",
    "\n",
    "### Systematic error\n",
    "\n",
    "Unfortunately, we are often not so lucky as to only have random error. Very often there is some bias in our measurement which causes it to be usually positive or usually negative, so it does not help much to use the repeated measurement procedure described above. In this case we say there is a *systematic* error.\n",
    "\n",
    "For example, let's say you decide to save some computer cycles in a computation by truncating your numbers -- instead of rounding (which could take some additional time, depending on how your computer is set up) you decide to just drop the least significant digits. The effect of this is that you will always be making the number smaller. It's just like if you always decided to round down. In the terms outlined above, $\\varepsilon$ is always negative in this case.\n",
    "\n",
    "As another example, suppose you are weighing precise amounts of material in a chemistry lab on a sensitive scale, but you don't have a cover over the scale and there is a slight downdraft at the work bench. You are leaning over the scale when you hit the tare button, shielding the scale from the air current. The air would push down on the scale a bit during the weighting, causing your estimated weight $x$ to usually be a little bit bigger than $t$. It would still vary randomly, but since $\\varepsilon$ would usually be positive we would say that this is a systematic error in the positive direction.\n",
    "\n",
    "<h3 style=\"color:red;\"><left> Exercise 2 </left></h3>\n",
    "\n",
    "For each source of error described, classify it as a random or a systematic error. If it is a systematic error, say whether it is in the positive or negative direction. Justify your answers with a brief sentence or two.\n",
    "\n",
    "1. You are measuring your height against a wall by placing a book on your head and seeing where the book touches the wall, measuring the length along the wall from the floor with a tape measure. Unfortunately, you cannot guarantee that the book is completely level.\n",
    "\n",
    "2. You make sure the book from problem 1 is level by placing one edge vertically along the wall. Unfortunately, the wall is very slightly sloped toward you.\n",
    "\n",
    "3. You have a thermometer in your garden which you use to tell the temperature in the morning. The sun shines directly on the thermometer.\n",
    "\n",
    "4. You use a tire pressure gauge to figure out the pressure in your car tires. It only has a marking every 2 PSI, so you do your best to estimate the value to the nearest PSI.\n",
    "\n",
    "5. You use a GPS system to track how long your commute is, but it only takes into account longitude and lattitude, not elevation. "
   ]
  },
  {
   "cell_type": "markdown",
   "id": "bbe14c89",
   "metadata": {},
   "source": [
    "<h3 style=\"background-color:lightblue\"><left> Write Answers Below </left></h3>"
   ]
  },
  {
   "cell_type": "markdown",
   "id": "eebaada1",
   "metadata": {},
   "source": [
    "1. This source of error is random error because the leveling of the book would change every time and may sometimes be level, meaning that the positive and negative of epsilon would about even each other out.\n",
    "2. This source of error is systematic error because the book will consistently not be level in the same direction, causing epsilon to never balance out.\n",
    "3. This source of error is systematic error because the sun will always shine directly on the thermometer if it stays in the same spot, which means epsilon will never balance out.\n",
    "4. This source of error is random error because eye-balling the pressure will cause it to be occasionally too much and occasionally too little, meaning that epsilon will mostly balance out.\n",
    "5. This source of error is systematic error because the GPS system will always overlook elevation, meaning the reading will always be less than it should be causing epsilon to never balance out."
   ]
  },
  {
   "cell_type": "markdown",
   "id": "27469e2a",
   "metadata": {},
   "source": [
    "<h2 style=\"color:orange;\"><left>2. Data Acquisition </left></h2>"
   ]
  },
  {
   "cell_type": "markdown",
   "id": "e061087e",
   "metadata": {},
   "source": [
    "You will collect data today using the [Pulse Sensor](https://pulsesensor.com/pages/about-us), which shines a bright light on your skin and measures how much comes back to get a number which is proportional to your blood pressure. After we have collected the data, we will analyze it using NumPy and Matplotlib. First, though, we have to get those numbers onto your computer.\n",
    "\n",
    "We will be acquiring the data using a microcontroller. A microcontroller is a very small general purpose computer good at communicating with electronic sensors. The specific microcontroller we will use is called the Raspberry Pi Pico. Conveniently, it runs Python code. Have a look at the script `main.py`. It does a very simple thing: it listens for a message containing a sample rate and a number of samples. Then, with the frequency given in the message, it measures the voltage on a specific pin and sends a message with that measurement. It does this the specified number of times, and then sends the message `\"done\"`.\n",
    "\n"
   ]
  },
  {
   "cell_type": "markdown",
   "id": "bd30270f",
   "metadata": {},
   "source": [
    "<h3 style=\"color:red;\"><left> Exercise 3 </left></h3>\n",
    "\n",
    "Before moving on, we should decide on a sampling frequency -- that is, how often do you want to know your approximate blood pressure? As we saw in Lab 1, it would be easy to get the wrong impression from an oscillating signal if you don't sample frequently enough. Considering the range of possible heart rates for adults, how would you choose the sampling rate?  Write your choice below, along with your reasoning for choosing that sampling rate."
   ]
  },
  {
   "cell_type": "markdown",
   "id": "bf7865d5",
   "metadata": {},
   "source": [
    "<h3 style=\"background-color:lightblue\"><left> Write Answer Below </left></h3>"
   ]
  },
  {
   "cell_type": "markdown",
   "id": "62dd870f",
   "metadata": {},
   "source": [
    "NOTE: Include a link regarding the possible heart rates for adults or tell the students to look it up?\n",
    "\n",
    "Since the range of possible heart rates for adults is 60 to 100 beats per minute, the sampling rate should be approximately twice a second, since this would allow for finding one beat per minute or two beats per minute, accounting for 60 to 120 beats per minute.\n",
    "\n",
    "------------------------------------------------------\n",
    "Time it took to complete up to this point: 26 minutes."
   ]
  },
  {
   "cell_type": "markdown",
   "id": "655e3573",
   "metadata": {},
   "source": [
    "\n",
    "\n",
    "## Loading firmware onto the microcontroller\n",
    "\n",
    "Open up Thonny. [Follow the directions here](https://projects.raspberrypi.org/en/projects/getting-started-with-the-pico/3) to install the Micropython firmware on the Pico. The following page at that link has directions for testing to make sure it's working.\n",
    "\n",
    "Use Thonny's file manager to transfer `main.py` to the Pico. Now, whenever you plug in the pico, it will run `main.py`.\n",
    "\n",
    "## Wiring it up\n",
    "\n",
    "We have the computer talking to the microcontroller, now we just need the Pulse Sensor talking to the microcontroller. To do this, we will use a \"bread board\". The name \"bread board\" comes from the old days of electronics when people would prototype their projects by nailing them to a cutting board. With a modern bread board, you don't need nails.\n",
    "\n",
    "There are three wires on the Pulse Sensor, and three connections we have to make. We will use tiny metal clips which are sitting inside the bread board. The clips are arranged in rows -- see the example your instructor has taken apart. \n",
    "\n",
    "By inserting the entire Pico into your bread board, we can easily connect electrical wires to each of the pins of the Pico. First, **disconnect the Pico from your computer** and plug it into the bread board so that the USB plug is at the end of the bread board.\n",
    "\n",
    "Next, inspect the data sheet for the Pico (this is provided, and is also available on the internet). Specifically, look for figure 2 on page 4. Look for the pin labeled \"3V3(OUT)\". Connect this to the wire labeled with a \"+\" on the Pulse Sensor. Connect the wire labeled \"-\" to the pin labeled \"AGND\". Connect the pin labeled \"ADC0\" to the other wire, which is labeled \"S\". Finally, connect a ceramic capacitor between \"AGND\" and \"ADC0\".\n",
    "\n",
    "<p align=\"center\">\n",
    "    <img src=\"pico_on_breadboard.JPG\" width=\"300\"/>\n",
    "    <img src=\"hr_sensor_labels.JPG\" width=\"267\"/>\n",
    "    <img src=\"hr_sensor_pad.JPG\" width=\"335\"/>\n",
    "<p/>\n",
    "\n",
    "**At this point, check with your instructor to make sure you have it configured correctly.** If it is wired incorrectly, there is a chance that powering it on could damage either the Pico or the Pulse Sensor.\n",
    "\n",
    "Once you have checked with your instructor, you can plug the Pico into your computer and move on to the next step."
   ]
  },
  {
   "cell_type": "markdown",
   "id": "47634427",
   "metadata": {},
   "source": [
    "<p align=\"center\">\n",
    "    <img src=\"connected_hr_sensor.JPG\" width=\"500\"/>\n",
    "<p/>"
   ]
  },
  {
   "cell_type": "markdown",
   "id": "7beebf3f",
   "metadata": {},
   "source": [
    "## Acquiring data\n",
    "\n",
    "Now we are ready to acquire the data! Open Thonny and run `main.py`. then, from the `run` menu in Thonny, select `disconnect`. This will allow our program here to pick up the connection, putting the data directly into a plot.\n",
    "\n",
    "Run the following cell. That will create an empty plot which we will fill in using another cell below. Notice that the sampling rate is not specified -- you have to fill it in."
   ]
  },
  {
   "cell_type": "code",
   "execution_count": 4,
   "id": "dd810c06",
   "metadata": {},
   "outputs": [
    {
     "data": {
      "application/vnd.jupyter.widget-view+json": {
       "model_id": "f61733ae1c42473db014693ed53bc7c1",
       "version_major": 2,
       "version_minor": 0
      },
      "image/png": "[encoded data removed]",
      "text/html": [
       "\n",
       "            <div style=\"display: inline-block;\">\n",
       "                <div class=\"jupyter-widgets widget-label\" style=\"text-align: center;\">\n",
       "                    Figure\n",
       "                </div>\n",
       "                <img src='data:image/png;base64,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' width=640.0/>\n",
       "            </div>\n",
       "        "
      ],
      "text/plain": [
       "Canvas(toolbar=Toolbar(toolitems=[('Home', 'Reset original view', 'home', 'home'), ('Back', 'Back to previous …"
      ]
     },
     "metadata": {},
     "output_type": "display_data"
    }
   ],
   "source": [
    "import numpy as np\n",
    "import matplotlib.pyplot as plt\n",
    "from heartbeat import acquire\n",
    "%matplotlib widget\n",
    "\n",
    "sampling_rate = # You must fill this in!\n",
    "sampling_duration = 5 # seconds\n",
    "number_of_samples = sampling_rate * sampling_duration\n",
    "\n",
    "x = np.arange(number_of_samples)/sampling_rate\n",
    "y = np.full_like(x, np.nan)\n",
    "\n",
    "fig, ax = plt.subplots()\n",
    "line,  = plt.plot(x, y)\n",
    "plt.xlim(0, sampling_duration)\n",
    "plt.ylim(0, 2**16)\n",
    "plt.show()"
   ]
  },
  {
   "cell_type": "markdown",
   "id": "4818facc",
   "metadata": {},
   "source": [
    "Now, touch the pad of your finger to the side of the heart monitor with a picture of a heart on it.\n",
    "Your finger should be barely touching it -- don't apply pressure. Once you have it situated correctly, run the following cell to acquire data. This cell has a `while True` loop in it, which will just run forever unless we do something to stop it. Once you have found your pulse, hit the \"stop\" button at the top of the page to leave the loop. What it shows will be stored."
   ]
  },
  {
   "cell_type": "code",
   "execution_count": 7,
   "id": "611d3036",
   "metadata": {},
   "outputs": [
    {
     "ename": "Exception",
     "evalue": "No Raspberry Pi Pico was detected. Check to make sure it is plugged in, and that no other programs are accessing it",
     "output_type": "error",
     "traceback": [
      "\u001b[0;31m---------------------------------------------------------------------------\u001b[0m",
      "\u001b[0;31mException\u001b[0m                                 Traceback (most recent call last)",
      "Input \u001b[0;32mIn [7]\u001b[0m, in \u001b[0;36m<cell line: 1>\u001b[0;34m()\u001b[0m\n\u001b[1;32m      1\u001b[0m \u001b[38;5;28;01mtry\u001b[39;00m:\n\u001b[1;32m      2\u001b[0m     \u001b[38;5;28;01mwhile\u001b[39;00m \u001b[38;5;28;01mTrue\u001b[39;00m:\n\u001b[0;32m----> 3\u001b[0m         \u001b[43macquire\u001b[49m\u001b[43m(\u001b[49m\u001b[43mrate\u001b[49m\u001b[43m \u001b[49m\u001b[38;5;241;43m=\u001b[39;49m\u001b[43m \u001b[49m\u001b[43msampling_rate\u001b[49m\u001b[43m,\u001b[49m\u001b[43m \u001b[49m\u001b[43my\u001b[49m\u001b[43m \u001b[49m\u001b[38;5;241;43m=\u001b[39;49m\u001b[43m \u001b[49m\u001b[43my\u001b[49m\u001b[43m,\u001b[49m\u001b[43m \u001b[49m\u001b[43mline\u001b[49m\u001b[43m \u001b[49m\u001b[38;5;241;43m=\u001b[39;49m\u001b[43m \u001b[49m\u001b[43mline\u001b[49m\u001b[43m,\u001b[49m\u001b[43m \u001b[49m\u001b[43mfig\u001b[49m\u001b[43m \u001b[49m\u001b[38;5;241;43m=\u001b[39;49m\u001b[43m \u001b[49m\u001b[43mfig\u001b[49m\u001b[43m)\u001b[49m\n\u001b[1;32m      4\u001b[0m \u001b[38;5;28;01mexcept\u001b[39;00m \u001b[38;5;167;01mKeyboardInterrupt\u001b[39;00m:\n\u001b[1;32m      5\u001b[0m     \u001b[38;5;28mprint\u001b[39m(\u001b[38;5;124m'\u001b[39m\u001b[38;5;124mdone acquiring!\u001b[39m\u001b[38;5;124m'\u001b[39m)\n",
      "File \u001b[0;32m~/Desktop/DSLab_Calculus/book/labs/2_determine_heart_rate/heartbeat.py:47\u001b[0m, in \u001b[0;36macquire\u001b[0;34m(rate, y, line, fig, min_frame_time)\u001b[0m\n\u001b[1;32m     44\u001b[0m i \u001b[38;5;241m=\u001b[39m \u001b[38;5;241m0\u001b[39m\n\u001b[1;32m     45\u001b[0m most_recent_draw \u001b[38;5;241m=\u001b[39m time\u001b[38;5;241m.\u001b[39mmonotonic()\n\u001b[1;32m     46\u001b[0m \u001b[38;5;28;01mfor\u001b[39;00m entry \u001b[38;5;129;01min\u001b[39;00m serial_lines(\n\u001b[0;32m---> 47\u001b[0m     \u001b[43mget_pico_port\u001b[49m\u001b[43m(\u001b[49m\u001b[43m)\u001b[49m,\n\u001b[1;32m     48\u001b[0m     timeout\u001b[38;5;241m=\u001b[39m\u001b[38;5;241m0.005\u001b[39m,\n\u001b[1;32m     49\u001b[0m     message\u001b[38;5;241m=\u001b[39m\u001b[38;5;124mf\u001b[39m\u001b[38;5;124m\"\u001b[39m\u001b[38;5;132;01m{\u001b[39;00mrate\u001b[38;5;132;01m}\u001b[39;00m\u001b[38;5;124m,\u001b[39m\u001b[38;5;132;01m{\u001b[39;00m\u001b[38;5;28mlen\u001b[39m(y)\u001b[38;5;132;01m}\u001b[39;00m\u001b[38;5;124m\"\u001b[39m,\n\u001b[1;32m     50\u001b[0m     ending\u001b[38;5;241m=\u001b[39m\u001b[38;5;124m\"\u001b[39m\u001b[38;5;124mdone\u001b[39m\u001b[38;5;124m\"\u001b[39m,\n\u001b[1;32m     51\u001b[0m ):\n\u001b[1;32m     52\u001b[0m     \u001b[38;5;28;01mif\u001b[39;00m entry:\n\u001b[1;32m     53\u001b[0m         y[i] \u001b[38;5;241m=\u001b[39m \u001b[38;5;28mint\u001b[39m(entry)\n",
      "File \u001b[0;32m~/Desktop/DSLab_Calculus/book/labs/2_determine_heart_rate/heartbeat.py:12\u001b[0m, in \u001b[0;36mget_pico_port\u001b[0;34m()\u001b[0m\n\u001b[1;32m     10\u001b[0m pico_ports \u001b[38;5;241m=\u001b[39m \u001b[38;5;28mlist\u001b[39m(list_ports\u001b[38;5;241m.\u001b[39mgrep(PICO_HWID))\n\u001b[1;32m     11\u001b[0m \u001b[38;5;28;01mif\u001b[39;00m \u001b[38;5;28mlen\u001b[39m(pico_ports) \u001b[38;5;241m==\u001b[39m \u001b[38;5;241m0\u001b[39m:\n\u001b[0;32m---> 12\u001b[0m     \u001b[38;5;28;01mraise\u001b[39;00m \u001b[38;5;167;01mException\u001b[39;00m(\n\u001b[1;32m     13\u001b[0m         \u001b[38;5;124m\"\u001b[39m\u001b[38;5;124mNo Raspberry Pi Pico was detected. Check to make sure it is plugged in, and that no other programs are accessing it\u001b[39m\u001b[38;5;124m\"\u001b[39m\n\u001b[1;32m     14\u001b[0m     )\n\u001b[1;32m     15\u001b[0m \u001b[38;5;28;01mreturn\u001b[39;00m pico_ports[\u001b[38;5;241m0\u001b[39m]\u001b[38;5;241m.\u001b[39mdevice\n",
      "\u001b[0;31mException\u001b[0m: No Raspberry Pi Pico was detected. Check to make sure it is plugged in, and that no other programs are accessing it"
     ]
    }
   ],
   "source": [
    "try:\n",
    "    while True:\n",
    "        acquire(rate = sampling_rate, y = y, line = line, fig = fig)\n",
    "except KeyboardInterrupt:\n",
    "    print('done acquiring!')"
   ]
  },
  {
   "cell_type": "markdown",
   "id": "25cea3c6",
   "metadata": {},
   "source": [
    "Re-run the above cell as many times as you need to get a good, clean measurement which shows a clear heartbeat pattern. On me, it looks something like this:\n",
    "\n",
    "<img src=\"example_heartbeat.png\"/>\n",
    "\n",
    "Once you have a good measurement, run the following cell to save your measurement to a file."
   ]
  },
  {
   "cell_type": "code",
   "execution_count": null,
   "id": "96418021",
   "metadata": {},
   "outputs": [],
   "source": [
    "np.savetxt('heartbeat.txt', y)"
   ]
  },
  {
   "cell_type": "markdown",
   "id": "045e92cf",
   "metadata": {},
   "source": [
    "Have a look at the file you just made (you should be able to open it right here in Jupyterlab). You should see a long list of numbers.\n",
    "\n",
    "It is a very good practice to use a separate document to store your data. By not storing your data within the document you use to analyze it, you will be able to run your analysis several times without fear of changing your original data. For this reason, the rest of this lab continues in a separate jupyter notebook, called Part 2."
   ]
  }
 ],
 "metadata": {
  "kernelspec": {
   "display_name": "Python 3 (ipykernel)",
   "language": "python",
   "name": "python3"
  },
  "language_info": {
   "codemirror_mode": {
    "name": "ipython",
    "version": 3
   },
   "file_extension": ".py",
   "mimetype": "text/x-python",
   "name": "python",
   "nbconvert_exporter": "python",
   "pygments_lexer": "ipython3",
   "version": "3.10.4"
  }
 },
 "nbformat": 4,
 "nbformat_minor": 5
}
