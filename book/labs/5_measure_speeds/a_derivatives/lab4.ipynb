{
 "cells": [
  {
   "cell_type": "markdown",
   "id": "11ecf4f0-b924-4997-8d81-53dd64a29c51",
   "metadata": {},
   "source": [
    "<div style=\"background-color:lightblue\">\n",
    "<h1><center>\n",
    "    The Data Science Labs on <br/>\n",
    "     Differential and Integral Calculus  <br/>\n",
    "   <small>by Alden Bradford and Mireille Boutin </small>\n",
    "</center></h1>\n",
    "    </div>"
   ]
  },
  {
   "cell_type": "markdown",
   "id": "953afaee-02f1-4c15-b692-9390fb7c3025",
   "metadata": {},
   "source": [
    "<h1><center>\n",
    "    Laboratory 4<br/>\n",
    "   Floating Point Numbers<br/>\n",
    "    <small>Last Updated December 17, 2021 </small>\n",
    "</center></h1>"
   ]
  },
  {
   "cell_type": "markdown",
   "id": "e7cb454e-a252-41b3-b9a1-6148a8e97fa7",
   "metadata": {},
   "source": [
    "<h2 style=\"color:orange;\"><left>0. Content </left></h2>"
   ]
  },
  {
   "cell_type": "markdown",
   "id": "e5354bd0-3e0d-4fea-9291-9f9eae5b1d2e",
   "metadata": {},
   "source": [
    "## Mathematics ##\n",
    "- Approximating derivatives using finite difference schemes\n",
    "- Approximation bias\n",
    "\n",
    "## Programming Skills ##\n",
    "- number types: int, float\n",
    "- use of underscore as a numerical separator\n",
    "- vectorized computation"
   ]
  },
  {
   "cell_type": "markdown",
   "id": "12dad4b1-d5ac-45af-b1bb-559ea62d5fb7",
   "metadata": {},
   "source": [
    "<h3 style=\"background-color:lightblue\"><left> Copy the file `student_info.py` into the folder you are working in, then run this cell to put your name and email into this document.</left></h3>"
   ]
  },
  {
   "cell_type": "code",
   "execution_count": null,
   "id": "e783c022-66a9-40d1-a03d-f7e73d0a3e69",
   "metadata": {},
   "outputs": [],
   "source": [
    "from student_info import show_info\n",
    "show_info()"
   ]
  },
  {
   "cell_type": "markdown",
   "id": "455245ae-b96f-4a94-9b62-6466a81c9e9c",
   "metadata": {},
   "source": [
    "# Two types of numbers in Python\n",
    "\n",
    "One of the benefits of using Python is that it has great support for numbers. This makes it much more friendly for doing math than, for example, Javascript or C. Whole numbers in Python have the type `int`, which is short for Integer. You can check this yourself:"
   ]
  },
  {
   "cell_type": "code",
   "execution_count": null,
   "id": "73f55494-2ece-4044-bf90-286d8d867ba0",
   "metadata": {},
   "outputs": [],
   "source": [
    "type(5)"
   ]
  },
  {
   "cell_type": "markdown",
   "id": "839d2d8f-3ed9-4918-861b-f08f9f67fb9d",
   "metadata": {},
   "source": [
    "Python `int`s can be as big as you like, positive or negative. It can get a bit cumbersome writing and reading them, and the comma has a special meaning in Python, so you can't use it to separate big integers for legibility:"
   ]
  },
  {
   "cell_type": "code",
   "execution_count": null,
   "id": "fbe90685-65a2-4a9c-bae9-0a1f98b57a37",
   "metadata": {},
   "outputs": [],
   "source": [
    "123,456,789"
   ]
  },
  {
   "cell_type": "markdown",
   "id": "87db18f1-9b37-488a-b9a4-65998132d213",
   "metadata": {},
   "source": [
    "That gives us a list of three integers. If you want to refer to the number 123,456,789 you can write it without separations, but it is easier to read if you use the underscore symbol where there would be a comma:"
   ]
  },
  {
   "cell_type": "code",
   "execution_count": null,
   "id": "59bcec91-d551-4218-b08e-175370d40d05",
   "metadata": {},
   "outputs": [],
   "source": [
    "123_456_789 == 123456789"
   ]
  },
  {
   "cell_type": "markdown",
   "id": "f3124c37-c28b-4c57-8e97-89f5d1f600f8",
   "metadata": {},
   "source": [
    "You can put underscores wherever you like in a number -- python ignores them. You could represent a credit card number, for example:"
   ]
  },
  {
   "cell_type": "code",
   "execution_count": null,
   "id": "ce6fc078-9314-4d7d-b16a-ba7aad8923cf",
   "metadata": {},
   "outputs": [],
   "source": [
    "3782_8224_6310_005"
   ]
  },
  {
   "cell_type": "markdown",
   "id": "ce73e2a2-8078-4dce-abad-5e521945cd6a",
   "metadata": {},
   "source": [
    "Unfortunately, it's not possible to represent every number exactly in a computer. For numbers which are not whole numbers, Python only keeps a certain number of digits. This way of storing numbers is called *floating point*, and numbers stored this way are called *floating point numbers*. In Python, the type for floating point numbers is `float`:"
   ]
  },
  {
   "cell_type": "code",
   "execution_count": null,
   "id": "ecc1689f-b7c5-4eee-8b72-cb1baaa24d8d",
   "metadata": {},
   "outputs": [],
   "source": [
    "type(1.0)"
   ]
  },
  {
   "cell_type": "markdown",
   "id": "b1df5fa9-2ed6-4b28-b44f-1f375960fd4d",
   "metadata": {},
   "source": [
    "Floating point numbers have some quirks you need to be aware of. For example, we know that 0.1+0.2=0.3, but look what Python tells us:"
   ]
  },
  {
   "cell_type": "code",
   "execution_count": null,
   "id": "b37a94e0-83be-41c0-b253-cd4912128f04",
   "metadata": {},
   "outputs": [],
   "source": [
    "0.1+0.2"
   ]
  },
  {
   "cell_type": "markdown",
   "id": "59f330fa-cb27-451a-9292-19d72ca0bd00",
   "metadata": {},
   "source": [
    "It is slightly wrong. What is going on here? Floating point numbers are stored in binary, and in binary, 0.1 and 0.2 are infinite repeating decimals. In binary, we would write the number one tenth as 0.0001100110011... and so on forever. We don't have an infinite amount of memory available on our computers, so Python only stores 53 binary digits, which introduces roundoff error. The relative error is at most $2^{-53} = 1.11\\times 10^{-16}$, so numbers are not reliable beyond sixteen places. Sure enough, in the example above, we got an error sixteen places after the 3."
   ]
  },
  {
   "cell_type": "code",
   "execution_count": null,
   "id": "224b9047-110b-4831-ad88-301a577d63fd",
   "metadata": {},
   "outputs": [],
   "source": [
    "2**-53"
   ]
  },
  {
   "cell_type": "markdown",
   "id": "0f3a4470-0e39-453e-8eb4-e50e4d926410",
   "metadata": {},
   "source": [
    "What happens if you multiply 0.1 and 0.2 by 10, add them, and then divide by 10? Mathematically, $0.1+0.2 = \\frac{0.1(10)+0.2(10)}{10}$, so do you still get a slightly wrong answer with floating point numbers?\n",
    "<h3 style=\"color:green;\"><left> Sandbox </left></h3>\n"
   ]
  },
  {
   "cell_type": "code",
   "execution_count": null,
   "id": "b29a4202-1885-4ce6-9646-0ecacb326104",
   "metadata": {},
   "outputs": [],
   "source": [
    "(0.1*10 + 0.2*10)/10"
   ]
  },
  {
   "cell_type": "markdown",
   "id": "9180ff38-8c08-4626-9e36-abbc95ef6896",
   "metadata": {},
   "source": [
    "In a later lab we will introduce a tool you can use to do exact arithmetic with Python. But for most purposes, this relative error is no trouble at all.\n",
    "\n",
    "<h3 style=\"color:red;\"><left> Exercise 1 </left></h3>\n",
    "\n",
    "For each of the following constants, look them up on Wikipedia and report the relative error in their known values. If an error is not given, you can assume the absolute error is $\\pm 1 $ of the last digit given. Note that some times, the absolute error is given in a concise notation, as described here: https://physics.nist.gov/cgi-bin/cuu/Info/Constants/definitions.html. Compare your answers to the relative error in a floating point number. Make sure you are using relative error, not absolute error.\n",
    "\n",
    " - mass of an electron\n",
    " - orbital period of the moon (the Sidereal period, specifically)\n",
    " - distance from New York to Los Angeles (you can look this one up on Wolfram Alpha instead of Wikipedia)\n",
    " - Freezing point of water (in Kelvin) at atmospheric pressure"
   ]
  },
  {
   "cell_type": "markdown",
   "id": "85c472c3",
   "metadata": {},
   "source": [
    "<h3 style=\"background-color:lightblue\"><left> Write Answer for Exercise 1 Below: </left></h3>"
   ]
  },
  {
   "cell_type": "markdown",
   "id": "b905a24f",
   "metadata": {},
   "source": []
  },
  {
   "cell_type": "markdown",
   "id": "084fb006-4600-4966-bb8f-6cf162e9118e",
   "metadata": {},
   "source": [
    "# Troubles with floating point numbers\n",
    "\n",
    "Precision is usually not a problem with floating point numbers, with one major exception which we will address later. The main issue you will face is when comparing numbers. Check this out:"
   ]
  },
  {
   "cell_type": "code",
   "execution_count": null,
   "id": "54ebd81a-36fe-42b9-982d-2c257ea2dd30",
   "metadata": {},
   "outputs": [],
   "source": [
    "for x in range(1, 10):\n",
    "    if x/10 == 0.1*x:\n",
    "        print(x)"
   ]
  },
  {
   "cell_type": "markdown",
   "id": "2859dc16-574b-4a39-a12f-b18594e4725b",
   "metadata": {},
   "source": [
    "<h3 style=\"color:red;\"><left> Exercise 2 </left></h3>\n",
    "\n",
    "Explain why a few numbers are missing from the printout above. Include the python values of `x/10` and `0.1*x` in your explanation, for some values of `x` (make a new code cell printing the relevant values)."
   ]
  },
  {
   "cell_type": "markdown",
   "id": "b803adc1",
   "metadata": {},
   "source": [
    "<h3 style=\"background-color:lightblue\"><left> Write Answer for Exercise 2 Below </left></h3>"
   ]
  },
  {
   "cell_type": "markdown",
   "id": "621b325c",
   "metadata": {},
   "source": []
  },
  {
   "cell_type": "markdown",
   "id": "12c8ec1c-2775-429d-af40-c6b07c28394a",
   "metadata": {},
   "source": [
    "There are two main ways to deal with this:\n",
    "\n",
    "1. Whenever possible, use `>=` or `<=` instead of `==` when comparing floating point numbers. This is usually the best thing to do. For example, if a number is decreasing and you want to know when it hits zero, check if it is positive instead of checking if it's zero. Or, better yet, check if it's less than 0.0001, keeping as much precision as you need for your purpose and no more.\n",
    "\n",
    "2. Instead of checking if floats are equal, check if they are close to eachother. For example, the builtin function `math.isclose` can do this for you, or you can use the version in numpy if working with arrays. Here is how that might look:"
   ]
  },
  {
   "cell_type": "code",
   "execution_count": null,
   "id": "09e47d2a-877a-42f2-9b83-8bc39e13d637",
   "metadata": {},
   "outputs": [],
   "source": [
    "import math\n",
    "for x in range(1, 10):\n",
    "    if math.isclose(x/10, 0.1*x):\n",
    "        print(x)"
   ]
  },
  {
   "cell_type": "code",
   "execution_count": null,
   "id": "24c6a49d-e857-4025-b4dd-4861588c4077",
   "metadata": {},
   "outputs": [],
   "source": [
    "import numpy as np\n",
    "x = np.arange(1, 10)\n",
    "print(np.isclose(x/10, 0.1*x))"
   ]
  },
  {
   "cell_type": "markdown",
   "id": "31d94ec9-2381-492e-955e-0764c26ee79f",
   "metadata": {},
   "source": [
    "# Catastrophic cancellation\n",
    "\n",
    "There is one situation where roundoff error is a really big problem. That is when you are subtracting two numbers which are very close together. This isn't anything special about floating point numbers, this is just a fact about rounding. Here, have a look:\n",
    "\n",
    "\\begin{array}{r}\n",
    "3.14159265358???\\\\\n",
    "-\\; 3.14159265332???\\\\\\hline\n",
    "0.00000000026???\n",
    "\\end{array}\n",
    "\n",
    "We have used question marks to represent unknown digits, i.e. digits which were lost due to rounding. See how the relative error in the output is much bigger than in either of the inputs: each input has 12 significant figures, but the output has only two significant figures. We can do this a bit more precisely by writing the absolute errors explicitly:\n",
    "\n",
    "\\begin{align*}\n",
    "3.14159265358??? &\\rightarrow 3.14159265358 \\pm 5\\times 10^{-12}\\\\\n",
    "3.14159265332??? &\\rightarrow 3.14159265332 \\pm 5\\times 10^{-12}\\\\\n",
    "0.00000000026??? &\\rightarrow 0.00000000026 \\pm \\text{(you figure this one out)}\\\\\n",
    "\\end{align*}\n",
    "\n",
    "<h3 style=\"color:red;\"><left> Exercise 3 </left></h3>\n",
    "\n",
    "What is the absolute error in the output? What are the relative errors of each of the inputs, and what is the relative error of the output?"
   ]
  },
  {
   "cell_type": "markdown",
   "id": "eab11086",
   "metadata": {},
   "source": [
    "<h3 style=\"background-color:lightblue\"><left> Write Answer for Exercise 3 Below </left></h3>"
   ]
  },
  {
   "cell_type": "markdown",
   "id": "4a94bf3c",
   "metadata": {},
   "source": []
  },
  {
   "cell_type": "markdown",
   "id": "0b4ee3b4-4d79-42b8-87d9-06efcff0b12a",
   "metadata": {},
   "source": [
    "<h3 style=\"color:red;\"><left> Exercise 4 </left></h3>\n",
    "\n",
    "## A practical example of catastrophic cancellation\n",
    "\n",
    "Here we walk you through coding an example where catestrophic cancellation makes a pretty big difference, and something clever you can do to fix it.\n",
    "\n",
    "1. Write a function which takes the coefficients `a`, `b`, and `c` from a polynomial $ax^2+bx+c$ and gives you a list of the roots. Just apply the standard quadratic formula. For now, you can assume that $b^2-4ac>0$ so you can take the square root, and you can assume `a` is not zero. Have it give the smaller root first (you can use the built in function `sorted` for this).\n",
    "\n",
    "<h3 style=\"background-color:lightblue\"><left> Write Answer for Exercise 4 Part 1 Below </left></h3>"
   ]
  },
  {
   "cell_type": "code",
   "execution_count": null,
   "id": "884b8c90-f1cf-4648-82bf-ad7b3d7225ca",
   "metadata": {},
   "outputs": [],
   "source": [
    "import lab_4_checker\n",
    "\n",
    "def naive_roots(a, b, c):\n",
    "    # fill in the formula here\n",
    "    return sorted([x1, x2])\n",
    "\n",
    "lab_4_checker.check_naive_roots(naive_roots)"
   ]
  },
  {
   "cell_type": "markdown",
   "id": "f0fb16fb-1d64-415f-b504-b5c03b94b88a",
   "metadata": {},
   "source": [
    "2. Factor the polynomial $x^2-1,000,000.000,001 x +1$ exactly, on paper (note the decimal place in `b`). What should the roots be?\n",
    "\n",
    "<h3 style=\"background-color:lightblue\"><left> Write Answer for Exercise 4 Part 2 Below </left></h3>"
   ]
  },
  {
   "cell_type": "markdown",
   "id": "b38ad184",
   "metadata": {},
   "source": []
  },
  {
   "cell_type": "markdown",
   "id": "bd71a695-5af7-4fb1-95bd-caa0016b95fb",
   "metadata": {},
   "source": [
    "3. Apply your simple root-finding function to this polynomial. What are the relative errors in your computed roots, compared to the true values? Explain why one of these has a larger relative error.\n",
    "\n",
    "<h3 style=\"background-color:lightblue\"><left> Write Answer for Exercise 4 Part 3 Below </left></h3>"
   ]
  },
  {
   "cell_type": "code",
   "execution_count": null,
   "id": "f2bb9841",
   "metadata": {},
   "outputs": [],
   "source": [
    "# call your root finding function"
   ]
  },
  {
   "cell_type": "markdown",
   "id": "45403d1c-2085-4cf8-8b16-1405aebf1fda",
   "metadata": {},
   "source": [
    "Here is a simple technique we can apply to reduce the error. Let's assume for now that `b` is a negative number. So, we get cancellation in the numerator when subtracting $-b$ and $\\sqrt{b^2-4ac}$. In this case, just multiply by one in a clever way:\n",
    "\n",
    "\\begin{align*}\n",
    "\\frac{-b-\\sqrt{b^2-4ac}}{2a}\n",
    "&= \\frac{-b-\\sqrt{b^2-4ac}}{2a} \\times \\frac{-b+\\sqrt{b^2-4ac}}{-b+\\sqrt{b^2-4ac}}\\\\\n",
    "&= \\frac{b^2-(b^2-4ac)}{2a(-b+\\sqrt{b^2-4ac})}\\\\\n",
    "&= \\frac{2c}{-b+\\sqrt{b^2-4ac}}\n",
    "\\end{align*}\n",
    "\n",
    "Since `b` is negative and `-b` is positive, there is no cancellation here! We can use this formula to compute the \"-\" root and the original formula to compute the \"+\" root.\n",
    "\n",
    "4. Assuming `b` is always negative, rewrite your function to use this formula for one root and the standard formula for the other root. Compute the relative errors on the example above, using your new formula.\n",
    "\n",
    "<h3 style=\"background-color:lightblue\"><left> Write Answer for Exercise 4 Part 4 Below </left></h3>"
   ]
  },
  {
   "cell_type": "code",
   "execution_count": null,
   "id": "5eb58472",
   "metadata": {},
   "outputs": [],
   "source": [
    "# rewrite your function\n",
    "import lab_4_checker\n",
    "\n",
    "def naive_roots(a, b, c):\n",
    "    # fill in the formula here\n",
    "    return sorted([x1, x2])\n",
    "\n",
    "lab_4_checker.check_naive_roots(naive_roots)"
   ]
  },
  {
   "cell_type": "markdown",
   "id": "67a8490e-2acc-4786-84de-859a481e8549",
   "metadata": {},
   "source": [
    "5. Figure out a similar formula which works when `b` is always positive. Use both formulas to write a function to compute the roots which is always accurate, and does not suffer from catestrophic cancellation.\n",
    "\n",
    "<h3 style=\"background-color:lightblue\"><left> Write Answer for Exercise 4 Part 5 Below </left></h3>"
   ]
  },
  {
   "cell_type": "code",
   "execution_count": null,
   "id": "c723a87f",
   "metadata": {},
   "outputs": [],
   "source": [
    "# write a better root finding function\n",
    "import lab_4_checker\n",
    "\n",
    "def naive_roots(a, b, c):\n",
    "    # fill in the formula here\n",
    "    return sorted([x1, x2])\n",
    "\n",
    "lab_4_checker.check_naive_roots(naive_roots)"
   ]
  },
  {
   "cell_type": "markdown",
   "id": "360c4669-6262-4402-8a48-a477218a77c1",
   "metadata": {},
   "source": [
    "6. Finish off your function by adding a special case for if `c` is exactly zero (don't want to divide by zero, after all!). We have provided a test you can use to check your work.\n",
    "\n",
    "<h3 style=\"background-color:lightblue\"><left> Write Answer for Exercise 4 Part 6 Below </left></h3>"
   ]
  },
  {
   "cell_type": "code",
   "execution_count": null,
   "id": "9da4fb30",
   "metadata": {},
   "outputs": [],
   "source": [
    "# add special cases for a and c\n",
    "def roots(a, b, c):\n",
    "    # fill in the formula here\n",
    "    return sorted([x1, x2])\n",
    "\n",
    "lab_4_checker.check_roots(roots)"
   ]
  },
  {
   "cell_type": "markdown",
   "id": "92c175a1-19b2-464f-816d-df7ea97e0783",
   "metadata": {},
   "source": [
    "This example shows how catestrophic cancellation can occur even in friendly, well-known functions. This also shows that we can usually deal with it, by doing some clever algebra. This is such a common issue that there are now tools available to identify and fix catestrophic cancellation. If you are curious, check out [Herbie](http://herbie.uwplse.org/), which a friend of mine helped to create."
   ]
  },
  {
   "cell_type": "markdown",
   "id": "aa10add3-ace5-46d0-bcce-7aa50bfd0b65",
   "metadata": {},
   "source": [
    "# Numerical differentiation\n",
    "\n",
    "Now you are prepared to see the major problem we are up against when trying to compute derivatives using floating-point arithmetic. Remember that by definition, the derivative of a function $f(x)$ is\n",
    "\n",
    "$$\n",
    "f'(x) = \\lim_{h\\to 0} \\frac{f(x+h)-f(x)}{h}\n",
    "$$\n",
    "\n",
    "This suggests a simple way to compute a derivative: pick a really small number $h$, and compute $\\frac{f(x+h)-f(x)}{h}$. Since $h$ is just a small but finite number, this is called the *finite difference method*.\n",
    "\n",
    "<h3 style=\"color:red;\"><left> Exercise 5 </left></h3>\n",
    "\n",
    "Let's see what happens when we apply this procedure blindly. We will apply this formula for $f(x)=x^2$ at the point $x=4$. The correct derivative should be 8. We will compute the relative error in using the finite difference method, for various values of $h$. It is easy to get a good spread of values for $h$, in a geometric sequence:"
   ]
  },
  {
   "cell_type": "code",
   "execution_count": null,
   "id": "950de6a4-6432-46d6-911a-01c2001471d5",
   "metadata": {},
   "outputs": [],
   "source": [
    "h = np.geomspace(1e-15, 1, 200)"
   ]
  },
  {
   "cell_type": "markdown",
   "id": "40da2fdc-56e0-4757-a7a3-9c92124d7991",
   "metadata": {},
   "source": [
    "__Part 1__\n",
    "\n",
    "Make an array giving approximations to $f'(4)$ for each value of `h`, using the finite difference method. Then, compute the relative error in this approximation using the relative error formula. Tools to check your work are available. You must use arrays and broadcasting to get full credit here.\n",
    "<h3 style=\"background-color:lightblue;\"><left> Write Answer for Exercise 5 Part 1 Below </left></h3>"
   ]
  },
  {
   "cell_type": "code",
   "execution_count": null,
   "id": "fd48b9b6-f1b5-4a33-8361-cbca7d6402fc",
   "metadata": {},
   "outputs": [],
   "source": [
    "approximation = \n",
    "relative_error = \n",
    "lab_4_checker.check_finite_difference(approximation, relative_error)"
   ]
  },
  {
   "cell_type": "markdown",
   "id": "f12e8385-6f92-45e6-956c-0a624070146b",
   "metadata": {},
   "source": [
    "__Part 2__\n",
    "\n",
    "Now that we have computed the relative error, let's inspect it in a plot. We will use a logarithmic scale for the x and y axes, which will help us to compare very different values. Since we are taking a logarithm, we must look at the absolute value of the relative error."
   ]
  },
  {
   "cell_type": "code",
   "execution_count": null,
   "id": "b0a3bca1-5a58-4d3e-82d0-6a3101216710",
   "metadata": {},
   "outputs": [],
   "source": [
    "import matplotlib.pyplot as plt\n",
    "plt.loglog(h, abs(relative_error))\n",
    "plt.xlabel('step size $h$')\n",
    "plt.ylabel('relative error in computing the finite difference')\n",
    "plt.show()"
   ]
  },
  {
   "cell_type": "markdown",
   "id": "d893f5ad-10d3-4584-9c81-5dfde0f6349d",
   "metadata": {},
   "source": [
    "In light of what you have learned today about catastrophic cancellation, explain the shape of the curve you get. Explain why it is not a good idea to just make $h$ as small as possible. What is the smallest relative error we can achieve using this method?\n",
    "\n",
    "<h3 style=\"background-color:lightblue;\"><left> Write Answer for Exercise 5 Part 2 Below </left></h3>"
   ]
  },
  {
   "cell_type": "markdown",
   "id": "b837d2f8-daa1-46f1-90fa-76de71e031f9",
   "metadata": {},
   "source": []
  },
  {
   "cell_type": "markdown",
   "id": "53e7f4ac-00c4-4fc4-b61f-eacfb67b79cb",
   "metadata": {},
   "source": [
    "# Finite difference schemes\n",
    "\n",
    "This shows the basic struggle of computing numerical derivatives: the definition of the derivative requires `h` to be infinitely small, but we can't practically make it that small. This isn't just because of catesprophic cancellation, by the way -- often when working with real data you are limited in how fast you can collect it. Hence, our goal will be to find ways to get more accurate estimates of the derivative without just making the step size $h$ tiny. We will consider $h$ to be fixed, and try to get our estimate as good as possible.\n",
    "\n",
    "## Bias in the forward difference\n",
    "\n",
    "Let's examine the finite difference method, applied to the function $f(x) = x^3$ at $x=2$. For ease of illustration, let's choose $h=0.5$. Our estimate of $f'(2)$ is\n",
    "\n",
    "$$\n",
    "f'(2)\\approx \\frac{(2+0.5)^3-2^3}{0.5}.\n",
    "$$\n",
    "\n",
    "Is this an over-estimate or an under-estimate? Let's draw a picture to help us see.\n",
    "\n",
    "<h3 style=\"color:red;\"><left> Exercise 6 </left></h3>\n",
    "\n",
    "Find an equation for the tangent line to $y=f(x)$ at $x=2$. Find an equation for the secant line intersecting $y=f(x)$ at $x=2$ and $x=2.5$.\n",
    "\n",
    "<h3 style=\"background-color:lightblue;\"><left> Write Answer for Exercise 6 Below</left></h3>"
   ]
  },
  {
   "cell_type": "markdown",
   "id": "5f42a0f0-b5a8-42a3-bbd8-4762b6710f8d",
   "metadata": {},
   "source": [
    "Tangent line equation: y = 12x - 16 \n",
    "Secant line equation: y = 15.25(x - 2) + 8"
   ]
  },
  {
   "cell_type": "markdown",
   "id": "62941607-94f5-40a6-88e0-c630eb110fc0",
   "metadata": {},
   "source": [
    "Fill in your formulas for the secant and tangent lines below."
   ]
  },
  {
   "cell_type": "code",
   "execution_count": null,
   "id": "a87459c6-4362-4f14-9539-8ef21461c025",
   "metadata": {},
   "outputs": [],
   "source": [
    "x = np.linspace(1,3)\n",
    "cube = x**3\n",
    "tangent = \n",
    "secant = \n",
    "plt.plot(x, cube, label=\"$x^3$\")\n",
    "plt.plot(x, tangent, '--', label=\"tangent\")\n",
    "plt.plot(x, secant, '--', label=\"secant\")\n",
    "plt.ylim(0,27)\n",
    "plt.xlim(1, 3)\n",
    "plt.legend()\n",
    "plt.show()"
   ]
  },
  {
   "cell_type": "markdown",
   "id": "89d7e167-6322-4702-898a-312e76e2eb04",
   "metadata": {},
   "source": [
    "That shows it visually: the slope of the secant line is bigger than the slope of the tangent line. We can see it algebraically too:\n",
    "\\begin{align*}\n",
    "\\frac{(2+0.5)^3-2^3}{0.5}\n",
    "&=\\frac{12(0.5)+6(0.5)^2+(0.5)^3}{0.5}\\\\\n",
    "&=12+6(0.5)+(0.5)^2\n",
    "\\end{align*}\n",
    "The correct derivative is 12, and the other terms (most of all the term $6(0.5)$) are making it too big.\n",
    "\n",
    "When we choose $h$ to be a positive number, we call that a *forward difference*. What if we try making $h$ negative, doing a so-called *backward difference*? Try that now.\n",
    "\n",
    "<h3 style=\"color:red;\"><left> Exercise 7 </left></h3>\n",
    "\n",
    "Create a similar plot to show what happens if $h=-0.5$. Is the slope of the secant line too big, or too small, in this case? Support your claim using your figure. How is this related to the curvature of the function $f(x)=x^3$?\n",
    "\n",
    "<h3 style=\"background-color:lightblue;\"><left> Write Answer for Exercise 7 Below </left></h3>"
   ]
  },
  {
   "cell_type": "code",
   "execution_count": null,
   "id": "2d1aec8d",
   "metadata": {},
   "outputs": [],
   "source": [
    "x = np.linspace(1,3)\n",
    "cube = x**3\n",
    "tangent = \n",
    "secant = \n",
    "plt.plot(x, cube, label=\"$x^3$\")\n",
    "plt.plot(x, tangent, '--', label=\"tangent\")\n",
    "plt.plot(x, secant, '--', label=\"secant\")\n",
    "plt.ylim(0,27)\n",
    "plt.xlim(1, 3)\n",
    "plt.legend()\n",
    "plt.show()"
   ]
  },
  {
   "cell_type": "markdown",
   "id": "71f7ad2e-9092-469e-af20-e6d1439a5aab",
   "metadata": {},
   "source": [
    "## Correcting the bias\n",
    "\n",
    "As you have noticed, the forward difference gave us an over-estimate while the backward difference gave an under-estimate. This gives us a clear way to do better: we could average these answers out, which would give us a (hopefully) unbiased answer. Algebraically, this would look something like this:\n",
    "\n",
    "\\begin{align*}\n",
    "\\frac{1}{2}\\left[ \\frac{f(x+h) - f(x)}{h} + \\frac{f(x-h)-f(x)}{-h} \\right]\n",
    "&= \\frac{f(x+h)-f(x)-f(x-h) + f(x)}{2h}\\\\\n",
    "&= \\frac{f(x+h)-f(x-h)}{2h}\n",
    "\\end{align*}"
   ]
  },
  {
   "cell_type": "markdown",
   "id": "88917315-5fd0-45bc-8173-5c5bca02080a",
   "metadata": {},
   "source": [
    "This is the *symmetric difference* scheme. You can think of it as a secant line which doesn't go through a given point, but rather goes through its neighbors."
   ]
  },
  {
   "cell_type": "code",
   "execution_count": null,
   "id": "1366eea1-bfa0-4ef5-97c3-60a11b7c1caf",
   "metadata": {},
   "outputs": [],
   "source": [
    "x = np.linspace(1,3)\n",
    "cube = x**3\n",
    "tangent = 12*(x-2)+8\n",
    "secant = (2.5**3-1.5**3)*(x-1.5)+1.5**3\n",
    "plt.plot(x, cube, label=\"$x^3$\")\n",
    "plt.plot(x, tangent, '--', label=\"tangent\")\n",
    "plt.plot(x, secant, '--', label=\"secant\")\n",
    "plt.ylim(0,27)\n",
    "plt.xlim(1, 3)\n",
    "plt.legend()\n",
    "plt.show()"
   ]
  },
  {
   "cell_type": "markdown",
   "id": "970a113f-382c-4225-89f2-228306247c19",
   "metadata": {},
   "source": [
    "No obvious bias! We can still work out algebraically that it's not exact:\n",
    "$$\n",
    "\\frac{(2+0.5)^3 - (2-0.5)^3}{2*(0.5)} = 12.25\n",
    "$$\n",
    "This is still a slight overestimate. However, it's clearly way better for any given step size $h$. The error gets small really fast, too: if we instead had $h=10^{-9}$, the error would be just $(10^{-9})^2 = 10^{-18}$, which is below the floating-point error. Symmetric difference is better than forward difference!\n",
    "\n",
    "<h3 style=\"color:red;\"><left> Exercise 8 </left></h3>\n",
    "\n",
    "Work out the symmetric difference exactly on paper for the function $f(x)=5x^2+3x-7$, for a variable step size $h$, at the point $x=2$. Find the relative error algebraically, and comment on it.\n",
    "\n",
    "<h3 style=\"background-color:lightblue;\"><left> Write Answer for Exercise 8 Below </left></h3>"
   ]
  },
  {
   "cell_type": "markdown",
   "id": "e6f888f4",
   "metadata": {},
   "source": []
  },
  {
   "cell_type": "markdown",
   "id": "a5aa8e78-5dbf-40ba-be8f-d6638881e0d6",
   "metadata": {},
   "source": [
    "# Unequal step sizes\n",
    "\n",
    "When we can control the step size, we are lucky: there are just two points to check in the symmetric difference scheme! The middle term cancelled out. With real data, we are not always so lucky: most of the time, data just comes in when it's available. We can get a formula that's just as good as the symmetric difference scheme, even if the step sizes are not equal. The trick is to ask for that cool property you just found, that the formula should be exact for quadratic polynomials. That is: we are looking for numbers $d_-$, $d_0$, $d_+$ so that \n",
    "\n",
    "$$\n",
    "f'(x) = d_{-} f(x-k) +d_0 f(x) + d_+ f(x+h)\n",
    "$$\n",
    "\n",
    "for any quadratic polynomial $f(x)=ax^2+bx+c$. Let's derive those values $d_-$, $d_0$, and $d_+$ now. For this purpose, we really only need a specific version of this equation:\n",
    "\n",
    "$$\n",
    "f'(0) = d_{-} f(-k) +d_0 f(0) + d_+ f(h) \\tag{*}\n",
    "$$\n",
    "\n"
   ]
  },
  {
   "cell_type": "markdown",
   "id": "6f8d1ca3-f3cb-43bb-be10-da52015a6ad5",
   "metadata": {},
   "source": [
    "Since it should work for any quadratic polynomial, we can get picky. It should work for specifically the polynomial $f(x) = (x+k)(x-h)$. Putting this into our formula ($*$) above, we find\n",
    "\n",
    "\\begin{align*}\n",
    "f'(0) = k-h &= d_0(-kh)\\\\\n",
    "d_0&=\\frac{1}{k} -\\frac{1}{h}\n",
    "\\end{align*}\n",
    "\n",
    "The difference scheme should also work for the polynomial $f(x)=x(x+k)$ at the point $x=0$. We can work it out the same way:\n",
    "\n",
    "\\begin{align*}\n",
    "f'(0) = k &= d_+h(h+k)\\\\\n",
    "d_+&=\\frac{k}{h(h+k)}\n",
    "\\end{align*}"
   ]
  },
  {
   "cell_type": "markdown",
   "id": "5ced530b-d8d7-4cb4-a5d4-385c7073feec",
   "metadata": {},
   "source": [
    "<h3 style=\"color:red;\"><left> Exercise 9 </left></h3>\n",
    "\n",
    "Choose a quadratic polynomial $f(x)$ which will give you the value of $d_-$. You should find that \n",
    "$$\n",
    "d_- = \\frac{-h}{k(k+h)}.\n",
    "$$\n",
    "<h3 style=\"background-color:lightblue;\"><left> Write Answer for Exercise 9 Below </left></h3>"
   ]
  },
  {
   "cell_type": "markdown",
   "id": "71daa15b",
   "metadata": {},
   "source": []
  },
  {
   "cell_type": "markdown",
   "id": "c811f1b1",
   "metadata": {},
   "source": [
    "<h3 style=\"color:red;\"><left> Exercise 10 </left></h3>\n",
    "\n",
    "By choosing $f(x)=1$ in ($*$) we find that $d_-+d_0+d_+=0$. Verify that this is the case algebraically.\n",
    "\n",
    "<h3 style=\"background-color:lightblue;\"><left> Write Answer for Exercise 10 Below </left></h3>\n"
   ]
  },
  {
   "cell_type": "markdown",
   "id": "b1ed384d",
   "metadata": {},
   "source": []
  },
  {
   "cell_type": "markdown",
   "id": "d100ea1d-8fb2-4cfa-8932-d526d283207c",
   "metadata": {},
   "source": [
    "Suppose we have three points in time $x_0$, $x_-$, and $x_+$ with $x_-<x_0<x_+$. Suppose further that we have measured $f(x_-)$, $f(x_0)$, and $f(x_+)$. This gives us a good way to approximate the derivative of $f$ at $x_0$. We compute\n",
    "\\begin{align*}\n",
    "k &= x_0-x_-\\\\\n",
    "h &= x_+-x_0\\\\\n",
    "d_0 &= \\frac{1}{k}-\\frac{1}{h}\\\\\n",
    "d_- &= \\frac{-h}{k(k+h)}\\\\\n",
    "d_+ &= \\frac{k}{h(h+k)}\\\\\n",
    "f'(x_0) &\\approx d_- f(x_-) +d_0 f(x_0) + d_+ f(x_+)\n",
    "\\end{align*}\n",
    "\n",
    "The final exercise for today walks you through the process of creating a vectorized version of this formula, which computes the symmetric difference scheme for unequal step sizes in a way that is\n",
    "1. Efficient (very fast to perform)\n",
    "2. Easy to read (easy to see that it does what it should).\n",
    "\n",
    "<h3 style=\"color:red;\"><left> Exercise 11 </left></h3>\n",
    "\n",
    "Our function will take two arguments, `x` and `y`, each of which is an array. The idea is that $y$ will have the $f(x)$ values corresponding to each $x$ value. It will produce an array of the same shape which has the symmetric finite difference scheme applied to find the first derivative.\n",
    "\n",
    "When working out a procedure, it is a good idea to have an example at hand so you can follow through the steps. Let's pick some examples for $x$ and $y$."
   ]
  },
  {
   "cell_type": "code",
   "execution_count": null,
   "id": "a0c28ef5-e806-40f1-b37a-f6a35cb159b6",
   "metadata": {},
   "outputs": [],
   "source": [
    "x = np.array([1.0, 2, 5, 7, 8])\n",
    "y = np.array([50.0, 49, 42, 35, 34])\n",
    "plt.plot(x, y)\n",
    "plt.show()"
   ]
  },
  {
   "cell_type": "markdown",
   "id": "94d54ebc-e341-4d05-a3ec-f85c38fe57a2",
   "metadata": {},
   "source": [
    "We can see that the derivative is steeply negative, leveling at the end. That gives us an idea of what we are looking for: our answer will be an array of negative numbers.\n",
    "\n",
    "In order to make the function we are writing more legible, we will use the same symbols that are in the derivation we did above. The only issue is that symbols like `-` and `+` can't be used for variables in Python, so instead we will use `xm` for $x_-$ and `xp` for $x_+$.\n",
    "\n",
    "For each number $x$, we want to do operations with its neighbor to the left, $x_-$. So, let's build an array which has all the same numbers as $x$ but shifted one to the right. Since the leftmost $x$ has no neighbor to the left, we should instead say that value is missing using the special value `nan`. Here is a quick way to do that:"
   ]
  },
  {
   "cell_type": "code",
   "execution_count": null,
   "id": "61d468ba-08ba-4a9e-bdc5-ac79eee5698c",
   "metadata": {},
   "outputs": [],
   "source": [
    "xm = np.full_like(x, np.nan)\n",
    "xm[1:] = x[:-1]\n",
    "print(x)\n",
    "print(xm)"
   ]
  },
  {
   "cell_type": "markdown",
   "id": "f5032acf-e0c6-4e82-b8ff-ecc6a761523f",
   "metadata": {},
   "source": [
    "Now we can see that where `x` has the value `7`, for example, `xm` has the value `5` and `5` is the number to the left of `7`. Step by step, what we did here was to make an array the same shape as x but full of the special value `nan`. Then, we took the spots of `xm` starting with the second one, and filled them with values from `x` stopping before the last one of `x`.\n",
    "\n",
    "The advantage of doing it like this is that we can compute terms involving $x_0$ and $x_-$ now, using broadcasting. We said above that $k=x_0-x_-$. To compute this is very simple:"
   ]
  },
  {
   "cell_type": "code",
   "execution_count": null,
   "id": "d37b848c-ae43-46c8-9b27-cb8eca50a382",
   "metadata": {},
   "outputs": [],
   "source": [
    "k = x - xm\n",
    "print(k)"
   ]
  },
  {
   "cell_type": "markdown",
   "id": "a3685e39-2413-41c9-8bf0-95b38e08415f",
   "metadata": {},
   "source": [
    "We can see that it even carried through the missing value for us, all automatically.\n",
    "\n",
    "__Part 1__\n",
    "\n",
    "Use a similar strategy to make an array for `xp` representing $x_+$. Then, use that array to compute $h$. Make arrays for `ym` and `yp` in the same way.\n",
    "\n",
    "<h3 style=\"background-color:lightblue;\"><left> Write Answer for Exercise 11 Part 1 Below </left></h3>"
   ]
  },
  {
   "cell_type": "code",
   "execution_count": null,
   "id": "d0c40821-debc-454b-b457-6f80b2f15744",
   "metadata": {},
   "outputs": [],
   "source": []
  },
  {
   "cell_type": "markdown",
   "id": "0c0b7d7b-f16b-423c-a4de-af5fa4fd29ae",
   "metadata": {},
   "source": [
    "Now that we have those variables set up, we can compute the other terms in the computation in a way that clearly shows what they represent."
   ]
  },
  {
   "cell_type": "code",
   "execution_count": null,
   "id": "d39036b8-7d8b-40de-b2f2-f06d411b24d9",
   "metadata": {},
   "outputs": [],
   "source": [
    "d = (1/k) - (1/h)\n",
    "dm = -h/( k*(k+h) )\n",
    "dp = k/( h*(k+h) )"
   ]
  },
  {
   "cell_type": "markdown",
   "id": "1d4b3407-e6bb-48f5-85dc-aa2b1b515513",
   "metadata": {},
   "source": [
    "Now each of these variables holds an array, which contains all the values of (for example) `d` which represents $d_0$:"
   ]
  },
  {
   "cell_type": "code",
   "execution_count": null,
   "id": "51d1a0f5-49a4-4157-9765-6d3f13bf7727",
   "metadata": {},
   "outputs": [],
   "source": [
    "print(d)"
   ]
  },
  {
   "cell_type": "markdown",
   "id": "1cf71d1e-9254-44db-8042-da5c47c3c60d",
   "metadata": {},
   "source": [
    "And it is very simple to wrap these up into a final answer:"
   ]
  },
  {
   "cell_type": "code",
   "execution_count": null,
   "id": "2f79a617-bd8f-4d17-bbc9-4a82e6fa6c42",
   "metadata": {},
   "outputs": [],
   "source": [
    "derivative = dm*ym + d*y + dp*yp\n",
    "print(derivative)"
   ]
  },
  {
   "cell_type": "markdown",
   "id": "4c8494b6-4ea0-4eac-9196-67b56395058c",
   "metadata": {},
   "source": [
    "What should we do about the missing values? Since we can't do a symmetric difference, the next best thing is a one-sided difference. Since there are just two of these, we can fill them out manually."
   ]
  },
  {
   "cell_type": "code",
   "execution_count": null,
   "id": "c39e993b-2e03-4c86-9c5a-f793c0cd5796",
   "metadata": {},
   "outputs": [],
   "source": [
    "derivative[0] = (y[1]-y[0])/(x[1]-x[0])\n",
    "print(derivative)"
   ]
  },
  {
   "cell_type": "markdown",
   "id": "6ec1a79c-4c8b-4f31-99d3-26574ff73e74",
   "metadata": {},
   "source": [
    "__Part 2__\n",
    "\n",
    "Set the last entry of `derivative` similarly. Use the slice-from-the-end strategy, so that you don't need to know how many elements are in the array.\n",
    "\n",
    "<h3 style=\"background-color:lightblue;\"><left> Write Answer for Exercise 11 Part 2 Below </left></h3>"
   ]
  },
  {
   "cell_type": "code",
   "execution_count": null,
   "id": "2dbb4831-f292-4603-a88c-eec1e61cca55",
   "metadata": {},
   "outputs": [],
   "source": []
  },
  {
   "cell_type": "markdown",
   "id": "8dae0624-adf7-40b4-b579-9575c83dd0d7",
   "metadata": {},
   "source": [
    "__Part 3__\n",
    "\n",
    "Write a function called `symmetric_difference` which computes the symmetric difference for unequal step sizes. You can do this by copying code from above.\n",
    "\n",
    "<h3 style=\"background-color:lightblue;\"><left> Write Answer for Exercise 11 Part 3 Below </left></h3>"
   ]
  },
  {
   "cell_type": "code",
   "execution_count": null,
   "id": "fb683df1-f683-4d63-82bc-a3369365c287",
   "metadata": {},
   "outputs": [],
   "source": [
    "def symmetric_difference(x, y):\n",
    "    #write a function here!\n",
    "    return derivative\n",
    "\n",
    "\n",
    "lab_4_checker.check_symmetric_difference(symmetric_difference)"
   ]
  },
  {
   "cell_type": "markdown",
   "id": "1e943053-100b-4bb4-bbb7-6847add522b6",
   "metadata": {},
   "source": [
    "__Part 4__\n",
    "\n",
    "In a language like Python (or Julia, or Matlab, for that matter) a so-called \"vectorized\" procedure goes way faster than looping through the variables, because you can pass all the difficult computation to highly-optimized code (in our case, the code which comes in the package `numpy`). This makes a trivial difference for small arrays, but when we start to have hundreds or thousands of entries in our arrays it makes a huge difference. That is one reason why people often prefer to write functions which treat the data as arrays, rather than looping through lists like you would do in other languages like C, Java, or Javascript.\n",
    "\n",
    "Another reason is that many people find the code easier to read, and easier to understand, if it is written in a vectorized way.\n",
    "\n",
    "Write a few sentences of your thoughts on the matter. Do you find the function `symmetric_difference` you write to be easier to read than if it were done with a loop? Which parts are harder to read, which parts easier? Give your honest opinion.\n",
    "\n",
    "<h3 style=\"background-color:lightblue;\"><left> Write Answer for Exercise 11 Part 4 Below </left></h3>"
   ]
  },
  {
   "cell_type": "code",
   "execution_count": null,
   "id": "f22a31a2-bd24-4982-9714-26b8697df124",
   "metadata": {},
   "outputs": [],
   "source": []
  }
 ],
 "metadata": {
  "kernelspec": {
   "display_name": "Python 3 (ipykernel)",
   "language": "python",
   "name": "python3"
  },
  "language_info": {
   "codemirror_mode": {
    "name": "ipython",
    "version": 3
   },
   "file_extension": ".py",
   "mimetype": "text/x-python",
   "name": "python",
   "nbconvert_exporter": "python",
   "pygments_lexer": "ipython3",
   "version": "3.10.4"
  }
 },
 "nbformat": 4,
 "nbformat_minor": 5
}
