{
 "cells": [
  {
   "cell_type": "markdown",
   "id": "4df8d720",
   "metadata": {},
   "source": [
    "<div style=\"background-color:lightblue\">\n",
    "<h1><center>\n",
    "    The Data Science Labs on <br/>\n",
    "     Differential and Integral Calculus  <br/>\n",
    "   <small>by Alden Bradford and Mireille Boutin </small>\n",
    "</center></h1>\n",
    "    </div>"
   ]
  },
  {
   "cell_type": "markdown",
   "id": "6c81ffb7",
   "metadata": {},
   "source": [
    "<h1><center>\n",
    "    Laboratory 3<br/>\n",
    "    Estimate Your Blood Flow from PPG Data <br/>\n",
    "    Intro to Functions, Polynomial Fitting <br/>\n",
    "    <font size=\"3\"> Last Updated on June 7, 2022</font>  \n",
    "</center></h1>"
   ]
  },
  {
   "cell_type": "markdown",
   "id": "78a79fd4",
   "metadata": {},
   "source": [
    "<h2 style=\"color:orange;\"><left>00. Content </left></h2>"
   ]
  },
  {
   "cell_type": "markdown",
   "id": "15a1c18b",
   "metadata": {},
   "source": [
    "<font size=\"5\">Mathematics</font>\n",
    "- empirical mean\n",
    "- empirical standard deviation\n",
    "- slope\n",
    "    \n",
    "<font size=\"5\">Programming Skills</font>\n",
    "- Functions\n",
    "    \n",
    "<font size=\"5\">Embedded Systems</font>\n",
    "- Thonny and Micropython"
   ]
  },
  {
   "cell_type": "markdown",
   "id": "7f98a88d",
   "metadata": {},
   "source": [
    "<h2 style=\"color:orange;\"><left>0. Required Hardware </left></h2> "
   ]
  },
  {
   "cell_type": "markdown",
   "id": "b5dd7945",
   "metadata": {},
   "source": [
    "- microcontroller: Raspberry Pi Pico\n",
    "- pulse sensor\n",
    "- breadboard\n",
    "- USB connector\n",
    "- capacitor"
   ]
  },
  {
   "cell_type": "markdown",
   "id": "0bb21d5a",
   "metadata": {},
   "source": [
    "<h2 style=\"color:orange;\"><left>1. Functions in Python </left></h2> "
   ]
  },
  {
   "cell_type": "markdown",
   "id": "447b27f6-a144-4af3-b483-44fe60b1f180",
   "metadata": {},
   "source": [
    "<h3 style=\"background-color:lightblue\"><left> Write your name and email below: </left></h3>\n",
    "\n",
    "First Name, Last Name, email "
   ]
  },
  {
   "cell_type": "markdown",
   "id": "0efd15e8",
   "metadata": {},
   "source": [
    "# The most useful way to organize code is the function\n",
    "\n",
    "Up to now, we have been relying on functions other people have written to achieve our goals. One of the most important roles of a computer programmer is writing good functions.\n",
    "\n",
    "For this lab, we are going to learn how to write functions. As a refresher, last lab we discussed how functions are groups of code that always run together. When you call a function, you execute the code that is associated within that function. Functions can take inputs, manipulate the inputs, and return an output. \n",
    "\n",
    "Why use functions? Functions help reduce repetitive code. Functions also make your code easier to read."
   ]
  },
  {
   "cell_type": "markdown",
   "id": "76e7145b",
   "metadata": {},
   "source": [
    "We define/create a function by using the key word ```def```, the name of the function, parameters enclosed within ```()```, and ```:``` signifying the end of the header. A function also has the ability to return a value via the command ```return```.\n",
    "\n",
    "Here are two examples of a simple function that prints something."
   ]
  },
  {
   "cell_type": "code",
   "execution_count": null,
   "id": "b1a9dee4",
   "metadata": {},
   "outputs": [],
   "source": [
    "def name():  # Function Header\n",
    "    print(\"Data Science is cool!\")  # Function Body\n",
    "\n",
    "\n",
    "name()  # Function Call"
   ]
  },
  {
   "cell_type": "code",
   "execution_count": null,
   "id": "fc457f0e",
   "metadata": {},
   "outputs": [],
   "source": [
    "def add12():\n",
    "    a = 1\n",
    "    b = 2\n",
    "    c = a + b\n",
    "    print(\"1 + 2 = {}\".format(c))\n",
    "\n",
    "\n",
    "add12()"
   ]
  },
  {
   "cell_type": "markdown",
   "id": "734a2d36",
   "metadata": {},
   "source": [
    "You can also pass information into functions so that you can manipulate the parameters of the function within the function. Parameters are enclosed within the ```()``` part of the function header. You can pass as many parameters as you would like within the function header. The order of the parameters are significant and should match the order in the function's header."
   ]
  },
  {
   "cell_type": "code",
   "execution_count": null,
   "id": "47be81bc",
   "metadata": {},
   "outputs": [],
   "source": [
    "import numpy as np\n",
    "\n",
    "\n",
    "def subtract(a, b):  # Function Header passes in parameters a and b\n",
    "    c = a - b\n",
    "    print(\"a - b = {}\".format(c))\n",
    "\n",
    "\n",
    "subtract(2, 1)  # Function call passes 2 as 'a' and 1 as 'b', 2 - 1 = 1\n",
    "subtract(25, 4)  # 25 - 4 = 21\n",
    "subtract(4, 25)  # 4 - 25 = -21\n",
    "\n",
    "a = 1\n",
    "b = -1\n",
    "subtract(b, a)  # Remember that order of the inputs into the parameters matter!\n",
    "\n",
    "d = np.array([1, 2, 3, 4, 5])\n",
    "e = np.array([18, 19, 20, 21, 22])\n",
    "subtract(e, d)"
   ]
  },
  {
   "cell_type": "markdown",
   "id": "231a0665",
   "metadata": {},
   "source": [
    "Parameters can be strings as well."
   ]
  },
  {
   "cell_type": "code",
   "execution_count": null,
   "id": "2a564524",
   "metadata": {},
   "outputs": [],
   "source": [
    "def info(name, email):\n",
    "    print(\"Name: {}\".format(name))\n",
    "    print(\"Email: {}\".format(email))\n",
    "\n",
    "\n",
    "info(\"Purdue Pete\", \"boilerup@purdue.edu\")"
   ]
  },
  {
   "cell_type": "markdown",
   "id": "fb035908",
   "metadata": {},
   "source": [
    "The neat thing about functions is that you could also return a value from a function utilizing the key word ```return```. You must remember to store the returned value from the function into a variable if you want to save it. Remember that when you call a function, it's like the function call is replaced by the code within the body of the function."
   ]
  },
  {
   "cell_type": "code",
   "execution_count": null,
   "id": "65982c5b",
   "metadata": {},
   "outputs": [],
   "source": [
    "def return5():\n",
    "    return 5\n",
    "\n",
    "\n",
    "def multiply(a, b):\n",
    "    c = a * b\n",
    "    return c  # return the value of a * b\n",
    "\n",
    "\n",
    "e = 9\n",
    "f = 4\n",
    "d = multiply(5, 6)  # d = 5 * 6\n",
    "g = multiply(e, f) + return5()  # d = (9 * 4) + (5)\n",
    "\n",
    "print(return5())\n",
    "print(\"The values of d and g are {} and {}, respectively.\".format(d, g))"
   ]
  },
  {
   "cell_type": "markdown",
   "id": "1f99ab77",
   "metadata": {},
   "source": [
    "Let's look at why functions are good at reducing repetition in code."
   ]
  },
  {
   "cell_type": "code",
   "execution_count": null,
   "id": "afd5ae64",
   "metadata": {},
   "outputs": [],
   "source": [
    "print(\"Repetitive code when functions can be used are unprofessional and take space.\")\n",
    "for i in range(1, 6):\n",
    "    if i == 3:\n",
    "        print(i)\n",
    "for i in range(1, 6):\n",
    "    if i == 3:\n",
    "        print(i)\n",
    "for i in range(1, 6):\n",
    "    if i == 3:\n",
    "        print(i)"
   ]
  },
  {
   "cell_type": "code",
   "execution_count": null,
   "id": "49556749",
   "metadata": {
    "scrolled": true
   },
   "outputs": [],
   "source": [
    "def print3():\n",
    "    for i in range(1, 6):\n",
    "        if i == 3:\n",
    "            print(i)\n",
    "\n",
    "\n",
    "print(\"Functions can help keep your code neat, concise, and easy to read.\")\n",
    "print3()\n",
    "print3()\n",
    "print3()"
   ]
  },
  {
   "cell_type": "markdown",
   "id": "97cfe340",
   "metadata": {},
   "source": [
    "<h3 style=\"color:red;\"><left> Exercise 1 </left></h3>"
   ]
  },
  {
   "cell_type": "markdown",
   "id": "6e79a1e3",
   "metadata": {},
   "source": [
    "__Part 1__\n",
    "\n",
    "Create the following functions. <br>\n",
    "\n",
    "1. Function named ```trapezoid_area``` that has parameters of ```base1```, ```base2```, and ```height``` as its parameters and returns the area of a trapezoid.\n",
    "2. Function named ```slope``` that calculates the slope of the straight line passing through the two points in the plane. The parameters are ```x1```, ```y1```, ```x2```, and ```y2``` and the function returns the slope.\n",
    "\n",
    "__Part 2__\n",
    "\n",
    "Create the following functions for the following formulas. Do not use any of python's NumPy functions, with the exception of the ```sum()``` function.\n",
    "\n",
    "1) Arithmetic Mean\n",
    "\\begin{align*}\n",
    "\\mu \n",
    "&= \\frac{1}{n}\\sum_{i=1}^n a_i\\\\\n",
    "&= \\frac{a_1+a_2+\\dots+a_n}{n}\n",
    "\\end{align*}\n",
    "- Name: ```mean```\n",
    "- Parameters: ```x``` (an array of values of variable length)\n",
    "\n",
    "2) Standard Deviation (You must utilize your ```mean``` function from Question 1)\n",
    "\\begin{align*}\n",
    "\\sigma \n",
    "&= \\sqrt{\\frac{1}{n-1} \\sum_{i=1}^n (x_i-\\mu)^2}\\\\\n",
    "&= \\sqrt{\\frac{(x_1-\\mu)^2+(x_2-\\mu)^2+\\dots+(x_n-\\mu)^2}{n-1}}\n",
    "\\end{align*}\n",
    "- Name: ```std```\n",
    "- Parameters: ```x``` (an array of values of variable length)"
   ]
  },
  {
   "cell_type": "markdown",
   "id": "60f503d3",
   "metadata": {
    "tags": []
   },
   "source": [
    "<h3 style=\"background-color:lightblue\"><left> Write Answers for Exercise 1 Below </left></h3>\n",
    "\n"
   ]
  },
  {
   "cell_type": "code",
   "execution_count": null,
   "id": "c0074328-0c2e-42c3-a770-0b6f4125668e",
   "metadata": {},
   "outputs": [],
   "source": []
  },
  {
   "cell_type": "markdown",
   "id": "cfa438a7-5c1b-4fcb-8eb3-e294c865928c",
   "metadata": {},
   "source": [
    "# Functions make code reusable\n",
    "\n",
    "One of the most important things about functions is that they can allow us to reproduce a task we did before, very reliably. \n",
    "\n",
    "At the start of each lab, you must include your first name, last name, and email address. We can easily automate that process with functions. Open the file `student_info.py`. Once you have read that, you should not be surprised by what the following cell does."
   ]
  },
  {
   "cell_type": "code",
   "execution_count": null,
   "id": "cce4cfa0-8c37-410a-9c79-156bf8c0dbe4",
   "metadata": {},
   "outputs": [],
   "source": [
    "# this makes it so that changes to the imported module are automatically updated in this document.\n",
    "# usually not necessary, but if we are making changes, this is helpful.\n",
    "%load_ext autoreload\n",
    "%autoreload 2\n",
    "\n",
    "from student_info import show_info\n",
    "\n",
    "show_info()"
   ]
  },
  {
   "cell_type": "markdown",
   "id": "7bd4cf4e-9f84-495d-ab5e-1797e74466be",
   "metadata": {},
   "source": [
    "<h3 style=\"color:red;\"><left> Exercise 2 </left></h3>\n",
    "\n",
    "Modify `student_info.py` to give your own contact information. You will use this file in the future to put a heading on your lab submissions.\n",
    "\n",
    "Check to make sure it is working by running the cell below. It should show your contact information."
   ]
  },
  {
   "cell_type": "code",
   "execution_count": null,
   "id": "a381224b-523b-41fc-ba12-0f550add7ec9",
   "metadata": {},
   "outputs": [],
   "source": [
    "show_info()"
   ]
  },
  {
   "cell_type": "markdown",
   "id": "9148508b-839a-4851-a3c5-46a2ef994e32",
   "metadata": {},
   "source": [
    "# Functions make it easy to check your work\n",
    "\n",
    "One of the great things about Python, which is not something every language can do, is that you can pass functions around as variables. You can put a function into another function, like so:"
   ]
  },
  {
   "cell_type": "code",
   "execution_count": null,
   "id": "13facf3f-08f3-48d5-ad51-d192f784e812",
   "metadata": {},
   "outputs": [],
   "source": [
    "def do_three_times(f):\n",
    "    f()\n",
    "    f()\n",
    "    f()\n",
    "    \n",
    "def greet():\n",
    "    print('hey')\n",
    "\n",
    "do_three_times(greet)"
   ]
  },
  {
   "cell_type": "markdown",
   "id": "4afc9a95-cb58-4144-a5f4-86744ada8243",
   "metadata": {},
   "source": [
    "In the above block, we are not calling the `greet` function directly -- instead we are passing it as a variable into the function `do_three_times`, which in turn calls the greet function.\n",
    "\n",
    "A really common way to take advantage of this pattern is to pass a function into another one, which checks to see if it is working correctly. Let's do that now! We have written a couple functions which check to see if the functions `trapezoid_area` and `slope` which you wrote are working correctly. Run the following cell and see! If your functions are not working how they should, go back and change them to make sure you get full points."
   ]
  },
  {
   "cell_type": "code",
   "execution_count": null,
   "id": "32222b88-6ea5-4747-8bae-6fbec954c598",
   "metadata": {},
   "outputs": [],
   "source": [
    "from lab3_grader import check_trapezoid_area, check_slope\n",
    "\n",
    "check_trapezoid_area(trapezoid_area)\n",
    "check_slope(slope)"
   ]
  },
  {
   "cell_type": "markdown",
   "id": "f8bfd261-318e-485f-a1b7-77f86a58cfa1",
   "metadata": {
    "tags": []
   },
   "source": [
    "## Reusing code from last week\n",
    "\n",
    "We wish to explore the heartbeat data we collected in the previous lab further. To do so, let's copy that code into a new function. In the following cell, fill in the `heartbeat` and `time` variables with your heart beat array (and corresponding time) from last week. Then, fill out the missing parts of the function `get_period` with the steps you performed last week (it's okay to copy and paste)."
   ]
  },
  {
   "cell_type": "code",
   "execution_count": null,
   "id": "eb96ee4e",
   "metadata": {},
   "outputs": [],
   "source": [
    "heartbeat = \n",
    "time = \n",
    "\n",
    "\n",
    "def get_period(heartbeat, time):\n",
    "    \"\"\"\n",
    "    Given a hearbeat signal, what is the period of the heart beat?\n",
    "\n",
    "    Arguments\n",
    "    ---------\n",
    "    heartbeat: array - the measured heartbeat signal\n",
    "    time: array - the times when the signal was measured. Should be the same\n",
    "        shape as heartbeat.\n",
    "\n",
    "    Returns\n",
    "    -------\n",
    "    period: float - the average period of the heartbeat signal.\n",
    "    error: float - an estimate of the error in the measurement of the period.\n",
    "    \"\"\"\n",
    "    \n",
    "    # put here the code which averages the function and finds where the function is increasing and decreasing.\n",
    "    # As always, ask for help if you get stuck.\n",
    "\n",
    "    maxima = np.zeros(averaged.shape, dtype=bool)\n",
    "    maxima[:-1] = increasing[:-1] & decreasing[1:]  \n",
    "    peak_indices = maxima & (averaged > averaged[maxima].mean())\n",
    "    peak_times = time[peak_indices]\n",
    "    gaps = peak_times[1:] - peak_times[:-1]\n",
    "    return gaps.mean(), gaps.std(ddof=1) / np.sqrt(len(gaps))"
   ]
  },
  {
   "cell_type": "code",
   "execution_count": null,
   "id": "8eaeb3f6-a2ae-4c04-8589-5a6188c7fb67",
   "metadata": {},
   "outputs": [],
   "source": [
    "period = get_period(heartbeat, time)\n",
    "print(period)"
   ]
  },
  {
   "cell_type": "markdown",
   "id": "cb5644db",
   "metadata": {},
   "source": [
    "# Looking deeper with polynomials\n",
    "\n",
    "The averaging technique we introduced in the previous lab works very well for identifying the locations of large features. Unfortunately, it blurs out some of the fine detail, brings peaks down, and lifts bottoms up. That's no good if you want to know information like the amplitude or shape of the signal. We can do much better.\n",
    "\n",
    "We will explore one way of finding a function which \"interpolates\" between the observed values. A function which interpolates is called an \"interpolant\".\n",
    "\n",
    "Since you have the period of your heartbeat signal, you can extract just one cycle of the initial signal. In the following cell, fill in a start time which gives you a good window capturing one full heart beat."
   ]
  },
  {
   "cell_type": "code",
   "execution_count": null,
   "id": "2a9d8d3f-c245-4734-b8de-7281e0b50b10",
   "metadata": {
    "tags": []
   },
   "outputs": [],
   "source": [
    "start_time =\n",
    "mask = (time >= start_time) & (time < start_time + period[0])\n",
    "cycle = heartbeat[mask]\n",
    "cycle_t = time[mask]\n",
    "\n",
    "import matplotlib.pyplot as plt\n",
    "\n",
    "plt.plot(cycle_t, cycle)\n",
    "plt.show()"
   ]
  },
  {
   "cell_type": "markdown",
   "id": "af7cc2c5",
   "metadata": {},
   "source": [
    "A parabola has one local maximum or minimum. A cubic polynomial has at most two. A fourth degree polynomial has at most three local maxima and minima. Fit a polynomial of degree one more than the number of local maxima and minima. Numpy has a built in tool which finds a polynomial which matches observed values closely. Here is how it works:"
   ]
  },
  {
   "cell_type": "code",
   "execution_count": null,
   "id": "09a4f79b",
   "metadata": {},
   "outputs": [],
   "source": [
    "from numpy.polynomial import Polynomial\n",
    "\n",
    "interpolant = Polynomial.fit(cycle_t, cycle, deg= )\n",
    "print(interpolant)"
   ]
  },
  {
   "cell_type": "markdown",
   "id": "41d6c5b7",
   "metadata": {},
   "source": [
    "The object `interpolant` represents a list of coefficients of a polynomial. We can also call it as a function. Let's use that to show how well it lines up with the data we measured:"
   ]
  },
  {
   "cell_type": "code",
   "execution_count": null,
   "id": "0479eb24",
   "metadata": {},
   "outputs": [],
   "source": [
    "plt.plot(cycle_t, cycle)\n",
    "plt.plot(cycle_t, interpolant(cycle_t))\n",
    "plt.show()"
   ]
  },
  {
   "cell_type": "markdown",
   "id": "453d4aad",
   "metadata": {},
   "source": [
    "What other values of the degree could we try? What kind of interpolant do we get with a smaller degree, or a larger degree than 7? \n",
    "\n",
    "<h3 style=\"color:red;\"><left> Exercise 3 </left></h3>\n",
    "\n",
    "Use a `for` loop to make plots showing the interpolants of degrees 3 through 15. Which ones fit best? Try larger values too. What if you have an interpolant of degree 30? 100?"
   ]
  },
  {
   "cell_type": "markdown",
   "id": "6ebb42dc",
   "metadata": {},
   "source": [
    "<h3 style=\"background-color:lightblue\"><left> Write Answers for Exercise 3 Below </left></h3>"
   ]
  },
  {
   "cell_type": "code",
   "execution_count": null,
   "id": "1b8d95a0",
   "metadata": {},
   "outputs": [],
   "source": []
  },
  {
   "cell_type": "markdown",
   "id": "52184f9c",
   "metadata": {},
   "source": [
    "## Quantifying the fit\n",
    "\n",
    "Beyond a certain point, the polynomial can snake through each point we give it, capturing all the noise. That defeats the purpose of the fit! It is good practice to choose as low a degree as possible while still matching the data well. This is called the *parsimony principle*. We can quantify this with the so-called \"mean square error\" of a fit: the average value of the difference between the interpolant and the measured value. If the measured values are $y_i$ and we are measuring how well an interpolant $f(x_i)$ agrees, then the mean square error is given by the formula\n",
    "$\n",
    "\\frac{1}{n}\\sum_{i=0}^n \\left(f(x_i)-y_i\\right)^2 \n",
    "$"
   ]
  },
  {
   "cell_type": "markdown",
   "id": "398e13bd",
   "metadata": {},
   "source": [
    "<h3 style=\"color:red;\"><left> Exercise 4 </left></h3>\n",
    "\n",
    "Write a function which takes an interpolant and returns the mean square error. Then, read and run the cell below it, which will use the code you wrote to make a plot of how the polynomial degree relates to the mean square error."
   ]
  },
  {
   "cell_type": "markdown",
   "id": "22f24776",
   "metadata": {},
   "source": [
    "<h3 style=\"background-color:lightblue\"><left> Write Answers for Exercise 4 Below </left></h3>"
   ]
  },
  {
   "cell_type": "code",
   "execution_count": null,
   "id": "e63ebc07",
   "metadata": {},
   "outputs": [],
   "source": [
    "def mean_square_error(x, y, interpolant):\n",
    "    # put your answer here!"
   ]
  },
  {
   "cell_type": "code",
   "execution_count": null,
   "id": "12754b2b",
   "metadata": {},
   "outputs": [],
   "source": [
    "degrees = list(range(1, 20))\n",
    "errors = []\n",
    "for deg in degrees:\n",
    "    interpolant = Polynomial.fit(cycle_t, cycle, deg=deg)\n",
    "    errors.append(mean_square_error(cycle_t, cycle, interpolant))\n",
    "    \n",
    "plt.plot(degrees, errors)\n",
    "plt.xlabel(\"polynomial degree\")\n",
    "plt.ylabel(\"mean square error\")\n",
    "plt.show()"
   ]
  },
  {
   "cell_type": "markdown",
   "id": "b9aaf110-e32a-4a7d-9fa2-9b0cd0f41a17",
   "metadata": {},
   "source": [
    "<h3 style=\"color:red;\"><left> Exercise 5 </left></h3>\n",
    "\n",
    "Interpret the plot above. After what point do we see diminishing returns on the model's fit? What is the smallest degree of polynomial which has a reasonably low mean square error, in your opinion? Write in complete sentences here, as if you were describing the plot in a professional report."
   ]
  },
  {
   "cell_type": "markdown",
   "id": "265b6f5a-d3c5-4094-91a1-67d190eef592",
   "metadata": {},
   "source": [
    "<h3 style=\"background-color:lightblue\"><left> Write Answers for Exercise 5 Below </left></h3>"
   ]
  },
  {
   "cell_type": "markdown",
   "id": "f71f1efb-5aa5-48e7-8c0f-f3867c5ed42e",
   "metadata": {},
   "source": []
  },
  {
   "cell_type": "markdown",
   "id": "9b5c05d5",
   "metadata": {},
   "source": [
    "# Exploring the data using the polynomial model\n",
    "\n",
    "Now that we have a good model for the behavior of each cycle, we can start asking questions of our model. We can ask things like, \"What is the largest value of the function on the interval?\" Here is an example of how we might do that. Suppose we have the following interpolant:"
   ]
  },
  {
   "cell_type": "code",
   "execution_count": null,
   "id": "113e9f8b-0684-4df4-8d00-ef94684ba543",
   "metadata": {},
   "outputs": [],
   "source": [
    "interpolant = np.polynomial.Polynomial(\n",
    "    [\n",
    "        43497.94586794,\n",
    "        -5266.09794496,\n",
    "        -14940.13657245,\n",
    "        57262.21812427,\n",
    "        48591.17239832,\n",
    "        -146342.3668821,\n",
    "        -31204.60140348,\n",
    "        96269.6657132,\n",
    "    ],\n",
    "    domain=[0.0, 0.78],\n",
    ")\n",
    "\n",
    "t = np.linspace(*interpolant.domain, 200)\n",
    "plt.plot(t, interpolant(t))\n",
    "plt.show()"
   ]
  },
  {
   "cell_type": "markdown",
   "id": "25ac531c-73a4-4944-99e1-e9ad9b0f14c2",
   "metadata": {},
   "source": [
    "Since we have a function which represents our data accurately, we can use standard calculus tools to find its local extrema. The Polynomial object which NumPy creates is very versatile. If you have a polynomial, you can find things like its roots easily, like so:"
   ]
  },
  {
   "cell_type": "code",
   "execution_count": null,
   "id": "9af3a1a4-ffd0-4e58-be9e-7e782fe02486",
   "metadata": {},
   "outputs": [],
   "source": [
    "print(interpolant.roots())"
   ]
  },
  {
   "cell_type": "markdown",
   "id": "40bc222d-88e2-4f47-84b7-43b416228dfe",
   "metadata": {},
   "source": [
    "We can also find derivatives, which are given back to us as Polynomial objects which we can do all those same things to."
   ]
  },
  {
   "cell_type": "code",
   "execution_count": null,
   "id": "d47d1fd8-2bcc-4dca-af16-cec35074c7be",
   "metadata": {},
   "outputs": [],
   "source": [
    "print(interpolant.deriv())"
   ]
  },
  {
   "cell_type": "markdown",
   "id": "249f014c-c90b-45fc-8bd1-d0f748bea3d2",
   "metadata": {},
   "source": [
    "We can ask it for its domain, which it also stores for us as an array:"
   ]
  },
  {
   "cell_type": "code",
   "execution_count": null,
   "id": "46c8b153-4892-4149-838f-a6837e3dea0f",
   "metadata": {},
   "outputs": [],
   "source": [
    "interpolant.domain"
   ]
  },
  {
   "cell_type": "markdown",
   "id": "8c089e74-7ae9-4714-85b9-26891621f0ec",
   "metadata": {},
   "source": [
    "<h3 style=\"color:red;\"><left> Exercise 6 </left></h3>\n",
    "\n",
    "Remember the closed interval method from calculus 1, where you find all the critical numbers of a function within its interval, and plug those into the function to find the maximum and minimum values. Write a function which does exactly that, to a polynomial interpolant."
   ]
  },
  {
   "cell_type": "code",
   "execution_count": null,
   "id": "a6c2a33f-da22-4c11-916d-bac75137572d",
   "metadata": {},
   "outputs": [],
   "source": [
    "def closed_interval(interpolant):\n",
    "    #your code goes here.\n",
    "    \n",
    "    return minimum, maximum\n",
    "    \n",
    "print(closed_interval(interpolant))"
   ]
  },
  {
   "cell_type": "markdown",
   "id": "96f33093-85d5-4148-83f2-d319b12c12d6",
   "metadata": {},
   "source": [
    "## Interpretation and code reuse\n",
    "\n",
    "[This article published in Current Cardiology News](https://www.ncbi.nlm.nih.gov/pmc/articles/PMC3394104/pdf/CCR-8-14.pdf) gives several commonly used statistics which can be read from a photoplethysmogram. We will focus on just two of them: the \"systolic amplitude\" which is roughly proportional to blood flow, and the \"ratio b/a\" which is connected to arterial stiffness and can indicate exposure to lead and risk of heart disease.\n",
    "\n",
    "First, let's make a function which computes the systolic amplitude. We have already done most of the work, when we wrote the function `closed_interval`. Let's take advantage of that:"
   ]
  },
  {
   "cell_type": "code",
   "execution_count": null,
   "id": "08cba875-139c-4ea5-8117-cb4d2f686278",
   "metadata": {},
   "outputs": [],
   "source": [
    "def systolic_amplitude(interpolant):\n",
    "    minimum, maximum = closed_interval(interpolant)\n",
    "    return maximum - minimum\n",
    "\n",
    "systolic_amplitude(interpolant)"
   ]
  },
  {
   "cell_type": "markdown",
   "id": "ed9ee24e-eb44-40d8-9f16-51df77ca0235",
   "metadata": {},
   "source": [
    "The ratio b/a is based off the maximum and minimum values of the second derivative. Specifically, it is their ratio. Since the photoplethysmogram is concave up in some places and concave down in others, the maximum will be positive and the minimum will be negative. Since we are more familiar working with positive numbers, people usually compute $-b/a$, where $b$ is the minimum value of the second derivative and $a$ is the maximum value of the second derivative.\n",
    "\n",
    "<h3 style=\"color:red;\"><left> Exercise 7 </left></h3>\n",
    "\n",
    "Write a function to compute the ratio b/a. You should still be able to reuse the function `closed_interval` (ask for help if you need a hint for how to do this)."
   ]
  },
  {
   "cell_type": "code",
   "execution_count": null,
   "id": "fa2404e8-3e5f-431f-89b8-4b9d65e2507f",
   "metadata": {},
   "outputs": [],
   "source": [
    "def ratio_b_a(interpolant):\n",
    "    # your code here\n",
    "\n",
    "ratio_b_a(interpolant)"
   ]
  },
  {
   "cell_type": "markdown",
   "id": "0ac08ab5-6996-4d2d-a7f3-3b00804c7c9b",
   "metadata": {},
   "source": [
    "# Measure yourself!"
   ]
  },
  {
   "cell_type": "markdown",
   "id": "c5dc2eb0-b8e2-46c6-8799-dd8da1c3d729",
   "metadata": {},
   "source": [
    "Let's look at where we are. Today, you have learned about writing functions. You have written functions which identify the period of a heartbeat signal, interpolate it with a polynomial, and compute two medically interesting values from it. We saw that by reusing old code, we can save ourselves a lot of time. That is a lot! Well done.\n",
    "\n",
    "<h3 style=\"color:red;\"><left> Exercise 8 </left></h3>\n",
    "\n",
    "In the remaining time, you should put the tools you have used to work. Make a new Jupyter notebook, copying code from lab 2, to capture some new pulse data (remember, it is good practice to separate data acquisition from data analysis!). Then, analyze it here using the functions you have written. Here are three questions you can consider:\n",
    "\n",
    "1. If you jog up and down the hallway briefly, how does your pulse rate change?\n",
    "2. If you measure your systolic amplitude with your finger above your shoulders versus below your waist, can you detect a difference? How big is the difference?\n",
    "3. Is your ratio b/a different from your classmates'?\n",
    "\n",
    "Try to answer at least two of these. Write markdown cells explaining what you are doing and why. Interpret your results."
   ]
  },
  {
   "cell_type": "code",
   "execution_count": null,
   "id": "043c4aaa-a4a8-482c-a792-6945a5916afc",
   "metadata": {},
   "outputs": [],
   "source": []
  }
 ],
 "metadata": {
  "kernelspec": {
   "display_name": "Python 3 (ipykernel)",
   "language": "python",
   "name": "python3"
  },
  "language_info": {
   "codemirror_mode": {
    "name": "ipython",
    "version": 3
   },
   "file_extension": ".py",
   "mimetype": "text/x-python",
   "name": "python",
   "nbconvert_exporter": "python",
   "pygments_lexer": "ipython3",
   "version": "3.10.4"
  }
 },
 "nbformat": 4,
 "nbformat_minor": 5
}
