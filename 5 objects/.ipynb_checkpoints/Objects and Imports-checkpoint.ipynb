{
 "cells": [
  {
   "cell_type": "markdown",
   "id": "68c403b6-c651-4e3b-8e8d-c9f084810948",
   "metadata": {},
   "source": [
    "# Everything is an \"object\"\n",
    "\n",
    "The rough idea here is to talk about using the \"dot\" syntax to access methods and attributes from modules, and talk about namespaces.\n",
    "\n",
    "Once students are familiar with namespaces, we will start talking about objects. This is part of a philosphy of coding where namespaces are preferred over objects -- I want students to be most familiar with namespaces, and to use objects as an afterthought in general. \n",
    "\n",
    "That said, objects are very practical for representing certain abstractions -- things like data connections, sensors, displays. Basically anything with states. That's why it is natural to begin talking about programming microcontrollers in this lab. We will make a pedometer, to get students used to the accelerometer chip before we begin the error propagation lab -- that will use the accelerometer more heavily, so it makes sense to include it here."
   ]
  },
  {
   "cell_type": "code",
   "execution_count": 1,
   "id": "88e75199-0754-4803-88c6-2458ac6a01fe",
   "metadata": {},
   "outputs": [
    {
     "data": {
      "text/plain": [
       "module"
      ]
     },
     "execution_count": 1,
     "metadata": {},
     "output_type": "execute_result"
    }
   ],
   "source": [
    "import numpy\n",
    "type(numpy)"
   ]
  },
  {
   "cell_type": "code",
   "execution_count": null,
   "id": "43ffd76a-d0d2-4845-ad2a-edbf5fa713b9",
   "metadata": {},
   "outputs": [],
   "source": []
  }
 ],
 "metadata": {
  "kernelspec": {
   "display_name": "Python 3 (ipykernel)",
   "language": "python",
   "name": "python3"
  },
  "language_info": {
   "codemirror_mode": {
    "name": "ipython",
    "version": 3
   },
   "file_extension": ".py",
   "mimetype": "text/x-python",
   "name": "python",
   "nbconvert_exporter": "python",
   "pygments_lexer": "ipython3",
   "version": "3.8.10"
  }
 },
 "nbformat": 4,
 "nbformat_minor": 5
}
