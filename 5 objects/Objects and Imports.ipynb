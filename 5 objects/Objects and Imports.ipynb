{
 "cells": [
  {
   "cell_type": "markdown",
   "id": "cf6877a2-b4b4-40d9-b024-38f5869ee2b0",
   "metadata": {},
   "source": [
    "<div style=\"background-color:lightblue\">\n",
    "<h1><center>\n",
    "    The Data Science Labs on <br/>\n",
    "     Differential and Integral Calculus  <br/>\n",
    "   <small>by Alden Bradford and Mireille Boutin </small>\n",
    "</center></h1>\n",
    "    </div>"
   ]
  },
  {
   "cell_type": "markdown",
   "id": "f66cf5a1-b7a1-494d-897f-7ce4ab3b74f7",
   "metadata": {},
   "source": [
    "<h1><center>\n",
    "    Laboratory 5<br/>\n",
    "    TITLE<br/>\n",
    "    <small>Last Updated PUT DATE HERE </small>\n",
    "</center></h1>"
   ]
  },
  {
   "cell_type": "markdown",
   "id": "87802f44-7c6f-4932-aa0b-d3868dceb424",
   "metadata": {},
   "source": [
    "<h2 style=\"color:orange;\"><left>00. Content </left></h2>"
   ]
  },
  {
   "cell_type": "markdown",
   "id": "fec7e6c9-d019-4b8e-85b6-deb1196ef044",
   "metadata": {},
   "source": [
    "## Mathematics ##\n",
    "- item\n",
    "    \n",
    "## Programming Skills ##\n",
    "- item\n",
    "    \n",
    "## Embedded Systems ##\n",
    "- item"
   ]
  },
  {
   "cell_type": "markdown",
   "id": "e69cc183-d10c-4430-b0e7-93c5d2a513fe",
   "metadata": {},
   "source": [
    "<h2 style=\"color:orange;\"><left>0. Required Hardware </left></h2> "
   ]
  },
  {
   "cell_type": "markdown",
   "id": "2f6cb438-02be-4bee-884f-812ce9ecb897",
   "metadata": {},
   "source": [
    "- item"
   ]
  },
  {
   "cell_type": "markdown",
   "id": "033d3a16-f601-419f-a390-898c9d856c76",
   "metadata": {},
   "source": [
    "<h3 style=\"background-color:lightblue\"><left> Write your name and email below: </left></h3>\n",
    "\n",
    "First Name, Last Name, email "
   ]
  },
  {
   "cell_type": "markdown",
   "id": "68c403b6-c651-4e3b-8e8d-c9f084810948",
   "metadata": {},
   "source": [
    "# Everything is an \"object\"\n",
    "\n",
    "The rough idea here is to talk about using the \"dot\" syntax to access methods and attributes from modules, and talk about namespaces.\n",
    "\n",
    "Once students are familiar with namespaces, we will start talking about objects. This is part of a philosphy of coding where namespaces are preferred over objects -- I want students to be most familiar with namespaces, and to use objects as an afterthought in general. \n",
    "\n",
    "That said, objects are very practical for representing certain abstractions -- things like data connections, sensors, displays. Basically anything with states. That's why it is natural to begin talking about programming microcontrollers in this lab. We will make a pedometer, to get students used to the accelerometer chip before we begin the error propagation lab -- that will use the accelerometer more heavily, so it makes sense to include it here."
   ]
  },
  {
   "cell_type": "code",
   "execution_count": 1,
   "id": "88e75199-0754-4803-88c6-2458ac6a01fe",
   "metadata": {},
   "outputs": [
    {
     "data": {
      "text/plain": [
       "module"
      ]
     },
     "execution_count": 1,
     "metadata": {},
     "output_type": "execute_result"
    }
   ],
   "source": [
    "import numpy\n",
    "type(numpy)"
   ]
  },
  {
   "cell_type": "code",
   "execution_count": null,
   "id": "fb1e7ee4-1f9c-4fb5-b6e6-f7a46d68c7da",
   "metadata": {},
   "outputs": [],
   "source": []
  }
 ],
 "metadata": {
  "kernelspec": {
   "display_name": "Python 3",
   "language": "python",
   "name": "python3"
  },
  "language_info": {
   "codemirror_mode": {
    "name": "ipython",
    "version": 3
   },
   "file_extension": ".py",
   "mimetype": "text/x-python",
   "name": "python",
   "nbconvert_exporter": "python",
   "pygments_lexer": "ipython3",
   "version": "3.8.8"
  }
 },
 "nbformat": 4,
 "nbformat_minor": 5
}
