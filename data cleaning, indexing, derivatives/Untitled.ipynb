{
 "cells": [
  {
   "cell_type": "code",
   "execution_count": null,
   "id": "f9cdcb71-37d2-426a-95d3-4efad56eb51c",
   "metadata": {},
   "outputs": [],
   "source": []
  },
  {
   "cell_type": "markdown",
   "id": "954ee253-3878-4638-b63e-885288240aff",
   "metadata": {},
   "source": [
    "# Build a function\n",
    "\n",
    "Now we know some good ways to compute derivatives of functions, so we should try them out. You have been given an ultrasonic distance sensor. This works by sending out a high-pitched chirp (higher than any person can hear) and listening for an echo. You can use that to do echolocation.\n",
    "\n",
    "Try out the distance sensor using the following script, which will ask the Raspberry Pi Pico to collect data as fast as it can for 10 seconds, and report for each measurement the current time (in seconds) as well as the time between the chirp and the echo (in microseconds). The script plots the response in real time."
   ]
  },
  {
   "cell_type": "code",
   "execution_count": null,
   "id": "0645d3fc-0556-4115-b5c4-add89edb9c8b",
   "metadata": {},
   "outputs": [],
   "source": [
    "# <TODO: include the script.>"
   ]
  },
  {
   "cell_type": "markdown",
   "id": "cf1c6f8c-cd21-4b7d-90dd-454a544277bc",
   "metadata": {},
   "source": [
    "<h3 style=\"color:red;\"><left> Exercise 9 </left></h3>\n",
    "\n",
    "To get used to the ultrasonic distance sensor, move a book or any other flat, hard object in front of your distance sensor to reproduce each of the following plots.\n",
    "\n",
    "<img src=\"step.png\" width=\"300\"/> <img src=\"line.png\" width=\"300\"/> <img src=\"parabola.png\" width=\"300\"/>\n",
    "\n",
    "<h3 style=\"background-color:lightblue;\"><left> Write Answers for Exercise 9 Below </left></h3>\n",
    "\n"
   ]
  },
  {
   "cell_type": "code",
   "execution_count": null,
   "id": "60637046-8e6a-4e78-b3db-f19a996e054b",
   "metadata": {},
   "outputs": [],
   "source": []
  },
  {
   "cell_type": "markdown",
   "id": "a8daedd3-6ee4-44ce-bdeb-8365c57f7b8f",
   "metadata": {},
   "source": [
    "We can build a function which computes the derivative using the symmetric finite difference method above. Notice that since the sensor has to wait for the echo in between measurements, the times are not evenly spaced. We will have to use the uneven-spacing formula. Here we have started the function for you."
   ]
  },
  {
   "cell_type": "code",
   "execution_count": null,
   "id": "c61b6493-e17e-456e-8a2f-08b54284de08",
   "metadata": {},
   "outputs": [],
   "source": [
    "def finite_difference(f, x):\n",
    "    # we won't have the backward difference at the start,\n",
    "    # or the forward difference at the end, so those should\n",
    "    # have the value NaN to represent not being available.\n",
    "    k = np.empty_like(x)\n",
    "    k[0] = np.nan\n",
    "    k[1:] = x[1:] - x[:-1]\n",
    "    h = np.roll(k, -1)\n",
    "    # now h and k have the correct values. Here is a way we make the\n",
    "    # the f values, \"fm\" for f minus and \"fp\" for f plus.\n",
    "    fm = np.roll(f, 1)\n",
    "    fm[0] = np.nan\n",
    "    fp = np.roll(fm, -2)\n",
    "    # we still need to compute the d values, and return a result.\n",
    "    \n",
    "    # (students fill this in please)\n",
    "    \n"
   ]
  },
  {
   "cell_type": "markdown",
   "id": "b165bc08-9ac9-4157-8890-ee427deb27fa",
   "metadata": {},
   "source": [
    "Now we can include the derivative on the plot along with the measured values. Cool! Try it out:"
   ]
  },
  {
   "cell_type": "code",
   "execution_count": null,
   "id": "e5b1e52c-948c-4348-bdc8-a73afabbc53c",
   "metadata": {},
   "outputs": [],
   "source": [
    "# <TODO: include the script to accomplish this, calling the students' finite difference function.>"
   ]
  },
  {
   "cell_type": "markdown",
   "id": "2ca9f950-56e8-4f47-9f82-b8c4bc4deb46",
   "metadata": {},
   "source": [
    "<h3 style=\"color:red;\"><left> Exercise 10 </left></h3>\n",
    "\n",
    "Now that we can compute a derivative, repeat the previous exercise but instead of following the curve with the distance plot, follow the curve with the velocity plot.\n",
    "\n",
    "<h3 style=\"background-color:lightblue;\"><left> Write Answers for Exercise 10 Below </left></h3>\n",
    "\n"
   ]
  },
  {
   "cell_type": "code",
   "execution_count": null,
   "id": "8addb138-f59f-4b0f-8671-cbfbb1dd78f4",
   "metadata": {},
   "outputs": [],
   "source": []
  }
 ],
 "metadata": {
  "kernelspec": {
   "display_name": "Python 3 (ipykernel)",
   "language": "python",
   "name": "python3"
  },
  "language_info": {
   "codemirror_mode": {
    "name": "ipython",
    "version": 3
   },
   "file_extension": ".py",
   "mimetype": "text/x-python",
   "name": "python",
   "nbconvert_exporter": "python",
   "pygments_lexer": "ipython3",
   "version": "3.9.7"
  }
 },
 "nbformat": 4,
 "nbformat_minor": 5
}
